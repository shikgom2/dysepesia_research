{
 "cells": [
  {
   "cell_type": "code",
   "execution_count": 143,
   "metadata": {},
   "outputs": [],
   "source": [
    "import pandas as pd\n",
    "import seaborn as sns\n",
    "import missingno as msno\n",
    "import math\n",
    "from sklearn.preprocessing import StandardScaler, RobustScaler, MaxAbsScaler, QuantileTransformer\n",
    "from scipy.stats import gaussian_kde\n",
    "import scipy.stats as stats\n",
    "from sklearn.decomposition import PCA\n",
    "from statsmodels.stats.outliers_influence import variance_inflation_factor\n",
    "import numpy as np\n",
    "import matplotlib.pyplot as plt\n",
    "import seaborn as sn\n",
    "from sklearn.model_selection import train_test_split"
   ]
  },
  {
   "cell_type": "code",
   "execution_count": 144,
   "metadata": {},
   "outputs": [
    {
     "name": "stdout",
     "output_type": "stream",
     "text": [
      "(100, 376)\n"
     ]
    },
    {
     "data": {
      "text/html": [
       "<div>\n",
       "<style scoped>\n",
       "    .dataframe tbody tr th:only-of-type {\n",
       "        vertical-align: middle;\n",
       "    }\n",
       "\n",
       "    .dataframe tbody tr th {\n",
       "        vertical-align: top;\n",
       "    }\n",
       "\n",
       "    .dataframe thead th {\n",
       "        text-align: right;\n",
       "    }\n",
       "</style>\n",
       "<table border=\"1\" class=\"dataframe\">\n",
       "  <thead>\n",
       "    <tr style=\"text-align: right;\">\n",
       "      <th></th>\n",
       "      <th>No</th>\n",
       "      <th>Height</th>\n",
       "      <th>Weight</th>\n",
       "      <th>BMI</th>\n",
       "      <th>muscle_mass</th>\n",
       "      <th>body_fat_mass</th>\n",
       "      <th>body_fat_percentage</th>\n",
       "      <th>age</th>\n",
       "      <th>past_medical_history</th>\n",
       "      <th>dyspepsia_startdate</th>\n",
       "      <th>...</th>\n",
       "      <th>W_Area_R_Right</th>\n",
       "      <th>Sys_rate_R_Right</th>\n",
       "      <th>H4/H1_R_Right</th>\n",
       "      <th>Wfb_ratio_R_Right</th>\n",
       "      <th>meanSys_area_R_Right</th>\n",
       "      <th>medSys_area_R_Right</th>\n",
       "      <th>meanPulseArea_R_Right</th>\n",
       "      <th>medPulseArea_R_Right</th>\n",
       "      <th>meanPulseWidth_R_Right</th>\n",
       "      <th>medPulseWidth_R_Right</th>\n",
       "    </tr>\n",
       "  </thead>\n",
       "  <tbody>\n",
       "    <tr>\n",
       "      <th>0</th>\n",
       "      <td>1</td>\n",
       "      <td>157.9</td>\n",
       "      <td>53.4</td>\n",
       "      <td>21.4</td>\n",
       "      <td>20.4</td>\n",
       "      <td>15.6</td>\n",
       "      <td>29.2</td>\n",
       "      <td>50</td>\n",
       "      <td>14</td>\n",
       "      <td>2192</td>\n",
       "      <td>...</td>\n",
       "      <td>214.847</td>\n",
       "      <td>0.45</td>\n",
       "      <td>0.47</td>\n",
       "      <td>2.2849</td>\n",
       "      <td>1246.534</td>\n",
       "      <td>1294.731</td>\n",
       "      <td>1818.141674</td>\n",
       "      <td>1767.252</td>\n",
       "      <td>967.548</td>\n",
       "      <td>1147.687</td>\n",
       "    </tr>\n",
       "    <tr>\n",
       "      <th>1</th>\n",
       "      <td>2</td>\n",
       "      <td>154.6</td>\n",
       "      <td>59.3</td>\n",
       "      <td>24.8</td>\n",
       "      <td>19.8</td>\n",
       "      <td>21.9</td>\n",
       "      <td>37.0</td>\n",
       "      <td>60</td>\n",
       "      <td>14</td>\n",
       "      <td>1065</td>\n",
       "      <td>...</td>\n",
       "      <td>NaN</td>\n",
       "      <td>NaN</td>\n",
       "      <td>NaN</td>\n",
       "      <td>NaN</td>\n",
       "      <td>NaN</td>\n",
       "      <td>NaN</td>\n",
       "      <td>NaN</td>\n",
       "      <td>NaN</td>\n",
       "      <td>NaN</td>\n",
       "      <td>NaN</td>\n",
       "    </tr>\n",
       "    <tr>\n",
       "      <th>2</th>\n",
       "      <td>3</td>\n",
       "      <td>164.0</td>\n",
       "      <td>72.7</td>\n",
       "      <td>27.0</td>\n",
       "      <td>23.0</td>\n",
       "      <td>30.4</td>\n",
       "      <td>41.8</td>\n",
       "      <td>50</td>\n",
       "      <td>14</td>\n",
       "      <td>1402</td>\n",
       "      <td>...</td>\n",
       "      <td>603.584</td>\n",
       "      <td>0.45</td>\n",
       "      <td>0.50</td>\n",
       "      <td>1.9694</td>\n",
       "      <td>3091.302</td>\n",
       "      <td>3131.550</td>\n",
       "      <td>4390.967337</td>\n",
       "      <td>4455.811</td>\n",
       "      <td>2248.437</td>\n",
       "      <td>2271.170</td>\n",
       "    </tr>\n",
       "    <tr>\n",
       "      <th>3</th>\n",
       "      <td>4</td>\n",
       "      <td>161.1</td>\n",
       "      <td>52.3</td>\n",
       "      <td>20.2</td>\n",
       "      <td>22.1</td>\n",
       "      <td>11.8</td>\n",
       "      <td>22.6</td>\n",
       "      <td>49</td>\n",
       "      <td>14</td>\n",
       "      <td>1949</td>\n",
       "      <td>...</td>\n",
       "      <td>480.577</td>\n",
       "      <td>0.40</td>\n",
       "      <td>0.56</td>\n",
       "      <td>1.7614</td>\n",
       "      <td>2715.069</td>\n",
       "      <td>2592.869</td>\n",
       "      <td>4499.700647</td>\n",
       "      <td>4504.887</td>\n",
       "      <td>1938.826</td>\n",
       "      <td>2098.553</td>\n",
       "    </tr>\n",
       "    <tr>\n",
       "      <th>4</th>\n",
       "      <td>5</td>\n",
       "      <td>150.1</td>\n",
       "      <td>46.7</td>\n",
       "      <td>20.7</td>\n",
       "      <td>16.9</td>\n",
       "      <td>14.6</td>\n",
       "      <td>31.3</td>\n",
       "      <td>58</td>\n",
       "      <td>14</td>\n",
       "      <td>1767</td>\n",
       "      <td>...</td>\n",
       "      <td>438.582</td>\n",
       "      <td>0.48</td>\n",
       "      <td>0.52</td>\n",
       "      <td>2.1558</td>\n",
       "      <td>2131.714</td>\n",
       "      <td>2216.248</td>\n",
       "      <td>2887.613241</td>\n",
       "      <td>3028.136</td>\n",
       "      <td>1384.499</td>\n",
       "      <td>1466.942</td>\n",
       "    </tr>\n",
       "    <tr>\n",
       "      <th>5</th>\n",
       "      <td>6</td>\n",
       "      <td>167.6</td>\n",
       "      <td>67.3</td>\n",
       "      <td>24.0</td>\n",
       "      <td>27.1</td>\n",
       "      <td>18.0</td>\n",
       "      <td>26.8</td>\n",
       "      <td>51</td>\n",
       "      <td>14</td>\n",
       "      <td>1949</td>\n",
       "      <td>...</td>\n",
       "      <td>NaN</td>\n",
       "      <td>NaN</td>\n",
       "      <td>NaN</td>\n",
       "      <td>NaN</td>\n",
       "      <td>NaN</td>\n",
       "      <td>NaN</td>\n",
       "      <td>NaN</td>\n",
       "      <td>NaN</td>\n",
       "      <td>NaN</td>\n",
       "      <td>NaN</td>\n",
       "    </tr>\n",
       "    <tr>\n",
       "      <th>6</th>\n",
       "      <td>7</td>\n",
       "      <td>159.5</td>\n",
       "      <td>49.4</td>\n",
       "      <td>19.4</td>\n",
       "      <td>19.1</td>\n",
       "      <td>13.2</td>\n",
       "      <td>26.7</td>\n",
       "      <td>58</td>\n",
       "      <td>6</td>\n",
       "      <td>3684</td>\n",
       "      <td>...</td>\n",
       "      <td>114.996</td>\n",
       "      <td>0.32</td>\n",
       "      <td>0.50</td>\n",
       "      <td>4.0013</td>\n",
       "      <td>510.026</td>\n",
       "      <td>461.830</td>\n",
       "      <td>1354.329066</td>\n",
       "      <td>1596.307</td>\n",
       "      <td>352.571</td>\n",
       "      <td>320.504</td>\n",
       "    </tr>\n",
       "    <tr>\n",
       "      <th>7</th>\n",
       "      <td>8</td>\n",
       "      <td>152.5</td>\n",
       "      <td>62.2</td>\n",
       "      <td>26.7</td>\n",
       "      <td>21.2</td>\n",
       "      <td>22.9</td>\n",
       "      <td>36.8</td>\n",
       "      <td>53</td>\n",
       "      <td>14</td>\n",
       "      <td>2498</td>\n",
       "      <td>...</td>\n",
       "      <td>651.015</td>\n",
       "      <td>0.44</td>\n",
       "      <td>0.52</td>\n",
       "      <td>1.6465</td>\n",
       "      <td>3031.565</td>\n",
       "      <td>3238.129</td>\n",
       "      <td>4258.831053</td>\n",
       "      <td>4652.240</td>\n",
       "      <td>1859.749</td>\n",
       "      <td>1726.041</td>\n",
       "    </tr>\n",
       "    <tr>\n",
       "      <th>8</th>\n",
       "      <td>9</td>\n",
       "      <td>156.7</td>\n",
       "      <td>46.3</td>\n",
       "      <td>18.9</td>\n",
       "      <td>17.9</td>\n",
       "      <td>12.6</td>\n",
       "      <td>27.3</td>\n",
       "      <td>58</td>\n",
       "      <td>8</td>\n",
       "      <td>2223</td>\n",
       "      <td>...</td>\n",
       "      <td>-385.804</td>\n",
       "      <td>0.32</td>\n",
       "      <td>0.62</td>\n",
       "      <td>19.2505</td>\n",
       "      <td>1901.035</td>\n",
       "      <td>1826.291</td>\n",
       "      <td>5540.169444</td>\n",
       "      <td>6572.131</td>\n",
       "      <td>1064.208</td>\n",
       "      <td>1097.796</td>\n",
       "    </tr>\n",
       "    <tr>\n",
       "      <th>9</th>\n",
       "      <td>10</td>\n",
       "      <td>159.3</td>\n",
       "      <td>58.4</td>\n",
       "      <td>23.0</td>\n",
       "      <td>21.1</td>\n",
       "      <td>19.4</td>\n",
       "      <td>33.2</td>\n",
       "      <td>49</td>\n",
       "      <td>14</td>\n",
       "      <td>1949</td>\n",
       "      <td>...</td>\n",
       "      <td>387.005</td>\n",
       "      <td>0.50</td>\n",
       "      <td>0.34</td>\n",
       "      <td>1.7619</td>\n",
       "      <td>2372.938</td>\n",
       "      <td>2464.713</td>\n",
       "      <td>3093.280135</td>\n",
       "      <td>3137.107</td>\n",
       "      <td>2048.291</td>\n",
       "      <td>2055.060</td>\n",
       "    </tr>\n",
       "  </tbody>\n",
       "</table>\n",
       "<p>10 rows × 376 columns</p>\n",
       "</div>"
      ],
      "text/plain": [
       "   No  Height  Weight   BMI  muscle_mass  body_fat_mass  body_fat_percentage  \\\n",
       "0   1   157.9    53.4  21.4         20.4           15.6                 29.2   \n",
       "1   2   154.6    59.3  24.8         19.8           21.9                 37.0   \n",
       "2   3   164.0    72.7  27.0         23.0           30.4                 41.8   \n",
       "3   4   161.1    52.3  20.2         22.1           11.8                 22.6   \n",
       "4   5   150.1    46.7  20.7         16.9           14.6                 31.3   \n",
       "5   6   167.6    67.3  24.0         27.1           18.0                 26.8   \n",
       "6   7   159.5    49.4  19.4         19.1           13.2                 26.7   \n",
       "7   8   152.5    62.2  26.7         21.2           22.9                 36.8   \n",
       "8   9   156.7    46.3  18.9         17.9           12.6                 27.3   \n",
       "9  10   159.3    58.4  23.0         21.1           19.4                 33.2   \n",
       "\n",
       "   age  past_medical_history  dyspepsia_startdate  ...  W_Area_R_Right  \\\n",
       "0   50                    14                 2192  ...         214.847   \n",
       "1   60                    14                 1065  ...             NaN   \n",
       "2   50                    14                 1402  ...         603.584   \n",
       "3   49                    14                 1949  ...         480.577   \n",
       "4   58                    14                 1767  ...         438.582   \n",
       "5   51                    14                 1949  ...             NaN   \n",
       "6   58                     6                 3684  ...         114.996   \n",
       "7   53                    14                 2498  ...         651.015   \n",
       "8   58                     8                 2223  ...        -385.804   \n",
       "9   49                    14                 1949  ...         387.005   \n",
       "\n",
       "   Sys_rate_R_Right  H4/H1_R_Right  Wfb_ratio_R_Right  meanSys_area_R_Right  \\\n",
       "0              0.45           0.47             2.2849              1246.534   \n",
       "1               NaN            NaN                NaN                   NaN   \n",
       "2              0.45           0.50             1.9694              3091.302   \n",
       "3              0.40           0.56             1.7614              2715.069   \n",
       "4              0.48           0.52             2.1558              2131.714   \n",
       "5               NaN            NaN                NaN                   NaN   \n",
       "6              0.32           0.50             4.0013               510.026   \n",
       "7              0.44           0.52             1.6465              3031.565   \n",
       "8              0.32           0.62            19.2505              1901.035   \n",
       "9              0.50           0.34             1.7619              2372.938   \n",
       "\n",
       "   medSys_area_R_Right  meanPulseArea_R_Right  medPulseArea_R_Right  \\\n",
       "0             1294.731            1818.141674              1767.252   \n",
       "1                  NaN                    NaN                   NaN   \n",
       "2             3131.550            4390.967337              4455.811   \n",
       "3             2592.869            4499.700647              4504.887   \n",
       "4             2216.248            2887.613241              3028.136   \n",
       "5                  NaN                    NaN                   NaN   \n",
       "6              461.830            1354.329066              1596.307   \n",
       "7             3238.129            4258.831053              4652.240   \n",
       "8             1826.291            5540.169444              6572.131   \n",
       "9             2464.713            3093.280135              3137.107   \n",
       "\n",
       "   meanPulseWidth_R_Right  medPulseWidth_R_Right  \n",
       "0                 967.548               1147.687  \n",
       "1                     NaN                    NaN  \n",
       "2                2248.437               2271.170  \n",
       "3                1938.826               2098.553  \n",
       "4                1384.499               1466.942  \n",
       "5                     NaN                    NaN  \n",
       "6                 352.571                320.504  \n",
       "7                1859.749               1726.041  \n",
       "8                1064.208               1097.796  \n",
       "9                2048.291               2055.060  \n",
       "\n",
       "[10 rows x 376 columns]"
      ]
     },
     "execution_count": 144,
     "metadata": {},
     "output_type": "execute_result"
    }
   ],
   "source": [
    "#\"../dataset/v2_seperate/ecg.csv\"\n",
    "#\"../dataset/v2_seperate/fnirs.csv\"\n",
    "#\"../dataset/v2_seperate/mec.csv\"\n",
    "#\"../dataset/v2_seperate/skin.csv\"\n",
    "#\"../dataset/v2_seperate/survey.csv\"\n",
    "#\"../dataset/v2_seperate/v2_eda.csv\"\n",
    "#\"../dataset/v2_seperate/v2_original.csv\"\n",
    "\n",
    "df = pd.read_csv(\"../dataset/v2_seperate/v2_original.csv\")\n",
    "print(df.shape)\n",
    "df.head(10)"
   ]
  },
  {
   "cell_type": "code",
   "execution_count": 145,
   "metadata": {},
   "outputs": [],
   "source": [
    "y = df['diagnosis_type']\n",
    "df.drop(columns=['diagnosis_type'], inplace=True)\n"
   ]
  },
  {
   "cell_type": "code",
   "execution_count": 146,
   "metadata": {},
   "outputs": [
    {
     "data": {
      "text/html": [
       "<div>\n",
       "<style scoped>\n",
       "    .dataframe tbody tr th:only-of-type {\n",
       "        vertical-align: middle;\n",
       "    }\n",
       "\n",
       "    .dataframe tbody tr th {\n",
       "        vertical-align: top;\n",
       "    }\n",
       "\n",
       "    .dataframe thead th {\n",
       "        text-align: right;\n",
       "    }\n",
       "</style>\n",
       "<table border=\"1\" class=\"dataframe\">\n",
       "  <thead>\n",
       "    <tr style=\"text-align: right;\">\n",
       "      <th></th>\n",
       "      <th>No</th>\n",
       "      <th>Height</th>\n",
       "      <th>Weight</th>\n",
       "      <th>BMI</th>\n",
       "      <th>muscle_mass</th>\n",
       "      <th>body_fat_mass</th>\n",
       "      <th>body_fat_percentage</th>\n",
       "      <th>age</th>\n",
       "      <th>past_medical_history</th>\n",
       "      <th>dyspepsia_startdate</th>\n",
       "      <th>...</th>\n",
       "      <th>W_Area_R_Right</th>\n",
       "      <th>Sys_rate_R_Right</th>\n",
       "      <th>H4/H1_R_Right</th>\n",
       "      <th>Wfb_ratio_R_Right</th>\n",
       "      <th>meanSys_area_R_Right</th>\n",
       "      <th>medSys_area_R_Right</th>\n",
       "      <th>meanPulseArea_R_Right</th>\n",
       "      <th>medPulseArea_R_Right</th>\n",
       "      <th>meanPulseWidth_R_Right</th>\n",
       "      <th>medPulseWidth_R_Right</th>\n",
       "    </tr>\n",
       "  </thead>\n",
       "  <tbody>\n",
       "    <tr>\n",
       "      <th>0</th>\n",
       "      <td>1</td>\n",
       "      <td>157.9</td>\n",
       "      <td>53.4</td>\n",
       "      <td>21.4</td>\n",
       "      <td>20.4</td>\n",
       "      <td>15.6</td>\n",
       "      <td>29.2</td>\n",
       "      <td>50</td>\n",
       "      <td>14</td>\n",
       "      <td>2192</td>\n",
       "      <td>...</td>\n",
       "      <td>214.847</td>\n",
       "      <td>0.45</td>\n",
       "      <td>0.47</td>\n",
       "      <td>2.2849</td>\n",
       "      <td>1246.534</td>\n",
       "      <td>1294.731</td>\n",
       "      <td>1818.141674</td>\n",
       "      <td>1767.252</td>\n",
       "      <td>967.548</td>\n",
       "      <td>1147.687</td>\n",
       "    </tr>\n",
       "    <tr>\n",
       "      <th>1</th>\n",
       "      <td>2</td>\n",
       "      <td>154.6</td>\n",
       "      <td>59.3</td>\n",
       "      <td>24.8</td>\n",
       "      <td>19.8</td>\n",
       "      <td>21.9</td>\n",
       "      <td>37.0</td>\n",
       "      <td>60</td>\n",
       "      <td>14</td>\n",
       "      <td>1065</td>\n",
       "      <td>...</td>\n",
       "      <td>NaN</td>\n",
       "      <td>NaN</td>\n",
       "      <td>NaN</td>\n",
       "      <td>NaN</td>\n",
       "      <td>NaN</td>\n",
       "      <td>NaN</td>\n",
       "      <td>NaN</td>\n",
       "      <td>NaN</td>\n",
       "      <td>NaN</td>\n",
       "      <td>NaN</td>\n",
       "    </tr>\n",
       "    <tr>\n",
       "      <th>2</th>\n",
       "      <td>3</td>\n",
       "      <td>164.0</td>\n",
       "      <td>72.7</td>\n",
       "      <td>27.0</td>\n",
       "      <td>23.0</td>\n",
       "      <td>30.4</td>\n",
       "      <td>41.8</td>\n",
       "      <td>50</td>\n",
       "      <td>14</td>\n",
       "      <td>1402</td>\n",
       "      <td>...</td>\n",
       "      <td>603.584</td>\n",
       "      <td>0.45</td>\n",
       "      <td>0.50</td>\n",
       "      <td>1.9694</td>\n",
       "      <td>3091.302</td>\n",
       "      <td>3131.550</td>\n",
       "      <td>4390.967337</td>\n",
       "      <td>4455.811</td>\n",
       "      <td>2248.437</td>\n",
       "      <td>2271.170</td>\n",
       "    </tr>\n",
       "    <tr>\n",
       "      <th>3</th>\n",
       "      <td>4</td>\n",
       "      <td>161.1</td>\n",
       "      <td>52.3</td>\n",
       "      <td>20.2</td>\n",
       "      <td>22.1</td>\n",
       "      <td>11.8</td>\n",
       "      <td>22.6</td>\n",
       "      <td>49</td>\n",
       "      <td>14</td>\n",
       "      <td>1949</td>\n",
       "      <td>...</td>\n",
       "      <td>480.577</td>\n",
       "      <td>0.40</td>\n",
       "      <td>0.56</td>\n",
       "      <td>1.7614</td>\n",
       "      <td>2715.069</td>\n",
       "      <td>2592.869</td>\n",
       "      <td>4499.700647</td>\n",
       "      <td>4504.887</td>\n",
       "      <td>1938.826</td>\n",
       "      <td>2098.553</td>\n",
       "    </tr>\n",
       "    <tr>\n",
       "      <th>4</th>\n",
       "      <td>5</td>\n",
       "      <td>150.1</td>\n",
       "      <td>46.7</td>\n",
       "      <td>20.7</td>\n",
       "      <td>16.9</td>\n",
       "      <td>14.6</td>\n",
       "      <td>31.3</td>\n",
       "      <td>58</td>\n",
       "      <td>14</td>\n",
       "      <td>1767</td>\n",
       "      <td>...</td>\n",
       "      <td>438.582</td>\n",
       "      <td>0.48</td>\n",
       "      <td>0.52</td>\n",
       "      <td>2.1558</td>\n",
       "      <td>2131.714</td>\n",
       "      <td>2216.248</td>\n",
       "      <td>2887.613241</td>\n",
       "      <td>3028.136</td>\n",
       "      <td>1384.499</td>\n",
       "      <td>1466.942</td>\n",
       "    </tr>\n",
       "  </tbody>\n",
       "</table>\n",
       "<p>5 rows × 375 columns</p>\n",
       "</div>"
      ],
      "text/plain": [
       "   No  Height  Weight   BMI  muscle_mass  body_fat_mass  body_fat_percentage  \\\n",
       "0   1   157.9    53.4  21.4         20.4           15.6                 29.2   \n",
       "1   2   154.6    59.3  24.8         19.8           21.9                 37.0   \n",
       "2   3   164.0    72.7  27.0         23.0           30.4                 41.8   \n",
       "3   4   161.1    52.3  20.2         22.1           11.8                 22.6   \n",
       "4   5   150.1    46.7  20.7         16.9           14.6                 31.3   \n",
       "\n",
       "   age  past_medical_history  dyspepsia_startdate  ...  W_Area_R_Right  \\\n",
       "0   50                    14                 2192  ...         214.847   \n",
       "1   60                    14                 1065  ...             NaN   \n",
       "2   50                    14                 1402  ...         603.584   \n",
       "3   49                    14                 1949  ...         480.577   \n",
       "4   58                    14                 1767  ...         438.582   \n",
       "\n",
       "   Sys_rate_R_Right  H4/H1_R_Right  Wfb_ratio_R_Right  meanSys_area_R_Right  \\\n",
       "0              0.45           0.47             2.2849              1246.534   \n",
       "1               NaN            NaN                NaN                   NaN   \n",
       "2              0.45           0.50             1.9694              3091.302   \n",
       "3              0.40           0.56             1.7614              2715.069   \n",
       "4              0.48           0.52             2.1558              2131.714   \n",
       "\n",
       "   medSys_area_R_Right  meanPulseArea_R_Right  medPulseArea_R_Right  \\\n",
       "0             1294.731            1818.141674              1767.252   \n",
       "1                  NaN                    NaN                   NaN   \n",
       "2             3131.550            4390.967337              4455.811   \n",
       "3             2592.869            4499.700647              4504.887   \n",
       "4             2216.248            2887.613241              3028.136   \n",
       "\n",
       "   meanPulseWidth_R_Right  medPulseWidth_R_Right  \n",
       "0                 967.548               1147.687  \n",
       "1                     NaN                    NaN  \n",
       "2                2248.437               2271.170  \n",
       "3                1938.826               2098.553  \n",
       "4                1384.499               1466.942  \n",
       "\n",
       "[5 rows x 375 columns]"
      ]
     },
     "execution_count": 146,
     "metadata": {},
     "output_type": "execute_result"
    }
   ],
   "source": [
    "df.head()"
   ]
  },
  {
   "cell_type": "code",
   "execution_count": 147,
   "metadata": {},
   "outputs": [],
   "source": [
    "x = df.to_numpy()"
   ]
  },
  {
   "cell_type": "code",
   "execution_count": 148,
   "metadata": {},
   "outputs": [],
   "source": [
    "X_train, X_test, y_train, y_test = train_test_split(\n",
    "    df, y, test_size=0.3, random_state=1557, stratify=y\n",
    ")"
   ]
  },
  {
   "cell_type": "code",
   "execution_count": 149,
   "metadata": {},
   "outputs": [],
   "source": [
    "y_train = y_train - 1\n",
    "y_test = y_test - 1\n"
   ]
  },
  {
   "cell_type": "code",
   "execution_count": 150,
   "metadata": {},
   "outputs": [
    {
     "data": {
      "text/plain": [
       "(70, 375)"
      ]
     },
     "execution_count": 150,
     "metadata": {},
     "output_type": "execute_result"
    }
   ],
   "source": [
    "X_train.shape"
   ]
  },
  {
   "cell_type": "code",
   "execution_count": 151,
   "metadata": {},
   "outputs": [
    {
     "data": {
      "text/plain": [
       "50    1\n",
       "33    0\n",
       "97    1\n",
       "96    2\n",
       "12    2\n",
       "     ..\n",
       "84    0\n",
       "25    2\n",
       "70    2\n",
       "75    0\n",
       "23    0\n",
       "Name: diagnosis_type, Length: 70, dtype: int64"
      ]
     },
     "execution_count": 151,
     "metadata": {},
     "output_type": "execute_result"
    }
   ],
   "source": [
    "y_train"
   ]
  },
  {
   "cell_type": "code",
   "execution_count": 152,
   "metadata": {},
   "outputs": [],
   "source": [
    "X_train = X_train.fillna(0)\n",
    "X_test = X_test.fillna(0)"
   ]
  },
  {
   "cell_type": "code",
   "execution_count": null,
   "metadata": {},
   "outputs": [
    {
     "name": "stdout",
     "output_type": "stream",
     "text": [
      "현재 파라미터 조합: {'gamma': 1.3, 'lambda_sparse': 0.001, 'n_a': 8, 'n_d': 8, 'n_steps': 3, 'optimizer_params': {'lr': 0.02}}\n",
      "epoch 0  | loss: 1.10512 | valid_accuracy: 0.33333 |  0:00:00s\n",
      "epoch 1  | loss: 1.11611 | valid_accuracy: 0.20833 |  0:00:00s\n",
      "epoch 2  | loss: 1.02163 | valid_accuracy: 0.29167 |  0:00:00s\n",
      "epoch 3  | loss: 0.93541 | valid_accuracy: 0.41667 |  0:00:00s\n"
     ]
    },
    {
     "name": "stderr",
     "output_type": "stream",
     "text": [
      "c:\\Users\\carly\\anaconda3\\envs\\dyspepsia_research\\lib\\site-packages\\pytorch_tabnet\\abstract_model.py:82: UserWarning: Device used : cpu\n",
      "  warnings.warn(f\"Device used : {self.device}\")\n"
     ]
    },
    {
     "name": "stdout",
     "output_type": "stream",
     "text": [
      "epoch 4  | loss: 0.84715 | valid_accuracy: 0.58333 |  0:00:00s\n",
      "epoch 5  | loss: 0.86579 | valid_accuracy: 0.5     |  0:00:00s\n",
      "epoch 6  | loss: 0.90509 | valid_accuracy: 0.375   |  0:00:00s\n",
      "epoch 7  | loss: 0.86869 | valid_accuracy: 0.41667 |  0:00:00s\n",
      "epoch 8  | loss: 0.91366 | valid_accuracy: 0.29167 |  0:00:00s\n",
      "epoch 9  | loss: 0.99035 | valid_accuracy: 0.5     |  0:00:00s\n",
      "epoch 10 | loss: 0.96198 | valid_accuracy: 0.58333 |  0:00:00s\n",
      "epoch 11 | loss: 1.04424 | valid_accuracy: 0.70833 |  0:00:00s\n",
      "epoch 12 | loss: 0.92167 | valid_accuracy: 0.625   |  0:00:00s\n",
      "epoch 13 | loss: 0.9121  | valid_accuracy: 0.5     |  0:00:00s\n",
      "epoch 14 | loss: 0.81124 | valid_accuracy: 0.5     |  0:00:00s\n",
      "epoch 15 | loss: 0.84467 | valid_accuracy: 0.54167 |  0:00:00s\n",
      "epoch 16 | loss: 0.78148 | valid_accuracy: 0.54167 |  0:00:00s\n",
      "epoch 17 | loss: 0.80103 | valid_accuracy: 0.45833 |  0:00:00s\n",
      "epoch 18 | loss: 0.7398  | valid_accuracy: 0.5     |  0:00:00s\n",
      "epoch 19 | loss: 0.70902 | valid_accuracy: 0.5     |  0:00:00s\n",
      "epoch 20 | loss: 0.6363  | valid_accuracy: 0.45833 |  0:00:00s\n",
      "epoch 21 | loss: 0.56123 | valid_accuracy: 0.41667 |  0:00:00s\n",
      "\n",
      "Early stopping occurred at epoch 21 with best_epoch = 11 and best_valid_accuracy = 0.70833\n"
     ]
    },
    {
     "name": "stderr",
     "output_type": "stream",
     "text": [
      "c:\\Users\\carly\\anaconda3\\envs\\dyspepsia_research\\lib\\site-packages\\pytorch_tabnet\\callbacks.py:172: UserWarning: Best weights from best epoch are automatically used!\n",
      "  warnings.warn(wrn_msg)\n",
      "c:\\Users\\carly\\anaconda3\\envs\\dyspepsia_research\\lib\\site-packages\\pytorch_tabnet\\abstract_model.py:82: UserWarning: Device used : cpu\n",
      "  warnings.warn(f\"Device used : {self.device}\")\n"
     ]
    },
    {
     "name": "stdout",
     "output_type": "stream",
     "text": [
      "epoch 0  | loss: 1.20579 | valid_accuracy: 0.34783 |  0:00:00s\n",
      "epoch 1  | loss: 1.18101 | valid_accuracy: 0.43478 |  0:00:00s\n",
      "epoch 2  | loss: 1.16848 | valid_accuracy: 0.52174 |  0:00:00s\n",
      "epoch 3  | loss: 1.06524 | valid_accuracy: 0.34783 |  0:00:00s\n",
      "epoch 4  | loss: 1.05663 | valid_accuracy: 0.3913  |  0:00:00s\n",
      "epoch 5  | loss: 1.00088 | valid_accuracy: 0.43478 |  0:00:00s\n",
      "epoch 6  | loss: 1.06631 | valid_accuracy: 0.6087  |  0:00:00s\n",
      "epoch 7  | loss: 1.02405 | valid_accuracy: 0.3913  |  0:00:00s\n",
      "epoch 8  | loss: 1.1023  | valid_accuracy: 0.6087  |  0:00:00s\n",
      "epoch 9  | loss: 0.95138 | valid_accuracy: 0.65217 |  0:00:00s\n",
      "epoch 10 | loss: 0.93047 | valid_accuracy: 0.6087  |  0:00:00s\n",
      "epoch 11 | loss: 0.86418 | valid_accuracy: 0.52174 |  0:00:00s\n",
      "epoch 12 | loss: 0.82016 | valid_accuracy: 0.47826 |  0:00:00s\n",
      "epoch 13 | loss: 0.7163  | valid_accuracy: 0.47826 |  0:00:00s\n",
      "epoch 14 | loss: 0.66525 | valid_accuracy: 0.52174 |  0:00:00s\n",
      "epoch 15 | loss: 0.69594 | valid_accuracy: 0.52174 |  0:00:00s\n",
      "epoch 16 | loss: 0.61536 | valid_accuracy: 0.56522 |  0:00:00s\n",
      "epoch 17 | loss: 0.63886 | valid_accuracy: 0.47826 |  0:00:00s\n",
      "epoch 18 | loss: 0.63911 | valid_accuracy: 0.43478 |  0:00:00s\n",
      "epoch 19 | loss: 0.56208 | valid_accuracy: 0.34783 |  0:00:00s\n",
      "\n",
      "Early stopping occurred at epoch 19 with best_epoch = 9 and best_valid_accuracy = 0.65217\n",
      "epoch 0  | loss: 0.99544 | valid_accuracy: 0.47826 |  0:00:00s\n",
      "epoch 1  | loss: 1.13761 | valid_accuracy: 0.52174 |  0:00:00s\n",
      "epoch 2  | loss: 1.04745 | valid_accuracy: 0.52174 |  0:00:00s\n",
      "epoch 3  | loss: 1.08264 | valid_accuracy: 0.47826 |  0:00:00s\n"
     ]
    },
    {
     "name": "stderr",
     "output_type": "stream",
     "text": [
      "c:\\Users\\carly\\anaconda3\\envs\\dyspepsia_research\\lib\\site-packages\\pytorch_tabnet\\callbacks.py:172: UserWarning: Best weights from best epoch are automatically used!\n",
      "  warnings.warn(wrn_msg)\n",
      "c:\\Users\\carly\\anaconda3\\envs\\dyspepsia_research\\lib\\site-packages\\pytorch_tabnet\\abstract_model.py:82: UserWarning: Device used : cpu\n",
      "  warnings.warn(f\"Device used : {self.device}\")\n"
     ]
    },
    {
     "name": "stdout",
     "output_type": "stream",
     "text": [
      "epoch 4  | loss: 1.09469 | valid_accuracy: 0.56522 |  0:00:00s\n",
      "epoch 5  | loss: 0.97195 | valid_accuracy: 0.52174 |  0:00:00s\n",
      "epoch 6  | loss: 1.00438 | valid_accuracy: 0.56522 |  0:00:00s\n",
      "epoch 7  | loss: 1.01698 | valid_accuracy: 0.47826 |  0:00:00s\n",
      "epoch 8  | loss: 0.90269 | valid_accuracy: 0.3913  |  0:00:00s\n",
      "epoch 9  | loss: 0.91458 | valid_accuracy: 0.56522 |  0:00:00s\n",
      "epoch 10 | loss: 0.87681 | valid_accuracy: 0.52174 |  0:00:00s\n",
      "epoch 11 | loss: 0.77014 | valid_accuracy: 0.47826 |  0:00:00s\n",
      "epoch 12 | loss: 0.77336 | valid_accuracy: 0.34783 |  0:00:00s\n",
      "epoch 13 | loss: 0.69061 | valid_accuracy: 0.34783 |  0:00:00s\n",
      "epoch 14 | loss: 0.7618  | valid_accuracy: 0.52174 |  0:00:00s\n",
      "\n",
      "Early stopping occurred at epoch 14 with best_epoch = 4 and best_valid_accuracy = 0.56522\n",
      "평균 F1 Score: 0.5962\n",
      "\n",
      "현재 파라미터 조합: {'gamma': 1.3, 'lambda_sparse': 0.001, 'n_a': 8, 'n_d': 8, 'n_steps': 3, 'optimizer_params': {'lr': 0.01}}\n",
      "epoch 0  | loss: 1.10512 | valid_accuracy: 0.25    |  0:00:00s\n"
     ]
    },
    {
     "name": "stderr",
     "output_type": "stream",
     "text": [
      "c:\\Users\\carly\\anaconda3\\envs\\dyspepsia_research\\lib\\site-packages\\pytorch_tabnet\\callbacks.py:172: UserWarning: Best weights from best epoch are automatically used!\n",
      "  warnings.warn(wrn_msg)\n",
      "c:\\Users\\carly\\anaconda3\\envs\\dyspepsia_research\\lib\\site-packages\\pytorch_tabnet\\abstract_model.py:82: UserWarning: Device used : cpu\n",
      "  warnings.warn(f\"Device used : {self.device}\")\n"
     ]
    },
    {
     "name": "stdout",
     "output_type": "stream",
     "text": [
      "epoch 1  | loss: 1.19928 | valid_accuracy: 0.41667 |  0:00:00s\n",
      "epoch 2  | loss: 1.28534 | valid_accuracy: 0.33333 |  0:00:00s\n",
      "epoch 3  | loss: 1.21126 | valid_accuracy: 0.20833 |  0:00:00s\n",
      "epoch 4  | loss: 1.06029 | valid_accuracy: 0.20833 |  0:00:00s\n",
      "epoch 5  | loss: 1.05217 | valid_accuracy: 0.45833 |  0:00:00s\n",
      "epoch 6  | loss: 1.04274 | valid_accuracy: 0.45833 |  0:00:00s\n",
      "epoch 7  | loss: 0.94715 | valid_accuracy: 0.5     |  0:00:00s\n",
      "epoch 8  | loss: 0.95068 | valid_accuracy: 0.41667 |  0:00:00s\n",
      "epoch 9  | loss: 0.88515 | valid_accuracy: 0.33333 |  0:00:00s\n",
      "epoch 10 | loss: 0.90591 | valid_accuracy: 0.33333 |  0:00:00s\n",
      "epoch 11 | loss: 0.91389 | valid_accuracy: 0.375   |  0:00:00s\n",
      "epoch 12 | loss: 0.85112 | valid_accuracy: 0.5     |  0:00:00s\n",
      "epoch 13 | loss: 0.77635 | valid_accuracy: 0.41667 |  0:00:00s\n",
      "epoch 14 | loss: 0.93635 | valid_accuracy: 0.45833 |  0:00:00s\n",
      "epoch 15 | loss: 0.83042 | valid_accuracy: 0.45833 |  0:00:00s\n",
      "epoch 16 | loss: 0.87055 | valid_accuracy: 0.41667 |  0:00:00s\n",
      "epoch 17 | loss: 0.80551 | valid_accuracy: 0.45833 |  0:00:00s\n",
      "\n",
      "Early stopping occurred at epoch 17 with best_epoch = 7 and best_valid_accuracy = 0.5\n",
      "epoch 0  | loss: 1.20579 | valid_accuracy: 0.30435 |  0:00:00s\n"
     ]
    },
    {
     "name": "stderr",
     "output_type": "stream",
     "text": [
      "c:\\Users\\carly\\anaconda3\\envs\\dyspepsia_research\\lib\\site-packages\\pytorch_tabnet\\callbacks.py:172: UserWarning: Best weights from best epoch are automatically used!\n",
      "  warnings.warn(wrn_msg)\n",
      "c:\\Users\\carly\\anaconda3\\envs\\dyspepsia_research\\lib\\site-packages\\pytorch_tabnet\\abstract_model.py:82: UserWarning: Device used : cpu\n",
      "  warnings.warn(f\"Device used : {self.device}\")\n"
     ]
    },
    {
     "name": "stdout",
     "output_type": "stream",
     "text": [
      "epoch 1  | loss: 1.07069 | valid_accuracy: 0.30435 |  0:00:00s\n",
      "epoch 2  | loss: 1.23553 | valid_accuracy: 0.30435 |  0:00:00s\n",
      "epoch 3  | loss: 0.99763 | valid_accuracy: 0.47826 |  0:00:00s\n",
      "epoch 4  | loss: 0.89799 | valid_accuracy: 0.56522 |  0:00:00s\n",
      "epoch 5  | loss: 1.04497 | valid_accuracy: 0.43478 |  0:00:00s\n",
      "epoch 6  | loss: 1.11817 | valid_accuracy: 0.3913  |  0:00:00s\n",
      "epoch 7  | loss: 1.10914 | valid_accuracy: 0.3913  |  0:00:00s\n",
      "epoch 8  | loss: 1.12313 | valid_accuracy: 0.26087 |  0:00:00s\n",
      "epoch 9  | loss: 1.04533 | valid_accuracy: 0.43478 |  0:00:00s\n",
      "epoch 10 | loss: 1.18841 | valid_accuracy: 0.3913  |  0:00:00s\n",
      "epoch 11 | loss: 1.00246 | valid_accuracy: 0.34783 |  0:00:00s\n",
      "epoch 12 | loss: 1.0048  | valid_accuracy: 0.34783 |  0:00:00s\n",
      "epoch 13 | loss: 1.01729 | valid_accuracy: 0.30435 |  0:00:00s\n",
      "epoch 14 | loss: 1.07038 | valid_accuracy: 0.47826 |  0:00:00s\n",
      "\n",
      "Early stopping occurred at epoch 14 with best_epoch = 4 and best_valid_accuracy = 0.56522\n",
      "epoch 0  | loss: 0.99544 | valid_accuracy: 0.34783 |  0:00:00s\n",
      "epoch 1  | loss: 0.97057 | valid_accuracy: 0.6087  |  0:00:00s\n",
      "epoch 2  | loss: 1.00233 | valid_accuracy: 0.26087 |  0:00:00s\n",
      "epoch 3  | loss: 0.98386 | valid_accuracy: 0.47826 |  0:00:00s\n"
     ]
    },
    {
     "name": "stderr",
     "output_type": "stream",
     "text": [
      "c:\\Users\\carly\\anaconda3\\envs\\dyspepsia_research\\lib\\site-packages\\pytorch_tabnet\\callbacks.py:172: UserWarning: Best weights from best epoch are automatically used!\n",
      "  warnings.warn(wrn_msg)\n",
      "c:\\Users\\carly\\anaconda3\\envs\\dyspepsia_research\\lib\\site-packages\\pytorch_tabnet\\abstract_model.py:82: UserWarning: Device used : cpu\n",
      "  warnings.warn(f\"Device used : {self.device}\")\n"
     ]
    },
    {
     "name": "stdout",
     "output_type": "stream",
     "text": [
      "epoch 4  | loss: 1.00077 | valid_accuracy: 0.52174 |  0:00:00s\n",
      "epoch 5  | loss: 1.12705 | valid_accuracy: 0.56522 |  0:00:00s\n",
      "epoch 6  | loss: 0.9327  | valid_accuracy: 0.65217 |  0:00:00s\n",
      "epoch 7  | loss: 1.20583 | valid_accuracy: 0.56522 |  0:00:00s\n",
      "epoch 8  | loss: 1.12848 | valid_accuracy: 0.34783 |  0:00:00s\n",
      "epoch 9  | loss: 1.16551 | valid_accuracy: 0.43478 |  0:00:00s\n",
      "epoch 10 | loss: 0.97447 | valid_accuracy: 0.34783 |  0:00:00s\n",
      "epoch 11 | loss: 0.95668 | valid_accuracy: 0.34783 |  0:00:00s\n",
      "epoch 12 | loss: 1.04156 | valid_accuracy: 0.30435 |  0:00:00s\n",
      "epoch 13 | loss: 0.99605 | valid_accuracy: 0.3913  |  0:00:00s\n",
      "epoch 14 | loss: 0.94585 | valid_accuracy: 0.34783 |  0:00:00s\n",
      "epoch 15 | loss: 0.85437 | valid_accuracy: 0.17391 |  0:00:00s\n",
      "epoch 16 | loss: 0.85679 | valid_accuracy: 0.26087 |  0:00:00s\n",
      "\n",
      "Early stopping occurred at epoch 16 with best_epoch = 6 and best_valid_accuracy = 0.65217\n"
     ]
    },
    {
     "name": "stderr",
     "output_type": "stream",
     "text": [
      "c:\\Users\\carly\\anaconda3\\envs\\dyspepsia_research\\lib\\site-packages\\pytorch_tabnet\\callbacks.py:172: UserWarning: Best weights from best epoch are automatically used!\n",
      "  warnings.warn(wrn_msg)\n",
      "c:\\Users\\carly\\anaconda3\\envs\\dyspepsia_research\\lib\\site-packages\\pytorch_tabnet\\abstract_model.py:82: UserWarning: Device used : cpu\n",
      "  warnings.warn(f\"Device used : {self.device}\")\n"
     ]
    },
    {
     "name": "stdout",
     "output_type": "stream",
     "text": [
      "평균 F1 Score: 0.5308\n",
      "\n",
      "현재 파라미터 조합: {'gamma': 1.3, 'lambda_sparse': 0.001, 'n_a': 8, 'n_d': 8, 'n_steps': 5, 'optimizer_params': {'lr': 0.02}}\n",
      "epoch 0  | loss: 1.4447  | valid_accuracy: 0.5     |  0:00:00s\n",
      "epoch 1  | loss: 1.20041 | valid_accuracy: 0.41667 |  0:00:00s\n",
      "epoch 2  | loss: 1.12402 | valid_accuracy: 0.54167 |  0:00:00s\n",
      "epoch 3  | loss: 1.2838  | valid_accuracy: 0.54167 |  0:00:00s\n",
      "epoch 4  | loss: 1.05016 | valid_accuracy: 0.54167 |  0:00:00s\n",
      "epoch 5  | loss: 1.11427 | valid_accuracy: 0.625   |  0:00:00s\n",
      "epoch 6  | loss: 0.99923 | valid_accuracy: 0.375   |  0:00:00s\n",
      "epoch 7  | loss: 1.00501 | valid_accuracy: 0.45833 |  0:00:00s\n",
      "epoch 8  | loss: 1.22585 | valid_accuracy: 0.45833 |  0:00:00s\n",
      "epoch 9  | loss: 1.15164 | valid_accuracy: 0.375   |  0:00:00s\n",
      "epoch 10 | loss: 1.14625 | valid_accuracy: 0.41667 |  0:00:00s\n",
      "epoch 11 | loss: 1.02858 | valid_accuracy: 0.375   |  0:00:00s\n",
      "epoch 12 | loss: 1.06756 | valid_accuracy: 0.45833 |  0:00:00s\n",
      "epoch 13 | loss: 1.06693 | valid_accuracy: 0.41667 |  0:00:00s\n",
      "epoch 14 | loss: 0.96268 | valid_accuracy: 0.5     |  0:00:00s\n",
      "epoch 15 | loss: 1.0956  | valid_accuracy: 0.5     |  0:00:00s\n",
      "\n",
      "Early stopping occurred at epoch 15 with best_epoch = 5 and best_valid_accuracy = 0.625\n",
      "epoch 0  | loss: 1.18586 | valid_accuracy: 0.34783 |  0:00:00s\n",
      "epoch 1  | loss: 1.36773 | valid_accuracy: 0.30435 |  0:00:00s\n"
     ]
    },
    {
     "name": "stderr",
     "output_type": "stream",
     "text": [
      "c:\\Users\\carly\\anaconda3\\envs\\dyspepsia_research\\lib\\site-packages\\pytorch_tabnet\\callbacks.py:172: UserWarning: Best weights from best epoch are automatically used!\n",
      "  warnings.warn(wrn_msg)\n",
      "c:\\Users\\carly\\anaconda3\\envs\\dyspepsia_research\\lib\\site-packages\\pytorch_tabnet\\abstract_model.py:82: UserWarning: Device used : cpu\n",
      "  warnings.warn(f\"Device used : {self.device}\")\n"
     ]
    },
    {
     "name": "stdout",
     "output_type": "stream",
     "text": [
      "epoch 2  | loss: 1.1616  | valid_accuracy: 0.34783 |  0:00:00s\n",
      "epoch 3  | loss: 1.28946 | valid_accuracy: 0.43478 |  0:00:00s\n",
      "epoch 4  | loss: 1.18639 | valid_accuracy: 0.34783 |  0:00:00s\n",
      "epoch 5  | loss: 1.08407 | valid_accuracy: 0.43478 |  0:00:00s\n",
      "epoch 6  | loss: 0.95493 | valid_accuracy: 0.30435 |  0:00:00s\n",
      "epoch 7  | loss: 1.0828  | valid_accuracy: 0.26087 |  0:00:00s\n",
      "epoch 8  | loss: 1.13457 | valid_accuracy: 0.3913  |  0:00:00s\n",
      "epoch 9  | loss: 1.08976 | valid_accuracy: 0.34783 |  0:00:00s\n",
      "epoch 10 | loss: 1.06762 | valid_accuracy: 0.30435 |  0:00:00s\n",
      "epoch 11 | loss: 0.9572  | valid_accuracy: 0.30435 |  0:00:00s\n",
      "epoch 12 | loss: 1.0095  | valid_accuracy: 0.34783 |  0:00:00s\n",
      "epoch 13 | loss: 1.04552 | valid_accuracy: 0.3913  |  0:00:00s\n",
      "\n",
      "Early stopping occurred at epoch 13 with best_epoch = 3 and best_valid_accuracy = 0.43478\n"
     ]
    },
    {
     "name": "stderr",
     "output_type": "stream",
     "text": [
      "c:\\Users\\carly\\anaconda3\\envs\\dyspepsia_research\\lib\\site-packages\\pytorch_tabnet\\callbacks.py:172: UserWarning: Best weights from best epoch are automatically used!\n",
      "  warnings.warn(wrn_msg)\n",
      "c:\\Users\\carly\\anaconda3\\envs\\dyspepsia_research\\lib\\site-packages\\pytorch_tabnet\\abstract_model.py:82: UserWarning: Device used : cpu\n",
      "  warnings.warn(f\"Device used : {self.device}\")\n"
     ]
    },
    {
     "name": "stdout",
     "output_type": "stream",
     "text": [
      "epoch 0  | loss: 1.45775 | valid_accuracy: 0.34783 |  0:00:00s\n",
      "epoch 1  | loss: 1.43545 | valid_accuracy: 0.47826 |  0:00:00s\n",
      "epoch 2  | loss: 0.94635 | valid_accuracy: 0.3913  |  0:00:00s\n",
      "epoch 3  | loss: 1.30215 | valid_accuracy: 0.52174 |  0:00:00s\n",
      "epoch 4  | loss: 1.44688 | valid_accuracy: 0.43478 |  0:00:00s\n",
      "epoch 5  | loss: 1.17483 | valid_accuracy: 0.47826 |  0:00:00s\n",
      "epoch 6  | loss: 1.46417 | valid_accuracy: 0.47826 |  0:00:00s\n",
      "epoch 7  | loss: 1.31466 | valid_accuracy: 0.17391 |  0:00:00s\n",
      "epoch 8  | loss: 1.50542 | valid_accuracy: 0.26087 |  0:00:00s\n",
      "epoch 9  | loss: 1.29357 | valid_accuracy: 0.3913  |  0:00:00s\n",
      "epoch 10 | loss: 1.27944 | valid_accuracy: 0.3913  |  0:00:00s\n",
      "epoch 11 | loss: 1.09291 | valid_accuracy: 0.52174 |  0:00:00s\n",
      "epoch 12 | loss: 1.02184 | valid_accuracy: 0.30435 |  0:00:00s\n",
      "epoch 13 | loss: 1.09762 | valid_accuracy: 0.34783 |  0:00:00s\n",
      "\n",
      "Early stopping occurred at epoch 13 with best_epoch = 3 and best_valid_accuracy = 0.52174\n",
      "평균 F1 Score: 0.5102\n",
      "\n",
      "현재 파라미터 조합: {'gamma': 1.3, 'lambda_sparse': 0.001, 'n_a': 8, 'n_d': 8, 'n_steps': 5, 'optimizer_params': {'lr': 0.01}}\n",
      "epoch 0  | loss: 1.4447  | valid_accuracy: 0.45833 |  0:00:00s\n",
      "epoch 1  | loss: 1.28143 | valid_accuracy: 0.41667 |  0:00:00s\n"
     ]
    },
    {
     "name": "stderr",
     "output_type": "stream",
     "text": [
      "c:\\Users\\carly\\anaconda3\\envs\\dyspepsia_research\\lib\\site-packages\\pytorch_tabnet\\callbacks.py:172: UserWarning: Best weights from best epoch are automatically used!\n",
      "  warnings.warn(wrn_msg)\n",
      "c:\\Users\\carly\\anaconda3\\envs\\dyspepsia_research\\lib\\site-packages\\pytorch_tabnet\\abstract_model.py:82: UserWarning: Device used : cpu\n",
      "  warnings.warn(f\"Device used : {self.device}\")\n"
     ]
    },
    {
     "name": "stdout",
     "output_type": "stream",
     "text": [
      "epoch 2  | loss: 1.43715 | valid_accuracy: 0.5     |  0:00:00s\n",
      "epoch 3  | loss: 1.22798 | valid_accuracy: 0.5     |  0:00:00s\n",
      "epoch 4  | loss: 1.21225 | valid_accuracy: 0.54167 |  0:00:00s\n",
      "epoch 5  | loss: 1.19236 | valid_accuracy: 0.54167 |  0:00:00s\n",
      "epoch 6  | loss: 1.37817 | valid_accuracy: 0.41667 |  0:00:00s\n",
      "epoch 7  | loss: 1.18568 | valid_accuracy: 0.41667 |  0:00:00s\n",
      "epoch 8  | loss: 1.2775  | valid_accuracy: 0.45833 |  0:00:00s\n",
      "epoch 9  | loss: 1.14783 | valid_accuracy: 0.45833 |  0:00:00s\n",
      "epoch 10 | loss: 1.30821 | valid_accuracy: 0.33333 |  0:00:00s\n",
      "epoch 11 | loss: 1.22683 | valid_accuracy: 0.5     |  0:00:00s\n",
      "epoch 12 | loss: 1.17165 | valid_accuracy: 0.45833 |  0:00:00s\n",
      "epoch 13 | loss: 0.97787 | valid_accuracy: 0.41667 |  0:00:00s\n",
      "epoch 14 | loss: 1.1021  | valid_accuracy: 0.41667 |  0:00:00s\n",
      "\n",
      "Early stopping occurred at epoch 14 with best_epoch = 4 and best_valid_accuracy = 0.54167\n",
      "epoch 0  | loss: 1.18586 | valid_accuracy: 0.34783 |  0:00:00s\n",
      "epoch 1  | loss: 1.2842  | valid_accuracy: 0.34783 |  0:00:00s\n"
     ]
    },
    {
     "name": "stderr",
     "output_type": "stream",
     "text": [
      "c:\\Users\\carly\\anaconda3\\envs\\dyspepsia_research\\lib\\site-packages\\pytorch_tabnet\\callbacks.py:172: UserWarning: Best weights from best epoch are automatically used!\n",
      "  warnings.warn(wrn_msg)\n",
      "c:\\Users\\carly\\anaconda3\\envs\\dyspepsia_research\\lib\\site-packages\\pytorch_tabnet\\abstract_model.py:82: UserWarning: Device used : cpu\n",
      "  warnings.warn(f\"Device used : {self.device}\")\n"
     ]
    },
    {
     "name": "stdout",
     "output_type": "stream",
     "text": [
      "epoch 2  | loss: 1.57153 | valid_accuracy: 0.3913  |  0:00:00s\n",
      "epoch 3  | loss: 1.46828 | valid_accuracy: 0.3913  |  0:00:00s\n",
      "epoch 4  | loss: 1.4063  | valid_accuracy: 0.47826 |  0:00:00s\n",
      "epoch 5  | loss: 1.35083 | valid_accuracy: 0.3913  |  0:00:00s\n",
      "epoch 6  | loss: 1.29033 | valid_accuracy: 0.56522 |  0:00:00s\n",
      "epoch 7  | loss: 1.12811 | valid_accuracy: 0.6087  |  0:00:00s\n",
      "epoch 8  | loss: 1.2251  | valid_accuracy: 0.6087  |  0:00:00s\n",
      "epoch 9  | loss: 1.11989 | valid_accuracy: 0.30435 |  0:00:00s\n",
      "epoch 10 | loss: 1.23383 | valid_accuracy: 0.43478 |  0:00:00s\n",
      "epoch 11 | loss: 1.31144 | valid_accuracy: 0.56522 |  0:00:00s\n",
      "epoch 12 | loss: 1.27504 | valid_accuracy: 0.52174 |  0:00:00s\n",
      "epoch 13 | loss: 1.11494 | valid_accuracy: 0.6087  |  0:00:00s\n",
      "epoch 14 | loss: 0.96894 | valid_accuracy: 0.43478 |  0:00:00s\n",
      "epoch 15 | loss: 1.04775 | valid_accuracy: 0.43478 |  0:00:00s\n",
      "epoch 16 | loss: 1.031   | valid_accuracy: 0.43478 |  0:00:00s\n",
      "epoch 17 | loss: 1.03625 | valid_accuracy: 0.47826 |  0:00:00s\n",
      "\n",
      "Early stopping occurred at epoch 17 with best_epoch = 7 and best_valid_accuracy = 0.6087\n"
     ]
    },
    {
     "name": "stderr",
     "output_type": "stream",
     "text": [
      "c:\\Users\\carly\\anaconda3\\envs\\dyspepsia_research\\lib\\site-packages\\pytorch_tabnet\\callbacks.py:172: UserWarning: Best weights from best epoch are automatically used!\n",
      "  warnings.warn(wrn_msg)\n",
      "c:\\Users\\carly\\anaconda3\\envs\\dyspepsia_research\\lib\\site-packages\\pytorch_tabnet\\abstract_model.py:82: UserWarning: Device used : cpu\n",
      "  warnings.warn(f\"Device used : {self.device}\")\n"
     ]
    },
    {
     "name": "stdout",
     "output_type": "stream",
     "text": [
      "epoch 0  | loss: 1.45775 | valid_accuracy: 0.47826 |  0:00:00s\n",
      "epoch 1  | loss: 1.64598 | valid_accuracy: 0.43478 |  0:00:00s\n",
      "epoch 2  | loss: 1.44357 | valid_accuracy: 0.43478 |  0:00:00s\n",
      "epoch 3  | loss: 1.30964 | valid_accuracy: 0.3913  |  0:00:00s\n",
      "epoch 4  | loss: 1.45146 | valid_accuracy: 0.47826 |  0:00:00s\n",
      "epoch 5  | loss: 1.18987 | valid_accuracy: 0.47826 |  0:00:00s\n",
      "epoch 6  | loss: 1.17626 | valid_accuracy: 0.52174 |  0:00:00s\n",
      "epoch 7  | loss: 1.19622 | valid_accuracy: 0.43478 |  0:00:00s\n",
      "epoch 8  | loss: 1.18219 | valid_accuracy: 0.47826 |  0:00:00s\n",
      "epoch 9  | loss: 1.12622 | valid_accuracy: 0.3913  |  0:00:00s\n",
      "epoch 10 | loss: 1.1572  | valid_accuracy: 0.30435 |  0:00:00s\n",
      "epoch 11 | loss: 1.04769 | valid_accuracy: 0.47826 |  0:00:00s\n",
      "epoch 12 | loss: 1.06774 | valid_accuracy: 0.34783 |  0:00:00s\n",
      "epoch 13 | loss: 1.16217 | valid_accuracy: 0.34783 |  0:00:00s\n",
      "epoch 14 | loss: 1.05317 | valid_accuracy: 0.3913  |  0:00:00s\n",
      "epoch 15 | loss: 0.96974 | valid_accuracy: 0.3913  |  0:00:00s\n",
      "epoch 16 | loss: 1.05817 | valid_accuracy: 0.34783 |  0:00:00s\n",
      "\n",
      "Early stopping occurred at epoch 16 with best_epoch = 6 and best_valid_accuracy = 0.52174\n",
      "평균 F1 Score: 0.4920\n",
      "\n",
      "현재 파라미터 조합: {'gamma': 1.3, 'lambda_sparse': 0.001, 'n_a': 8, 'n_d': 16, 'n_steps': 3, 'optimizer_params': {'lr': 0.02}}\n"
     ]
    },
    {
     "name": "stderr",
     "output_type": "stream",
     "text": [
      "c:\\Users\\carly\\anaconda3\\envs\\dyspepsia_research\\lib\\site-packages\\pytorch_tabnet\\callbacks.py:172: UserWarning: Best weights from best epoch are automatically used!\n",
      "  warnings.warn(wrn_msg)\n",
      "c:\\Users\\carly\\anaconda3\\envs\\dyspepsia_research\\lib\\site-packages\\pytorch_tabnet\\abstract_model.py:82: UserWarning: Device used : cpu\n",
      "  warnings.warn(f\"Device used : {self.device}\")\n"
     ]
    },
    {
     "name": "stdout",
     "output_type": "stream",
     "text": [
      "epoch 0  | loss: 3.09    | valid_accuracy: 0.20833 |  0:00:00s\n",
      "epoch 1  | loss: 2.4522  | valid_accuracy: 0.20833 |  0:00:00s\n",
      "epoch 2  | loss: 1.93354 | valid_accuracy: 0.375   |  0:00:00s\n",
      "epoch 3  | loss: 1.73988 | valid_accuracy: 0.41667 |  0:00:00s\n",
      "epoch 4  | loss: 1.59275 | valid_accuracy: 0.33333 |  0:00:00s\n",
      "epoch 5  | loss: 1.18592 | valid_accuracy: 0.41667 |  0:00:00s\n",
      "epoch 6  | loss: 0.96564 | valid_accuracy: 0.5     |  0:00:00s\n",
      "epoch 7  | loss: 0.82569 | valid_accuracy: 0.375   |  0:00:00s\n",
      "epoch 8  | loss: 0.69326 | valid_accuracy: 0.58333 |  0:00:00s\n",
      "epoch 9  | loss: 0.64068 | valid_accuracy: 0.375   |  0:00:00s\n",
      "epoch 10 | loss: 0.6168  | valid_accuracy: 0.5     |  0:00:00s\n",
      "epoch 11 | loss: 0.51267 | valid_accuracy: 0.375   |  0:00:00s\n",
      "epoch 12 | loss: 0.46249 | valid_accuracy: 0.45833 |  0:00:00s\n",
      "epoch 13 | loss: 0.37912 | valid_accuracy: 0.41667 |  0:00:00s\n",
      "epoch 14 | loss: 0.33982 | valid_accuracy: 0.45833 |  0:00:00s\n",
      "epoch 15 | loss: 0.27945 | valid_accuracy: 0.41667 |  0:00:00s\n",
      "epoch 16 | loss: 0.23932 | valid_accuracy: 0.45833 |  0:00:00s\n",
      "epoch 17 | loss: 0.19065 | valid_accuracy: 0.5     |  0:00:00s\n",
      "epoch 18 | loss: 0.21859 | valid_accuracy: 0.41667 |  0:00:00s\n",
      "\n",
      "Early stopping occurred at epoch 18 with best_epoch = 8 and best_valid_accuracy = 0.58333\n"
     ]
    },
    {
     "name": "stderr",
     "output_type": "stream",
     "text": [
      "c:\\Users\\carly\\anaconda3\\envs\\dyspepsia_research\\lib\\site-packages\\pytorch_tabnet\\callbacks.py:172: UserWarning: Best weights from best epoch are automatically used!\n",
      "  warnings.warn(wrn_msg)\n",
      "c:\\Users\\carly\\anaconda3\\envs\\dyspepsia_research\\lib\\site-packages\\pytorch_tabnet\\abstract_model.py:82: UserWarning: Device used : cpu\n",
      "  warnings.warn(f\"Device used : {self.device}\")\n"
     ]
    },
    {
     "name": "stdout",
     "output_type": "stream",
     "text": [
      "epoch 0  | loss: 2.89088 | valid_accuracy: 0.21739 |  0:00:00s\n",
      "epoch 1  | loss: 2.46584 | valid_accuracy: 0.17391 |  0:00:00s\n",
      "epoch 2  | loss: 1.63162 | valid_accuracy: 0.17391 |  0:00:00s\n",
      "epoch 3  | loss: 1.61179 | valid_accuracy: 0.26087 |  0:00:00s\n",
      "epoch 4  | loss: 1.36899 | valid_accuracy: 0.43478 |  0:00:00s\n",
      "epoch 5  | loss: 1.12203 | valid_accuracy: 0.30435 |  0:00:00s\n",
      "epoch 6  | loss: 0.99097 | valid_accuracy: 0.30435 |  0:00:00s\n",
      "epoch 7  | loss: 0.8913  | valid_accuracy: 0.43478 |  0:00:00s\n",
      "epoch 8  | loss: 0.77836 | valid_accuracy: 0.47826 |  0:00:00s\n",
      "epoch 9  | loss: 0.74026 | valid_accuracy: 0.43478 |  0:00:00s\n",
      "epoch 10 | loss: 0.77689 | valid_accuracy: 0.34783 |  0:00:00s\n",
      "epoch 11 | loss: 0.82458 | valid_accuracy: 0.47826 |  0:00:00s\n",
      "epoch 12 | loss: 0.68322 | valid_accuracy: 0.3913  |  0:00:00s\n",
      "epoch 13 | loss: 0.55695 | valid_accuracy: 0.3913  |  0:00:00s\n",
      "epoch 14 | loss: 0.48904 | valid_accuracy: 0.3913  |  0:00:00s\n",
      "epoch 15 | loss: 0.39519 | valid_accuracy: 0.3913  |  0:00:00s\n",
      "epoch 16 | loss: 0.35263 | valid_accuracy: 0.43478 |  0:00:00s\n",
      "epoch 17 | loss: 0.30107 | valid_accuracy: 0.43478 |  0:00:00s\n",
      "epoch 18 | loss: 0.24271 | valid_accuracy: 0.52174 |  0:00:00s\n",
      "epoch 19 | loss: 0.20111 | valid_accuracy: 0.47826 |  0:00:00s\n",
      "epoch 20 | loss: 0.13113 | valid_accuracy: 0.6087  |  0:00:00s\n",
      "epoch 21 | loss: 0.09715 | valid_accuracy: 0.47826 |  0:00:00s\n",
      "epoch 22 | loss: 0.06877 | valid_accuracy: 0.56522 |  0:00:00s\n",
      "epoch 23 | loss: 0.0604  | valid_accuracy: 0.52174 |  0:00:00s\n",
      "epoch 24 | loss: 0.07069 | valid_accuracy: 0.47826 |  0:00:00s\n",
      "epoch 25 | loss: 0.03955 | valid_accuracy: 0.3913  |  0:00:00s\n",
      "epoch 26 | loss: 0.02263 | valid_accuracy: 0.43478 |  0:00:01s\n",
      "epoch 27 | loss: 0.0166  | valid_accuracy: 0.26087 |  0:00:01s\n",
      "epoch 28 | loss: 0.01208 | valid_accuracy: 0.26087 |  0:00:01s\n",
      "epoch 29 | loss: 0.01021 | valid_accuracy: 0.30435 |  0:00:01s\n",
      "epoch 30 | loss: 0.00679 | valid_accuracy: 0.34783 |  0:00:01s\n",
      "\n",
      "Early stopping occurred at epoch 30 with best_epoch = 20 and best_valid_accuracy = 0.6087\n",
      "epoch 0  | loss: 2.7644  | valid_accuracy: 0.26087 |  0:00:00s\n",
      "epoch 1  | loss: 2.34556 | valid_accuracy: 0.13043 |  0:00:00s\n",
      "epoch 2  | loss: 1.90526 | valid_accuracy: 0.21739 |  0:00:00s\n",
      "epoch 3  | loss: 1.56234 | valid_accuracy: 0.21739 |  0:00:00s\n"
     ]
    },
    {
     "name": "stderr",
     "output_type": "stream",
     "text": [
      "c:\\Users\\carly\\anaconda3\\envs\\dyspepsia_research\\lib\\site-packages\\pytorch_tabnet\\callbacks.py:172: UserWarning: Best weights from best epoch are automatically used!\n",
      "  warnings.warn(wrn_msg)\n",
      "c:\\Users\\carly\\anaconda3\\envs\\dyspepsia_research\\lib\\site-packages\\pytorch_tabnet\\abstract_model.py:82: UserWarning: Device used : cpu\n",
      "  warnings.warn(f\"Device used : {self.device}\")\n"
     ]
    },
    {
     "name": "stdout",
     "output_type": "stream",
     "text": [
      "epoch 4  | loss: 1.42387 | valid_accuracy: 0.30435 |  0:00:00s\n",
      "epoch 5  | loss: 1.10233 | valid_accuracy: 0.30435 |  0:00:00s\n",
      "epoch 6  | loss: 1.0885  | valid_accuracy: 0.34783 |  0:00:00s\n",
      "epoch 7  | loss: 1.03729 | valid_accuracy: 0.3913  |  0:00:00s\n",
      "epoch 8  | loss: 0.891   | valid_accuracy: 0.3913  |  0:00:00s\n",
      "epoch 9  | loss: 0.92109 | valid_accuracy: 0.43478 |  0:00:00s\n",
      "epoch 10 | loss: 0.8745  | valid_accuracy: 0.43478 |  0:00:00s\n",
      "epoch 11 | loss: 0.8544  | valid_accuracy: 0.30435 |  0:00:00s\n",
      "epoch 12 | loss: 0.72501 | valid_accuracy: 0.26087 |  0:00:00s\n",
      "epoch 13 | loss: 0.70205 | valid_accuracy: 0.30435 |  0:00:00s\n",
      "epoch 14 | loss: 0.66985 | valid_accuracy: 0.26087 |  0:00:00s\n",
      "epoch 15 | loss: 0.73575 | valid_accuracy: 0.34783 |  0:00:00s\n",
      "epoch 16 | loss: 0.61673 | valid_accuracy: 0.34783 |  0:00:00s\n",
      "epoch 17 | loss: 0.6112  | valid_accuracy: 0.30435 |  0:00:00s\n",
      "epoch 18 | loss: 0.51171 | valid_accuracy: 0.26087 |  0:00:00s\n",
      "epoch 19 | loss: 0.54824 | valid_accuracy: 0.26087 |  0:00:00s\n",
      "\n",
      "Early stopping occurred at epoch 19 with best_epoch = 9 and best_valid_accuracy = 0.43478\n",
      "평균 F1 Score: 0.5251\n",
      "\n",
      "현재 파라미터 조합: {'gamma': 1.3, 'lambda_sparse': 0.001, 'n_a': 8, 'n_d': 16, 'n_steps': 3, 'optimizer_params': {'lr': 0.01}}\n",
      "epoch 0  | loss: 3.09    | valid_accuracy: 0.20833 |  0:00:00s\n"
     ]
    },
    {
     "name": "stderr",
     "output_type": "stream",
     "text": [
      "c:\\Users\\carly\\anaconda3\\envs\\dyspepsia_research\\lib\\site-packages\\pytorch_tabnet\\callbacks.py:172: UserWarning: Best weights from best epoch are automatically used!\n",
      "  warnings.warn(wrn_msg)\n",
      "c:\\Users\\carly\\anaconda3\\envs\\dyspepsia_research\\lib\\site-packages\\pytorch_tabnet\\abstract_model.py:82: UserWarning: Device used : cpu\n",
      "  warnings.warn(f\"Device used : {self.device}\")\n"
     ]
    },
    {
     "name": "stdout",
     "output_type": "stream",
     "text": [
      "epoch 1  | loss: 2.56433 | valid_accuracy: 0.20833 |  0:00:00s\n",
      "epoch 2  | loss: 2.42972 | valid_accuracy: 0.33333 |  0:00:00s\n",
      "epoch 3  | loss: 2.20319 | valid_accuracy: 0.125   |  0:00:00s\n",
      "epoch 4  | loss: 1.87817 | valid_accuracy: 0.125   |  0:00:00s\n",
      "epoch 5  | loss: 1.71568 | valid_accuracy: 0.25    |  0:00:00s\n",
      "epoch 6  | loss: 1.60159 | valid_accuracy: 0.20833 |  0:00:00s\n",
      "epoch 7  | loss: 1.38557 | valid_accuracy: 0.20833 |  0:00:00s\n",
      "epoch 8  | loss: 1.23348 | valid_accuracy: 0.16667 |  0:00:00s\n",
      "epoch 9  | loss: 1.08966 | valid_accuracy: 0.125   |  0:00:00s\n",
      "epoch 10 | loss: 0.9345  | valid_accuracy: 0.29167 |  0:00:00s\n",
      "epoch 11 | loss: 1.0254  | valid_accuracy: 0.41667 |  0:00:00s\n",
      "epoch 12 | loss: 0.94968 | valid_accuracy: 0.45833 |  0:00:00s\n",
      "epoch 13 | loss: 0.84336 | valid_accuracy: 0.41667 |  0:00:00s\n",
      "epoch 14 | loss: 0.75546 | valid_accuracy: 0.41667 |  0:00:00s\n",
      "epoch 15 | loss: 0.71108 | valid_accuracy: 0.41667 |  0:00:00s\n",
      "epoch 16 | loss: 0.70609 | valid_accuracy: 0.375   |  0:00:00s\n",
      "epoch 17 | loss: 0.68107 | valid_accuracy: 0.16667 |  0:00:00s\n",
      "epoch 18 | loss: 0.60333 | valid_accuracy: 0.25    |  0:00:00s\n",
      "epoch 19 | loss: 0.57328 | valid_accuracy: 0.20833 |  0:00:00s\n",
      "epoch 20 | loss: 0.63343 | valid_accuracy: 0.45833 |  0:00:00s\n",
      "epoch 21 | loss: 0.56326 | valid_accuracy: 0.41667 |  0:00:00s\n",
      "epoch 22 | loss: 0.49597 | valid_accuracy: 0.29167 |  0:00:00s\n",
      "\n",
      "Early stopping occurred at epoch 22 with best_epoch = 12 and best_valid_accuracy = 0.45833\n",
      "epoch 0  | loss: 2.89088 | valid_accuracy: 0.21739 |  0:00:00s\n",
      "epoch 1  | loss: 2.25655 | valid_accuracy: 0.21739 |  0:00:00s\n"
     ]
    },
    {
     "name": "stderr",
     "output_type": "stream",
     "text": [
      "c:\\Users\\carly\\anaconda3\\envs\\dyspepsia_research\\lib\\site-packages\\pytorch_tabnet\\callbacks.py:172: UserWarning: Best weights from best epoch are automatically used!\n",
      "  warnings.warn(wrn_msg)\n",
      "c:\\Users\\carly\\anaconda3\\envs\\dyspepsia_research\\lib\\site-packages\\pytorch_tabnet\\abstract_model.py:82: UserWarning: Device used : cpu\n",
      "  warnings.warn(f\"Device used : {self.device}\")\n"
     ]
    },
    {
     "name": "stdout",
     "output_type": "stream",
     "text": [
      "epoch 2  | loss: 2.39417 | valid_accuracy: 0.26087 |  0:00:00s\n",
      "epoch 3  | loss: 2.23668 | valid_accuracy: 0.21739 |  0:00:00s\n",
      "epoch 4  | loss: 1.98585 | valid_accuracy: 0.34783 |  0:00:00s\n",
      "epoch 5  | loss: 1.78409 | valid_accuracy: 0.17391 |  0:00:00s\n",
      "epoch 6  | loss: 1.51366 | valid_accuracy: 0.43478 |  0:00:00s\n",
      "epoch 7  | loss: 1.33699 | valid_accuracy: 0.43478 |  0:00:00s\n",
      "epoch 8  | loss: 1.33299 | valid_accuracy: 0.52174 |  0:00:00s\n",
      "epoch 9  | loss: 1.29605 | valid_accuracy: 0.34783 |  0:00:00s\n",
      "epoch 10 | loss: 1.08899 | valid_accuracy: 0.34783 |  0:00:00s\n",
      "epoch 11 | loss: 0.98217 | valid_accuracy: 0.3913  |  0:00:00s\n",
      "epoch 12 | loss: 0.88003 | valid_accuracy: 0.47826 |  0:00:00s\n",
      "epoch 13 | loss: 0.84595 | valid_accuracy: 0.43478 |  0:00:00s\n",
      "epoch 14 | loss: 0.7833  | valid_accuracy: 0.43478 |  0:00:00s\n",
      "epoch 15 | loss: 0.84004 | valid_accuracy: 0.43478 |  0:00:00s\n",
      "epoch 16 | loss: 0.72316 | valid_accuracy: 0.3913  |  0:00:00s\n",
      "epoch 17 | loss: 0.6884  | valid_accuracy: 0.34783 |  0:00:00s\n",
      "epoch 18 | loss: 0.64448 | valid_accuracy: 0.43478 |  0:00:00s\n",
      "\n",
      "Early stopping occurred at epoch 18 with best_epoch = 8 and best_valid_accuracy = 0.52174\n",
      "epoch 0  | loss: 2.7644  | valid_accuracy: 0.26087 |  0:00:00s\n"
     ]
    },
    {
     "name": "stderr",
     "output_type": "stream",
     "text": [
      "c:\\Users\\carly\\anaconda3\\envs\\dyspepsia_research\\lib\\site-packages\\pytorch_tabnet\\callbacks.py:172: UserWarning: Best weights from best epoch are automatically used!\n",
      "  warnings.warn(wrn_msg)\n",
      "c:\\Users\\carly\\anaconda3\\envs\\dyspepsia_research\\lib\\site-packages\\pytorch_tabnet\\abstract_model.py:82: UserWarning: Device used : cpu\n",
      "  warnings.warn(f\"Device used : {self.device}\")\n"
     ]
    },
    {
     "name": "stdout",
     "output_type": "stream",
     "text": [
      "epoch 1  | loss: 2.38291 | valid_accuracy: 0.26087 |  0:00:00s\n",
      "epoch 2  | loss: 2.26147 | valid_accuracy: 0.21739 |  0:00:00s\n",
      "epoch 3  | loss: 2.04923 | valid_accuracy: 0.13043 |  0:00:00s\n",
      "epoch 4  | loss: 1.8441  | valid_accuracy: 0.17391 |  0:00:00s\n",
      "epoch 5  | loss: 1.63678 | valid_accuracy: 0.17391 |  0:00:00s\n",
      "epoch 6  | loss: 1.39125 | valid_accuracy: 0.26087 |  0:00:00s\n",
      "epoch 7  | loss: 1.19148 | valid_accuracy: 0.34783 |  0:00:00s\n",
      "epoch 8  | loss: 0.98477 | valid_accuracy: 0.3913  |  0:00:00s\n",
      "epoch 9  | loss: 0.93205 | valid_accuracy: 0.3913  |  0:00:00s\n",
      "epoch 10 | loss: 0.90535 | valid_accuracy: 0.3913  |  0:00:00s\n",
      "epoch 11 | loss: 0.8793  | valid_accuracy: 0.26087 |  0:00:00s\n",
      "epoch 12 | loss: 0.7268  | valid_accuracy: 0.30435 |  0:00:00s\n",
      "epoch 13 | loss: 0.6897  | valid_accuracy: 0.21739 |  0:00:00s\n",
      "epoch 14 | loss: 0.70943 | valid_accuracy: 0.3913  |  0:00:00s\n",
      "epoch 15 | loss: 0.63964 | valid_accuracy: 0.30435 |  0:00:00s\n",
      "epoch 16 | loss: 0.64072 | valid_accuracy: 0.26087 |  0:00:00s\n",
      "epoch 17 | loss: 0.63947 | valid_accuracy: 0.17391 |  0:00:00s\n",
      "epoch 18 | loss: 0.5921  | valid_accuracy: 0.30435 |  0:00:00s\n",
      "\n",
      "Early stopping occurred at epoch 18 with best_epoch = 8 and best_valid_accuracy = 0.3913\n",
      "평균 F1 Score: 0.4081\n",
      "\n",
      "현재 파라미터 조합: {'gamma': 1.3, 'lambda_sparse': 0.001, 'n_a': 8, 'n_d': 16, 'n_steps': 5, 'optimizer_params': {'lr': 0.02}}\n"
     ]
    },
    {
     "name": "stderr",
     "output_type": "stream",
     "text": [
      "c:\\Users\\carly\\anaconda3\\envs\\dyspepsia_research\\lib\\site-packages\\pytorch_tabnet\\callbacks.py:172: UserWarning: Best weights from best epoch are automatically used!\n",
      "  warnings.warn(wrn_msg)\n",
      "c:\\Users\\carly\\anaconda3\\envs\\dyspepsia_research\\lib\\site-packages\\pytorch_tabnet\\abstract_model.py:82: UserWarning: Device used : cpu\n",
      "  warnings.warn(f\"Device used : {self.device}\")\n"
     ]
    },
    {
     "name": "stdout",
     "output_type": "stream",
     "text": [
      "epoch 0  | loss: 2.01167 | valid_accuracy: 0.33333 |  0:00:00s\n",
      "epoch 1  | loss: 1.32972 | valid_accuracy: 0.375   |  0:00:00s\n",
      "epoch 2  | loss: 1.50647 | valid_accuracy: 0.375   |  0:00:00s\n",
      "epoch 3  | loss: 1.40476 | valid_accuracy: 0.29167 |  0:00:00s\n",
      "epoch 4  | loss: 1.19858 | valid_accuracy: 0.41667 |  0:00:00s\n",
      "epoch 5  | loss: 1.28235 | valid_accuracy: 0.45833 |  0:00:00s\n",
      "epoch 6  | loss: 1.21987 | valid_accuracy: 0.25    |  0:00:00s\n",
      "epoch 7  | loss: 1.18214 | valid_accuracy: 0.29167 |  0:00:00s\n",
      "epoch 8  | loss: 1.17317 | valid_accuracy: 0.33333 |  0:00:00s\n",
      "epoch 9  | loss: 1.3408  | valid_accuracy: 0.45833 |  0:00:00s\n",
      "epoch 10 | loss: 1.23901 | valid_accuracy: 0.41667 |  0:00:00s\n",
      "epoch 11 | loss: 0.93629 | valid_accuracy: 0.25    |  0:00:00s\n",
      "epoch 12 | loss: 0.94836 | valid_accuracy: 0.25    |  0:00:00s\n",
      "epoch 13 | loss: 1.13802 | valid_accuracy: 0.33333 |  0:00:00s\n",
      "epoch 14 | loss: 1.06475 | valid_accuracy: 0.29167 |  0:00:00s\n",
      "epoch 15 | loss: 0.9418  | valid_accuracy: 0.125   |  0:00:00s\n",
      "\n",
      "Early stopping occurred at epoch 15 with best_epoch = 5 and best_valid_accuracy = 0.45833\n"
     ]
    },
    {
     "name": "stderr",
     "output_type": "stream",
     "text": [
      "c:\\Users\\carly\\anaconda3\\envs\\dyspepsia_research\\lib\\site-packages\\pytorch_tabnet\\callbacks.py:172: UserWarning: Best weights from best epoch are automatically used!\n",
      "  warnings.warn(wrn_msg)\n",
      "c:\\Users\\carly\\anaconda3\\envs\\dyspepsia_research\\lib\\site-packages\\pytorch_tabnet\\abstract_model.py:82: UserWarning: Device used : cpu\n",
      "  warnings.warn(f\"Device used : {self.device}\")\n"
     ]
    },
    {
     "name": "stdout",
     "output_type": "stream",
     "text": [
      "epoch 0  | loss: 1.72436 | valid_accuracy: 0.26087 |  0:00:00s\n",
      "epoch 1  | loss: 1.30903 | valid_accuracy: 0.3913  |  0:00:00s\n",
      "epoch 2  | loss: 1.21196 | valid_accuracy: 0.47826 |  0:00:00s\n",
      "epoch 3  | loss: 1.18192 | valid_accuracy: 0.30435 |  0:00:00s\n",
      "epoch 4  | loss: 1.36159 | valid_accuracy: 0.43478 |  0:00:00s\n",
      "epoch 5  | loss: 1.24871 | valid_accuracy: 0.52174 |  0:00:00s\n",
      "epoch 6  | loss: 1.1889  | valid_accuracy: 0.52174 |  0:00:00s\n",
      "epoch 7  | loss: 1.03698 | valid_accuracy: 0.34783 |  0:00:00s\n",
      "epoch 8  | loss: 0.98814 | valid_accuracy: 0.21739 |  0:00:00s\n",
      "epoch 9  | loss: 0.99827 | valid_accuracy: 0.34783 |  0:00:00s\n",
      "epoch 10 | loss: 1.00824 | valid_accuracy: 0.21739 |  0:00:00s\n",
      "epoch 11 | loss: 0.8445  | valid_accuracy: 0.43478 |  0:00:00s\n",
      "epoch 12 | loss: 0.92101 | valid_accuracy: 0.21739 |  0:00:00s\n",
      "epoch 13 | loss: 0.86053 | valid_accuracy: 0.43478 |  0:00:00s\n",
      "epoch 14 | loss: 0.88886 | valid_accuracy: 0.3913  |  0:00:00s\n",
      "epoch 15 | loss: 0.8693  | valid_accuracy: 0.3913  |  0:00:00s\n",
      "\n",
      "Early stopping occurred at epoch 15 with best_epoch = 5 and best_valid_accuracy = 0.52174\n"
     ]
    },
    {
     "name": "stderr",
     "output_type": "stream",
     "text": [
      "c:\\Users\\carly\\anaconda3\\envs\\dyspepsia_research\\lib\\site-packages\\pytorch_tabnet\\callbacks.py:172: UserWarning: Best weights from best epoch are automatically used!\n",
      "  warnings.warn(wrn_msg)\n",
      "c:\\Users\\carly\\anaconda3\\envs\\dyspepsia_research\\lib\\site-packages\\pytorch_tabnet\\abstract_model.py:82: UserWarning: Device used : cpu\n",
      "  warnings.warn(f\"Device used : {self.device}\")\n"
     ]
    },
    {
     "name": "stdout",
     "output_type": "stream",
     "text": [
      "epoch 0  | loss: 1.72162 | valid_accuracy: 0.34783 |  0:00:00s\n",
      "epoch 1  | loss: 1.5956  | valid_accuracy: 0.21739 |  0:00:00s\n",
      "epoch 2  | loss: 1.36552 | valid_accuracy: 0.3913  |  0:00:00s\n",
      "epoch 3  | loss: 1.50856 | valid_accuracy: 0.3913  |  0:00:00s\n",
      "epoch 4  | loss: 1.54972 | valid_accuracy: 0.3913  |  0:00:00s\n",
      "epoch 5  | loss: 1.43312 | valid_accuracy: 0.34783 |  0:00:00s\n",
      "epoch 6  | loss: 1.09937 | valid_accuracy: 0.3913  |  0:00:00s\n",
      "epoch 7  | loss: 1.31776 | valid_accuracy: 0.34783 |  0:00:00s\n",
      "epoch 8  | loss: 1.37458 | valid_accuracy: 0.26087 |  0:00:00s\n",
      "epoch 9  | loss: 1.28763 | valid_accuracy: 0.26087 |  0:00:00s\n",
      "epoch 10 | loss: 1.13374 | valid_accuracy: 0.34783 |  0:00:00s\n",
      "epoch 11 | loss: 1.08549 | valid_accuracy: 0.34783 |  0:00:00s\n",
      "epoch 12 | loss: 1.09225 | valid_accuracy: 0.30435 |  0:00:00s\n",
      "\n",
      "Early stopping occurred at epoch 12 with best_epoch = 2 and best_valid_accuracy = 0.3913\n",
      "평균 F1 Score: 0.4457\n",
      "\n",
      "현재 파라미터 조합: {'gamma': 1.3, 'lambda_sparse': 0.001, 'n_a': 8, 'n_d': 16, 'n_steps': 5, 'optimizer_params': {'lr': 0.01}}\n",
      "epoch 0  | loss: 2.01167 | valid_accuracy: 0.5     |  0:00:00s\n",
      "epoch 1  | loss: 1.66331 | valid_accuracy: 0.375   |  0:00:00s\n"
     ]
    },
    {
     "name": "stderr",
     "output_type": "stream",
     "text": [
      "c:\\Users\\carly\\anaconda3\\envs\\dyspepsia_research\\lib\\site-packages\\pytorch_tabnet\\callbacks.py:172: UserWarning: Best weights from best epoch are automatically used!\n",
      "  warnings.warn(wrn_msg)\n",
      "c:\\Users\\carly\\anaconda3\\envs\\dyspepsia_research\\lib\\site-packages\\pytorch_tabnet\\abstract_model.py:82: UserWarning: Device used : cpu\n",
      "  warnings.warn(f\"Device used : {self.device}\")\n"
     ]
    },
    {
     "name": "stdout",
     "output_type": "stream",
     "text": [
      "epoch 2  | loss: 1.62468 | valid_accuracy: 0.33333 |  0:00:00s\n",
      "epoch 3  | loss: 1.4669  | valid_accuracy: 0.25    |  0:00:00s\n",
      "epoch 4  | loss: 1.44846 | valid_accuracy: 0.29167 |  0:00:00s\n",
      "epoch 5  | loss: 1.29233 | valid_accuracy: 0.33333 |  0:00:00s\n",
      "epoch 6  | loss: 1.55679 | valid_accuracy: 0.375   |  0:00:00s\n",
      "epoch 7  | loss: 1.30258 | valid_accuracy: 0.41667 |  0:00:00s\n",
      "epoch 8  | loss: 1.13917 | valid_accuracy: 0.58333 |  0:00:00s\n",
      "epoch 9  | loss: 1.12746 | valid_accuracy: 0.375   |  0:00:00s\n",
      "epoch 10 | loss: 1.08284 | valid_accuracy: 0.5     |  0:00:00s\n",
      "epoch 11 | loss: 1.11849 | valid_accuracy: 0.33333 |  0:00:00s\n",
      "epoch 12 | loss: 0.99441 | valid_accuracy: 0.5     |  0:00:00s\n",
      "epoch 13 | loss: 1.14321 | valid_accuracy: 0.5     |  0:00:00s\n",
      "epoch 14 | loss: 1.15315 | valid_accuracy: 0.45833 |  0:00:00s\n",
      "epoch 15 | loss: 1.15657 | valid_accuracy: 0.45833 |  0:00:00s\n",
      "epoch 16 | loss: 1.22524 | valid_accuracy: 0.41667 |  0:00:00s\n",
      "epoch 17 | loss: 1.26563 | valid_accuracy: 0.33333 |  0:00:01s\n",
      "epoch 18 | loss: 1.29374 | valid_accuracy: 0.375   |  0:00:01s\n",
      "\n",
      "Early stopping occurred at epoch 18 with best_epoch = 8 and best_valid_accuracy = 0.58333\n",
      "epoch 0  | loss: 1.72436 | valid_accuracy: 0.3913  |  0:00:00s\n",
      "epoch 1  | loss: 1.7164  | valid_accuracy: 0.26087 |  0:00:00s\n"
     ]
    },
    {
     "name": "stderr",
     "output_type": "stream",
     "text": [
      "c:\\Users\\carly\\anaconda3\\envs\\dyspepsia_research\\lib\\site-packages\\pytorch_tabnet\\callbacks.py:172: UserWarning: Best weights from best epoch are automatically used!\n",
      "  warnings.warn(wrn_msg)\n",
      "c:\\Users\\carly\\anaconda3\\envs\\dyspepsia_research\\lib\\site-packages\\pytorch_tabnet\\abstract_model.py:82: UserWarning: Device used : cpu\n",
      "  warnings.warn(f\"Device used : {self.device}\")\n"
     ]
    },
    {
     "name": "stdout",
     "output_type": "stream",
     "text": [
      "epoch 2  | loss: 1.16991 | valid_accuracy: 0.43478 |  0:00:00s\n",
      "epoch 3  | loss: 1.27643 | valid_accuracy: 0.21739 |  0:00:00s\n",
      "epoch 4  | loss: 1.29807 | valid_accuracy: 0.17391 |  0:00:00s\n",
      "epoch 5  | loss: 1.4121  | valid_accuracy: 0.21739 |  0:00:00s\n",
      "epoch 6  | loss: 1.59248 | valid_accuracy: 0.3913  |  0:00:00s\n",
      "epoch 7  | loss: 1.33073 | valid_accuracy: 0.30435 |  0:00:00s\n",
      "epoch 8  | loss: 1.26886 | valid_accuracy: 0.26087 |  0:00:00s\n",
      "epoch 9  | loss: 1.24302 | valid_accuracy: 0.30435 |  0:00:00s\n",
      "epoch 10 | loss: 0.95924 | valid_accuracy: 0.43478 |  0:00:00s\n",
      "epoch 11 | loss: 1.12097 | valid_accuracy: 0.43478 |  0:00:00s\n",
      "epoch 12 | loss: 1.10547 | valid_accuracy: 0.47826 |  0:00:00s\n",
      "epoch 13 | loss: 1.22363 | valid_accuracy: 0.47826 |  0:00:00s\n",
      "epoch 14 | loss: 1.07012 | valid_accuracy: 0.3913  |  0:00:00s\n",
      "epoch 15 | loss: 1.05108 | valid_accuracy: 0.3913  |  0:00:00s\n",
      "epoch 16 | loss: 1.1478  | valid_accuracy: 0.47826 |  0:00:01s\n",
      "epoch 17 | loss: 1.0568  | valid_accuracy: 0.3913  |  0:00:01s\n",
      "epoch 18 | loss: 1.07286 | valid_accuracy: 0.3913  |  0:00:01s\n",
      "epoch 19 | loss: 1.10022 | valid_accuracy: 0.34783 |  0:00:01s\n",
      "epoch 20 | loss: 0.93348 | valid_accuracy: 0.3913  |  0:00:01s\n",
      "epoch 21 | loss: 0.85331 | valid_accuracy: 0.26087 |  0:00:01s\n",
      "epoch 22 | loss: 0.9744  | valid_accuracy: 0.34783 |  0:00:01s\n",
      "\n",
      "Early stopping occurred at epoch 22 with best_epoch = 12 and best_valid_accuracy = 0.47826\n",
      "epoch 0  | loss: 1.72162 | valid_accuracy: 0.34783 |  0:00:00s\n",
      "epoch 1  | loss: 1.8295  | valid_accuracy: 0.43478 |  0:00:00s\n"
     ]
    },
    {
     "name": "stderr",
     "output_type": "stream",
     "text": [
      "c:\\Users\\carly\\anaconda3\\envs\\dyspepsia_research\\lib\\site-packages\\pytorch_tabnet\\callbacks.py:172: UserWarning: Best weights from best epoch are automatically used!\n",
      "  warnings.warn(wrn_msg)\n",
      "c:\\Users\\carly\\anaconda3\\envs\\dyspepsia_research\\lib\\site-packages\\pytorch_tabnet\\abstract_model.py:82: UserWarning: Device used : cpu\n",
      "  warnings.warn(f\"Device used : {self.device}\")\n"
     ]
    },
    {
     "name": "stdout",
     "output_type": "stream",
     "text": [
      "epoch 2  | loss: 1.41379 | valid_accuracy: 0.34783 |  0:00:00s\n",
      "epoch 3  | loss: 1.52924 | valid_accuracy: 0.34783 |  0:00:00s\n",
      "epoch 4  | loss: 1.38832 | valid_accuracy: 0.47826 |  0:00:00s\n",
      "epoch 5  | loss: 1.40019 | valid_accuracy: 0.47826 |  0:00:00s\n",
      "epoch 6  | loss: 1.41573 | valid_accuracy: 0.30435 |  0:00:00s\n",
      "epoch 7  | loss: 1.13879 | valid_accuracy: 0.21739 |  0:00:00s\n",
      "epoch 8  | loss: 1.23783 | valid_accuracy: 0.26087 |  0:00:00s\n",
      "epoch 9  | loss: 1.14113 | valid_accuracy: 0.26087 |  0:00:00s\n",
      "epoch 10 | loss: 1.13555 | valid_accuracy: 0.34783 |  0:00:00s\n",
      "epoch 11 | loss: 1.2025  | valid_accuracy: 0.30435 |  0:00:00s\n",
      "epoch 12 | loss: 1.00808 | valid_accuracy: 0.43478 |  0:00:00s\n",
      "epoch 13 | loss: 1.0882  | valid_accuracy: 0.26087 |  0:00:00s\n",
      "epoch 14 | loss: 1.11748 | valid_accuracy: 0.26087 |  0:00:00s\n",
      "\n",
      "Early stopping occurred at epoch 14 with best_epoch = 4 and best_valid_accuracy = 0.47826\n",
      "평균 F1 Score: 0.5125\n",
      "\n",
      "현재 파라미터 조합: {'gamma': 1.3, 'lambda_sparse': 0.001, 'n_a': 16, 'n_d': 8, 'n_steps': 3, 'optimizer_params': {'lr': 0.02}}\n",
      "epoch 0  | loss: 1.57353 | valid_accuracy: 0.25    |  0:00:00s\n",
      "epoch 1  | loss: 1.38545 | valid_accuracy: 0.20833 |  0:00:00s\n",
      "epoch 2  | loss: 1.33705 | valid_accuracy: 0.33333 |  0:00:00s\n",
      "epoch 3  | loss: 1.23279 | valid_accuracy: 0.16667 |  0:00:00s\n"
     ]
    },
    {
     "name": "stderr",
     "output_type": "stream",
     "text": [
      "c:\\Users\\carly\\anaconda3\\envs\\dyspepsia_research\\lib\\site-packages\\pytorch_tabnet\\callbacks.py:172: UserWarning: Best weights from best epoch are automatically used!\n",
      "  warnings.warn(wrn_msg)\n",
      "c:\\Users\\carly\\anaconda3\\envs\\dyspepsia_research\\lib\\site-packages\\pytorch_tabnet\\abstract_model.py:82: UserWarning: Device used : cpu\n",
      "  warnings.warn(f\"Device used : {self.device}\")\n"
     ]
    },
    {
     "name": "stdout",
     "output_type": "stream",
     "text": [
      "epoch 4  | loss: 1.04944 | valid_accuracy: 0.375   |  0:00:00s\n",
      "epoch 5  | loss: 1.14519 | valid_accuracy: 0.33333 |  0:00:00s\n",
      "epoch 6  | loss: 0.89632 | valid_accuracy: 0.5     |  0:00:00s\n",
      "epoch 7  | loss: 0.83903 | valid_accuracy: 0.5     |  0:00:00s\n",
      "epoch 8  | loss: 0.79221 | valid_accuracy: 0.45833 |  0:00:00s\n",
      "epoch 9  | loss: 0.78757 | valid_accuracy: 0.58333 |  0:00:00s\n",
      "epoch 10 | loss: 0.71532 | valid_accuracy: 0.5     |  0:00:00s\n",
      "epoch 11 | loss: 0.67281 | valid_accuracy: 0.5     |  0:00:00s\n",
      "epoch 12 | loss: 0.7412  | valid_accuracy: 0.45833 |  0:00:00s\n",
      "epoch 13 | loss: 0.6721  | valid_accuracy: 0.41667 |  0:00:00s\n",
      "epoch 14 | loss: 0.58647 | valid_accuracy: 0.41667 |  0:00:00s\n",
      "epoch 15 | loss: 0.47416 | valid_accuracy: 0.45833 |  0:00:00s\n",
      "epoch 16 | loss: 0.41879 | valid_accuracy: 0.41667 |  0:00:00s\n",
      "epoch 17 | loss: 0.35416 | valid_accuracy: 0.45833 |  0:00:00s\n",
      "epoch 18 | loss: 0.3141  | valid_accuracy: 0.41667 |  0:00:00s\n",
      "epoch 19 | loss: 0.25466 | valid_accuracy: 0.33333 |  0:00:00s\n",
      "\n",
      "Early stopping occurred at epoch 19 with best_epoch = 9 and best_valid_accuracy = 0.58333\n",
      "epoch 0  | loss: 1.58809 | valid_accuracy: 0.21739 |  0:00:00s\n",
      "epoch 1  | loss: 1.52882 | valid_accuracy: 0.26087 |  0:00:00s\n",
      "epoch 2  | loss: 1.36116 | valid_accuracy: 0.30435 |  0:00:00s\n"
     ]
    },
    {
     "name": "stderr",
     "output_type": "stream",
     "text": [
      "c:\\Users\\carly\\anaconda3\\envs\\dyspepsia_research\\lib\\site-packages\\pytorch_tabnet\\callbacks.py:172: UserWarning: Best weights from best epoch are automatically used!\n",
      "  warnings.warn(wrn_msg)\n",
      "c:\\Users\\carly\\anaconda3\\envs\\dyspepsia_research\\lib\\site-packages\\pytorch_tabnet\\abstract_model.py:82: UserWarning: Device used : cpu\n",
      "  warnings.warn(f\"Device used : {self.device}\")\n"
     ]
    },
    {
     "name": "stdout",
     "output_type": "stream",
     "text": [
      "epoch 3  | loss: 1.28793 | valid_accuracy: 0.3913  |  0:00:00s\n",
      "epoch 4  | loss: 1.30372 | valid_accuracy: 0.3913  |  0:00:00s\n",
      "epoch 5  | loss: 1.18832 | valid_accuracy: 0.56522 |  0:00:00s\n",
      "epoch 6  | loss: 1.00583 | valid_accuracy: 0.26087 |  0:00:00s\n",
      "epoch 7  | loss: 1.16492 | valid_accuracy: 0.3913  |  0:00:00s\n",
      "epoch 8  | loss: 1.01368 | valid_accuracy: 0.47826 |  0:00:00s\n",
      "epoch 9  | loss: 0.93553 | valid_accuracy: 0.52174 |  0:00:00s\n",
      "epoch 10 | loss: 0.80995 | valid_accuracy: 0.43478 |  0:00:00s\n",
      "epoch 11 | loss: 0.79777 | valid_accuracy: 0.52174 |  0:00:00s\n",
      "epoch 12 | loss: 0.83106 | valid_accuracy: 0.3913  |  0:00:00s\n",
      "epoch 13 | loss: 0.78161 | valid_accuracy: 0.3913  |  0:00:00s\n",
      "epoch 14 | loss: 0.71085 | valid_accuracy: 0.43478 |  0:00:00s\n",
      "epoch 15 | loss: 0.63399 | valid_accuracy: 0.47826 |  0:00:00s\n",
      "\n",
      "Early stopping occurred at epoch 15 with best_epoch = 5 and best_valid_accuracy = 0.56522\n",
      "epoch 0  | loss: 1.37995 | valid_accuracy: 0.26087 |  0:00:00s\n",
      "epoch 1  | loss: 1.38404 | valid_accuracy: 0.30435 |  0:00:00s\n",
      "epoch 2  | loss: 1.29768 | valid_accuracy: 0.26087 |  0:00:00s\n"
     ]
    },
    {
     "name": "stderr",
     "output_type": "stream",
     "text": [
      "c:\\Users\\carly\\anaconda3\\envs\\dyspepsia_research\\lib\\site-packages\\pytorch_tabnet\\callbacks.py:172: UserWarning: Best weights from best epoch are automatically used!\n",
      "  warnings.warn(wrn_msg)\n",
      "c:\\Users\\carly\\anaconda3\\envs\\dyspepsia_research\\lib\\site-packages\\pytorch_tabnet\\abstract_model.py:82: UserWarning: Device used : cpu\n",
      "  warnings.warn(f\"Device used : {self.device}\")\n"
     ]
    },
    {
     "name": "stdout",
     "output_type": "stream",
     "text": [
      "epoch 3  | loss: 1.20579 | valid_accuracy: 0.26087 |  0:00:00s\n",
      "epoch 4  | loss: 1.02338 | valid_accuracy: 0.3913  |  0:00:00s\n",
      "epoch 5  | loss: 0.82637 | valid_accuracy: 0.6087  |  0:00:00s\n",
      "epoch 6  | loss: 0.82694 | valid_accuracy: 0.52174 |  0:00:00s\n",
      "epoch 7  | loss: 0.83696 | valid_accuracy: 0.6087  |  0:00:00s\n",
      "epoch 8  | loss: 0.73577 | valid_accuracy: 0.47826 |  0:00:00s\n",
      "epoch 9  | loss: 0.7446  | valid_accuracy: 0.56522 |  0:00:00s\n",
      "epoch 10 | loss: 0.67085 | valid_accuracy: 0.3913  |  0:00:00s\n",
      "epoch 11 | loss: 0.65547 | valid_accuracy: 0.34783 |  0:00:00s\n",
      "epoch 12 | loss: 0.56464 | valid_accuracy: 0.26087 |  0:00:00s\n",
      "epoch 13 | loss: 0.51848 | valid_accuracy: 0.34783 |  0:00:00s\n",
      "epoch 14 | loss: 0.49407 | valid_accuracy: 0.30435 |  0:00:00s\n",
      "epoch 15 | loss: 0.40237 | valid_accuracy: 0.43478 |  0:00:00s\n",
      "\n",
      "Early stopping occurred at epoch 15 with best_epoch = 5 and best_valid_accuracy = 0.6087\n",
      "평균 F1 Score: 0.5700\n",
      "\n",
      "현재 파라미터 조합: {'gamma': 1.3, 'lambda_sparse': 0.001, 'n_a': 16, 'n_d': 8, 'n_steps': 3, 'optimizer_params': {'lr': 0.01}}\n",
      "epoch 0  | loss: 1.57353 | valid_accuracy: 0.41667 |  0:00:00s\n",
      "epoch 1  | loss: 1.45652 | valid_accuracy: 0.25    |  0:00:00s\n",
      "epoch 2  | loss: 1.46551 | valid_accuracy: 0.16667 |  0:00:00s\n",
      "epoch 3  | loss: 1.25837 | valid_accuracy: 0.25    |  0:00:00s\n"
     ]
    },
    {
     "name": "stderr",
     "output_type": "stream",
     "text": [
      "c:\\Users\\carly\\anaconda3\\envs\\dyspepsia_research\\lib\\site-packages\\pytorch_tabnet\\callbacks.py:172: UserWarning: Best weights from best epoch are automatically used!\n",
      "  warnings.warn(wrn_msg)\n",
      "c:\\Users\\carly\\anaconda3\\envs\\dyspepsia_research\\lib\\site-packages\\pytorch_tabnet\\abstract_model.py:82: UserWarning: Device used : cpu\n",
      "  warnings.warn(f\"Device used : {self.device}\")\n"
     ]
    },
    {
     "name": "stdout",
     "output_type": "stream",
     "text": [
      "epoch 4  | loss: 1.05381 | valid_accuracy: 0.20833 |  0:00:00s\n",
      "epoch 5  | loss: 1.10626 | valid_accuracy: 0.29167 |  0:00:00s\n",
      "epoch 6  | loss: 1.04543 | valid_accuracy: 0.45833 |  0:00:00s\n",
      "epoch 7  | loss: 0.93636 | valid_accuracy: 0.20833 |  0:00:00s\n",
      "epoch 8  | loss: 1.07671 | valid_accuracy: 0.25    |  0:00:00s\n",
      "epoch 9  | loss: 1.01789 | valid_accuracy: 0.16667 |  0:00:00s\n",
      "epoch 10 | loss: 0.89152 | valid_accuracy: 0.54167 |  0:00:00s\n",
      "epoch 11 | loss: 0.8741  | valid_accuracy: 0.45833 |  0:00:00s\n",
      "epoch 12 | loss: 0.82811 | valid_accuracy: 0.5     |  0:00:00s\n",
      "epoch 13 | loss: 0.70172 | valid_accuracy: 0.5     |  0:00:00s\n",
      "epoch 14 | loss: 0.64035 | valid_accuracy: 0.41667 |  0:00:00s\n",
      "epoch 15 | loss: 0.72767 | valid_accuracy: 0.45833 |  0:00:00s\n",
      "epoch 16 | loss: 0.62218 | valid_accuracy: 0.375   |  0:00:00s\n",
      "epoch 17 | loss: 0.58868 | valid_accuracy: 0.41667 |  0:00:00s\n",
      "epoch 18 | loss: 0.54558 | valid_accuracy: 0.5     |  0:00:00s\n",
      "epoch 19 | loss: 0.47427 | valid_accuracy: 0.54167 |  0:00:00s\n",
      "epoch 20 | loss: 0.42791 | valid_accuracy: 0.41667 |  0:00:00s\n",
      "\n",
      "Early stopping occurred at epoch 20 with best_epoch = 10 and best_valid_accuracy = 0.54167\n",
      "epoch 0  | loss: 1.58809 | valid_accuracy: 0.26087 |  0:00:00s\n"
     ]
    },
    {
     "name": "stderr",
     "output_type": "stream",
     "text": [
      "c:\\Users\\carly\\anaconda3\\envs\\dyspepsia_research\\lib\\site-packages\\pytorch_tabnet\\callbacks.py:172: UserWarning: Best weights from best epoch are automatically used!\n",
      "  warnings.warn(wrn_msg)\n",
      "c:\\Users\\carly\\anaconda3\\envs\\dyspepsia_research\\lib\\site-packages\\pytorch_tabnet\\abstract_model.py:82: UserWarning: Device used : cpu\n",
      "  warnings.warn(f\"Device used : {self.device}\")\n"
     ]
    },
    {
     "name": "stdout",
     "output_type": "stream",
     "text": [
      "epoch 1  | loss: 1.51636 | valid_accuracy: 0.30435 |  0:00:00s\n",
      "epoch 2  | loss: 1.52119 | valid_accuracy: 0.47826 |  0:00:00s\n",
      "epoch 3  | loss: 1.24618 | valid_accuracy: 0.21739 |  0:00:00s\n",
      "epoch 4  | loss: 1.07987 | valid_accuracy: 0.30435 |  0:00:00s\n",
      "epoch 5  | loss: 1.10318 | valid_accuracy: 0.26087 |  0:00:00s\n",
      "epoch 6  | loss: 0.92769 | valid_accuracy: 0.26087 |  0:00:00s\n",
      "epoch 7  | loss: 0.96737 | valid_accuracy: 0.30435 |  0:00:00s\n",
      "epoch 8  | loss: 0.97212 | valid_accuracy: 0.34783 |  0:00:00s\n",
      "epoch 9  | loss: 0.88255 | valid_accuracy: 0.34783 |  0:00:00s\n",
      "epoch 10 | loss: 0.8261  | valid_accuracy: 0.43478 |  0:00:00s\n",
      "epoch 11 | loss: 0.78574 | valid_accuracy: 0.43478 |  0:00:00s\n",
      "epoch 12 | loss: 0.75685 | valid_accuracy: 0.3913  |  0:00:00s\n",
      "\n",
      "Early stopping occurred at epoch 12 with best_epoch = 2 and best_valid_accuracy = 0.47826\n"
     ]
    },
    {
     "name": "stderr",
     "output_type": "stream",
     "text": [
      "c:\\Users\\carly\\anaconda3\\envs\\dyspepsia_research\\lib\\site-packages\\pytorch_tabnet\\callbacks.py:172: UserWarning: Best weights from best epoch are automatically used!\n",
      "  warnings.warn(wrn_msg)\n",
      "c:\\Users\\carly\\anaconda3\\envs\\dyspepsia_research\\lib\\site-packages\\pytorch_tabnet\\abstract_model.py:82: UserWarning: Device used : cpu\n",
      "  warnings.warn(f\"Device used : {self.device}\")\n"
     ]
    },
    {
     "name": "stdout",
     "output_type": "stream",
     "text": [
      "epoch 0  | loss: 1.37995 | valid_accuracy: 0.26087 |  0:00:00s\n",
      "epoch 1  | loss: 1.4331  | valid_accuracy: 0.26087 |  0:00:00s\n",
      "epoch 2  | loss: 1.27317 | valid_accuracy: 0.21739 |  0:00:00s\n",
      "epoch 3  | loss: 1.13938 | valid_accuracy: 0.17391 |  0:00:00s\n",
      "epoch 4  | loss: 1.20778 | valid_accuracy: 0.13043 |  0:00:00s\n",
      "epoch 5  | loss: 1.14609 | valid_accuracy: 0.21739 |  0:00:00s\n",
      "epoch 6  | loss: 1.05454 | valid_accuracy: 0.13043 |  0:00:00s\n",
      "epoch 7  | loss: 1.14309 | valid_accuracy: 0.17391 |  0:00:00s\n",
      "epoch 8  | loss: 1.18185 | valid_accuracy: 0.21739 |  0:00:00s\n",
      "epoch 9  | loss: 1.07345 | valid_accuracy: 0.17391 |  0:00:00s\n",
      "epoch 10 | loss: 0.92927 | valid_accuracy: 0.30435 |  0:00:00s\n",
      "epoch 11 | loss: 0.89119 | valid_accuracy: 0.52174 |  0:00:00s\n",
      "epoch 12 | loss: 0.77991 | valid_accuracy: 0.47826 |  0:00:00s\n",
      "epoch 13 | loss: 0.77016 | valid_accuracy: 0.34783 |  0:00:00s\n",
      "epoch 14 | loss: 0.69669 | valid_accuracy: 0.34783 |  0:00:00s\n",
      "epoch 15 | loss: 0.61413 | valid_accuracy: 0.34783 |  0:00:00s\n",
      "epoch 16 | loss: 0.59799 | valid_accuracy: 0.30435 |  0:00:00s\n",
      "epoch 17 | loss: 0.4958  | valid_accuracy: 0.30435 |  0:00:00s\n",
      "epoch 18 | loss: 0.50709 | valid_accuracy: 0.30435 |  0:00:00s\n",
      "epoch 19 | loss: 0.5189  | valid_accuracy: 0.43478 |  0:00:00s\n",
      "epoch 20 | loss: 0.41339 | valid_accuracy: 0.34783 |  0:00:00s\n",
      "epoch 21 | loss: 0.36617 | valid_accuracy: 0.34783 |  0:00:00s\n",
      "\n",
      "Early stopping occurred at epoch 21 with best_epoch = 11 and best_valid_accuracy = 0.52174\n",
      "평균 F1 Score: 0.5076\n",
      "\n",
      "현재 파라미터 조합: {'gamma': 1.3, 'lambda_sparse': 0.001, 'n_a': 16, 'n_d': 8, 'n_steps': 5, 'optimizer_params': {'lr': 0.02}}\n"
     ]
    },
    {
     "name": "stderr",
     "output_type": "stream",
     "text": [
      "c:\\Users\\carly\\anaconda3\\envs\\dyspepsia_research\\lib\\site-packages\\pytorch_tabnet\\callbacks.py:172: UserWarning: Best weights from best epoch are automatically used!\n",
      "  warnings.warn(wrn_msg)\n",
      "c:\\Users\\carly\\anaconda3\\envs\\dyspepsia_research\\lib\\site-packages\\pytorch_tabnet\\abstract_model.py:82: UserWarning: Device used : cpu\n",
      "  warnings.warn(f\"Device used : {self.device}\")\n"
     ]
    },
    {
     "name": "stdout",
     "output_type": "stream",
     "text": [
      "epoch 0  | loss: 1.79016 | valid_accuracy: 0.5     |  0:00:00s\n",
      "epoch 1  | loss: 1.62157 | valid_accuracy: 0.33333 |  0:00:00s\n",
      "epoch 2  | loss: 1.44711 | valid_accuracy: 0.41667 |  0:00:00s\n",
      "epoch 3  | loss: 1.2096  | valid_accuracy: 0.41667 |  0:00:00s\n",
      "epoch 4  | loss: 1.34834 | valid_accuracy: 0.375   |  0:00:00s\n",
      "epoch 5  | loss: 1.33671 | valid_accuracy: 0.33333 |  0:00:00s\n",
      "epoch 6  | loss: 1.25281 | valid_accuracy: 0.29167 |  0:00:00s\n",
      "epoch 7  | loss: 1.06975 | valid_accuracy: 0.33333 |  0:00:00s\n",
      "epoch 8  | loss: 1.05516 | valid_accuracy: 0.33333 |  0:00:00s\n",
      "epoch 9  | loss: 0.9752  | valid_accuracy: 0.5     |  0:00:00s\n",
      "epoch 10 | loss: 1.05116 | valid_accuracy: 0.54167 |  0:00:00s\n",
      "epoch 11 | loss: 0.87915 | valid_accuracy: 0.66667 |  0:00:00s\n",
      "epoch 12 | loss: 0.98178 | valid_accuracy: 0.41667 |  0:00:00s\n",
      "epoch 13 | loss: 0.92952 | valid_accuracy: 0.33333 |  0:00:00s\n",
      "epoch 14 | loss: 0.99275 | valid_accuracy: 0.20833 |  0:00:00s\n",
      "epoch 15 | loss: 1.04619 | valid_accuracy: 0.25    |  0:00:00s\n",
      "epoch 16 | loss: 0.99322 | valid_accuracy: 0.25    |  0:00:01s\n",
      "epoch 17 | loss: 1.13613 | valid_accuracy: 0.375   |  0:00:01s\n",
      "epoch 18 | loss: 1.1965  | valid_accuracy: 0.33333 |  0:00:01s\n",
      "epoch 19 | loss: 1.05475 | valid_accuracy: 0.20833 |  0:00:01s\n",
      "epoch 20 | loss: 1.00698 | valid_accuracy: 0.25    |  0:00:01s\n",
      "epoch 21 | loss: 0.95964 | valid_accuracy: 0.29167 |  0:00:01s\n",
      "\n",
      "Early stopping occurred at epoch 21 with best_epoch = 11 and best_valid_accuracy = 0.66667\n",
      "epoch 0  | loss: 1.58184 | valid_accuracy: 0.43478 |  0:00:00s\n"
     ]
    },
    {
     "name": "stderr",
     "output_type": "stream",
     "text": [
      "c:\\Users\\carly\\anaconda3\\envs\\dyspepsia_research\\lib\\site-packages\\pytorch_tabnet\\callbacks.py:172: UserWarning: Best weights from best epoch are automatically used!\n",
      "  warnings.warn(wrn_msg)\n",
      "c:\\Users\\carly\\anaconda3\\envs\\dyspepsia_research\\lib\\site-packages\\pytorch_tabnet\\abstract_model.py:82: UserWarning: Device used : cpu\n",
      "  warnings.warn(f\"Device used : {self.device}\")\n"
     ]
    },
    {
     "name": "stdout",
     "output_type": "stream",
     "text": [
      "epoch 1  | loss: 1.36364 | valid_accuracy: 0.56522 |  0:00:00s\n",
      "epoch 2  | loss: 1.19223 | valid_accuracy: 0.47826 |  0:00:00s\n",
      "epoch 3  | loss: 1.22696 | valid_accuracy: 0.47826 |  0:00:00s\n",
      "epoch 4  | loss: 1.1594  | valid_accuracy: 0.6087  |  0:00:00s\n",
      "epoch 5  | loss: 1.21611 | valid_accuracy: 0.43478 |  0:00:00s\n",
      "epoch 6  | loss: 1.32316 | valid_accuracy: 0.26087 |  0:00:00s\n",
      "epoch 7  | loss: 1.3249  | valid_accuracy: 0.34783 |  0:00:00s\n",
      "epoch 8  | loss: 1.07109 | valid_accuracy: 0.43478 |  0:00:00s\n",
      "epoch 9  | loss: 1.18634 | valid_accuracy: 0.30435 |  0:00:00s\n",
      "epoch 10 | loss: 1.10775 | valid_accuracy: 0.30435 |  0:00:00s\n",
      "epoch 11 | loss: 1.12049 | valid_accuracy: 0.34783 |  0:00:00s\n",
      "epoch 12 | loss: 1.00537 | valid_accuracy: 0.52174 |  0:00:00s\n",
      "epoch 13 | loss: 1.09047 | valid_accuracy: 0.43478 |  0:00:00s\n",
      "epoch 14 | loss: 0.94034 | valid_accuracy: 0.43478 |  0:00:00s\n",
      "\n",
      "Early stopping occurred at epoch 14 with best_epoch = 4 and best_valid_accuracy = 0.6087\n"
     ]
    },
    {
     "name": "stderr",
     "output_type": "stream",
     "text": [
      "c:\\Users\\carly\\anaconda3\\envs\\dyspepsia_research\\lib\\site-packages\\pytorch_tabnet\\callbacks.py:172: UserWarning: Best weights from best epoch are automatically used!\n",
      "  warnings.warn(wrn_msg)\n",
      "c:\\Users\\carly\\anaconda3\\envs\\dyspepsia_research\\lib\\site-packages\\pytorch_tabnet\\abstract_model.py:82: UserWarning: Device used : cpu\n",
      "  warnings.warn(f\"Device used : {self.device}\")\n"
     ]
    },
    {
     "name": "stdout",
     "output_type": "stream",
     "text": [
      "epoch 0  | loss: 1.92629 | valid_accuracy: 0.43478 |  0:00:00s\n",
      "epoch 1  | loss: 1.77799 | valid_accuracy: 0.43478 |  0:00:00s\n",
      "epoch 2  | loss: 1.26161 | valid_accuracy: 0.3913  |  0:00:00s\n",
      "epoch 3  | loss: 1.40447 | valid_accuracy: 0.47826 |  0:00:00s\n",
      "epoch 4  | loss: 1.27663 | valid_accuracy: 0.43478 |  0:00:00s\n",
      "epoch 5  | loss: 1.145   | valid_accuracy: 0.56522 |  0:00:00s\n",
      "epoch 6  | loss: 1.21855 | valid_accuracy: 0.3913  |  0:00:00s\n",
      "epoch 7  | loss: 1.1443  | valid_accuracy: 0.3913  |  0:00:00s\n",
      "epoch 8  | loss: 1.29604 | valid_accuracy: 0.47826 |  0:00:00s\n",
      "epoch 9  | loss: 1.10344 | valid_accuracy: 0.30435 |  0:00:00s\n",
      "epoch 10 | loss: 1.01454 | valid_accuracy: 0.34783 |  0:00:00s\n",
      "epoch 11 | loss: 1.15253 | valid_accuracy: 0.17391 |  0:00:00s\n",
      "epoch 12 | loss: 0.99138 | valid_accuracy: 0.13043 |  0:00:00s\n",
      "epoch 13 | loss: 0.80965 | valid_accuracy: 0.30435 |  0:00:00s\n",
      "epoch 14 | loss: 0.73442 | valid_accuracy: 0.26087 |  0:00:00s\n",
      "epoch 15 | loss: 0.75395 | valid_accuracy: 0.34783 |  0:00:01s\n",
      "\n",
      "Early stopping occurred at epoch 15 with best_epoch = 5 and best_valid_accuracy = 0.56522\n"
     ]
    },
    {
     "name": "stderr",
     "output_type": "stream",
     "text": [
      "c:\\Users\\carly\\anaconda3\\envs\\dyspepsia_research\\lib\\site-packages\\pytorch_tabnet\\callbacks.py:172: UserWarning: Best weights from best epoch are automatically used!\n",
      "  warnings.warn(wrn_msg)\n",
      "c:\\Users\\carly\\anaconda3\\envs\\dyspepsia_research\\lib\\site-packages\\pytorch_tabnet\\abstract_model.py:82: UserWarning: Device used : cpu\n",
      "  warnings.warn(f\"Device used : {self.device}\")\n"
     ]
    },
    {
     "name": "stdout",
     "output_type": "stream",
     "text": [
      "평균 F1 Score: 0.6079\n",
      "\n",
      "현재 파라미터 조합: {'gamma': 1.3, 'lambda_sparse': 0.001, 'n_a': 16, 'n_d': 8, 'n_steps': 5, 'optimizer_params': {'lr': 0.01}}\n",
      "epoch 0  | loss: 1.79016 | valid_accuracy: 0.29167 |  0:00:00s\n",
      "epoch 1  | loss: 1.52103 | valid_accuracy: 0.54167 |  0:00:00s\n",
      "epoch 2  | loss: 1.31929 | valid_accuracy: 0.375   |  0:00:00s\n",
      "epoch 3  | loss: 1.13823 | valid_accuracy: 0.5     |  0:00:00s\n",
      "epoch 4  | loss: 1.38389 | valid_accuracy: 0.54167 |  0:00:00s\n",
      "epoch 5  | loss: 1.26782 | valid_accuracy: 0.625   |  0:00:00s\n",
      "epoch 6  | loss: 1.32939 | valid_accuracy: 0.58333 |  0:00:00s\n",
      "epoch 7  | loss: 1.42638 | valid_accuracy: 0.54167 |  0:00:00s\n",
      "epoch 8  | loss: 1.06109 | valid_accuracy: 0.41667 |  0:00:00s\n",
      "epoch 9  | loss: 1.08762 | valid_accuracy: 0.375   |  0:00:00s\n",
      "epoch 10 | loss: 1.06898 | valid_accuracy: 0.375   |  0:00:00s\n",
      "epoch 11 | loss: 1.0943  | valid_accuracy: 0.41667 |  0:00:00s\n",
      "epoch 12 | loss: 1.12073 | valid_accuracy: 0.20833 |  0:00:00s\n",
      "epoch 13 | loss: 1.22374 | valid_accuracy: 0.25    |  0:00:00s\n",
      "epoch 14 | loss: 1.16482 | valid_accuracy: 0.125   |  0:00:00s\n",
      "epoch 15 | loss: 1.11484 | valid_accuracy: 0.20833 |  0:00:01s\n",
      "\n",
      "Early stopping occurred at epoch 15 with best_epoch = 5 and best_valid_accuracy = 0.625\n",
      "epoch 0  | loss: 1.58184 | valid_accuracy: 0.52174 |  0:00:00s\n"
     ]
    },
    {
     "name": "stderr",
     "output_type": "stream",
     "text": [
      "c:\\Users\\carly\\anaconda3\\envs\\dyspepsia_research\\lib\\site-packages\\pytorch_tabnet\\callbacks.py:172: UserWarning: Best weights from best epoch are automatically used!\n",
      "  warnings.warn(wrn_msg)\n",
      "c:\\Users\\carly\\anaconda3\\envs\\dyspepsia_research\\lib\\site-packages\\pytorch_tabnet\\abstract_model.py:82: UserWarning: Device used : cpu\n",
      "  warnings.warn(f\"Device used : {self.device}\")\n"
     ]
    },
    {
     "name": "stdout",
     "output_type": "stream",
     "text": [
      "epoch 1  | loss: 1.46112 | valid_accuracy: 0.43478 |  0:00:00s\n",
      "epoch 2  | loss: 1.86008 | valid_accuracy: 0.43478 |  0:00:00s\n",
      "epoch 3  | loss: 1.53912 | valid_accuracy: 0.34783 |  0:00:00s\n",
      "epoch 4  | loss: 1.32233 | valid_accuracy: 0.34783 |  0:00:00s\n",
      "epoch 5  | loss: 1.31762 | valid_accuracy: 0.47826 |  0:00:00s\n",
      "epoch 6  | loss: 1.15468 | valid_accuracy: 0.43478 |  0:00:00s\n",
      "epoch 7  | loss: 1.5109  | valid_accuracy: 0.43478 |  0:00:00s\n",
      "epoch 8  | loss: 1.09483 | valid_accuracy: 0.43478 |  0:00:00s\n",
      "epoch 9  | loss: 1.05415 | valid_accuracy: 0.30435 |  0:00:00s\n",
      "epoch 10 | loss: 1.15663 | valid_accuracy: 0.34783 |  0:00:00s\n",
      "\n",
      "Early stopping occurred at epoch 10 with best_epoch = 0 and best_valid_accuracy = 0.52174\n",
      "epoch 0  | loss: 1.92629 | valid_accuracy: 0.56522 |  0:00:00s\n"
     ]
    },
    {
     "name": "stderr",
     "output_type": "stream",
     "text": [
      "c:\\Users\\carly\\anaconda3\\envs\\dyspepsia_research\\lib\\site-packages\\pytorch_tabnet\\callbacks.py:172: UserWarning: Best weights from best epoch are automatically used!\n",
      "  warnings.warn(wrn_msg)\n",
      "c:\\Users\\carly\\anaconda3\\envs\\dyspepsia_research\\lib\\site-packages\\pytorch_tabnet\\abstract_model.py:82: UserWarning: Device used : cpu\n",
      "  warnings.warn(f\"Device used : {self.device}\")\n"
     ]
    },
    {
     "name": "stdout",
     "output_type": "stream",
     "text": [
      "epoch 1  | loss: 1.4997  | valid_accuracy: 0.47826 |  0:00:00s\n",
      "epoch 2  | loss: 1.55987 | valid_accuracy: 0.47826 |  0:00:00s\n",
      "epoch 3  | loss: 1.18977 | valid_accuracy: 0.52174 |  0:00:00s\n",
      "epoch 4  | loss: 1.78232 | valid_accuracy: 0.30435 |  0:00:00s\n",
      "epoch 5  | loss: 1.57818 | valid_accuracy: 0.3913  |  0:00:00s\n",
      "epoch 6  | loss: 1.24397 | valid_accuracy: 0.43478 |  0:00:00s\n",
      "epoch 7  | loss: 1.52642 | valid_accuracy: 0.47826 |  0:00:00s\n",
      "epoch 8  | loss: 1.12599 | valid_accuracy: 0.17391 |  0:00:00s\n",
      "epoch 9  | loss: 1.22942 | valid_accuracy: 0.3913  |  0:00:00s\n",
      "epoch 10 | loss: 1.46497 | valid_accuracy: 0.26087 |  0:00:00s\n",
      "\n",
      "Early stopping occurred at epoch 10 with best_epoch = 0 and best_valid_accuracy = 0.56522\n",
      "평균 F1 Score: 0.5200\n",
      "\n",
      "현재 파라미터 조합: {'gamma': 1.3, 'lambda_sparse': 0.001, 'n_a': 16, 'n_d': 16, 'n_steps': 3, 'optimizer_params': {'lr': 0.02}}\n",
      "epoch 0  | loss: 2.1795  | valid_accuracy: 0.33333 |  0:00:00s\n"
     ]
    },
    {
     "name": "stderr",
     "output_type": "stream",
     "text": [
      "c:\\Users\\carly\\anaconda3\\envs\\dyspepsia_research\\lib\\site-packages\\pytorch_tabnet\\callbacks.py:172: UserWarning: Best weights from best epoch are automatically used!\n",
      "  warnings.warn(wrn_msg)\n",
      "c:\\Users\\carly\\anaconda3\\envs\\dyspepsia_research\\lib\\site-packages\\pytorch_tabnet\\abstract_model.py:82: UserWarning: Device used : cpu\n",
      "  warnings.warn(f\"Device used : {self.device}\")\n"
     ]
    },
    {
     "name": "stdout",
     "output_type": "stream",
     "text": [
      "epoch 1  | loss: 1.88319 | valid_accuracy: 0.45833 |  0:00:00s\n",
      "epoch 2  | loss: 1.17195 | valid_accuracy: 0.45833 |  0:00:00s\n",
      "epoch 3  | loss: 1.23017 | valid_accuracy: 0.33333 |  0:00:00s\n",
      "epoch 4  | loss: 1.25718 | valid_accuracy: 0.29167 |  0:00:00s\n",
      "epoch 5  | loss: 1.26123 | valid_accuracy: 0.33333 |  0:00:00s\n",
      "epoch 6  | loss: 1.01815 | valid_accuracy: 0.41667 |  0:00:00s\n",
      "epoch 7  | loss: 0.89832 | valid_accuracy: 0.41667 |  0:00:00s\n",
      "epoch 8  | loss: 0.73978 | valid_accuracy: 0.375   |  0:00:00s\n",
      "epoch 9  | loss: 0.87153 | valid_accuracy: 0.45833 |  0:00:00s\n",
      "epoch 10 | loss: 0.66667 | valid_accuracy: 0.54167 |  0:00:00s\n",
      "epoch 11 | loss: 0.50801 | valid_accuracy: 0.5     |  0:00:00s\n",
      "epoch 12 | loss: 0.56394 | valid_accuracy: 0.5     |  0:00:00s\n",
      "epoch 13 | loss: 0.50352 | valid_accuracy: 0.625   |  0:00:00s\n",
      "epoch 14 | loss: 0.42917 | valid_accuracy: 0.70833 |  0:00:00s\n",
      "epoch 15 | loss: 0.35842 | valid_accuracy: 0.70833 |  0:00:00s\n",
      "epoch 16 | loss: 0.25941 | valid_accuracy: 0.5     |  0:00:00s\n",
      "epoch 17 | loss: 0.20556 | valid_accuracy: 0.54167 |  0:00:00s\n",
      "epoch 18 | loss: 0.12946 | valid_accuracy: 0.66667 |  0:00:00s\n",
      "epoch 19 | loss: 0.09689 | valid_accuracy: 0.66667 |  0:00:00s\n",
      "epoch 20 | loss: 0.06341 | valid_accuracy: 0.54167 |  0:00:00s\n",
      "epoch 21 | loss: 0.03814 | valid_accuracy: 0.45833 |  0:00:00s\n",
      "epoch 22 | loss: 0.04342 | valid_accuracy: 0.58333 |  0:00:00s\n",
      "epoch 23 | loss: 0.02533 | valid_accuracy: 0.5     |  0:00:01s\n",
      "epoch 24 | loss: 0.01273 | valid_accuracy: 0.5     |  0:00:01s\n",
      "\n",
      "Early stopping occurred at epoch 24 with best_epoch = 14 and best_valid_accuracy = 0.70833\n",
      "epoch 0  | loss: 2.05574 | valid_accuracy: 0.21739 |  0:00:00s\n"
     ]
    },
    {
     "name": "stderr",
     "output_type": "stream",
     "text": [
      "c:\\Users\\carly\\anaconda3\\envs\\dyspepsia_research\\lib\\site-packages\\pytorch_tabnet\\callbacks.py:172: UserWarning: Best weights from best epoch are automatically used!\n",
      "  warnings.warn(wrn_msg)\n",
      "c:\\Users\\carly\\anaconda3\\envs\\dyspepsia_research\\lib\\site-packages\\pytorch_tabnet\\abstract_model.py:82: UserWarning: Device used : cpu\n",
      "  warnings.warn(f\"Device used : {self.device}\")\n"
     ]
    },
    {
     "name": "stdout",
     "output_type": "stream",
     "text": [
      "epoch 1  | loss: 1.49849 | valid_accuracy: 0.30435 |  0:00:00s\n",
      "epoch 2  | loss: 1.10969 | valid_accuracy: 0.3913  |  0:00:00s\n",
      "epoch 3  | loss: 1.03148 | valid_accuracy: 0.52174 |  0:00:00s\n",
      "epoch 4  | loss: 0.91213 | valid_accuracy: 0.43478 |  0:00:00s\n",
      "epoch 5  | loss: 0.73701 | valid_accuracy: 0.34783 |  0:00:00s\n",
      "epoch 6  | loss: 0.66604 | valid_accuracy: 0.52174 |  0:00:00s\n",
      "epoch 7  | loss: 0.71914 | valid_accuracy: 0.21739 |  0:00:00s\n",
      "epoch 8  | loss: 0.75609 | valid_accuracy: 0.34783 |  0:00:00s\n",
      "epoch 9  | loss: 0.70337 | valid_accuracy: 0.30435 |  0:00:00s\n",
      "epoch 10 | loss: 0.54152 | valid_accuracy: 0.43478 |  0:00:00s\n",
      "epoch 11 | loss: 0.4182  | valid_accuracy: 0.43478 |  0:00:00s\n",
      "epoch 12 | loss: 0.37381 | valid_accuracy: 0.26087 |  0:00:00s\n",
      "epoch 13 | loss: 0.27154 | valid_accuracy: 0.3913  |  0:00:00s\n",
      "\n",
      "Early stopping occurred at epoch 13 with best_epoch = 3 and best_valid_accuracy = 0.52174\n",
      "epoch 0  | loss: 1.96993 | valid_accuracy: 0.30435 |  0:00:00s\n"
     ]
    },
    {
     "name": "stderr",
     "output_type": "stream",
     "text": [
      "c:\\Users\\carly\\anaconda3\\envs\\dyspepsia_research\\lib\\site-packages\\pytorch_tabnet\\callbacks.py:172: UserWarning: Best weights from best epoch are automatically used!\n",
      "  warnings.warn(wrn_msg)\n",
      "c:\\Users\\carly\\anaconda3\\envs\\dyspepsia_research\\lib\\site-packages\\pytorch_tabnet\\abstract_model.py:82: UserWarning: Device used : cpu\n",
      "  warnings.warn(f\"Device used : {self.device}\")\n"
     ]
    },
    {
     "name": "stdout",
     "output_type": "stream",
     "text": [
      "epoch 1  | loss: 1.86782 | valid_accuracy: 0.34783 |  0:00:00s\n",
      "epoch 2  | loss: 1.67439 | valid_accuracy: 0.34783 |  0:00:00s\n",
      "epoch 3  | loss: 1.28551 | valid_accuracy: 0.30435 |  0:00:00s\n",
      "epoch 4  | loss: 1.11451 | valid_accuracy: 0.3913  |  0:00:00s\n",
      "epoch 5  | loss: 1.26508 | valid_accuracy: 0.47826 |  0:00:00s\n",
      "epoch 6  | loss: 1.18691 | valid_accuracy: 0.30435 |  0:00:00s\n",
      "epoch 7  | loss: 0.93145 | valid_accuracy: 0.47826 |  0:00:00s\n",
      "epoch 8  | loss: 1.12767 | valid_accuracy: 0.52174 |  0:00:00s\n",
      "epoch 9  | loss: 0.96501 | valid_accuracy: 0.47826 |  0:00:00s\n",
      "epoch 10 | loss: 0.96764 | valid_accuracy: 0.52174 |  0:00:00s\n",
      "epoch 11 | loss: 0.70089 | valid_accuracy: 0.56522 |  0:00:00s\n",
      "epoch 12 | loss: 0.63181 | valid_accuracy: 0.43478 |  0:00:00s\n",
      "epoch 13 | loss: 0.54657 | valid_accuracy: 0.3913  |  0:00:00s\n",
      "epoch 14 | loss: 0.45293 | valid_accuracy: 0.30435 |  0:00:00s\n",
      "epoch 15 | loss: 0.47301 | valid_accuracy: 0.34783 |  0:00:00s\n",
      "epoch 16 | loss: 0.41756 | valid_accuracy: 0.30435 |  0:00:00s\n",
      "epoch 17 | loss: 0.38073 | valid_accuracy: 0.30435 |  0:00:00s\n",
      "epoch 18 | loss: 0.29532 | valid_accuracy: 0.30435 |  0:00:00s\n",
      "epoch 19 | loss: 0.22675 | valid_accuracy: 0.34783 |  0:00:00s\n",
      "epoch 20 | loss: 0.22463 | valid_accuracy: 0.3913  |  0:00:00s\n",
      "epoch 21 | loss: 0.20842 | valid_accuracy: 0.3913  |  0:00:00s\n",
      "\n",
      "Early stopping occurred at epoch 21 with best_epoch = 11 and best_valid_accuracy = 0.56522\n",
      "평균 F1 Score: 0.5804\n",
      "\n",
      "현재 파라미터 조합: {'gamma': 1.3, 'lambda_sparse': 0.001, 'n_a': 16, 'n_d': 16, 'n_steps': 3, 'optimizer_params': {'lr': 0.01}}\n",
      "epoch 0  | loss: 2.1795  | valid_accuracy: 0.16667 |  0:00:00s\n",
      "epoch 1  | loss: 1.79723 | valid_accuracy: 0.33333 |  0:00:00s\n"
     ]
    },
    {
     "name": "stderr",
     "output_type": "stream",
     "text": [
      "c:\\Users\\carly\\anaconda3\\envs\\dyspepsia_research\\lib\\site-packages\\pytorch_tabnet\\callbacks.py:172: UserWarning: Best weights from best epoch are automatically used!\n",
      "  warnings.warn(wrn_msg)\n",
      "c:\\Users\\carly\\anaconda3\\envs\\dyspepsia_research\\lib\\site-packages\\pytorch_tabnet\\abstract_model.py:82: UserWarning: Device used : cpu\n",
      "  warnings.warn(f\"Device used : {self.device}\")\n"
     ]
    },
    {
     "name": "stdout",
     "output_type": "stream",
     "text": [
      "epoch 2  | loss: 1.63913 | valid_accuracy: 0.375   |  0:00:00s\n",
      "epoch 3  | loss: 1.24066 | valid_accuracy: 0.45833 |  0:00:00s\n",
      "epoch 4  | loss: 1.27107 | valid_accuracy: 0.45833 |  0:00:00s\n",
      "epoch 5  | loss: 1.1238  | valid_accuracy: 0.54167 |  0:00:00s\n",
      "epoch 6  | loss: 0.96105 | valid_accuracy: 0.5     |  0:00:00s\n",
      "epoch 7  | loss: 1.0422  | valid_accuracy: 0.5     |  0:00:00s\n",
      "epoch 8  | loss: 0.72872 | valid_accuracy: 0.58333 |  0:00:00s\n",
      "epoch 9  | loss: 0.82172 | valid_accuracy: 0.58333 |  0:00:00s\n",
      "epoch 10 | loss: 0.684   | valid_accuracy: 0.58333 |  0:00:00s\n",
      "epoch 11 | loss: 0.85682 | valid_accuracy: 0.58333 |  0:00:00s\n",
      "epoch 12 | loss: 0.75503 | valid_accuracy: 0.41667 |  0:00:00s\n",
      "epoch 13 | loss: 0.75324 | valid_accuracy: 0.41667 |  0:00:00s\n",
      "epoch 14 | loss: 0.59843 | valid_accuracy: 0.5     |  0:00:00s\n",
      "epoch 15 | loss: 0.52438 | valid_accuracy: 0.5     |  0:00:00s\n",
      "epoch 16 | loss: 0.48638 | valid_accuracy: 0.375   |  0:00:00s\n",
      "epoch 17 | loss: 0.37209 | valid_accuracy: 0.375   |  0:00:00s\n",
      "epoch 18 | loss: 0.32929 | valid_accuracy: 0.41667 |  0:00:00s\n",
      "\n",
      "Early stopping occurred at epoch 18 with best_epoch = 8 and best_valid_accuracy = 0.58333\n"
     ]
    },
    {
     "name": "stderr",
     "output_type": "stream",
     "text": [
      "c:\\Users\\carly\\anaconda3\\envs\\dyspepsia_research\\lib\\site-packages\\pytorch_tabnet\\callbacks.py:172: UserWarning: Best weights from best epoch are automatically used!\n",
      "  warnings.warn(wrn_msg)\n",
      "c:\\Users\\carly\\anaconda3\\envs\\dyspepsia_research\\lib\\site-packages\\pytorch_tabnet\\abstract_model.py:82: UserWarning: Device used : cpu\n",
      "  warnings.warn(f\"Device used : {self.device}\")\n"
     ]
    },
    {
     "name": "stdout",
     "output_type": "stream",
     "text": [
      "epoch 0  | loss: 2.05574 | valid_accuracy: 0.34783 |  0:00:00s\n",
      "epoch 1  | loss: 1.81976 | valid_accuracy: 0.21739 |  0:00:00s\n",
      "epoch 2  | loss: 1.40301 | valid_accuracy: 0.30435 |  0:00:00s\n",
      "epoch 3  | loss: 1.27338 | valid_accuracy: 0.26087 |  0:00:00s\n",
      "epoch 4  | loss: 1.12854 | valid_accuracy: 0.34783 |  0:00:00s\n",
      "epoch 5  | loss: 1.03471 | valid_accuracy: 0.26087 |  0:00:00s\n",
      "epoch 6  | loss: 0.857   | valid_accuracy: 0.26087 |  0:00:00s\n",
      "epoch 7  | loss: 0.82607 | valid_accuracy: 0.26087 |  0:00:00s\n",
      "epoch 8  | loss: 0.58694 | valid_accuracy: 0.30435 |  0:00:00s\n",
      "epoch 9  | loss: 0.55243 | valid_accuracy: 0.30435 |  0:00:00s\n",
      "epoch 10 | loss: 0.41573 | valid_accuracy: 0.43478 |  0:00:00s\n",
      "epoch 11 | loss: 0.3947  | valid_accuracy: 0.30435 |  0:00:00s\n",
      "epoch 12 | loss: 0.47144 | valid_accuracy: 0.30435 |  0:00:00s\n",
      "epoch 13 | loss: 0.36772 | valid_accuracy: 0.3913  |  0:00:00s\n",
      "epoch 14 | loss: 0.25213 | valid_accuracy: 0.3913  |  0:00:00s\n",
      "epoch 15 | loss: 0.22648 | valid_accuracy: 0.30435 |  0:00:00s\n",
      "epoch 16 | loss: 0.2286  | valid_accuracy: 0.3913  |  0:00:00s\n",
      "epoch 17 | loss: 0.18072 | valid_accuracy: 0.43478 |  0:00:00s\n",
      "epoch 18 | loss: 0.13356 | valid_accuracy: 0.52174 |  0:00:00s\n",
      "epoch 19 | loss: 0.1873  | valid_accuracy: 0.52174 |  0:00:00s\n",
      "epoch 20 | loss: 0.25372 | valid_accuracy: 0.52174 |  0:00:00s\n",
      "epoch 21 | loss: 0.15913 | valid_accuracy: 0.47826 |  0:00:00s\n",
      "epoch 22 | loss: 0.07845 | valid_accuracy: 0.43478 |  0:00:00s\n",
      "epoch 23 | loss: 0.10847 | valid_accuracy: 0.56522 |  0:00:00s\n",
      "epoch 24 | loss: 0.09407 | valid_accuracy: 0.52174 |  0:00:01s\n",
      "epoch 25 | loss: 0.08281 | valid_accuracy: 0.47826 |  0:00:01s\n",
      "epoch 26 | loss: 0.07051 | valid_accuracy: 0.47826 |  0:00:01s\n",
      "epoch 27 | loss: 0.05002 | valid_accuracy: 0.47826 |  0:00:01s\n",
      "epoch 28 | loss: 0.04006 | valid_accuracy: 0.56522 |  0:00:01s\n",
      "epoch 29 | loss: 0.02477 | valid_accuracy: 0.52174 |  0:00:01s\n",
      "epoch 30 | loss: 0.0201  | valid_accuracy: 0.43478 |  0:00:01s\n",
      "epoch 31 | loss: 0.01676 | valid_accuracy: 0.47826 |  0:00:01s\n",
      "epoch 32 | loss: 0.01228 | valid_accuracy: 0.3913  |  0:00:01s\n",
      "epoch 33 | loss: 0.00986 | valid_accuracy: 0.47826 |  0:00:01s\n",
      "\n",
      "Early stopping occurred at epoch 33 with best_epoch = 23 and best_valid_accuracy = 0.56522\n",
      "epoch 0  | loss: 1.96993 | valid_accuracy: 0.34783 |  0:00:00s\n",
      "epoch 1  | loss: 2.00555 | valid_accuracy: 0.34783 |  0:00:00s\n",
      "epoch 2  | loss: 1.52474 | valid_accuracy: 0.47826 |  0:00:00s\n"
     ]
    },
    {
     "name": "stderr",
     "output_type": "stream",
     "text": [
      "c:\\Users\\carly\\anaconda3\\envs\\dyspepsia_research\\lib\\site-packages\\pytorch_tabnet\\callbacks.py:172: UserWarning: Best weights from best epoch are automatically used!\n",
      "  warnings.warn(wrn_msg)\n",
      "c:\\Users\\carly\\anaconda3\\envs\\dyspepsia_research\\lib\\site-packages\\pytorch_tabnet\\abstract_model.py:82: UserWarning: Device used : cpu\n",
      "  warnings.warn(f\"Device used : {self.device}\")\n"
     ]
    },
    {
     "name": "stdout",
     "output_type": "stream",
     "text": [
      "epoch 3  | loss: 1.44187 | valid_accuracy: 0.52174 |  0:00:00s\n",
      "epoch 4  | loss: 1.30706 | valid_accuracy: 0.6087  |  0:00:00s\n",
      "epoch 5  | loss: 0.97378 | valid_accuracy: 0.47826 |  0:00:00s\n",
      "epoch 6  | loss: 0.96016 | valid_accuracy: 0.52174 |  0:00:00s\n",
      "epoch 7  | loss: 0.89218 | valid_accuracy: 0.56522 |  0:00:00s\n",
      "epoch 8  | loss: 0.84761 | valid_accuracy: 0.6087  |  0:00:00s\n",
      "epoch 9  | loss: 0.76578 | valid_accuracy: 0.3913  |  0:00:00s\n",
      "epoch 10 | loss: 0.74149 | valid_accuracy: 0.34783 |  0:00:00s\n",
      "epoch 11 | loss: 0.72844 | valid_accuracy: 0.34783 |  0:00:00s\n",
      "epoch 12 | loss: 0.62958 | valid_accuracy: 0.30435 |  0:00:00s\n",
      "epoch 13 | loss: 0.52889 | valid_accuracy: 0.43478 |  0:00:00s\n",
      "epoch 14 | loss: 0.4914  | valid_accuracy: 0.52174 |  0:00:00s\n",
      "\n",
      "Early stopping occurred at epoch 14 with best_epoch = 4 and best_valid_accuracy = 0.6087\n",
      "평균 F1 Score: 0.5490\n",
      "\n",
      "현재 파라미터 조합: {'gamma': 1.3, 'lambda_sparse': 0.001, 'n_a': 16, 'n_d': 16, 'n_steps': 5, 'optimizer_params': {'lr': 0.02}}\n",
      "epoch 0  | loss: 3.28281 | valid_accuracy: 0.41667 |  0:00:00s\n",
      "epoch 1  | loss: 2.78111 | valid_accuracy: 0.33333 |  0:00:00s\n"
     ]
    },
    {
     "name": "stderr",
     "output_type": "stream",
     "text": [
      "c:\\Users\\carly\\anaconda3\\envs\\dyspepsia_research\\lib\\site-packages\\pytorch_tabnet\\callbacks.py:172: UserWarning: Best weights from best epoch are automatically used!\n",
      "  warnings.warn(wrn_msg)\n",
      "c:\\Users\\carly\\anaconda3\\envs\\dyspepsia_research\\lib\\site-packages\\pytorch_tabnet\\abstract_model.py:82: UserWarning: Device used : cpu\n",
      "  warnings.warn(f\"Device used : {self.device}\")\n"
     ]
    },
    {
     "name": "stdout",
     "output_type": "stream",
     "text": [
      "epoch 2  | loss: 2.49293 | valid_accuracy: 0.29167 |  0:00:00s\n",
      "epoch 3  | loss: 1.69786 | valid_accuracy: 0.41667 |  0:00:00s\n",
      "epoch 4  | loss: 1.40269 | valid_accuracy: 0.41667 |  0:00:00s\n",
      "epoch 5  | loss: 1.24271 | valid_accuracy: 0.45833 |  0:00:00s\n",
      "epoch 6  | loss: 1.03677 | valid_accuracy: 0.5     |  0:00:00s\n",
      "epoch 7  | loss: 1.02064 | valid_accuracy: 0.41667 |  0:00:00s\n",
      "epoch 8  | loss: 1.06257 | valid_accuracy: 0.41667 |  0:00:00s\n",
      "epoch 9  | loss: 1.0311  | valid_accuracy: 0.41667 |  0:00:00s\n",
      "epoch 10 | loss: 0.9419  | valid_accuracy: 0.33333 |  0:00:00s\n",
      "epoch 11 | loss: 1.02756 | valid_accuracy: 0.33333 |  0:00:00s\n",
      "epoch 12 | loss: 0.9572  | valid_accuracy: 0.45833 |  0:00:00s\n",
      "epoch 13 | loss: 0.95432 | valid_accuracy: 0.29167 |  0:00:00s\n",
      "epoch 14 | loss: 0.7851  | valid_accuracy: 0.45833 |  0:00:00s\n",
      "epoch 15 | loss: 0.74147 | valid_accuracy: 0.45833 |  0:00:00s\n",
      "epoch 16 | loss: 0.76404 | valid_accuracy: 0.375   |  0:00:01s\n",
      "\n",
      "Early stopping occurred at epoch 16 with best_epoch = 6 and best_valid_accuracy = 0.5\n"
     ]
    },
    {
     "name": "stderr",
     "output_type": "stream",
     "text": [
      "c:\\Users\\carly\\anaconda3\\envs\\dyspepsia_research\\lib\\site-packages\\pytorch_tabnet\\callbacks.py:172: UserWarning: Best weights from best epoch are automatically used!\n",
      "  warnings.warn(wrn_msg)\n",
      "c:\\Users\\carly\\anaconda3\\envs\\dyspepsia_research\\lib\\site-packages\\pytorch_tabnet\\abstract_model.py:82: UserWarning: Device used : cpu\n",
      "  warnings.warn(f\"Device used : {self.device}\")\n"
     ]
    },
    {
     "name": "stdout",
     "output_type": "stream",
     "text": [
      "epoch 0  | loss: 3.25189 | valid_accuracy: 0.30435 |  0:00:00s\n",
      "epoch 1  | loss: 2.76288 | valid_accuracy: 0.21739 |  0:00:00s\n",
      "epoch 2  | loss: 2.19868 | valid_accuracy: 0.08696 |  0:00:00s\n",
      "epoch 3  | loss: 1.91778 | valid_accuracy: 0.34783 |  0:00:00s\n",
      "epoch 4  | loss: 1.85749 | valid_accuracy: 0.26087 |  0:00:00s\n",
      "epoch 5  | loss: 1.33031 | valid_accuracy: 0.26087 |  0:00:00s\n",
      "epoch 6  | loss: 1.12461 | valid_accuracy: 0.30435 |  0:00:00s\n",
      "epoch 7  | loss: 1.2256  | valid_accuracy: 0.3913  |  0:00:00s\n",
      "epoch 8  | loss: 1.39503 | valid_accuracy: 0.6087  |  0:00:00s\n",
      "epoch 9  | loss: 1.42541 | valid_accuracy: 0.56522 |  0:00:00s\n",
      "epoch 10 | loss: 1.32595 | valid_accuracy: 0.65217 |  0:00:00s\n",
      "epoch 11 | loss: 1.13249 | valid_accuracy: 0.65217 |  0:00:00s\n",
      "epoch 12 | loss: 1.10676 | valid_accuracy: 0.52174 |  0:00:00s\n",
      "epoch 13 | loss: 1.06626 | valid_accuracy: 0.47826 |  0:00:00s\n",
      "epoch 14 | loss: 1.08305 | valid_accuracy: 0.3913  |  0:00:00s\n",
      "epoch 15 | loss: 1.03432 | valid_accuracy: 0.30435 |  0:00:01s\n",
      "epoch 16 | loss: 1.01687 | valid_accuracy: 0.34783 |  0:00:01s\n",
      "epoch 17 | loss: 0.89249 | valid_accuracy: 0.26087 |  0:00:01s\n",
      "epoch 18 | loss: 0.8559  | valid_accuracy: 0.34783 |  0:00:01s\n",
      "epoch 19 | loss: 0.77734 | valid_accuracy: 0.34783 |  0:00:01s\n",
      "epoch 20 | loss: 0.98694 | valid_accuracy: 0.3913  |  0:00:01s\n",
      "\n",
      "Early stopping occurred at epoch 20 with best_epoch = 10 and best_valid_accuracy = 0.65217\n",
      "epoch 0  | loss: 3.39035 | valid_accuracy: 0.17391 |  0:00:00s\n",
      "epoch 1  | loss: 2.90216 | valid_accuracy: 0.34783 |  0:00:00s\n"
     ]
    },
    {
     "name": "stderr",
     "output_type": "stream",
     "text": [
      "c:\\Users\\carly\\anaconda3\\envs\\dyspepsia_research\\lib\\site-packages\\pytorch_tabnet\\callbacks.py:172: UserWarning: Best weights from best epoch are automatically used!\n",
      "  warnings.warn(wrn_msg)\n",
      "c:\\Users\\carly\\anaconda3\\envs\\dyspepsia_research\\lib\\site-packages\\pytorch_tabnet\\abstract_model.py:82: UserWarning: Device used : cpu\n",
      "  warnings.warn(f\"Device used : {self.device}\")\n"
     ]
    },
    {
     "name": "stdout",
     "output_type": "stream",
     "text": [
      "epoch 2  | loss: 2.41925 | valid_accuracy: 0.30435 |  0:00:00s\n",
      "epoch 3  | loss: 1.71518 | valid_accuracy: 0.17391 |  0:00:00s\n",
      "epoch 4  | loss: 1.69048 | valid_accuracy: 0.34783 |  0:00:00s\n",
      "epoch 5  | loss: 1.63078 | valid_accuracy: 0.3913  |  0:00:00s\n",
      "epoch 6  | loss: 1.35497 | valid_accuracy: 0.43478 |  0:00:00s\n",
      "epoch 7  | loss: 1.59401 | valid_accuracy: 0.43478 |  0:00:00s\n",
      "epoch 8  | loss: 1.52609 | valid_accuracy: 0.43478 |  0:00:00s\n",
      "epoch 9  | loss: 1.35957 | valid_accuracy: 0.3913  |  0:00:00s\n",
      "epoch 10 | loss: 1.42614 | valid_accuracy: 0.43478 |  0:00:00s\n",
      "epoch 11 | loss: 1.49245 | valid_accuracy: 0.3913  |  0:00:00s\n",
      "epoch 12 | loss: 1.14068 | valid_accuracy: 0.3913  |  0:00:00s\n",
      "epoch 13 | loss: 1.0851  | valid_accuracy: 0.43478 |  0:00:00s\n",
      "epoch 14 | loss: 1.01082 | valid_accuracy: 0.3913  |  0:00:00s\n",
      "epoch 15 | loss: 0.97314 | valid_accuracy: 0.3913  |  0:00:01s\n",
      "epoch 16 | loss: 0.95185 | valid_accuracy: 0.34783 |  0:00:01s\n",
      "\n",
      "Early stopping occurred at epoch 16 with best_epoch = 6 and best_valid_accuracy = 0.43478\n",
      "평균 F1 Score: 0.5121\n",
      "\n",
      "현재 파라미터 조합: {'gamma': 1.3, 'lambda_sparse': 0.001, 'n_a': 16, 'n_d': 16, 'n_steps': 5, 'optimizer_params': {'lr': 0.01}}\n"
     ]
    },
    {
     "name": "stderr",
     "output_type": "stream",
     "text": [
      "c:\\Users\\carly\\anaconda3\\envs\\dyspepsia_research\\lib\\site-packages\\pytorch_tabnet\\callbacks.py:172: UserWarning: Best weights from best epoch are automatically used!\n",
      "  warnings.warn(wrn_msg)\n",
      "c:\\Users\\carly\\anaconda3\\envs\\dyspepsia_research\\lib\\site-packages\\pytorch_tabnet\\abstract_model.py:82: UserWarning: Device used : cpu\n",
      "  warnings.warn(f\"Device used : {self.device}\")\n"
     ]
    },
    {
     "name": "stdout",
     "output_type": "stream",
     "text": [
      "epoch 0  | loss: 3.28281 | valid_accuracy: 0.375   |  0:00:00s\n",
      "epoch 1  | loss: 2.97327 | valid_accuracy: 0.29167 |  0:00:00s\n",
      "epoch 2  | loss: 2.71354 | valid_accuracy: 0.20833 |  0:00:00s\n",
      "epoch 3  | loss: 2.52825 | valid_accuracy: 0.20833 |  0:00:00s\n",
      "epoch 4  | loss: 2.2385  | valid_accuracy: 0.29167 |  0:00:00s\n",
      "epoch 5  | loss: 1.86287 | valid_accuracy: 0.29167 |  0:00:00s\n",
      "epoch 6  | loss: 1.68656 | valid_accuracy: 0.29167 |  0:00:00s\n",
      "epoch 7  | loss: 1.39765 | valid_accuracy: 0.33333 |  0:00:00s\n",
      "epoch 8  | loss: 1.35137 | valid_accuracy: 0.125   |  0:00:00s\n",
      "epoch 9  | loss: 1.25359 | valid_accuracy: 0.29167 |  0:00:00s\n",
      "epoch 10 | loss: 1.16057 | valid_accuracy: 0.25    |  0:00:00s\n",
      "\n",
      "Early stopping occurred at epoch 10 with best_epoch = 0 and best_valid_accuracy = 0.375\n"
     ]
    },
    {
     "name": "stderr",
     "output_type": "stream",
     "text": [
      "c:\\Users\\carly\\anaconda3\\envs\\dyspepsia_research\\lib\\site-packages\\pytorch_tabnet\\callbacks.py:172: UserWarning: Best weights from best epoch are automatically used!\n",
      "  warnings.warn(wrn_msg)\n",
      "c:\\Users\\carly\\anaconda3\\envs\\dyspepsia_research\\lib\\site-packages\\pytorch_tabnet\\abstract_model.py:82: UserWarning: Device used : cpu\n",
      "  warnings.warn(f\"Device used : {self.device}\")\n"
     ]
    },
    {
     "name": "stdout",
     "output_type": "stream",
     "text": [
      "epoch 0  | loss: 3.25189 | valid_accuracy: 0.17391 |  0:00:00s\n",
      "epoch 1  | loss: 3.05715 | valid_accuracy: 0.13043 |  0:00:00s\n",
      "epoch 2  | loss: 2.92566 | valid_accuracy: 0.21739 |  0:00:00s\n",
      "epoch 3  | loss: 2.42639 | valid_accuracy: 0.21739 |  0:00:00s\n",
      "epoch 4  | loss: 2.59765 | valid_accuracy: 0.26087 |  0:00:00s\n",
      "epoch 5  | loss: 2.11109 | valid_accuracy: 0.26087 |  0:00:00s\n",
      "epoch 6  | loss: 1.52529 | valid_accuracy: 0.08696 |  0:00:00s\n",
      "epoch 7  | loss: 1.81219 | valid_accuracy: 0.13043 |  0:00:00s\n",
      "epoch 8  | loss: 1.253   | valid_accuracy: 0.26087 |  0:00:00s\n",
      "epoch 9  | loss: 1.1693  | valid_accuracy: 0.34783 |  0:00:00s\n",
      "epoch 10 | loss: 1.3221  | valid_accuracy: 0.34783 |  0:00:00s\n",
      "epoch 11 | loss: 1.34362 | valid_accuracy: 0.43478 |  0:00:00s\n",
      "epoch 12 | loss: 1.17607 | valid_accuracy: 0.47826 |  0:00:00s\n",
      "epoch 13 | loss: 1.08217 | valid_accuracy: 0.56522 |  0:00:00s\n",
      "epoch 14 | loss: 1.26524 | valid_accuracy: 0.47826 |  0:00:00s\n",
      "epoch 15 | loss: 1.08458 | valid_accuracy: 0.47826 |  0:00:01s\n",
      "epoch 16 | loss: 1.23718 | valid_accuracy: 0.52174 |  0:00:01s\n",
      "epoch 17 | loss: 1.31068 | valid_accuracy: 0.56522 |  0:00:01s\n",
      "epoch 18 | loss: 1.01667 | valid_accuracy: 0.47826 |  0:00:01s\n",
      "epoch 19 | loss: 1.0708  | valid_accuracy: 0.47826 |  0:00:01s\n",
      "epoch 20 | loss: 0.92987 | valid_accuracy: 0.47826 |  0:00:01s\n",
      "epoch 21 | loss: 0.80549 | valid_accuracy: 0.34783 |  0:00:01s\n",
      "epoch 22 | loss: 1.03465 | valid_accuracy: 0.3913  |  0:00:01s\n",
      "epoch 23 | loss: 0.98879 | valid_accuracy: 0.43478 |  0:00:01s\n",
      "\n",
      "Early stopping occurred at epoch 23 with best_epoch = 13 and best_valid_accuracy = 0.56522\n"
     ]
    },
    {
     "name": "stderr",
     "output_type": "stream",
     "text": [
      "c:\\Users\\carly\\anaconda3\\envs\\dyspepsia_research\\lib\\site-packages\\pytorch_tabnet\\callbacks.py:172: UserWarning: Best weights from best epoch are automatically used!\n",
      "  warnings.warn(wrn_msg)\n",
      "c:\\Users\\carly\\anaconda3\\envs\\dyspepsia_research\\lib\\site-packages\\pytorch_tabnet\\abstract_model.py:82: UserWarning: Device used : cpu\n",
      "  warnings.warn(f\"Device used : {self.device}\")\n"
     ]
    },
    {
     "name": "stdout",
     "output_type": "stream",
     "text": [
      "epoch 0  | loss: 3.39035 | valid_accuracy: 0.13043 |  0:00:00s\n",
      "epoch 1  | loss: 2.99485 | valid_accuracy: 0.17391 |  0:00:00s\n",
      "epoch 2  | loss: 2.72358 | valid_accuracy: 0.30435 |  0:00:00s\n",
      "epoch 3  | loss: 2.12851 | valid_accuracy: 0.43478 |  0:00:00s\n",
      "epoch 4  | loss: 1.98764 | valid_accuracy: 0.30435 |  0:00:00s\n",
      "epoch 5  | loss: 2.0229  | valid_accuracy: 0.3913  |  0:00:00s\n",
      "epoch 6  | loss: 1.68904 | valid_accuracy: 0.26087 |  0:00:00s\n",
      "epoch 7  | loss: 1.73245 | valid_accuracy: 0.34783 |  0:00:00s\n",
      "epoch 8  | loss: 1.55827 | valid_accuracy: 0.21739 |  0:00:00s\n",
      "epoch 9  | loss: 1.31674 | valid_accuracy: 0.30435 |  0:00:00s\n",
      "epoch 10 | loss: 1.30675 | valid_accuracy: 0.30435 |  0:00:00s\n",
      "epoch 11 | loss: 1.2191  | valid_accuracy: 0.52174 |  0:00:00s\n",
      "epoch 12 | loss: 1.39449 | valid_accuracy: 0.52174 |  0:00:00s\n",
      "epoch 13 | loss: 1.37797 | valid_accuracy: 0.43478 |  0:00:00s\n",
      "epoch 14 | loss: 1.30695 | valid_accuracy: 0.56522 |  0:00:00s\n",
      "epoch 15 | loss: 0.94482 | valid_accuracy: 0.56522 |  0:00:01s\n",
      "epoch 16 | loss: 0.98213 | valid_accuracy: 0.6087  |  0:00:01s\n",
      "epoch 17 | loss: 0.95823 | valid_accuracy: 0.43478 |  0:00:01s\n",
      "epoch 18 | loss: 0.91567 | valid_accuracy: 0.3913  |  0:00:01s\n",
      "epoch 19 | loss: 0.8657  | valid_accuracy: 0.6087  |  0:00:01s\n",
      "epoch 20 | loss: 1.02916 | valid_accuracy: 0.47826 |  0:00:01s\n",
      "epoch 21 | loss: 0.84793 | valid_accuracy: 0.3913  |  0:00:01s\n",
      "epoch 22 | loss: 0.9179  | valid_accuracy: 0.43478 |  0:00:01s\n",
      "epoch 23 | loss: 0.74917 | valid_accuracy: 0.47826 |  0:00:01s\n",
      "epoch 24 | loss: 0.68223 | valid_accuracy: 0.30435 |  0:00:01s\n",
      "epoch 25 | loss: 0.69116 | valid_accuracy: 0.34783 |  0:00:01s\n",
      "epoch 26 | loss: 0.67469 | valid_accuracy: 0.34783 |  0:00:01s\n",
      "\n",
      "Early stopping occurred at epoch 26 with best_epoch = 16 and best_valid_accuracy = 0.6087\n",
      "평균 F1 Score: 0.4787\n",
      "\n",
      "현재 파라미터 조합: {'gamma': 1.3, 'lambda_sparse': 0.0001, 'n_a': 8, 'n_d': 8, 'n_steps': 3, 'optimizer_params': {'lr': 0.02}}\n"
     ]
    },
    {
     "name": "stderr",
     "output_type": "stream",
     "text": [
      "c:\\Users\\carly\\anaconda3\\envs\\dyspepsia_research\\lib\\site-packages\\pytorch_tabnet\\callbacks.py:172: UserWarning: Best weights from best epoch are automatically used!\n",
      "  warnings.warn(wrn_msg)\n",
      "c:\\Users\\carly\\anaconda3\\envs\\dyspepsia_research\\lib\\site-packages\\pytorch_tabnet\\abstract_model.py:82: UserWarning: Device used : cpu\n",
      "  warnings.warn(f\"Device used : {self.device}\")\n"
     ]
    },
    {
     "name": "stdout",
     "output_type": "stream",
     "text": [
      "epoch 0  | loss: 1.10383 | valid_accuracy: 0.33333 |  0:00:00s\n",
      "epoch 1  | loss: 1.12263 | valid_accuracy: 0.33333 |  0:00:00s\n",
      "epoch 2  | loss: 1.01876 | valid_accuracy: 0.33333 |  0:00:00s\n",
      "epoch 3  | loss: 0.99877 | valid_accuracy: 0.45833 |  0:00:00s\n",
      "epoch 4  | loss: 0.92805 | valid_accuracy: 0.375   |  0:00:00s\n",
      "epoch 5  | loss: 0.99989 | valid_accuracy: 0.5     |  0:00:00s\n",
      "epoch 6  | loss: 1.08214 | valid_accuracy: 0.41667 |  0:00:00s\n",
      "epoch 7  | loss: 0.96073 | valid_accuracy: 0.5     |  0:00:00s\n",
      "epoch 8  | loss: 0.87277 | valid_accuracy: 0.41667 |  0:00:00s\n",
      "epoch 9  | loss: 0.86294 | valid_accuracy: 0.5     |  0:00:00s\n",
      "epoch 10 | loss: 0.86652 | valid_accuracy: 0.41667 |  0:00:00s\n",
      "epoch 11 | loss: 0.82214 | valid_accuracy: 0.375   |  0:00:00s\n",
      "epoch 12 | loss: 0.82859 | valid_accuracy: 0.41667 |  0:00:00s\n",
      "epoch 13 | loss: 0.90063 | valid_accuracy: 0.5     |  0:00:00s\n",
      "epoch 14 | loss: 0.81169 | valid_accuracy: 0.45833 |  0:00:00s\n",
      "epoch 15 | loss: 0.77326 | valid_accuracy: 0.54167 |  0:00:00s\n",
      "epoch 16 | loss: 0.7759  | valid_accuracy: 0.54167 |  0:00:00s\n",
      "epoch 17 | loss: 0.79362 | valid_accuracy: 0.625   |  0:00:00s\n",
      "epoch 18 | loss: 0.71529 | valid_accuracy: 0.58333 |  0:00:00s\n",
      "epoch 19 | loss: 0.68338 | valid_accuracy: 0.625   |  0:00:00s\n",
      "epoch 20 | loss: 0.67683 | valid_accuracy: 0.625   |  0:00:00s\n",
      "epoch 21 | loss: 0.68023 | valid_accuracy: 0.625   |  0:00:00s\n",
      "epoch 22 | loss: 0.60302 | valid_accuracy: 0.58333 |  0:00:00s\n",
      "epoch 23 | loss: 0.54839 | valid_accuracy: 0.5     |  0:00:00s\n",
      "epoch 24 | loss: 0.45804 | valid_accuracy: 0.54167 |  0:00:00s\n",
      "epoch 25 | loss: 0.40482 | valid_accuracy: 0.58333 |  0:00:00s\n",
      "epoch 26 | loss: 0.43964 | valid_accuracy: 0.5     |  0:00:00s\n",
      "epoch 27 | loss: 0.35486 | valid_accuracy: 0.41667 |  0:00:00s\n",
      "\n",
      "Early stopping occurred at epoch 27 with best_epoch = 17 and best_valid_accuracy = 0.625\n",
      "epoch 0  | loss: 1.20437 | valid_accuracy: 0.34783 |  0:00:00s\n",
      "epoch 1  | loss: 1.17963 | valid_accuracy: 0.47826 |  0:00:00s\n",
      "epoch 2  | loss: 1.11728 | valid_accuracy: 0.56522 |  0:00:00s\n",
      "epoch 3  | loss: 1.25257 | valid_accuracy: 0.34783 |  0:00:00s\n"
     ]
    },
    {
     "name": "stderr",
     "output_type": "stream",
     "text": [
      "c:\\Users\\carly\\anaconda3\\envs\\dyspepsia_research\\lib\\site-packages\\pytorch_tabnet\\callbacks.py:172: UserWarning: Best weights from best epoch are automatically used!\n",
      "  warnings.warn(wrn_msg)\n",
      "c:\\Users\\carly\\anaconda3\\envs\\dyspepsia_research\\lib\\site-packages\\pytorch_tabnet\\abstract_model.py:82: UserWarning: Device used : cpu\n",
      "  warnings.warn(f\"Device used : {self.device}\")\n"
     ]
    },
    {
     "name": "stdout",
     "output_type": "stream",
     "text": [
      "epoch 4  | loss: 1.05372 | valid_accuracy: 0.47826 |  0:00:00s\n",
      "epoch 5  | loss: 1.14024 | valid_accuracy: 0.34783 |  0:00:00s\n",
      "epoch 6  | loss: 1.012   | valid_accuracy: 0.34783 |  0:00:00s\n",
      "epoch 7  | loss: 1.07565 | valid_accuracy: 0.30435 |  0:00:00s\n",
      "epoch 8  | loss: 0.92114 | valid_accuracy: 0.3913  |  0:00:00s\n",
      "epoch 9  | loss: 0.932   | valid_accuracy: 0.56522 |  0:00:00s\n",
      "epoch 10 | loss: 0.8848  | valid_accuracy: 0.47826 |  0:00:00s\n",
      "epoch 11 | loss: 1.00333 | valid_accuracy: 0.56522 |  0:00:00s\n",
      "epoch 12 | loss: 0.88875 | valid_accuracy: 0.47826 |  0:00:00s\n",
      "\n",
      "Early stopping occurred at epoch 12 with best_epoch = 2 and best_valid_accuracy = 0.56522\n",
      "epoch 0  | loss: 0.9941  | valid_accuracy: 0.47826 |  0:00:00s\n",
      "epoch 1  | loss: 1.13636 | valid_accuracy: 0.52174 |  0:00:00s\n"
     ]
    },
    {
     "name": "stderr",
     "output_type": "stream",
     "text": [
      "c:\\Users\\carly\\anaconda3\\envs\\dyspepsia_research\\lib\\site-packages\\pytorch_tabnet\\callbacks.py:172: UserWarning: Best weights from best epoch are automatically used!\n",
      "  warnings.warn(wrn_msg)\n",
      "c:\\Users\\carly\\anaconda3\\envs\\dyspepsia_research\\lib\\site-packages\\pytorch_tabnet\\abstract_model.py:82: UserWarning: Device used : cpu\n",
      "  warnings.warn(f\"Device used : {self.device}\")\n"
     ]
    },
    {
     "name": "stdout",
     "output_type": "stream",
     "text": [
      "epoch 2  | loss: 1.06527 | valid_accuracy: 0.3913  |  0:00:00s\n",
      "epoch 3  | loss: 1.03228 | valid_accuracy: 0.3913  |  0:00:00s\n",
      "epoch 4  | loss: 1.0653  | valid_accuracy: 0.47826 |  0:00:00s\n",
      "epoch 5  | loss: 1.21223 | valid_accuracy: 0.26087 |  0:00:00s\n",
      "epoch 6  | loss: 1.03893 | valid_accuracy: 0.52174 |  0:00:00s\n",
      "epoch 7  | loss: 0.99222 | valid_accuracy: 0.3913  |  0:00:00s\n",
      "epoch 8  | loss: 0.98114 | valid_accuracy: 0.30435 |  0:00:00s\n",
      "epoch 9  | loss: 0.97463 | valid_accuracy: 0.43478 |  0:00:00s\n",
      "epoch 10 | loss: 0.91833 | valid_accuracy: 0.17391 |  0:00:00s\n",
      "epoch 11 | loss: 0.92022 | valid_accuracy: 0.17391 |  0:00:00s\n",
      "\n",
      "Early stopping occurred at epoch 11 with best_epoch = 1 and best_valid_accuracy = 0.52174\n",
      "평균 F1 Score: 0.5228\n",
      "\n",
      "현재 파라미터 조합: {'gamma': 1.3, 'lambda_sparse': 0.0001, 'n_a': 8, 'n_d': 8, 'n_steps': 3, 'optimizer_params': {'lr': 0.01}}\n",
      "epoch 0  | loss: 1.10383 | valid_accuracy: 0.25    |  0:00:00s\n"
     ]
    },
    {
     "name": "stderr",
     "output_type": "stream",
     "text": [
      "c:\\Users\\carly\\anaconda3\\envs\\dyspepsia_research\\lib\\site-packages\\pytorch_tabnet\\callbacks.py:172: UserWarning: Best weights from best epoch are automatically used!\n",
      "  warnings.warn(wrn_msg)\n",
      "c:\\Users\\carly\\anaconda3\\envs\\dyspepsia_research\\lib\\site-packages\\pytorch_tabnet\\abstract_model.py:82: UserWarning: Device used : cpu\n",
      "  warnings.warn(f\"Device used : {self.device}\")\n"
     ]
    },
    {
     "name": "stdout",
     "output_type": "stream",
     "text": [
      "epoch 1  | loss: 1.19977 | valid_accuracy: 0.41667 |  0:00:00s\n",
      "epoch 2  | loss: 1.07636 | valid_accuracy: 0.33333 |  0:00:00s\n",
      "epoch 3  | loss: 1.40831 | valid_accuracy: 0.20833 |  0:00:00s\n",
      "epoch 4  | loss: 1.02956 | valid_accuracy: 0.5     |  0:00:00s\n",
      "epoch 5  | loss: 1.07371 | valid_accuracy: 0.33333 |  0:00:00s\n",
      "epoch 6  | loss: 1.02645 | valid_accuracy: 0.45833 |  0:00:00s\n",
      "epoch 7  | loss: 0.90352 | valid_accuracy: 0.45833 |  0:00:00s\n",
      "epoch 8  | loss: 0.9253  | valid_accuracy: 0.54167 |  0:00:00s\n",
      "epoch 9  | loss: 0.84253 | valid_accuracy: 0.625   |  0:00:00s\n",
      "epoch 10 | loss: 0.83602 | valid_accuracy: 0.45833 |  0:00:00s\n",
      "epoch 11 | loss: 0.90098 | valid_accuracy: 0.54167 |  0:00:00s\n",
      "epoch 12 | loss: 0.9262  | valid_accuracy: 0.54167 |  0:00:00s\n",
      "epoch 13 | loss: 0.94978 | valid_accuracy: 0.54167 |  0:00:00s\n",
      "epoch 14 | loss: 0.88004 | valid_accuracy: 0.5     |  0:00:00s\n",
      "epoch 15 | loss: 0.85016 | valid_accuracy: 0.45833 |  0:00:00s\n",
      "epoch 16 | loss: 0.74464 | valid_accuracy: 0.54167 |  0:00:00s\n",
      "epoch 17 | loss: 0.72581 | valid_accuracy: 0.54167 |  0:00:00s\n",
      "epoch 18 | loss: 0.78141 | valid_accuracy: 0.54167 |  0:00:00s\n",
      "epoch 19 | loss: 0.73469 | valid_accuracy: 0.5     |  0:00:00s\n",
      "\n",
      "Early stopping occurred at epoch 19 with best_epoch = 9 and best_valid_accuracy = 0.625\n"
     ]
    },
    {
     "name": "stderr",
     "output_type": "stream",
     "text": [
      "c:\\Users\\carly\\anaconda3\\envs\\dyspepsia_research\\lib\\site-packages\\pytorch_tabnet\\callbacks.py:172: UserWarning: Best weights from best epoch are automatically used!\n",
      "  warnings.warn(wrn_msg)\n",
      "c:\\Users\\carly\\anaconda3\\envs\\dyspepsia_research\\lib\\site-packages\\pytorch_tabnet\\abstract_model.py:82: UserWarning: Device used : cpu\n",
      "  warnings.warn(f\"Device used : {self.device}\")\n"
     ]
    },
    {
     "name": "stdout",
     "output_type": "stream",
     "text": [
      "epoch 0  | loss: 1.20437 | valid_accuracy: 0.30435 |  0:00:00s\n",
      "epoch 1  | loss: 1.0695  | valid_accuracy: 0.30435 |  0:00:00s\n",
      "epoch 2  | loss: 1.23692 | valid_accuracy: 0.3913  |  0:00:00s\n",
      "epoch 3  | loss: 1.05873 | valid_accuracy: 0.43478 |  0:00:00s\n",
      "epoch 4  | loss: 0.93248 | valid_accuracy: 0.3913  |  0:00:00s\n",
      "epoch 5  | loss: 0.9856  | valid_accuracy: 0.34783 |  0:00:00s\n",
      "epoch 6  | loss: 0.94548 | valid_accuracy: 0.34783 |  0:00:00s\n",
      "epoch 7  | loss: 0.84619 | valid_accuracy: 0.26087 |  0:00:00s\n",
      "epoch 8  | loss: 0.84311 | valid_accuracy: 0.43478 |  0:00:00s\n",
      "epoch 9  | loss: 0.78253 | valid_accuracy: 0.43478 |  0:00:00s\n",
      "epoch 10 | loss: 0.85675 | valid_accuracy: 0.3913  |  0:00:00s\n",
      "epoch 11 | loss: 0.77259 | valid_accuracy: 0.34783 |  0:00:00s\n",
      "epoch 12 | loss: 0.86259 | valid_accuracy: 0.34783 |  0:00:00s\n",
      "epoch 13 | loss: 1.05715 | valid_accuracy: 0.52174 |  0:00:00s\n",
      "epoch 14 | loss: 0.96934 | valid_accuracy: 0.43478 |  0:00:00s\n",
      "epoch 15 | loss: 0.83788 | valid_accuracy: 0.34783 |  0:00:00s\n",
      "epoch 16 | loss: 0.74515 | valid_accuracy: 0.47826 |  0:00:00s\n",
      "epoch 17 | loss: 0.72623 | valid_accuracy: 0.52174 |  0:00:00s\n",
      "epoch 18 | loss: 0.67432 | valid_accuracy: 0.43478 |  0:00:00s\n",
      "epoch 19 | loss: 0.66168 | valid_accuracy: 0.56522 |  0:00:00s\n",
      "epoch 20 | loss: 0.61901 | valid_accuracy: 0.43478 |  0:00:00s\n",
      "epoch 21 | loss: 0.58502 | valid_accuracy: 0.43478 |  0:00:00s\n",
      "epoch 22 | loss: 0.59843 | valid_accuracy: 0.3913  |  0:00:00s\n",
      "epoch 23 | loss: 0.60104 | valid_accuracy: 0.3913  |  0:00:00s\n",
      "epoch 24 | loss: 0.5148  | valid_accuracy: 0.47826 |  0:00:00s\n",
      "epoch 25 | loss: 0.46941 | valid_accuracy: 0.3913  |  0:00:00s\n",
      "epoch 26 | loss: 0.40941 | valid_accuracy: 0.56522 |  0:00:00s\n",
      "epoch 27 | loss: 0.38161 | valid_accuracy: 0.6087  |  0:00:01s\n",
      "epoch 28 | loss: 0.34599 | valid_accuracy: 0.47826 |  0:00:01s\n",
      "epoch 29 | loss: 0.29305 | valid_accuracy: 0.52174 |  0:00:01s\n",
      "epoch 30 | loss: 0.27532 | valid_accuracy: 0.56522 |  0:00:01s\n",
      "epoch 31 | loss: 0.2558  | valid_accuracy: 0.56522 |  0:00:01s\n",
      "epoch 32 | loss: 0.20195 | valid_accuracy: 0.56522 |  0:00:01s\n",
      "epoch 33 | loss: 0.16759 | valid_accuracy: 0.56522 |  0:00:01s\n",
      "epoch 34 | loss: 0.16126 | valid_accuracy: 0.65217 |  0:00:01s\n",
      "epoch 35 | loss: 0.12174 | valid_accuracy: 0.65217 |  0:00:01s\n",
      "epoch 36 | loss: 0.1106  | valid_accuracy: 0.56522 |  0:00:01s\n",
      "epoch 37 | loss: 0.09433 | valid_accuracy: 0.73913 |  0:00:01s\n",
      "epoch 38 | loss: 0.07567 | valid_accuracy: 0.65217 |  0:00:01s\n",
      "epoch 39 | loss: 0.06645 | valid_accuracy: 0.65217 |  0:00:01s\n",
      "epoch 40 | loss: 0.04919 | valid_accuracy: 0.65217 |  0:00:01s\n",
      "epoch 41 | loss: 0.03741 | valid_accuracy: 0.65217 |  0:00:01s\n",
      "epoch 42 | loss: 0.02629 | valid_accuracy: 0.6087  |  0:00:01s\n",
      "epoch 43 | loss: 0.02262 | valid_accuracy: 0.56522 |  0:00:01s\n",
      "epoch 44 | loss: 0.01638 | valid_accuracy: 0.6087  |  0:00:01s\n",
      "epoch 45 | loss: 0.01006 | valid_accuracy: 0.6087  |  0:00:01s\n",
      "epoch 46 | loss: 0.00865 | valid_accuracy: 0.6087  |  0:00:01s\n",
      "epoch 47 | loss: 0.00717 | valid_accuracy: 0.6087  |  0:00:01s\n",
      "\n",
      "Early stopping occurred at epoch 47 with best_epoch = 37 and best_valid_accuracy = 0.73913\n"
     ]
    },
    {
     "name": "stderr",
     "output_type": "stream",
     "text": [
      "c:\\Users\\carly\\anaconda3\\envs\\dyspepsia_research\\lib\\site-packages\\pytorch_tabnet\\callbacks.py:172: UserWarning: Best weights from best epoch are automatically used!\n",
      "  warnings.warn(wrn_msg)\n",
      "c:\\Users\\carly\\anaconda3\\envs\\dyspepsia_research\\lib\\site-packages\\pytorch_tabnet\\abstract_model.py:82: UserWarning: Device used : cpu\n",
      "  warnings.warn(f\"Device used : {self.device}\")\n"
     ]
    },
    {
     "name": "stdout",
     "output_type": "stream",
     "text": [
      "epoch 0  | loss: 0.9941  | valid_accuracy: 0.34783 |  0:00:00s\n",
      "epoch 1  | loss: 0.9687  | valid_accuracy: 0.65217 |  0:00:00s\n",
      "epoch 2  | loss: 1.02468 | valid_accuracy: 0.34783 |  0:00:00s\n",
      "epoch 3  | loss: 1.07425 | valid_accuracy: 0.47826 |  0:00:00s\n",
      "epoch 4  | loss: 0.86975 | valid_accuracy: 0.43478 |  0:00:00s\n",
      "epoch 5  | loss: 0.83941 | valid_accuracy: 0.26087 |  0:00:00s\n",
      "epoch 6  | loss: 0.87267 | valid_accuracy: 0.3913  |  0:00:00s\n",
      "epoch 7  | loss: 0.92218 | valid_accuracy: 0.34783 |  0:00:00s\n",
      "epoch 8  | loss: 0.84995 | valid_accuracy: 0.56522 |  0:00:00s\n",
      "epoch 9  | loss: 0.8911  | valid_accuracy: 0.47826 |  0:00:00s\n",
      "epoch 10 | loss: 0.76019 | valid_accuracy: 0.52174 |  0:00:00s\n",
      "epoch 11 | loss: 0.71651 | valid_accuracy: 0.43478 |  0:00:00s\n",
      "\n",
      "Early stopping occurred at epoch 11 with best_epoch = 1 and best_valid_accuracy = 0.65217\n"
     ]
    },
    {
     "name": "stderr",
     "output_type": "stream",
     "text": [
      "c:\\Users\\carly\\anaconda3\\envs\\dyspepsia_research\\lib\\site-packages\\pytorch_tabnet\\callbacks.py:172: UserWarning: Best weights from best epoch are automatically used!\n",
      "  warnings.warn(wrn_msg)\n",
      "c:\\Users\\carly\\anaconda3\\envs\\dyspepsia_research\\lib\\site-packages\\pytorch_tabnet\\abstract_model.py:82: UserWarning: Device used : cpu\n",
      "  warnings.warn(f\"Device used : {self.device}\")\n"
     ]
    },
    {
     "name": "stdout",
     "output_type": "stream",
     "text": [
      "평균 F1 Score: 0.6143\n",
      "\n",
      "현재 파라미터 조합: {'gamma': 1.3, 'lambda_sparse': 0.0001, 'n_a': 8, 'n_d': 8, 'n_steps': 5, 'optimizer_params': {'lr': 0.02}}\n",
      "epoch 0  | loss: 1.44347 | valid_accuracy: 0.5     |  0:00:00s\n",
      "epoch 1  | loss: 1.19014 | valid_accuracy: 0.5     |  0:00:00s\n",
      "epoch 2  | loss: 1.22505 | valid_accuracy: 0.41667 |  0:00:00s\n",
      "epoch 3  | loss: 1.31355 | valid_accuracy: 0.45833 |  0:00:00s\n",
      "epoch 4  | loss: 1.26531 | valid_accuracy: 0.5     |  0:00:00s\n",
      "epoch 5  | loss: 1.05128 | valid_accuracy: 0.5     |  0:00:00s\n",
      "epoch 6  | loss: 1.04073 | valid_accuracy: 0.41667 |  0:00:00s\n",
      "epoch 7  | loss: 1.1458  | valid_accuracy: 0.45833 |  0:00:00s\n",
      "epoch 8  | loss: 1.14991 | valid_accuracy: 0.5     |  0:00:00s\n",
      "epoch 9  | loss: 1.15481 | valid_accuracy: 0.41667 |  0:00:00s\n",
      "epoch 10 | loss: 1.18031 | valid_accuracy: 0.41667 |  0:00:00s\n",
      "\n",
      "Early stopping occurred at epoch 10 with best_epoch = 0 and best_valid_accuracy = 0.5\n",
      "epoch 0  | loss: 1.18463 | valid_accuracy: 0.34783 |  0:00:00s\n",
      "epoch 1  | loss: 1.33254 | valid_accuracy: 0.47826 |  0:00:00s\n"
     ]
    },
    {
     "name": "stderr",
     "output_type": "stream",
     "text": [
      "c:\\Users\\carly\\anaconda3\\envs\\dyspepsia_research\\lib\\site-packages\\pytorch_tabnet\\callbacks.py:172: UserWarning: Best weights from best epoch are automatically used!\n",
      "  warnings.warn(wrn_msg)\n",
      "c:\\Users\\carly\\anaconda3\\envs\\dyspepsia_research\\lib\\site-packages\\pytorch_tabnet\\abstract_model.py:82: UserWarning: Device used : cpu\n",
      "  warnings.warn(f\"Device used : {self.device}\")\n"
     ]
    },
    {
     "name": "stdout",
     "output_type": "stream",
     "text": [
      "epoch 2  | loss: 1.2112  | valid_accuracy: 0.47826 |  0:00:00s\n",
      "epoch 3  | loss: 1.30844 | valid_accuracy: 0.47826 |  0:00:00s\n",
      "epoch 4  | loss: 1.21122 | valid_accuracy: 0.47826 |  0:00:00s\n",
      "epoch 5  | loss: 1.17432 | valid_accuracy: 0.43478 |  0:00:00s\n",
      "epoch 6  | loss: 1.1954  | valid_accuracy: 0.34783 |  0:00:00s\n",
      "epoch 7  | loss: 1.2223  | valid_accuracy: 0.3913  |  0:00:00s\n",
      "epoch 8  | loss: 0.93004 | valid_accuracy: 0.52174 |  0:00:00s\n",
      "epoch 9  | loss: 1.00796 | valid_accuracy: 0.47826 |  0:00:00s\n",
      "epoch 10 | loss: 1.02454 | valid_accuracy: 0.3913  |  0:00:00s\n",
      "epoch 11 | loss: 1.07045 | valid_accuracy: 0.3913  |  0:00:00s\n",
      "epoch 12 | loss: 1.18467 | valid_accuracy: 0.43478 |  0:00:00s\n",
      "epoch 13 | loss: 0.96505 | valid_accuracy: 0.52174 |  0:00:00s\n",
      "epoch 14 | loss: 1.10404 | valid_accuracy: 0.47826 |  0:00:00s\n",
      "epoch 15 | loss: 0.96882 | valid_accuracy: 0.52174 |  0:00:00s\n",
      "epoch 16 | loss: 0.97264 | valid_accuracy: 0.56522 |  0:00:00s\n",
      "epoch 17 | loss: 1.0709  | valid_accuracy: 0.6087  |  0:00:01s\n",
      "epoch 18 | loss: 0.89213 | valid_accuracy: 0.47826 |  0:00:01s\n",
      "epoch 19 | loss: 0.94754 | valid_accuracy: 0.52174 |  0:00:01s\n",
      "epoch 20 | loss: 0.86921 | valid_accuracy: 0.43478 |  0:00:01s\n",
      "epoch 21 | loss: 0.9145  | valid_accuracy: 0.43478 |  0:00:01s\n",
      "epoch 22 | loss: 0.90658 | valid_accuracy: 0.52174 |  0:00:01s\n",
      "epoch 23 | loss: 0.93319 | valid_accuracy: 0.3913  |  0:00:01s\n",
      "epoch 24 | loss: 0.86196 | valid_accuracy: 0.3913  |  0:00:01s\n",
      "epoch 25 | loss: 0.8713  | valid_accuracy: 0.3913  |  0:00:01s\n",
      "epoch 26 | loss: 0.82681 | valid_accuracy: 0.30435 |  0:00:01s\n",
      "epoch 27 | loss: 0.90565 | valid_accuracy: 0.34783 |  0:00:01s\n",
      "\n",
      "Early stopping occurred at epoch 27 with best_epoch = 17 and best_valid_accuracy = 0.6087\n",
      "epoch 0  | loss: 1.45654 | valid_accuracy: 0.34783 |  0:00:00s\n"
     ]
    },
    {
     "name": "stderr",
     "output_type": "stream",
     "text": [
      "c:\\Users\\carly\\anaconda3\\envs\\dyspepsia_research\\lib\\site-packages\\pytorch_tabnet\\callbacks.py:172: UserWarning: Best weights from best epoch are automatically used!\n",
      "  warnings.warn(wrn_msg)\n",
      "c:\\Users\\carly\\anaconda3\\envs\\dyspepsia_research\\lib\\site-packages\\pytorch_tabnet\\abstract_model.py:82: UserWarning: Device used : cpu\n",
      "  warnings.warn(f\"Device used : {self.device}\")\n"
     ]
    },
    {
     "name": "stdout",
     "output_type": "stream",
     "text": [
      "epoch 1  | loss: 1.3667  | valid_accuracy: 0.52174 |  0:00:00s\n",
      "epoch 2  | loss: 1.42767 | valid_accuracy: 0.3913  |  0:00:00s\n",
      "epoch 3  | loss: 1.08717 | valid_accuracy: 0.47826 |  0:00:00s\n",
      "epoch 4  | loss: 1.16111 | valid_accuracy: 0.47826 |  0:00:00s\n",
      "epoch 5  | loss: 1.09591 | valid_accuracy: 0.34783 |  0:00:00s\n",
      "epoch 6  | loss: 0.98116 | valid_accuracy: 0.34783 |  0:00:00s\n",
      "epoch 7  | loss: 1.24218 | valid_accuracy: 0.47826 |  0:00:00s\n",
      "epoch 8  | loss: 1.00835 | valid_accuracy: 0.3913  |  0:00:00s\n",
      "epoch 9  | loss: 1.02354 | valid_accuracy: 0.43478 |  0:00:00s\n",
      "epoch 10 | loss: 0.94635 | valid_accuracy: 0.43478 |  0:00:00s\n",
      "epoch 11 | loss: 0.95895 | valid_accuracy: 0.26087 |  0:00:00s\n",
      "\n",
      "Early stopping occurred at epoch 11 with best_epoch = 1 and best_valid_accuracy = 0.52174\n",
      "평균 F1 Score: 0.4610\n",
      "\n",
      "현재 파라미터 조합: {'gamma': 1.3, 'lambda_sparse': 0.0001, 'n_a': 8, 'n_d': 8, 'n_steps': 5, 'optimizer_params': {'lr': 0.01}}\n"
     ]
    },
    {
     "name": "stderr",
     "output_type": "stream",
     "text": [
      "c:\\Users\\carly\\anaconda3\\envs\\dyspepsia_research\\lib\\site-packages\\pytorch_tabnet\\callbacks.py:172: UserWarning: Best weights from best epoch are automatically used!\n",
      "  warnings.warn(wrn_msg)\n",
      "c:\\Users\\carly\\anaconda3\\envs\\dyspepsia_research\\lib\\site-packages\\pytorch_tabnet\\abstract_model.py:82: UserWarning: Device used : cpu\n",
      "  warnings.warn(f\"Device used : {self.device}\")\n"
     ]
    },
    {
     "name": "stdout",
     "output_type": "stream",
     "text": [
      "epoch 0  | loss: 1.44347 | valid_accuracy: 0.45833 |  0:00:00s\n",
      "epoch 1  | loss: 1.24936 | valid_accuracy: 0.5     |  0:00:00s\n",
      "epoch 2  | loss: 1.17371 | valid_accuracy: 0.5     |  0:00:00s\n",
      "epoch 3  | loss: 1.04009 | valid_accuracy: 0.5     |  0:00:00s\n",
      "epoch 4  | loss: 1.29519 | valid_accuracy: 0.41667 |  0:00:00s\n",
      "epoch 5  | loss: 1.26183 | valid_accuracy: 0.5     |  0:00:00s\n",
      "epoch 6  | loss: 1.13861 | valid_accuracy: 0.5     |  0:00:00s\n",
      "epoch 7  | loss: 1.0553  | valid_accuracy: 0.45833 |  0:00:00s\n",
      "epoch 8  | loss: 1.3847  | valid_accuracy: 0.54167 |  0:00:00s\n",
      "epoch 9  | loss: 1.09113 | valid_accuracy: 0.45833 |  0:00:00s\n",
      "epoch 10 | loss: 1.4058  | valid_accuracy: 0.5     |  0:00:00s\n",
      "epoch 11 | loss: 1.1298  | valid_accuracy: 0.5     |  0:00:00s\n",
      "epoch 12 | loss: 1.30695 | valid_accuracy: 0.5     |  0:00:00s\n",
      "epoch 13 | loss: 1.16877 | valid_accuracy: 0.54167 |  0:00:00s\n",
      "epoch 14 | loss: 1.0822  | valid_accuracy: 0.45833 |  0:00:00s\n",
      "epoch 15 | loss: 0.96708 | valid_accuracy: 0.45833 |  0:00:00s\n",
      "epoch 16 | loss: 0.9898  | valid_accuracy: 0.45833 |  0:00:01s\n",
      "epoch 17 | loss: 1.06166 | valid_accuracy: 0.45833 |  0:00:01s\n",
      "epoch 18 | loss: 1.00864 | valid_accuracy: 0.41667 |  0:00:01s\n",
      "\n",
      "Early stopping occurred at epoch 18 with best_epoch = 8 and best_valid_accuracy = 0.54167\n"
     ]
    },
    {
     "name": "stderr",
     "output_type": "stream",
     "text": [
      "c:\\Users\\carly\\anaconda3\\envs\\dyspepsia_research\\lib\\site-packages\\pytorch_tabnet\\callbacks.py:172: UserWarning: Best weights from best epoch are automatically used!\n",
      "  warnings.warn(wrn_msg)\n",
      "c:\\Users\\carly\\anaconda3\\envs\\dyspepsia_research\\lib\\site-packages\\pytorch_tabnet\\abstract_model.py:82: UserWarning: Device used : cpu\n",
      "  warnings.warn(f\"Device used : {self.device}\")\n"
     ]
    },
    {
     "name": "stdout",
     "output_type": "stream",
     "text": [
      "epoch 0  | loss: 1.18463 | valid_accuracy: 0.34783 |  0:00:00s\n",
      "epoch 1  | loss: 1.26996 | valid_accuracy: 0.26087 |  0:00:00s\n",
      "epoch 2  | loss: 1.54757 | valid_accuracy: 0.30435 |  0:00:00s\n",
      "epoch 3  | loss: 1.45057 | valid_accuracy: 0.43478 |  0:00:00s\n",
      "epoch 4  | loss: 1.16549 | valid_accuracy: 0.56522 |  0:00:00s\n",
      "epoch 5  | loss: 1.22553 | valid_accuracy: 0.43478 |  0:00:00s\n",
      "epoch 6  | loss: 1.16716 | valid_accuracy: 0.52174 |  0:00:00s\n",
      "epoch 7  | loss: 1.15559 | valid_accuracy: 0.26087 |  0:00:00s\n",
      "epoch 8  | loss: 1.33398 | valid_accuracy: 0.3913  |  0:00:00s\n",
      "epoch 9  | loss: 1.28279 | valid_accuracy: 0.3913  |  0:00:00s\n",
      "epoch 10 | loss: 1.23449 | valid_accuracy: 0.21739 |  0:00:00s\n",
      "epoch 11 | loss: 1.04116 | valid_accuracy: 0.30435 |  0:00:00s\n",
      "epoch 12 | loss: 1.2754  | valid_accuracy: 0.34783 |  0:00:00s\n",
      "epoch 13 | loss: 1.18515 | valid_accuracy: 0.3913  |  0:00:00s\n",
      "epoch 14 | loss: 1.04484 | valid_accuracy: 0.43478 |  0:00:00s\n",
      "\n",
      "Early stopping occurred at epoch 14 with best_epoch = 4 and best_valid_accuracy = 0.56522\n",
      "epoch 0  | loss: 1.45654 | valid_accuracy: 0.47826 |  0:00:00s\n"
     ]
    },
    {
     "name": "stderr",
     "output_type": "stream",
     "text": [
      "c:\\Users\\carly\\anaconda3\\envs\\dyspepsia_research\\lib\\site-packages\\pytorch_tabnet\\callbacks.py:172: UserWarning: Best weights from best epoch are automatically used!\n",
      "  warnings.warn(wrn_msg)\n",
      "c:\\Users\\carly\\anaconda3\\envs\\dyspepsia_research\\lib\\site-packages\\pytorch_tabnet\\abstract_model.py:82: UserWarning: Device used : cpu\n",
      "  warnings.warn(f\"Device used : {self.device}\")\n"
     ]
    },
    {
     "name": "stdout",
     "output_type": "stream",
     "text": [
      "epoch 1  | loss: 1.6446  | valid_accuracy: 0.47826 |  0:00:00s\n",
      "epoch 2  | loss: 1.31631 | valid_accuracy: 0.43478 |  0:00:00s\n",
      "epoch 3  | loss: 1.28768 | valid_accuracy: 0.43478 |  0:00:00s\n",
      "epoch 4  | loss: 1.2792  | valid_accuracy: 0.47826 |  0:00:00s\n",
      "epoch 5  | loss: 1.21203 | valid_accuracy: 0.34783 |  0:00:00s\n",
      "epoch 6  | loss: 1.23295 | valid_accuracy: 0.26087 |  0:00:00s\n",
      "epoch 7  | loss: 1.26857 | valid_accuracy: 0.21739 |  0:00:00s\n",
      "epoch 8  | loss: 1.1367  | valid_accuracy: 0.47826 |  0:00:00s\n",
      "epoch 9  | loss: 1.22001 | valid_accuracy: 0.26087 |  0:00:00s\n",
      "epoch 10 | loss: 0.96642 | valid_accuracy: 0.34783 |  0:00:00s\n",
      "\n",
      "Early stopping occurred at epoch 10 with best_epoch = 0 and best_valid_accuracy = 0.47826\n",
      "평균 F1 Score: 0.4902\n",
      "\n",
      "현재 파라미터 조합: {'gamma': 1.3, 'lambda_sparse': 0.0001, 'n_a': 8, 'n_d': 16, 'n_steps': 3, 'optimizer_params': {'lr': 0.02}}\n",
      "epoch 0  | loss: 3.08862 | valid_accuracy: 0.20833 |  0:00:00s\n",
      "epoch 1  | loss: 2.44748 | valid_accuracy: 0.29167 |  0:00:00s\n"
     ]
    },
    {
     "name": "stderr",
     "output_type": "stream",
     "text": [
      "c:\\Users\\carly\\anaconda3\\envs\\dyspepsia_research\\lib\\site-packages\\pytorch_tabnet\\callbacks.py:172: UserWarning: Best weights from best epoch are automatically used!\n",
      "  warnings.warn(wrn_msg)\n",
      "c:\\Users\\carly\\anaconda3\\envs\\dyspepsia_research\\lib\\site-packages\\pytorch_tabnet\\abstract_model.py:82: UserWarning: Device used : cpu\n",
      "  warnings.warn(f\"Device used : {self.device}\")\n"
     ]
    },
    {
     "name": "stdout",
     "output_type": "stream",
     "text": [
      "epoch 2  | loss: 1.77494 | valid_accuracy: 0.25    |  0:00:00s\n",
      "epoch 3  | loss: 1.53538 | valid_accuracy: 0.16667 |  0:00:00s\n",
      "epoch 4  | loss: 1.63418 | valid_accuracy: 0.25    |  0:00:00s\n",
      "epoch 5  | loss: 1.20683 | valid_accuracy: 0.16667 |  0:00:00s\n",
      "epoch 6  | loss: 0.98302 | valid_accuracy: 0.25    |  0:00:00s\n",
      "epoch 7  | loss: 1.1162  | valid_accuracy: 0.33333 |  0:00:00s\n",
      "epoch 8  | loss: 0.87313 | valid_accuracy: 0.375   |  0:00:00s\n",
      "epoch 9  | loss: 0.92405 | valid_accuracy: 0.33333 |  0:00:00s\n",
      "epoch 10 | loss: 0.72421 | valid_accuracy: 0.375   |  0:00:00s\n",
      "epoch 11 | loss: 0.75655 | valid_accuracy: 0.16667 |  0:00:00s\n",
      "epoch 12 | loss: 0.72487 | valid_accuracy: 0.375   |  0:00:00s\n",
      "epoch 13 | loss: 0.82113 | valid_accuracy: 0.45833 |  0:00:00s\n",
      "epoch 14 | loss: 0.82772 | valid_accuracy: 0.5     |  0:00:00s\n",
      "epoch 15 | loss: 0.94902 | valid_accuracy: 0.58333 |  0:00:00s\n",
      "epoch 16 | loss: 0.89716 | valid_accuracy: 0.58333 |  0:00:00s\n",
      "epoch 17 | loss: 0.71523 | valid_accuracy: 0.45833 |  0:00:00s\n",
      "epoch 18 | loss: 0.64281 | valid_accuracy: 0.45833 |  0:00:00s\n",
      "epoch 19 | loss: 0.50688 | valid_accuracy: 0.45833 |  0:00:00s\n",
      "epoch 20 | loss: 0.53133 | valid_accuracy: 0.41667 |  0:00:00s\n",
      "epoch 21 | loss: 0.47387 | valid_accuracy: 0.45833 |  0:00:00s\n",
      "epoch 22 | loss: 0.39461 | valid_accuracy: 0.54167 |  0:00:00s\n",
      "epoch 23 | loss: 0.34128 | valid_accuracy: 0.5     |  0:00:00s\n",
      "epoch 24 | loss: 0.28201 | valid_accuracy: 0.45833 |  0:00:01s\n",
      "epoch 25 | loss: 0.24393 | valid_accuracy: 0.5     |  0:00:01s\n",
      "\n",
      "Early stopping occurred at epoch 25 with best_epoch = 15 and best_valid_accuracy = 0.58333\n"
     ]
    },
    {
     "name": "stderr",
     "output_type": "stream",
     "text": [
      "c:\\Users\\carly\\anaconda3\\envs\\dyspepsia_research\\lib\\site-packages\\pytorch_tabnet\\callbacks.py:172: UserWarning: Best weights from best epoch are automatically used!\n",
      "  warnings.warn(wrn_msg)\n",
      "c:\\Users\\carly\\anaconda3\\envs\\dyspepsia_research\\lib\\site-packages\\pytorch_tabnet\\abstract_model.py:82: UserWarning: Device used : cpu\n",
      "  warnings.warn(f\"Device used : {self.device}\")\n"
     ]
    },
    {
     "name": "stdout",
     "output_type": "stream",
     "text": [
      "epoch 0  | loss: 2.88952 | valid_accuracy: 0.21739 |  0:00:00s\n",
      "epoch 1  | loss: 2.45809 | valid_accuracy: 0.17391 |  0:00:00s\n",
      "epoch 2  | loss: 2.03616 | valid_accuracy: 0.30435 |  0:00:00s\n",
      "epoch 3  | loss: 1.76722 | valid_accuracy: 0.34783 |  0:00:00s\n",
      "epoch 4  | loss: 1.55492 | valid_accuracy: 0.26087 |  0:00:00s\n",
      "epoch 5  | loss: 1.24886 | valid_accuracy: 0.30435 |  0:00:00s\n",
      "epoch 6  | loss: 1.03726 | valid_accuracy: 0.21739 |  0:00:00s\n",
      "epoch 7  | loss: 0.92814 | valid_accuracy: 0.26087 |  0:00:00s\n",
      "epoch 8  | loss: 0.9516  | valid_accuracy: 0.43478 |  0:00:00s\n",
      "epoch 9  | loss: 0.8565  | valid_accuracy: 0.47826 |  0:00:00s\n",
      "epoch 10 | loss: 0.81433 | valid_accuracy: 0.43478 |  0:00:00s\n",
      "epoch 11 | loss: 0.7694  | valid_accuracy: 0.52174 |  0:00:00s\n",
      "epoch 12 | loss: 0.71137 | valid_accuracy: 0.47826 |  0:00:00s\n",
      "epoch 13 | loss: 0.8131  | valid_accuracy: 0.43478 |  0:00:00s\n",
      "epoch 14 | loss: 0.9146  | valid_accuracy: 0.52174 |  0:00:00s\n",
      "epoch 15 | loss: 0.82184 | valid_accuracy: 0.3913  |  0:00:00s\n",
      "epoch 16 | loss: 0.78091 | valid_accuracy: 0.21739 |  0:00:00s\n",
      "epoch 17 | loss: 0.7813  | valid_accuracy: 0.26087 |  0:00:00s\n",
      "epoch 18 | loss: 0.81755 | valid_accuracy: 0.34783 |  0:00:00s\n",
      "epoch 19 | loss: 0.76864 | valid_accuracy: 0.30435 |  0:00:00s\n",
      "epoch 20 | loss: 0.69852 | valid_accuracy: 0.3913  |  0:00:00s\n",
      "epoch 21 | loss: 0.608   | valid_accuracy: 0.34783 |  0:00:00s\n",
      "\n",
      "Early stopping occurred at epoch 21 with best_epoch = 11 and best_valid_accuracy = 0.52174\n",
      "epoch 0  | loss: 2.76308 | valid_accuracy: 0.26087 |  0:00:00s\n",
      "epoch 1  | loss: 2.33994 | valid_accuracy: 0.26087 |  0:00:00s\n",
      "epoch 2  | loss: 1.96072 | valid_accuracy: 0.13043 |  0:00:00s\n",
      "epoch 3  | loss: 1.68902 | valid_accuracy: 0.3913  |  0:00:00s\n"
     ]
    },
    {
     "name": "stderr",
     "output_type": "stream",
     "text": [
      "c:\\Users\\carly\\anaconda3\\envs\\dyspepsia_research\\lib\\site-packages\\pytorch_tabnet\\callbacks.py:172: UserWarning: Best weights from best epoch are automatically used!\n",
      "  warnings.warn(wrn_msg)\n",
      "c:\\Users\\carly\\anaconda3\\envs\\dyspepsia_research\\lib\\site-packages\\pytorch_tabnet\\abstract_model.py:82: UserWarning: Device used : cpu\n",
      "  warnings.warn(f\"Device used : {self.device}\")\n"
     ]
    },
    {
     "name": "stdout",
     "output_type": "stream",
     "text": [
      "epoch 4  | loss: 1.19095 | valid_accuracy: 0.34783 |  0:00:00s\n",
      "epoch 5  | loss: 1.12771 | valid_accuracy: 0.30435 |  0:00:00s\n",
      "epoch 6  | loss: 0.85633 | valid_accuracy: 0.3913  |  0:00:00s\n",
      "epoch 7  | loss: 0.99303 | valid_accuracy: 0.52174 |  0:00:00s\n",
      "epoch 8  | loss: 0.8571  | valid_accuracy: 0.43478 |  0:00:00s\n",
      "epoch 9  | loss: 0.87849 | valid_accuracy: 0.56522 |  0:00:00s\n",
      "epoch 10 | loss: 0.87427 | valid_accuracy: 0.3913  |  0:00:00s\n",
      "epoch 11 | loss: 1.17931 | valid_accuracy: 0.3913  |  0:00:00s\n",
      "epoch 12 | loss: 1.07003 | valid_accuracy: 0.34783 |  0:00:00s\n",
      "epoch 13 | loss: 0.94164 | valid_accuracy: 0.43478 |  0:00:00s\n",
      "epoch 14 | loss: 0.76074 | valid_accuracy: 0.47826 |  0:00:00s\n",
      "epoch 15 | loss: 0.73127 | valid_accuracy: 0.3913  |  0:00:00s\n",
      "epoch 16 | loss: 0.76985 | valid_accuracy: 0.43478 |  0:00:00s\n",
      "epoch 17 | loss: 0.67863 | valid_accuracy: 0.43478 |  0:00:00s\n",
      "epoch 18 | loss: 0.63995 | valid_accuracy: 0.43478 |  0:00:00s\n",
      "epoch 19 | loss: 0.61155 | valid_accuracy: 0.30435 |  0:00:00s\n",
      "\n",
      "Early stopping occurred at epoch 19 with best_epoch = 9 and best_valid_accuracy = 0.56522\n",
      "평균 F1 Score: 0.5017\n",
      "\n",
      "현재 파라미터 조합: {'gamma': 1.3, 'lambda_sparse': 0.0001, 'n_a': 8, 'n_d': 16, 'n_steps': 3, 'optimizer_params': {'lr': 0.01}}\n",
      "epoch 0  | loss: 3.08862 | valid_accuracy: 0.20833 |  0:00:00s\n"
     ]
    },
    {
     "name": "stderr",
     "output_type": "stream",
     "text": [
      "c:\\Users\\carly\\anaconda3\\envs\\dyspepsia_research\\lib\\site-packages\\pytorch_tabnet\\callbacks.py:172: UserWarning: Best weights from best epoch are automatically used!\n",
      "  warnings.warn(wrn_msg)\n",
      "c:\\Users\\carly\\anaconda3\\envs\\dyspepsia_research\\lib\\site-packages\\pytorch_tabnet\\abstract_model.py:82: UserWarning: Device used : cpu\n",
      "  warnings.warn(f\"Device used : {self.device}\")\n"
     ]
    },
    {
     "name": "stdout",
     "output_type": "stream",
     "text": [
      "epoch 1  | loss: 2.56144 | valid_accuracy: 0.25    |  0:00:00s\n",
      "epoch 2  | loss: 2.45803 | valid_accuracy: 0.375   |  0:00:00s\n",
      "epoch 3  | loss: 2.36671 | valid_accuracy: 0.29167 |  0:00:00s\n",
      "epoch 4  | loss: 1.78359 | valid_accuracy: 0.20833 |  0:00:00s\n",
      "epoch 5  | loss: 1.5437  | valid_accuracy: 0.25    |  0:00:00s\n",
      "epoch 6  | loss: 1.44961 | valid_accuracy: 0.25    |  0:00:00s\n",
      "epoch 7  | loss: 1.34752 | valid_accuracy: 0.41667 |  0:00:00s\n",
      "epoch 8  | loss: 1.20167 | valid_accuracy: 0.45833 |  0:00:00s\n",
      "epoch 9  | loss: 1.16288 | valid_accuracy: 0.45833 |  0:00:00s\n",
      "epoch 10 | loss: 0.9717  | valid_accuracy: 0.375   |  0:00:00s\n",
      "epoch 11 | loss: 0.88908 | valid_accuracy: 0.33333 |  0:00:00s\n",
      "epoch 12 | loss: 0.83824 | valid_accuracy: 0.33333 |  0:00:00s\n",
      "epoch 13 | loss: 0.80885 | valid_accuracy: 0.41667 |  0:00:00s\n",
      "epoch 14 | loss: 0.71975 | valid_accuracy: 0.25    |  0:00:00s\n",
      "epoch 15 | loss: 0.64239 | valid_accuracy: 0.33333 |  0:00:00s\n",
      "epoch 16 | loss: 0.59131 | valid_accuracy: 0.41667 |  0:00:00s\n",
      "epoch 17 | loss: 0.51349 | valid_accuracy: 0.375   |  0:00:00s\n",
      "epoch 18 | loss: 0.5504  | valid_accuracy: 0.33333 |  0:00:00s\n",
      "\n",
      "Early stopping occurred at epoch 18 with best_epoch = 8 and best_valid_accuracy = 0.45833\n"
     ]
    },
    {
     "name": "stderr",
     "output_type": "stream",
     "text": [
      "c:\\Users\\carly\\anaconda3\\envs\\dyspepsia_research\\lib\\site-packages\\pytorch_tabnet\\callbacks.py:172: UserWarning: Best weights from best epoch are automatically used!\n",
      "  warnings.warn(wrn_msg)\n",
      "c:\\Users\\carly\\anaconda3\\envs\\dyspepsia_research\\lib\\site-packages\\pytorch_tabnet\\abstract_model.py:82: UserWarning: Device used : cpu\n",
      "  warnings.warn(f\"Device used : {self.device}\")\n"
     ]
    },
    {
     "name": "stdout",
     "output_type": "stream",
     "text": [
      "epoch 0  | loss: 2.88952 | valid_accuracy: 0.21739 |  0:00:00s\n",
      "epoch 1  | loss: 2.24886 | valid_accuracy: 0.26087 |  0:00:00s\n",
      "epoch 2  | loss: 2.43425 | valid_accuracy: 0.34783 |  0:00:00s\n",
      "epoch 3  | loss: 2.15542 | valid_accuracy: 0.34783 |  0:00:00s\n",
      "epoch 4  | loss: 1.8467  | valid_accuracy: 0.17391 |  0:00:00s\n",
      "epoch 5  | loss: 1.58042 | valid_accuracy: 0.21739 |  0:00:00s\n",
      "epoch 6  | loss: 1.53821 | valid_accuracy: 0.13043 |  0:00:00s\n",
      "epoch 7  | loss: 1.44004 | valid_accuracy: 0.30435 |  0:00:00s\n",
      "epoch 8  | loss: 1.40848 | valid_accuracy: 0.21739 |  0:00:00s\n",
      "epoch 9  | loss: 1.33188 | valid_accuracy: 0.26087 |  0:00:00s\n",
      "epoch 10 | loss: 1.26531 | valid_accuracy: 0.34783 |  0:00:00s\n",
      "epoch 11 | loss: 1.05338 | valid_accuracy: 0.34783 |  0:00:00s\n",
      "epoch 12 | loss: 0.95696 | valid_accuracy: 0.30435 |  0:00:00s\n",
      "\n",
      "Early stopping occurred at epoch 12 with best_epoch = 2 and best_valid_accuracy = 0.34783\n",
      "epoch 0  | loss: 2.76308 | valid_accuracy: 0.26087 |  0:00:00s\n",
      "epoch 1  | loss: 2.3866  | valid_accuracy: 0.30435 |  0:00:00s\n",
      "epoch 2  | loss: 2.4891  | valid_accuracy: 0.17391 |  0:00:00s\n"
     ]
    },
    {
     "name": "stderr",
     "output_type": "stream",
     "text": [
      "c:\\Users\\carly\\anaconda3\\envs\\dyspepsia_research\\lib\\site-packages\\pytorch_tabnet\\callbacks.py:172: UserWarning: Best weights from best epoch are automatically used!\n",
      "  warnings.warn(wrn_msg)\n",
      "c:\\Users\\carly\\anaconda3\\envs\\dyspepsia_research\\lib\\site-packages\\pytorch_tabnet\\abstract_model.py:82: UserWarning: Device used : cpu\n",
      "  warnings.warn(f\"Device used : {self.device}\")\n"
     ]
    },
    {
     "name": "stdout",
     "output_type": "stream",
     "text": [
      "epoch 3  | loss: 2.1956  | valid_accuracy: 0.13043 |  0:00:00s\n",
      "epoch 4  | loss: 1.94763 | valid_accuracy: 0.13043 |  0:00:00s\n",
      "epoch 5  | loss: 1.86144 | valid_accuracy: 0.17391 |  0:00:00s\n",
      "epoch 6  | loss: 1.69281 | valid_accuracy: 0.13043 |  0:00:00s\n",
      "epoch 7  | loss: 1.53333 | valid_accuracy: 0.17391 |  0:00:00s\n",
      "epoch 8  | loss: 1.31035 | valid_accuracy: 0.13043 |  0:00:00s\n",
      "epoch 9  | loss: 1.14856 | valid_accuracy: 0.26087 |  0:00:00s\n",
      "epoch 10 | loss: 1.17646 | valid_accuracy: 0.30435 |  0:00:00s\n",
      "epoch 11 | loss: 0.95965 | valid_accuracy: 0.34783 |  0:00:00s\n",
      "epoch 12 | loss: 0.79061 | valid_accuracy: 0.30435 |  0:00:00s\n",
      "epoch 13 | loss: 0.67825 | valid_accuracy: 0.30435 |  0:00:00s\n",
      "epoch 14 | loss: 0.59583 | valid_accuracy: 0.34783 |  0:00:00s\n",
      "epoch 15 | loss: 0.68161 | valid_accuracy: 0.34783 |  0:00:00s\n",
      "epoch 16 | loss: 0.65479 | valid_accuracy: 0.34783 |  0:00:00s\n",
      "epoch 17 | loss: 0.58343 | valid_accuracy: 0.34783 |  0:00:00s\n",
      "epoch 18 | loss: 0.6144  | valid_accuracy: 0.34783 |  0:00:00s\n",
      "epoch 19 | loss: 0.53881 | valid_accuracy: 0.34783 |  0:00:00s\n",
      "epoch 20 | loss: 0.55665 | valid_accuracy: 0.3913  |  0:00:00s\n",
      "epoch 21 | loss: 0.50864 | valid_accuracy: 0.3913  |  0:00:00s\n",
      "epoch 22 | loss: 0.4776  | valid_accuracy: 0.47826 |  0:00:00s\n",
      "epoch 23 | loss: 0.45444 | valid_accuracy: 0.47826 |  0:00:00s\n",
      "epoch 24 | loss: 0.5077  | valid_accuracy: 0.47826 |  0:00:00s\n",
      "epoch 25 | loss: 0.39158 | valid_accuracy: 0.3913  |  0:00:00s\n",
      "epoch 26 | loss: 0.36358 | valid_accuracy: 0.3913  |  0:00:01s\n",
      "epoch 27 | loss: 0.31467 | valid_accuracy: 0.34783 |  0:00:01s\n",
      "epoch 28 | loss: 0.28077 | valid_accuracy: 0.3913  |  0:00:01s\n",
      "epoch 29 | loss: 0.23607 | valid_accuracy: 0.3913  |  0:00:01s\n",
      "epoch 30 | loss: 0.23177 | valid_accuracy: 0.34783 |  0:00:01s\n",
      "epoch 31 | loss: 0.19305 | valid_accuracy: 0.43478 |  0:00:01s\n",
      "epoch 32 | loss: 0.15756 | valid_accuracy: 0.52174 |  0:00:01s\n",
      "epoch 33 | loss: 0.14143 | valid_accuracy: 0.47826 |  0:00:01s\n",
      "epoch 34 | loss: 0.22111 | valid_accuracy: 0.3913  |  0:00:01s\n",
      "epoch 35 | loss: 0.15118 | valid_accuracy: 0.3913  |  0:00:01s\n",
      "epoch 36 | loss: 0.10785 | valid_accuracy: 0.47826 |  0:00:01s\n",
      "epoch 37 | loss: 0.09032 | valid_accuracy: 0.47826 |  0:00:01s\n",
      "epoch 38 | loss: 0.05866 | valid_accuracy: 0.52174 |  0:00:01s\n",
      "epoch 39 | loss: 0.03992 | valid_accuracy: 0.47826 |  0:00:01s\n",
      "epoch 40 | loss: 0.02744 | valid_accuracy: 0.47826 |  0:00:01s\n",
      "epoch 41 | loss: 0.02077 | valid_accuracy: 0.43478 |  0:00:01s\n",
      "epoch 42 | loss: 0.01668 | valid_accuracy: 0.56522 |  0:00:01s\n",
      "epoch 43 | loss: 0.01221 | valid_accuracy: 0.56522 |  0:00:01s\n",
      "epoch 44 | loss: 0.0084  | valid_accuracy: 0.52174 |  0:00:01s\n",
      "epoch 45 | loss: 0.00627 | valid_accuracy: 0.43478 |  0:00:01s\n",
      "epoch 46 | loss: 0.00509 | valid_accuracy: 0.43478 |  0:00:01s\n",
      "epoch 47 | loss: 0.00407 | valid_accuracy: 0.47826 |  0:00:01s\n",
      "epoch 48 | loss: 0.00318 | valid_accuracy: 0.47826 |  0:00:01s\n",
      "epoch 49 | loss: 0.00258 | valid_accuracy: 0.52174 |  0:00:01s\n",
      "epoch 50 | loss: 0.00212 | valid_accuracy: 0.52174 |  0:00:01s\n",
      "epoch 51 | loss: 0.00177 | valid_accuracy: 0.47826 |  0:00:01s\n",
      "epoch 52 | loss: 0.00151 | valid_accuracy: 0.43478 |  0:00:01s\n",
      "\n",
      "Early stopping occurred at epoch 52 with best_epoch = 42 and best_valid_accuracy = 0.56522\n",
      "평균 F1 Score: 0.4537\n",
      "\n",
      "현재 파라미터 조합: {'gamma': 1.3, 'lambda_sparse': 0.0001, 'n_a': 8, 'n_d': 16, 'n_steps': 5, 'optimizer_params': {'lr': 0.02}}\n",
      "epoch 0  | loss: 2.01051 | valid_accuracy: 0.33333 |  0:00:00s\n",
      "epoch 1  | loss: 1.37717 | valid_accuracy: 0.54167 |  0:00:00s\n"
     ]
    },
    {
     "name": "stderr",
     "output_type": "stream",
     "text": [
      "c:\\Users\\carly\\anaconda3\\envs\\dyspepsia_research\\lib\\site-packages\\pytorch_tabnet\\callbacks.py:172: UserWarning: Best weights from best epoch are automatically used!\n",
      "  warnings.warn(wrn_msg)\n",
      "c:\\Users\\carly\\anaconda3\\envs\\dyspepsia_research\\lib\\site-packages\\pytorch_tabnet\\abstract_model.py:82: UserWarning: Device used : cpu\n",
      "  warnings.warn(f\"Device used : {self.device}\")\n"
     ]
    },
    {
     "name": "stdout",
     "output_type": "stream",
     "text": [
      "epoch 2  | loss: 1.4696  | valid_accuracy: 0.41667 |  0:00:00s\n",
      "epoch 3  | loss: 1.29856 | valid_accuracy: 0.29167 |  0:00:00s\n",
      "epoch 4  | loss: 1.29587 | valid_accuracy: 0.41667 |  0:00:00s\n",
      "epoch 5  | loss: 1.26595 | valid_accuracy: 0.25    |  0:00:00s\n",
      "epoch 6  | loss: 1.47328 | valid_accuracy: 0.45833 |  0:00:00s\n",
      "epoch 7  | loss: 1.31719 | valid_accuracy: 0.375   |  0:00:00s\n",
      "epoch 8  | loss: 1.36627 | valid_accuracy: 0.5     |  0:00:00s\n",
      "epoch 9  | loss: 1.20277 | valid_accuracy: 0.33333 |  0:00:00s\n",
      "epoch 10 | loss: 1.28264 | valid_accuracy: 0.54167 |  0:00:00s\n",
      "epoch 11 | loss: 1.20402 | valid_accuracy: 0.45833 |  0:00:00s\n",
      "\n",
      "Early stopping occurred at epoch 11 with best_epoch = 1 and best_valid_accuracy = 0.54167\n",
      "epoch 0  | loss: 1.72314 | valid_accuracy: 0.26087 |  0:00:00s\n"
     ]
    },
    {
     "name": "stderr",
     "output_type": "stream",
     "text": [
      "c:\\Users\\carly\\anaconda3\\envs\\dyspepsia_research\\lib\\site-packages\\pytorch_tabnet\\callbacks.py:172: UserWarning: Best weights from best epoch are automatically used!\n",
      "  warnings.warn(wrn_msg)\n",
      "c:\\Users\\carly\\anaconda3\\envs\\dyspepsia_research\\lib\\site-packages\\pytorch_tabnet\\abstract_model.py:82: UserWarning: Device used : cpu\n",
      "  warnings.warn(f\"Device used : {self.device}\")\n"
     ]
    },
    {
     "name": "stdout",
     "output_type": "stream",
     "text": [
      "epoch 1  | loss: 1.29129 | valid_accuracy: 0.34783 |  0:00:00s\n",
      "epoch 2  | loss: 0.98661 | valid_accuracy: 0.56522 |  0:00:00s\n",
      "epoch 3  | loss: 1.20727 | valid_accuracy: 0.47826 |  0:00:00s\n",
      "epoch 4  | loss: 1.10255 | valid_accuracy: 0.34783 |  0:00:00s\n",
      "epoch 5  | loss: 1.11379 | valid_accuracy: 0.43478 |  0:00:00s\n",
      "epoch 6  | loss: 1.31716 | valid_accuracy: 0.47826 |  0:00:00s\n",
      "epoch 7  | loss: 1.37926 | valid_accuracy: 0.56522 |  0:00:00s\n",
      "epoch 8  | loss: 1.27628 | valid_accuracy: 0.34783 |  0:00:00s\n",
      "epoch 9  | loss: 1.3519  | valid_accuracy: 0.3913  |  0:00:00s\n",
      "epoch 10 | loss: 1.34214 | valid_accuracy: 0.3913  |  0:00:00s\n",
      "epoch 11 | loss: 1.123   | valid_accuracy: 0.26087 |  0:00:00s\n",
      "epoch 12 | loss: 1.12898 | valid_accuracy: 0.21739 |  0:00:00s\n",
      "\n",
      "Early stopping occurred at epoch 12 with best_epoch = 2 and best_valid_accuracy = 0.56522\n"
     ]
    },
    {
     "name": "stderr",
     "output_type": "stream",
     "text": [
      "c:\\Users\\carly\\anaconda3\\envs\\dyspepsia_research\\lib\\site-packages\\pytorch_tabnet\\callbacks.py:172: UserWarning: Best weights from best epoch are automatically used!\n",
      "  warnings.warn(wrn_msg)\n",
      "c:\\Users\\carly\\anaconda3\\envs\\dyspepsia_research\\lib\\site-packages\\pytorch_tabnet\\abstract_model.py:82: UserWarning: Device used : cpu\n",
      "  warnings.warn(f\"Device used : {self.device}\")\n"
     ]
    },
    {
     "name": "stdout",
     "output_type": "stream",
     "text": [
      "epoch 0  | loss: 1.72041 | valid_accuracy: 0.43478 |  0:00:00s\n",
      "epoch 1  | loss: 1.73884 | valid_accuracy: 0.34783 |  0:00:00s\n",
      "epoch 2  | loss: 1.17879 | valid_accuracy: 0.26087 |  0:00:00s\n",
      "epoch 3  | loss: 1.23734 | valid_accuracy: 0.30435 |  0:00:00s\n",
      "epoch 4  | loss: 1.54269 | valid_accuracy: 0.3913  |  0:00:00s\n",
      "epoch 5  | loss: 1.38369 | valid_accuracy: 0.34783 |  0:00:00s\n",
      "epoch 6  | loss: 1.2667  | valid_accuracy: 0.43478 |  0:00:00s\n",
      "epoch 7  | loss: 1.15217 | valid_accuracy: 0.34783 |  0:00:00s\n",
      "epoch 8  | loss: 1.14366 | valid_accuracy: 0.3913  |  0:00:00s\n",
      "epoch 9  | loss: 1.02381 | valid_accuracy: 0.3913  |  0:00:00s\n",
      "epoch 10 | loss: 1.11225 | valid_accuracy: 0.47826 |  0:00:00s\n",
      "epoch 11 | loss: 1.10919 | valid_accuracy: 0.43478 |  0:00:00s\n",
      "epoch 12 | loss: 1.07814 | valid_accuracy: 0.3913  |  0:00:00s\n",
      "epoch 13 | loss: 0.98875 | valid_accuracy: 0.47826 |  0:00:00s\n",
      "epoch 14 | loss: 0.9559  | valid_accuracy: 0.3913  |  0:00:00s\n",
      "epoch 15 | loss: 1.05489 | valid_accuracy: 0.34783 |  0:00:00s\n",
      "epoch 16 | loss: 0.99067 | valid_accuracy: 0.43478 |  0:00:01s\n",
      "epoch 17 | loss: 0.87797 | valid_accuracy: 0.56522 |  0:00:01s\n",
      "epoch 18 | loss: 1.00261 | valid_accuracy: 0.43478 |  0:00:01s\n",
      "epoch 19 | loss: 1.08939 | valid_accuracy: 0.47826 |  0:00:01s\n",
      "epoch 20 | loss: 1.00486 | valid_accuracy: 0.3913  |  0:00:01s\n",
      "epoch 21 | loss: 1.03388 | valid_accuracy: 0.52174 |  0:00:01s\n",
      "epoch 22 | loss: 0.91394 | valid_accuracy: 0.47826 |  0:00:01s\n",
      "epoch 23 | loss: 0.91827 | valid_accuracy: 0.47826 |  0:00:01s\n",
      "epoch 24 | loss: 0.93341 | valid_accuracy: 0.47826 |  0:00:01s\n",
      "epoch 25 | loss: 0.94488 | valid_accuracy: 0.52174 |  0:00:01s\n",
      "epoch 26 | loss: 0.96905 | valid_accuracy: 0.47826 |  0:00:01s\n",
      "epoch 27 | loss: 0.79089 | valid_accuracy: 0.43478 |  0:00:01s\n",
      "\n",
      "Early stopping occurred at epoch 27 with best_epoch = 17 and best_valid_accuracy = 0.56522\n",
      "평균 F1 Score: 0.5385\n",
      "\n",
      "현재 파라미터 조합: {'gamma': 1.3, 'lambda_sparse': 0.0001, 'n_a': 8, 'n_d': 16, 'n_steps': 5, 'optimizer_params': {'lr': 0.01}}\n",
      "epoch 0  | loss: 2.01051 | valid_accuracy: 0.5     |  0:00:00s\n",
      "epoch 1  | loss: 1.6151  | valid_accuracy: 0.45833 |  0:00:00s\n"
     ]
    },
    {
     "name": "stderr",
     "output_type": "stream",
     "text": [
      "c:\\Users\\carly\\anaconda3\\envs\\dyspepsia_research\\lib\\site-packages\\pytorch_tabnet\\callbacks.py:172: UserWarning: Best weights from best epoch are automatically used!\n",
      "  warnings.warn(wrn_msg)\n",
      "c:\\Users\\carly\\anaconda3\\envs\\dyspepsia_research\\lib\\site-packages\\pytorch_tabnet\\abstract_model.py:82: UserWarning: Device used : cpu\n",
      "  warnings.warn(f\"Device used : {self.device}\")\n"
     ]
    },
    {
     "name": "stdout",
     "output_type": "stream",
     "text": [
      "epoch 2  | loss: 1.47048 | valid_accuracy: 0.33333 |  0:00:00s\n",
      "epoch 3  | loss: 1.6755  | valid_accuracy: 0.45833 |  0:00:00s\n",
      "epoch 4  | loss: 1.56907 | valid_accuracy: 0.5     |  0:00:00s\n",
      "epoch 5  | loss: 1.28823 | valid_accuracy: 0.54167 |  0:00:00s\n",
      "epoch 6  | loss: 1.06127 | valid_accuracy: 0.45833 |  0:00:00s\n",
      "epoch 7  | loss: 1.24996 | valid_accuracy: 0.54167 |  0:00:00s\n",
      "epoch 8  | loss: 1.17917 | valid_accuracy: 0.5     |  0:00:00s\n",
      "epoch 9  | loss: 1.06842 | valid_accuracy: 0.41667 |  0:00:00s\n",
      "epoch 10 | loss: 0.9837  | valid_accuracy: 0.45833 |  0:00:00s\n",
      "epoch 11 | loss: 0.92942 | valid_accuracy: 0.33333 |  0:00:00s\n",
      "epoch 12 | loss: 1.02747 | valid_accuracy: 0.45833 |  0:00:00s\n",
      "epoch 13 | loss: 0.95594 | valid_accuracy: 0.45833 |  0:00:00s\n",
      "epoch 14 | loss: 0.8769  | valid_accuracy: 0.41667 |  0:00:00s\n",
      "epoch 15 | loss: 1.02653 | valid_accuracy: 0.45833 |  0:00:01s\n",
      "\n",
      "Early stopping occurred at epoch 15 with best_epoch = 5 and best_valid_accuracy = 0.54167\n",
      "epoch 0  | loss: 1.72314 | valid_accuracy: 0.3913  |  0:00:00s\n"
     ]
    },
    {
     "name": "stderr",
     "output_type": "stream",
     "text": [
      "c:\\Users\\carly\\anaconda3\\envs\\dyspepsia_research\\lib\\site-packages\\pytorch_tabnet\\callbacks.py:172: UserWarning: Best weights from best epoch are automatically used!\n",
      "  warnings.warn(wrn_msg)\n",
      "c:\\Users\\carly\\anaconda3\\envs\\dyspepsia_research\\lib\\site-packages\\pytorch_tabnet\\abstract_model.py:82: UserWarning: Device used : cpu\n",
      "  warnings.warn(f\"Device used : {self.device}\")\n"
     ]
    },
    {
     "name": "stdout",
     "output_type": "stream",
     "text": [
      "epoch 1  | loss: 1.63827 | valid_accuracy: 0.34783 |  0:00:00s\n",
      "epoch 2  | loss: 1.64195 | valid_accuracy: 0.34783 |  0:00:00s\n",
      "epoch 3  | loss: 1.30268 | valid_accuracy: 0.43478 |  0:00:00s\n",
      "epoch 4  | loss: 1.3745  | valid_accuracy: 0.3913  |  0:00:00s\n",
      "epoch 5  | loss: 1.15166 | valid_accuracy: 0.34783 |  0:00:00s\n",
      "epoch 6  | loss: 1.38706 | valid_accuracy: 0.47826 |  0:00:00s\n",
      "epoch 7  | loss: 1.07025 | valid_accuracy: 0.43478 |  0:00:00s\n",
      "epoch 8  | loss: 1.16252 | valid_accuracy: 0.34783 |  0:00:00s\n",
      "epoch 9  | loss: 1.2092  | valid_accuracy: 0.47826 |  0:00:00s\n",
      "epoch 10 | loss: 1.21946 | valid_accuracy: 0.6087  |  0:00:00s\n",
      "epoch 11 | loss: 1.04536 | valid_accuracy: 0.3913  |  0:00:00s\n",
      "epoch 12 | loss: 1.00111 | valid_accuracy: 0.30435 |  0:00:00s\n",
      "epoch 13 | loss: 1.19415 | valid_accuracy: 0.43478 |  0:00:00s\n",
      "epoch 14 | loss: 1.17678 | valid_accuracy: 0.34783 |  0:00:01s\n",
      "epoch 15 | loss: 1.13466 | valid_accuracy: 0.47826 |  0:00:01s\n",
      "epoch 16 | loss: 1.15265 | valid_accuracy: 0.56522 |  0:00:01s\n",
      "epoch 17 | loss: 1.19155 | valid_accuracy: 0.56522 |  0:00:01s\n",
      "epoch 18 | loss: 1.10438 | valid_accuracy: 0.47826 |  0:00:01s\n",
      "epoch 19 | loss: 0.99518 | valid_accuracy: 0.3913  |  0:00:01s\n",
      "epoch 20 | loss: 0.94937 | valid_accuracy: 0.30435 |  0:00:01s\n",
      "\n",
      "Early stopping occurred at epoch 20 with best_epoch = 10 and best_valid_accuracy = 0.6087\n",
      "epoch 0  | loss: 1.72041 | valid_accuracy: 0.3913  |  0:00:00s\n",
      "epoch 1  | loss: 1.70925 | valid_accuracy: 0.34783 |  0:00:00s\n"
     ]
    },
    {
     "name": "stderr",
     "output_type": "stream",
     "text": [
      "c:\\Users\\carly\\anaconda3\\envs\\dyspepsia_research\\lib\\site-packages\\pytorch_tabnet\\callbacks.py:172: UserWarning: Best weights from best epoch are automatically used!\n",
      "  warnings.warn(wrn_msg)\n",
      "c:\\Users\\carly\\anaconda3\\envs\\dyspepsia_research\\lib\\site-packages\\pytorch_tabnet\\abstract_model.py:82: UserWarning: Device used : cpu\n",
      "  warnings.warn(f\"Device used : {self.device}\")\n"
     ]
    },
    {
     "name": "stdout",
     "output_type": "stream",
     "text": [
      "epoch 2  | loss: 1.64947 | valid_accuracy: 0.43478 |  0:00:00s\n",
      "epoch 3  | loss: 1.49403 | valid_accuracy: 0.21739 |  0:00:00s\n",
      "epoch 4  | loss: 1.33429 | valid_accuracy: 0.34783 |  0:00:00s\n",
      "epoch 5  | loss: 1.09677 | valid_accuracy: 0.30435 |  0:00:00s\n",
      "epoch 6  | loss: 1.42171 | valid_accuracy: 0.43478 |  0:00:00s\n",
      "epoch 7  | loss: 1.05537 | valid_accuracy: 0.34783 |  0:00:00s\n",
      "epoch 8  | loss: 1.15052 | valid_accuracy: 0.3913  |  0:00:00s\n",
      "epoch 9  | loss: 1.35807 | valid_accuracy: 0.43478 |  0:00:00s\n",
      "epoch 10 | loss: 1.2031  | valid_accuracy: 0.47826 |  0:00:00s\n",
      "epoch 11 | loss: 1.1982  | valid_accuracy: 0.47826 |  0:00:00s\n",
      "epoch 12 | loss: 1.26686 | valid_accuracy: 0.3913  |  0:00:00s\n",
      "epoch 13 | loss: 1.35393 | valid_accuracy: 0.34783 |  0:00:00s\n",
      "epoch 14 | loss: 1.18094 | valid_accuracy: 0.3913  |  0:00:00s\n",
      "epoch 15 | loss: 1.11423 | valid_accuracy: 0.43478 |  0:00:00s\n",
      "epoch 16 | loss: 1.04246 | valid_accuracy: 0.43478 |  0:00:01s\n",
      "epoch 17 | loss: 1.07786 | valid_accuracy: 0.52174 |  0:00:01s\n",
      "epoch 18 | loss: 0.99373 | valid_accuracy: 0.30435 |  0:00:01s\n",
      "epoch 19 | loss: 0.95867 | valid_accuracy: 0.47826 |  0:00:01s\n",
      "epoch 20 | loss: 0.95376 | valid_accuracy: 0.34783 |  0:00:01s\n",
      "epoch 21 | loss: 1.1255  | valid_accuracy: 0.43478 |  0:00:01s\n",
      "epoch 22 | loss: 0.92474 | valid_accuracy: 0.52174 |  0:00:01s\n",
      "epoch 23 | loss: 1.06844 | valid_accuracy: 0.43478 |  0:00:01s\n",
      "epoch 24 | loss: 0.98037 | valid_accuracy: 0.47826 |  0:00:01s\n",
      "epoch 25 | loss: 0.98889 | valid_accuracy: 0.47826 |  0:00:01s\n",
      "epoch 26 | loss: 0.91347 | valid_accuracy: 0.43478 |  0:00:01s\n",
      "epoch 27 | loss: 0.85954 | valid_accuracy: 0.3913  |  0:00:01s\n",
      "\n",
      "Early stopping occurred at epoch 27 with best_epoch = 17 and best_valid_accuracy = 0.52174\n",
      "평균 F1 Score: 0.5164\n",
      "\n",
      "현재 파라미터 조합: {'gamma': 1.3, 'lambda_sparse': 0.0001, 'n_a': 16, 'n_d': 8, 'n_steps': 3, 'optimizer_params': {'lr': 0.02}}\n",
      "epoch 0  | loss: 1.57239 | valid_accuracy: 0.25    |  0:00:00s\n",
      "epoch 1  | loss: 1.37603 | valid_accuracy: 0.29167 |  0:00:00s\n",
      "epoch 2  | loss: 1.23723 | valid_accuracy: 0.29167 |  0:00:00s\n"
     ]
    },
    {
     "name": "stderr",
     "output_type": "stream",
     "text": [
      "c:\\Users\\carly\\anaconda3\\envs\\dyspepsia_research\\lib\\site-packages\\pytorch_tabnet\\callbacks.py:172: UserWarning: Best weights from best epoch are automatically used!\n",
      "  warnings.warn(wrn_msg)\n",
      "c:\\Users\\carly\\anaconda3\\envs\\dyspepsia_research\\lib\\site-packages\\pytorch_tabnet\\abstract_model.py:82: UserWarning: Device used : cpu\n",
      "  warnings.warn(f\"Device used : {self.device}\")\n"
     ]
    },
    {
     "name": "stdout",
     "output_type": "stream",
     "text": [
      "epoch 3  | loss: 1.15669 | valid_accuracy: 0.45833 |  0:00:00s\n",
      "epoch 4  | loss: 1.06027 | valid_accuracy: 0.375   |  0:00:00s\n",
      "epoch 5  | loss: 0.81038 | valid_accuracy: 0.45833 |  0:00:00s\n",
      "epoch 6  | loss: 0.88997 | valid_accuracy: 0.41667 |  0:00:00s\n",
      "epoch 7  | loss: 0.96629 | valid_accuracy: 0.5     |  0:00:00s\n",
      "epoch 8  | loss: 0.85287 | valid_accuracy: 0.45833 |  0:00:00s\n",
      "epoch 9  | loss: 0.87779 | valid_accuracy: 0.41667 |  0:00:00s\n",
      "epoch 10 | loss: 0.81603 | valid_accuracy: 0.375   |  0:00:00s\n",
      "epoch 11 | loss: 0.67209 | valid_accuracy: 0.33333 |  0:00:00s\n",
      "epoch 12 | loss: 0.63178 | valid_accuracy: 0.375   |  0:00:00s\n",
      "epoch 13 | loss: 0.53832 | valid_accuracy: 0.5     |  0:00:00s\n",
      "epoch 14 | loss: 0.51924 | valid_accuracy: 0.5     |  0:00:00s\n",
      "epoch 15 | loss: 0.48112 | valid_accuracy: 0.45833 |  0:00:00s\n",
      "epoch 16 | loss: 0.52617 | valid_accuracy: 0.45833 |  0:00:00s\n",
      "epoch 17 | loss: 0.45506 | valid_accuracy: 0.5     |  0:00:00s\n",
      "\n",
      "Early stopping occurred at epoch 17 with best_epoch = 7 and best_valid_accuracy = 0.5\n",
      "epoch 0  | loss: 1.58697 | valid_accuracy: 0.21739 |  0:00:00s\n",
      "epoch 1  | loss: 1.52832 | valid_accuracy: 0.21739 |  0:00:00s\n",
      "epoch 2  | loss: 1.29146 | valid_accuracy: 0.21739 |  0:00:00s\n"
     ]
    },
    {
     "name": "stderr",
     "output_type": "stream",
     "text": [
      "c:\\Users\\carly\\anaconda3\\envs\\dyspepsia_research\\lib\\site-packages\\pytorch_tabnet\\callbacks.py:172: UserWarning: Best weights from best epoch are automatically used!\n",
      "  warnings.warn(wrn_msg)\n",
      "c:\\Users\\carly\\anaconda3\\envs\\dyspepsia_research\\lib\\site-packages\\pytorch_tabnet\\abstract_model.py:82: UserWarning: Device used : cpu\n",
      "  warnings.warn(f\"Device used : {self.device}\")\n"
     ]
    },
    {
     "name": "stdout",
     "output_type": "stream",
     "text": [
      "epoch 3  | loss: 1.31545 | valid_accuracy: 0.30435 |  0:00:00s\n",
      "epoch 4  | loss: 1.14021 | valid_accuracy: 0.34783 |  0:00:00s\n",
      "epoch 5  | loss: 0.9339  | valid_accuracy: 0.3913  |  0:00:00s\n",
      "epoch 6  | loss: 0.975   | valid_accuracy: 0.43478 |  0:00:00s\n",
      "epoch 7  | loss: 0.92305 | valid_accuracy: 0.21739 |  0:00:00s\n",
      "epoch 8  | loss: 0.83166 | valid_accuracy: 0.43478 |  0:00:00s\n",
      "epoch 9  | loss: 0.9274  | valid_accuracy: 0.3913  |  0:00:00s\n",
      "epoch 10 | loss: 0.85615 | valid_accuracy: 0.3913  |  0:00:00s\n",
      "epoch 11 | loss: 0.97766 | valid_accuracy: 0.47826 |  0:00:00s\n",
      "epoch 12 | loss: 0.89136 | valid_accuracy: 0.6087  |  0:00:00s\n",
      "epoch 13 | loss: 0.79604 | valid_accuracy: 0.47826 |  0:00:00s\n",
      "epoch 14 | loss: 0.82599 | valid_accuracy: 0.43478 |  0:00:00s\n",
      "epoch 15 | loss: 0.70534 | valid_accuracy: 0.52174 |  0:00:00s\n",
      "epoch 16 | loss: 0.63586 | valid_accuracy: 0.43478 |  0:00:00s\n",
      "epoch 17 | loss: 0.56803 | valid_accuracy: 0.52174 |  0:00:00s\n",
      "epoch 18 | loss: 0.50387 | valid_accuracy: 0.52174 |  0:00:00s\n",
      "epoch 19 | loss: 0.43372 | valid_accuracy: 0.3913  |  0:00:00s\n",
      "epoch 20 | loss: 0.40986 | valid_accuracy: 0.43478 |  0:00:00s\n",
      "epoch 21 | loss: 0.34792 | valid_accuracy: 0.47826 |  0:00:00s\n",
      "epoch 22 | loss: 0.30013 | valid_accuracy: 0.43478 |  0:00:00s\n",
      "\n",
      "Early stopping occurred at epoch 22 with best_epoch = 12 and best_valid_accuracy = 0.6087\n",
      "epoch 0  | loss: 1.37878 | valid_accuracy: 0.21739 |  0:00:00s\n",
      "epoch 1  | loss: 1.36669 | valid_accuracy: 0.3913  |  0:00:00s\n"
     ]
    },
    {
     "name": "stderr",
     "output_type": "stream",
     "text": [
      "c:\\Users\\carly\\anaconda3\\envs\\dyspepsia_research\\lib\\site-packages\\pytorch_tabnet\\callbacks.py:172: UserWarning: Best weights from best epoch are automatically used!\n",
      "  warnings.warn(wrn_msg)\n",
      "c:\\Users\\carly\\anaconda3\\envs\\dyspepsia_research\\lib\\site-packages\\pytorch_tabnet\\abstract_model.py:82: UserWarning: Device used : cpu\n",
      "  warnings.warn(f\"Device used : {self.device}\")\n"
     ]
    },
    {
     "name": "stdout",
     "output_type": "stream",
     "text": [
      "epoch 2  | loss: 1.28768 | valid_accuracy: 0.17391 |  0:00:00s\n",
      "epoch 3  | loss: 1.07221 | valid_accuracy: 0.34783 |  0:00:00s\n",
      "epoch 4  | loss: 1.06677 | valid_accuracy: 0.26087 |  0:00:00s\n",
      "epoch 5  | loss: 1.01112 | valid_accuracy: 0.34783 |  0:00:00s\n",
      "epoch 6  | loss: 1.03448 | valid_accuracy: 0.47826 |  0:00:00s\n",
      "epoch 7  | loss: 0.92005 | valid_accuracy: 0.52174 |  0:00:00s\n",
      "epoch 8  | loss: 0.97577 | valid_accuracy: 0.43478 |  0:00:00s\n",
      "epoch 9  | loss: 0.83164 | valid_accuracy: 0.3913  |  0:00:00s\n",
      "epoch 10 | loss: 0.79048 | valid_accuracy: 0.47826 |  0:00:00s\n",
      "epoch 11 | loss: 0.79495 | valid_accuracy: 0.3913  |  0:00:00s\n",
      "epoch 12 | loss: 0.76661 | valid_accuracy: 0.52174 |  0:00:00s\n",
      "epoch 13 | loss: 0.64228 | valid_accuracy: 0.52174 |  0:00:00s\n",
      "epoch 14 | loss: 0.57168 | valid_accuracy: 0.43478 |  0:00:00s\n",
      "epoch 15 | loss: 0.51911 | valid_accuracy: 0.47826 |  0:00:00s\n",
      "epoch 16 | loss: 0.66216 | valid_accuracy: 0.43478 |  0:00:00s\n",
      "epoch 17 | loss: 0.53813 | valid_accuracy: 0.6087  |  0:00:00s\n",
      "epoch 18 | loss: 0.50424 | valid_accuracy: 0.56522 |  0:00:00s\n",
      "epoch 19 | loss: 0.47131 | valid_accuracy: 0.6087  |  0:00:00s\n",
      "epoch 20 | loss: 0.40577 | valid_accuracy: 0.6087  |  0:00:00s\n",
      "epoch 21 | loss: 0.32288 | valid_accuracy: 0.6087  |  0:00:00s\n",
      "epoch 22 | loss: 0.24212 | valid_accuracy: 0.56522 |  0:00:00s\n",
      "epoch 23 | loss: 0.19232 | valid_accuracy: 0.56522 |  0:00:00s\n",
      "epoch 24 | loss: 0.14986 | valid_accuracy: 0.56522 |  0:00:00s\n",
      "epoch 25 | loss: 0.12381 | valid_accuracy: 0.6087  |  0:00:00s\n",
      "epoch 26 | loss: 0.09172 | valid_accuracy: 0.6087  |  0:00:01s\n",
      "epoch 27 | loss: 0.20427 | valid_accuracy: 0.52174 |  0:00:01s\n",
      "\n",
      "Early stopping occurred at epoch 27 with best_epoch = 17 and best_valid_accuracy = 0.6087\n",
      "평균 F1 Score: 0.4847\n",
      "\n",
      "현재 파라미터 조합: {'gamma': 1.3, 'lambda_sparse': 0.0001, 'n_a': 16, 'n_d': 8, 'n_steps': 3, 'optimizer_params': {'lr': 0.01}}\n",
      "epoch 0  | loss: 1.57239 | valid_accuracy: 0.45833 |  0:00:00s\n",
      "epoch 1  | loss: 1.4565  | valid_accuracy: 0.25    |  0:00:00s\n",
      "epoch 2  | loss: 1.43073 | valid_accuracy: 0.375   |  0:00:00s\n",
      "epoch 3  | loss: 1.35659 | valid_accuracy: 0.25    |  0:00:00s\n",
      "epoch 4  | loss: 1.15483 | valid_accuracy: 0.16667 |  0:00:00s\n"
     ]
    },
    {
     "name": "stderr",
     "output_type": "stream",
     "text": [
      "c:\\Users\\carly\\anaconda3\\envs\\dyspepsia_research\\lib\\site-packages\\pytorch_tabnet\\callbacks.py:172: UserWarning: Best weights from best epoch are automatically used!\n",
      "  warnings.warn(wrn_msg)\n",
      "c:\\Users\\carly\\anaconda3\\envs\\dyspepsia_research\\lib\\site-packages\\pytorch_tabnet\\abstract_model.py:82: UserWarning: Device used : cpu\n",
      "  warnings.warn(f\"Device used : {self.device}\")\n"
     ]
    },
    {
     "name": "stdout",
     "output_type": "stream",
     "text": [
      "epoch 5  | loss: 1.09492 | valid_accuracy: 0.29167 |  0:00:00s\n",
      "epoch 6  | loss: 1.00049 | valid_accuracy: 0.20833 |  0:00:00s\n",
      "epoch 7  | loss: 1.0486  | valid_accuracy: 0.16667 |  0:00:00s\n",
      "epoch 8  | loss: 0.92964 | valid_accuracy: 0.29167 |  0:00:00s\n",
      "epoch 9  | loss: 0.86169 | valid_accuracy: 0.375   |  0:00:00s\n",
      "epoch 10 | loss: 0.82956 | valid_accuracy: 0.375   |  0:00:00s\n",
      "\n",
      "Early stopping occurred at epoch 10 with best_epoch = 0 and best_valid_accuracy = 0.45833\n"
     ]
    },
    {
     "name": "stderr",
     "output_type": "stream",
     "text": [
      "c:\\Users\\carly\\anaconda3\\envs\\dyspepsia_research\\lib\\site-packages\\pytorch_tabnet\\callbacks.py:172: UserWarning: Best weights from best epoch are automatically used!\n",
      "  warnings.warn(wrn_msg)\n",
      "c:\\Users\\carly\\anaconda3\\envs\\dyspepsia_research\\lib\\site-packages\\pytorch_tabnet\\abstract_model.py:82: UserWarning: Device used : cpu\n",
      "  warnings.warn(f\"Device used : {self.device}\")\n"
     ]
    },
    {
     "name": "stdout",
     "output_type": "stream",
     "text": [
      "epoch 0  | loss: 1.58697 | valid_accuracy: 0.26087 |  0:00:00s\n",
      "epoch 1  | loss: 1.51519 | valid_accuracy: 0.30435 |  0:00:00s\n",
      "epoch 2  | loss: 1.5343  | valid_accuracy: 0.26087 |  0:00:00s\n",
      "epoch 3  | loss: 1.41507 | valid_accuracy: 0.26087 |  0:00:00s\n",
      "epoch 4  | loss: 1.28474 | valid_accuracy: 0.13043 |  0:00:00s\n",
      "epoch 5  | loss: 1.14215 | valid_accuracy: 0.34783 |  0:00:00s\n",
      "epoch 6  | loss: 0.95517 | valid_accuracy: 0.21739 |  0:00:00s\n",
      "epoch 7  | loss: 0.90606 | valid_accuracy: 0.26087 |  0:00:00s\n",
      "epoch 8  | loss: 0.9588  | valid_accuracy: 0.3913  |  0:00:00s\n",
      "epoch 9  | loss: 0.93791 | valid_accuracy: 0.34783 |  0:00:00s\n",
      "epoch 10 | loss: 0.88479 | valid_accuracy: 0.47826 |  0:00:00s\n",
      "epoch 11 | loss: 0.79359 | valid_accuracy: 0.34783 |  0:00:00s\n",
      "epoch 12 | loss: 0.76325 | valid_accuracy: 0.26087 |  0:00:00s\n",
      "epoch 13 | loss: 0.70048 | valid_accuracy: 0.47826 |  0:00:00s\n",
      "epoch 14 | loss: 0.65137 | valid_accuracy: 0.34783 |  0:00:00s\n",
      "epoch 15 | loss: 0.60372 | valid_accuracy: 0.34783 |  0:00:00s\n",
      "epoch 16 | loss: 0.54484 | valid_accuracy: 0.21739 |  0:00:00s\n",
      "epoch 17 | loss: 0.63602 | valid_accuracy: 0.26087 |  0:00:00s\n",
      "epoch 18 | loss: 0.53865 | valid_accuracy: 0.30435 |  0:00:00s\n",
      "epoch 19 | loss: 0.45196 | valid_accuracy: 0.52174 |  0:00:00s\n",
      "epoch 20 | loss: 0.41461 | valid_accuracy: 0.47826 |  0:00:00s\n",
      "epoch 21 | loss: 0.37584 | valid_accuracy: 0.43478 |  0:00:00s\n",
      "epoch 22 | loss: 0.31299 | valid_accuracy: 0.47826 |  0:00:00s\n",
      "epoch 23 | loss: 0.33555 | valid_accuracy: 0.3913  |  0:00:00s\n",
      "epoch 24 | loss: 0.24402 | valid_accuracy: 0.3913  |  0:00:00s\n",
      "epoch 25 | loss: 0.24511 | valid_accuracy: 0.3913  |  0:00:00s\n",
      "epoch 26 | loss: 0.19834 | valid_accuracy: 0.34783 |  0:00:01s\n",
      "epoch 27 | loss: 0.21494 | valid_accuracy: 0.34783 |  0:00:01s\n",
      "epoch 28 | loss: 0.16518 | valid_accuracy: 0.26087 |  0:00:01s\n",
      "epoch 29 | loss: 0.12533 | valid_accuracy: 0.30435 |  0:00:01s\n",
      "\n",
      "Early stopping occurred at epoch 29 with best_epoch = 19 and best_valid_accuracy = 0.52174\n"
     ]
    },
    {
     "name": "stderr",
     "output_type": "stream",
     "text": [
      "c:\\Users\\carly\\anaconda3\\envs\\dyspepsia_research\\lib\\site-packages\\pytorch_tabnet\\callbacks.py:172: UserWarning: Best weights from best epoch are automatically used!\n",
      "  warnings.warn(wrn_msg)\n",
      "c:\\Users\\carly\\anaconda3\\envs\\dyspepsia_research\\lib\\site-packages\\pytorch_tabnet\\abstract_model.py:82: UserWarning: Device used : cpu\n",
      "  warnings.warn(f\"Device used : {self.device}\")\n"
     ]
    },
    {
     "name": "stdout",
     "output_type": "stream",
     "text": [
      "epoch 0  | loss: 1.37878 | valid_accuracy: 0.26087 |  0:00:00s\n",
      "epoch 1  | loss: 1.42736 | valid_accuracy: 0.26087 |  0:00:00s\n",
      "epoch 2  | loss: 1.40333 | valid_accuracy: 0.3913  |  0:00:00s\n",
      "epoch 3  | loss: 1.32796 | valid_accuracy: 0.17391 |  0:00:00s\n",
      "epoch 4  | loss: 1.2086  | valid_accuracy: 0.13043 |  0:00:00s\n",
      "epoch 5  | loss: 1.03535 | valid_accuracy: 0.30435 |  0:00:00s\n",
      "epoch 6  | loss: 1.11693 | valid_accuracy: 0.30435 |  0:00:00s\n",
      "epoch 7  | loss: 0.94091 | valid_accuracy: 0.30435 |  0:00:00s\n",
      "epoch 8  | loss: 0.8596  | valid_accuracy: 0.3913  |  0:00:00s\n",
      "epoch 9  | loss: 0.89333 | valid_accuracy: 0.43478 |  0:00:00s\n",
      "epoch 10 | loss: 0.88917 | valid_accuracy: 0.3913  |  0:00:00s\n",
      "epoch 11 | loss: 0.78066 | valid_accuracy: 0.43478 |  0:00:00s\n",
      "epoch 12 | loss: 0.81011 | valid_accuracy: 0.47826 |  0:00:00s\n",
      "epoch 13 | loss: 0.71579 | valid_accuracy: 0.6087  |  0:00:00s\n",
      "epoch 14 | loss: 0.66447 | valid_accuracy: 0.52174 |  0:00:00s\n",
      "epoch 15 | loss: 0.60335 | valid_accuracy: 0.52174 |  0:00:00s\n",
      "epoch 16 | loss: 0.53665 | valid_accuracy: 0.52174 |  0:00:00s\n",
      "epoch 17 | loss: 0.54194 | valid_accuracy: 0.43478 |  0:00:00s\n",
      "epoch 18 | loss: 0.47387 | valid_accuracy: 0.3913  |  0:00:00s\n",
      "epoch 19 | loss: 0.42794 | valid_accuracy: 0.43478 |  0:00:00s\n",
      "epoch 20 | loss: 0.38155 | valid_accuracy: 0.47826 |  0:00:00s\n",
      "epoch 21 | loss: 0.32946 | valid_accuracy: 0.47826 |  0:00:00s\n",
      "epoch 22 | loss: 0.29042 | valid_accuracy: 0.47826 |  0:00:00s\n",
      "epoch 23 | loss: 0.28247 | valid_accuracy: 0.47826 |  0:00:00s\n",
      "\n",
      "Early stopping occurred at epoch 23 with best_epoch = 13 and best_valid_accuracy = 0.6087\n"
     ]
    },
    {
     "name": "stderr",
     "output_type": "stream",
     "text": [
      "c:\\Users\\carly\\anaconda3\\envs\\dyspepsia_research\\lib\\site-packages\\pytorch_tabnet\\callbacks.py:172: UserWarning: Best weights from best epoch are automatically used!\n",
      "  warnings.warn(wrn_msg)\n",
      "c:\\Users\\carly\\anaconda3\\envs\\dyspepsia_research\\lib\\site-packages\\pytorch_tabnet\\abstract_model.py:82: UserWarning: Device used : cpu\n",
      "  warnings.warn(f\"Device used : {self.device}\")\n"
     ]
    },
    {
     "name": "stdout",
     "output_type": "stream",
     "text": [
      "평균 F1 Score: 0.4788\n",
      "\n",
      "현재 파라미터 조합: {'gamma': 1.3, 'lambda_sparse': 0.0001, 'n_a': 16, 'n_d': 8, 'n_steps': 5, 'optimizer_params': {'lr': 0.02}}\n",
      "epoch 0  | loss: 1.78913 | valid_accuracy: 0.5     |  0:00:00s\n",
      "epoch 1  | loss: 1.59435 | valid_accuracy: 0.45833 |  0:00:00s\n",
      "epoch 2  | loss: 1.52908 | valid_accuracy: 0.375   |  0:00:00s\n",
      "epoch 3  | loss: 1.2803  | valid_accuracy: 0.45833 |  0:00:00s\n",
      "epoch 4  | loss: 1.34648 | valid_accuracy: 0.5     |  0:00:00s\n",
      "epoch 5  | loss: 1.20439 | valid_accuracy: 0.33333 |  0:00:00s\n",
      "epoch 6  | loss: 1.42072 | valid_accuracy: 0.41667 |  0:00:00s\n",
      "epoch 7  | loss: 1.33498 | valid_accuracy: 0.54167 |  0:00:00s\n",
      "epoch 8  | loss: 1.03922 | valid_accuracy: 0.33333 |  0:00:00s\n",
      "epoch 9  | loss: 1.09003 | valid_accuracy: 0.41667 |  0:00:00s\n",
      "epoch 10 | loss: 0.97217 | valid_accuracy: 0.33333 |  0:00:00s\n",
      "epoch 11 | loss: 1.05157 | valid_accuracy: 0.20833 |  0:00:00s\n",
      "epoch 12 | loss: 1.16759 | valid_accuracy: 0.16667 |  0:00:00s\n",
      "epoch 13 | loss: 1.13537 | valid_accuracy: 0.33333 |  0:00:00s\n",
      "epoch 14 | loss: 1.11463 | valid_accuracy: 0.5     |  0:00:00s\n",
      "epoch 15 | loss: 0.91464 | valid_accuracy: 0.41667 |  0:00:00s\n",
      "epoch 16 | loss: 0.98067 | valid_accuracy: 0.41667 |  0:00:00s\n",
      "epoch 17 | loss: 0.93252 | valid_accuracy: 0.58333 |  0:00:01s\n",
      "epoch 18 | loss: 0.81249 | valid_accuracy: 0.375   |  0:00:01s\n",
      "epoch 19 | loss: 0.81237 | valid_accuracy: 0.41667 |  0:00:01s\n",
      "epoch 20 | loss: 0.80166 | valid_accuracy: 0.54167 |  0:00:01s\n",
      "epoch 21 | loss: 0.81414 | valid_accuracy: 0.45833 |  0:00:01s\n",
      "epoch 22 | loss: 0.726   | valid_accuracy: 0.5     |  0:00:01s\n",
      "epoch 23 | loss: 0.69153 | valid_accuracy: 0.54167 |  0:00:01s\n",
      "epoch 24 | loss: 0.6635  | valid_accuracy: 0.58333 |  0:00:01s\n",
      "epoch 25 | loss: 0.66659 | valid_accuracy: 0.54167 |  0:00:01s\n",
      "epoch 26 | loss: 0.61975 | valid_accuracy: 0.5     |  0:00:01s\n",
      "epoch 27 | loss: 0.55294 | valid_accuracy: 0.5     |  0:00:01s\n",
      "\n",
      "Early stopping occurred at epoch 27 with best_epoch = 17 and best_valid_accuracy = 0.58333\n",
      "epoch 0  | loss: 1.58082 | valid_accuracy: 0.43478 |  0:00:00s\n",
      "epoch 1  | loss: 1.35381 | valid_accuracy: 0.3913  |  0:00:00s\n"
     ]
    },
    {
     "name": "stderr",
     "output_type": "stream",
     "text": [
      "c:\\Users\\carly\\anaconda3\\envs\\dyspepsia_research\\lib\\site-packages\\pytorch_tabnet\\callbacks.py:172: UserWarning: Best weights from best epoch are automatically used!\n",
      "  warnings.warn(wrn_msg)\n",
      "c:\\Users\\carly\\anaconda3\\envs\\dyspepsia_research\\lib\\site-packages\\pytorch_tabnet\\abstract_model.py:82: UserWarning: Device used : cpu\n",
      "  warnings.warn(f\"Device used : {self.device}\")\n"
     ]
    },
    {
     "name": "stdout",
     "output_type": "stream",
     "text": [
      "epoch 2  | loss: 1.35993 | valid_accuracy: 0.56522 |  0:00:00s\n",
      "epoch 3  | loss: 1.2266  | valid_accuracy: 0.34783 |  0:00:00s\n",
      "epoch 4  | loss: 1.34838 | valid_accuracy: 0.30435 |  0:00:00s\n",
      "epoch 5  | loss: 1.50273 | valid_accuracy: 0.47826 |  0:00:00s\n",
      "epoch 6  | loss: 1.05941 | valid_accuracy: 0.43478 |  0:00:00s\n",
      "epoch 7  | loss: 1.24042 | valid_accuracy: 0.30435 |  0:00:00s\n",
      "epoch 8  | loss: 1.14882 | valid_accuracy: 0.34783 |  0:00:00s\n",
      "epoch 9  | loss: 0.98621 | valid_accuracy: 0.47826 |  0:00:00s\n",
      "epoch 10 | loss: 1.06602 | valid_accuracy: 0.47826 |  0:00:00s\n",
      "epoch 11 | loss: 1.01908 | valid_accuracy: 0.3913  |  0:00:00s\n",
      "epoch 12 | loss: 0.97349 | valid_accuracy: 0.47826 |  0:00:00s\n",
      "\n",
      "Early stopping occurred at epoch 12 with best_epoch = 2 and best_valid_accuracy = 0.56522\n"
     ]
    },
    {
     "name": "stderr",
     "output_type": "stream",
     "text": [
      "c:\\Users\\carly\\anaconda3\\envs\\dyspepsia_research\\lib\\site-packages\\pytorch_tabnet\\callbacks.py:172: UserWarning: Best weights from best epoch are automatically used!\n",
      "  warnings.warn(wrn_msg)\n",
      "c:\\Users\\carly\\anaconda3\\envs\\dyspepsia_research\\lib\\site-packages\\pytorch_tabnet\\abstract_model.py:82: UserWarning: Device used : cpu\n",
      "  warnings.warn(f\"Device used : {self.device}\")\n"
     ]
    },
    {
     "name": "stdout",
     "output_type": "stream",
     "text": [
      "epoch 0  | loss: 1.92531 | valid_accuracy: 0.43478 |  0:00:00s\n",
      "epoch 1  | loss: 1.61264 | valid_accuracy: 0.34783 |  0:00:00s\n",
      "epoch 2  | loss: 1.23274 | valid_accuracy: 0.34783 |  0:00:00s\n",
      "epoch 3  | loss: 1.24431 | valid_accuracy: 0.26087 |  0:00:00s\n",
      "epoch 4  | loss: 1.21335 | valid_accuracy: 0.43478 |  0:00:00s\n",
      "epoch 5  | loss: 1.24964 | valid_accuracy: 0.3913  |  0:00:00s\n",
      "epoch 6  | loss: 1.23954 | valid_accuracy: 0.21739 |  0:00:00s\n",
      "epoch 7  | loss: 1.32248 | valid_accuracy: 0.30435 |  0:00:00s\n",
      "epoch 8  | loss: 1.27399 | valid_accuracy: 0.3913  |  0:00:00s\n",
      "epoch 9  | loss: 0.95567 | valid_accuracy: 0.34783 |  0:00:00s\n",
      "epoch 10 | loss: 0.89573 | valid_accuracy: 0.3913  |  0:00:00s\n",
      "\n",
      "Early stopping occurred at epoch 10 with best_epoch = 0 and best_valid_accuracy = 0.43478\n",
      "평균 F1 Score: 0.4782\n",
      "\n",
      "현재 파라미터 조합: {'gamma': 1.3, 'lambda_sparse': 0.0001, 'n_a': 16, 'n_d': 8, 'n_steps': 5, 'optimizer_params': {'lr': 0.01}}\n"
     ]
    },
    {
     "name": "stderr",
     "output_type": "stream",
     "text": [
      "c:\\Users\\carly\\anaconda3\\envs\\dyspepsia_research\\lib\\site-packages\\pytorch_tabnet\\callbacks.py:172: UserWarning: Best weights from best epoch are automatically used!\n",
      "  warnings.warn(wrn_msg)\n",
      "c:\\Users\\carly\\anaconda3\\envs\\dyspepsia_research\\lib\\site-packages\\pytorch_tabnet\\abstract_model.py:82: UserWarning: Device used : cpu\n",
      "  warnings.warn(f\"Device used : {self.device}\")\n"
     ]
    },
    {
     "name": "stdout",
     "output_type": "stream",
     "text": [
      "epoch 0  | loss: 1.78913 | valid_accuracy: 0.29167 |  0:00:00s\n",
      "epoch 1  | loss: 1.56628 | valid_accuracy: 0.54167 |  0:00:00s\n",
      "epoch 2  | loss: 1.61797 | valid_accuracy: 0.45833 |  0:00:00s\n",
      "epoch 3  | loss: 1.3925  | valid_accuracy: 0.54167 |  0:00:00s\n",
      "epoch 4  | loss: 1.42897 | valid_accuracy: 0.41667 |  0:00:00s\n",
      "epoch 5  | loss: 1.27277 | valid_accuracy: 0.625   |  0:00:00s\n",
      "epoch 6  | loss: 1.52215 | valid_accuracy: 0.29167 |  0:00:00s\n",
      "epoch 7  | loss: 1.48634 | valid_accuracy: 0.375   |  0:00:00s\n",
      "epoch 8  | loss: 1.19216 | valid_accuracy: 0.41667 |  0:00:00s\n",
      "epoch 9  | loss: 1.25684 | valid_accuracy: 0.5     |  0:00:00s\n",
      "epoch 10 | loss: 1.09941 | valid_accuracy: 0.25    |  0:00:00s\n",
      "epoch 11 | loss: 1.24989 | valid_accuracy: 0.33333 |  0:00:00s\n",
      "epoch 12 | loss: 1.40041 | valid_accuracy: 0.33333 |  0:00:00s\n",
      "epoch 13 | loss: 1.21031 | valid_accuracy: 0.25    |  0:00:00s\n",
      "epoch 14 | loss: 1.07922 | valid_accuracy: 0.375   |  0:00:00s\n",
      "epoch 15 | loss: 1.05243 | valid_accuracy: 0.25    |  0:00:01s\n",
      "\n",
      "Early stopping occurred at epoch 15 with best_epoch = 5 and best_valid_accuracy = 0.625\n"
     ]
    },
    {
     "name": "stderr",
     "output_type": "stream",
     "text": [
      "c:\\Users\\carly\\anaconda3\\envs\\dyspepsia_research\\lib\\site-packages\\pytorch_tabnet\\callbacks.py:172: UserWarning: Best weights from best epoch are automatically used!\n",
      "  warnings.warn(wrn_msg)\n",
      "c:\\Users\\carly\\anaconda3\\envs\\dyspepsia_research\\lib\\site-packages\\pytorch_tabnet\\abstract_model.py:82: UserWarning: Device used : cpu\n",
      "  warnings.warn(f\"Device used : {self.device}\")\n"
     ]
    },
    {
     "name": "stdout",
     "output_type": "stream",
     "text": [
      "epoch 0  | loss: 1.58082 | valid_accuracy: 0.52174 |  0:00:00s\n",
      "epoch 1  | loss: 1.45978 | valid_accuracy: 0.3913  |  0:00:00s\n",
      "epoch 2  | loss: 1.58565 | valid_accuracy: 0.34783 |  0:00:00s\n",
      "epoch 3  | loss: 1.65049 | valid_accuracy: 0.34783 |  0:00:00s\n",
      "epoch 4  | loss: 1.60473 | valid_accuracy: 0.43478 |  0:00:00s\n",
      "epoch 5  | loss: 1.49575 | valid_accuracy: 0.34783 |  0:00:00s\n",
      "epoch 6  | loss: 1.33516 | valid_accuracy: 0.3913  |  0:00:00s\n",
      "epoch 7  | loss: 1.32622 | valid_accuracy: 0.3913  |  0:00:00s\n",
      "epoch 8  | loss: 1.55769 | valid_accuracy: 0.30435 |  0:00:00s\n",
      "epoch 9  | loss: 1.77968 | valid_accuracy: 0.21739 |  0:00:00s\n",
      "epoch 10 | loss: 1.34077 | valid_accuracy: 0.30435 |  0:00:00s\n",
      "\n",
      "Early stopping occurred at epoch 10 with best_epoch = 0 and best_valid_accuracy = 0.52174\n"
     ]
    },
    {
     "name": "stderr",
     "output_type": "stream",
     "text": [
      "c:\\Users\\carly\\anaconda3\\envs\\dyspepsia_research\\lib\\site-packages\\pytorch_tabnet\\callbacks.py:172: UserWarning: Best weights from best epoch are automatically used!\n",
      "  warnings.warn(wrn_msg)\n",
      "c:\\Users\\carly\\anaconda3\\envs\\dyspepsia_research\\lib\\site-packages\\pytorch_tabnet\\abstract_model.py:82: UserWarning: Device used : cpu\n",
      "  warnings.warn(f\"Device used : {self.device}\")\n"
     ]
    },
    {
     "name": "stdout",
     "output_type": "stream",
     "text": [
      "epoch 0  | loss: 1.92531 | valid_accuracy: 0.56522 |  0:00:00s\n",
      "epoch 1  | loss: 1.53003 | valid_accuracy: 0.52174 |  0:00:00s\n",
      "epoch 2  | loss: 1.37887 | valid_accuracy: 0.43478 |  0:00:00s\n",
      "epoch 3  | loss: 1.34869 | valid_accuracy: 0.34783 |  0:00:00s\n",
      "epoch 4  | loss: 1.3185  | valid_accuracy: 0.3913  |  0:00:00s\n",
      "epoch 5  | loss: 1.38308 | valid_accuracy: 0.3913  |  0:00:00s\n",
      "epoch 6  | loss: 1.24418 | valid_accuracy: 0.52174 |  0:00:00s\n",
      "epoch 7  | loss: 1.14037 | valid_accuracy: 0.3913  |  0:00:00s\n",
      "epoch 8  | loss: 1.24542 | valid_accuracy: 0.3913  |  0:00:00s\n",
      "epoch 9  | loss: 1.55989 | valid_accuracy: 0.3913  |  0:00:00s\n",
      "epoch 10 | loss: 1.31834 | valid_accuracy: 0.52174 |  0:00:00s\n",
      "\n",
      "Early stopping occurred at epoch 10 with best_epoch = 0 and best_valid_accuracy = 0.56522\n",
      "평균 F1 Score: 0.5203\n",
      "\n",
      "현재 파라미터 조합: {'gamma': 1.3, 'lambda_sparse': 0.0001, 'n_a': 16, 'n_d': 16, 'n_steps': 3, 'optimizer_params': {'lr': 0.02}}\n"
     ]
    },
    {
     "name": "stderr",
     "output_type": "stream",
     "text": [
      "c:\\Users\\carly\\anaconda3\\envs\\dyspepsia_research\\lib\\site-packages\\pytorch_tabnet\\callbacks.py:172: UserWarning: Best weights from best epoch are automatically used!\n",
      "  warnings.warn(wrn_msg)\n",
      "c:\\Users\\carly\\anaconda3\\envs\\dyspepsia_research\\lib\\site-packages\\pytorch_tabnet\\abstract_model.py:82: UserWarning: Device used : cpu\n",
      "  warnings.warn(f\"Device used : {self.device}\")\n"
     ]
    },
    {
     "name": "stdout",
     "output_type": "stream",
     "text": [
      "epoch 0  | loss: 2.17838 | valid_accuracy: 0.33333 |  0:00:00s\n",
      "epoch 1  | loss: 1.89746 | valid_accuracy: 0.29167 |  0:00:00s\n",
      "epoch 2  | loss: 1.33807 | valid_accuracy: 0.33333 |  0:00:00s\n",
      "epoch 3  | loss: 1.21777 | valid_accuracy: 0.41667 |  0:00:00s\n",
      "epoch 4  | loss: 0.91344 | valid_accuracy: 0.375   |  0:00:00s\n",
      "epoch 5  | loss: 1.06864 | valid_accuracy: 0.5     |  0:00:00s\n",
      "epoch 6  | loss: 0.81264 | valid_accuracy: 0.5     |  0:00:00s\n",
      "epoch 7  | loss: 0.68037 | valid_accuracy: 0.5     |  0:00:00s\n",
      "epoch 8  | loss: 0.57993 | valid_accuracy: 0.58333 |  0:00:00s\n",
      "epoch 9  | loss: 0.44325 | valid_accuracy: 0.45833 |  0:00:00s\n",
      "epoch 10 | loss: 0.43569 | valid_accuracy: 0.375   |  0:00:00s\n",
      "epoch 11 | loss: 0.32933 | valid_accuracy: 0.33333 |  0:00:00s\n",
      "epoch 12 | loss: 0.25984 | valid_accuracy: 0.29167 |  0:00:00s\n",
      "epoch 13 | loss: 0.2014  | valid_accuracy: 0.29167 |  0:00:00s\n",
      "epoch 14 | loss: 0.15167 | valid_accuracy: 0.20833 |  0:00:00s\n",
      "epoch 15 | loss: 0.09425 | valid_accuracy: 0.29167 |  0:00:00s\n",
      "epoch 16 | loss: 0.08326 | valid_accuracy: 0.16667 |  0:00:00s\n",
      "epoch 17 | loss: 0.03795 | valid_accuracy: 0.20833 |  0:00:00s\n",
      "epoch 18 | loss: 0.02689 | valid_accuracy: 0.20833 |  0:00:00s\n",
      "\n",
      "Early stopping occurred at epoch 18 with best_epoch = 8 and best_valid_accuracy = 0.58333\n",
      "epoch 0  | loss: 2.05458 | valid_accuracy: 0.21739 |  0:00:00s\n"
     ]
    },
    {
     "name": "stderr",
     "output_type": "stream",
     "text": [
      "c:\\Users\\carly\\anaconda3\\envs\\dyspepsia_research\\lib\\site-packages\\pytorch_tabnet\\callbacks.py:172: UserWarning: Best weights from best epoch are automatically used!\n",
      "  warnings.warn(wrn_msg)\n",
      "c:\\Users\\carly\\anaconda3\\envs\\dyspepsia_research\\lib\\site-packages\\pytorch_tabnet\\abstract_model.py:82: UserWarning: Device used : cpu\n",
      "  warnings.warn(f\"Device used : {self.device}\")\n"
     ]
    },
    {
     "name": "stdout",
     "output_type": "stream",
     "text": [
      "epoch 1  | loss: 1.48636 | valid_accuracy: 0.43478 |  0:00:00s\n",
      "epoch 2  | loss: 1.1854  | valid_accuracy: 0.26087 |  0:00:00s\n",
      "epoch 3  | loss: 1.22761 | valid_accuracy: 0.30435 |  0:00:00s\n",
      "epoch 4  | loss: 1.36097 | valid_accuracy: 0.47826 |  0:00:00s\n",
      "epoch 5  | loss: 1.32249 | valid_accuracy: 0.47826 |  0:00:00s\n",
      "epoch 6  | loss: 0.89864 | valid_accuracy: 0.47826 |  0:00:00s\n",
      "epoch 7  | loss: 0.92851 | valid_accuracy: 0.43478 |  0:00:00s\n",
      "epoch 8  | loss: 0.82958 | valid_accuracy: 0.17391 |  0:00:00s\n",
      "epoch 9  | loss: 0.60124 | valid_accuracy: 0.52174 |  0:00:00s\n",
      "epoch 10 | loss: 0.64156 | valid_accuracy: 0.34783 |  0:00:00s\n",
      "epoch 11 | loss: 0.58655 | valid_accuracy: 0.43478 |  0:00:00s\n",
      "epoch 12 | loss: 0.50113 | valid_accuracy: 0.43478 |  0:00:00s\n",
      "epoch 13 | loss: 0.46301 | valid_accuracy: 0.43478 |  0:00:00s\n",
      "epoch 14 | loss: 0.40331 | valid_accuracy: 0.47826 |  0:00:00s\n",
      "epoch 15 | loss: 0.37734 | valid_accuracy: 0.34783 |  0:00:00s\n",
      "epoch 16 | loss: 0.24711 | valid_accuracy: 0.26087 |  0:00:00s\n",
      "epoch 17 | loss: 0.19709 | valid_accuracy: 0.43478 |  0:00:00s\n",
      "epoch 18 | loss: 0.15199 | valid_accuracy: 0.34783 |  0:00:00s\n",
      "epoch 19 | loss: 0.09062 | valid_accuracy: 0.30435 |  0:00:00s\n",
      "\n",
      "Early stopping occurred at epoch 19 with best_epoch = 9 and best_valid_accuracy = 0.52174\n",
      "epoch 0  | loss: 1.96873 | valid_accuracy: 0.30435 |  0:00:00s\n"
     ]
    },
    {
     "name": "stderr",
     "output_type": "stream",
     "text": [
      "c:\\Users\\carly\\anaconda3\\envs\\dyspepsia_research\\lib\\site-packages\\pytorch_tabnet\\callbacks.py:172: UserWarning: Best weights from best epoch are automatically used!\n",
      "  warnings.warn(wrn_msg)\n",
      "c:\\Users\\carly\\anaconda3\\envs\\dyspepsia_research\\lib\\site-packages\\pytorch_tabnet\\abstract_model.py:82: UserWarning: Device used : cpu\n",
      "  warnings.warn(f\"Device used : {self.device}\")\n"
     ]
    },
    {
     "name": "stdout",
     "output_type": "stream",
     "text": [
      "epoch 1  | loss: 1.86857 | valid_accuracy: 0.52174 |  0:00:00s\n",
      "epoch 2  | loss: 1.66114 | valid_accuracy: 0.47826 |  0:00:00s\n",
      "epoch 3  | loss: 1.34234 | valid_accuracy: 0.47826 |  0:00:00s\n",
      "epoch 4  | loss: 1.45078 | valid_accuracy: 0.47826 |  0:00:00s\n",
      "epoch 5  | loss: 1.06664 | valid_accuracy: 0.47826 |  0:00:00s\n",
      "epoch 6  | loss: 1.17962 | valid_accuracy: 0.3913  |  0:00:00s\n",
      "epoch 7  | loss: 0.88825 | valid_accuracy: 0.30435 |  0:00:00s\n",
      "epoch 8  | loss: 0.80196 | valid_accuracy: 0.34783 |  0:00:00s\n",
      "epoch 9  | loss: 0.7747  | valid_accuracy: 0.34783 |  0:00:00s\n",
      "epoch 10 | loss: 0.64428 | valid_accuracy: 0.26087 |  0:00:00s\n",
      "epoch 11 | loss: 0.55968 | valid_accuracy: 0.30435 |  0:00:00s\n",
      "\n",
      "Early stopping occurred at epoch 11 with best_epoch = 1 and best_valid_accuracy = 0.52174\n",
      "평균 F1 Score: 0.5159\n",
      "\n",
      "현재 파라미터 조합: {'gamma': 1.3, 'lambda_sparse': 0.0001, 'n_a': 16, 'n_d': 16, 'n_steps': 3, 'optimizer_params': {'lr': 0.01}}\n"
     ]
    },
    {
     "name": "stderr",
     "output_type": "stream",
     "text": [
      "c:\\Users\\carly\\anaconda3\\envs\\dyspepsia_research\\lib\\site-packages\\pytorch_tabnet\\callbacks.py:172: UserWarning: Best weights from best epoch are automatically used!\n",
      "  warnings.warn(wrn_msg)\n",
      "c:\\Users\\carly\\anaconda3\\envs\\dyspepsia_research\\lib\\site-packages\\pytorch_tabnet\\abstract_model.py:82: UserWarning: Device used : cpu\n",
      "  warnings.warn(f\"Device used : {self.device}\")\n"
     ]
    },
    {
     "name": "stdout",
     "output_type": "stream",
     "text": [
      "epoch 0  | loss: 2.17838 | valid_accuracy: 0.16667 |  0:00:00s\n",
      "epoch 1  | loss: 1.77838 | valid_accuracy: 0.25    |  0:00:00s\n",
      "epoch 2  | loss: 1.67751 | valid_accuracy: 0.54167 |  0:00:00s\n",
      "epoch 3  | loss: 1.39323 | valid_accuracy: 0.375   |  0:00:00s\n",
      "epoch 4  | loss: 1.07442 | valid_accuracy: 0.33333 |  0:00:00s\n",
      "epoch 5  | loss: 1.18161 | valid_accuracy: 0.375   |  0:00:00s\n",
      "epoch 6  | loss: 1.16567 | valid_accuracy: 0.25    |  0:00:00s\n",
      "epoch 7  | loss: 1.13434 | valid_accuracy: 0.29167 |  0:00:00s\n",
      "epoch 8  | loss: 1.06667 | valid_accuracy: 0.33333 |  0:00:00s\n",
      "epoch 9  | loss: 1.08833 | valid_accuracy: 0.45833 |  0:00:00s\n",
      "epoch 10 | loss: 1.00869 | valid_accuracy: 0.45833 |  0:00:00s\n",
      "epoch 11 | loss: 0.65097 | valid_accuracy: 0.45833 |  0:00:00s\n",
      "epoch 12 | loss: 0.59361 | valid_accuracy: 0.41667 |  0:00:00s\n",
      "\n",
      "Early stopping occurred at epoch 12 with best_epoch = 2 and best_valid_accuracy = 0.54167\n",
      "epoch 0  | loss: 2.05458 | valid_accuracy: 0.30435 |  0:00:00s\n",
      "epoch 1  | loss: 1.81639 | valid_accuracy: 0.21739 |  0:00:00s\n"
     ]
    },
    {
     "name": "stderr",
     "output_type": "stream",
     "text": [
      "c:\\Users\\carly\\anaconda3\\envs\\dyspepsia_research\\lib\\site-packages\\pytorch_tabnet\\callbacks.py:172: UserWarning: Best weights from best epoch are automatically used!\n",
      "  warnings.warn(wrn_msg)\n",
      "c:\\Users\\carly\\anaconda3\\envs\\dyspepsia_research\\lib\\site-packages\\pytorch_tabnet\\abstract_model.py:82: UserWarning: Device used : cpu\n",
      "  warnings.warn(f\"Device used : {self.device}\")\n"
     ]
    },
    {
     "name": "stdout",
     "output_type": "stream",
     "text": [
      "epoch 2  | loss: 1.49821 | valid_accuracy: 0.30435 |  0:00:00s\n",
      "epoch 3  | loss: 1.52471 | valid_accuracy: 0.30435 |  0:00:00s\n",
      "epoch 4  | loss: 1.17294 | valid_accuracy: 0.13043 |  0:00:00s\n",
      "epoch 5  | loss: 1.05706 | valid_accuracy: 0.21739 |  0:00:00s\n",
      "epoch 6  | loss: 1.16478 | valid_accuracy: 0.52174 |  0:00:00s\n",
      "epoch 7  | loss: 0.93158 | valid_accuracy: 0.52174 |  0:00:00s\n",
      "epoch 8  | loss: 1.02313 | valid_accuracy: 0.56522 |  0:00:00s\n",
      "epoch 9  | loss: 0.83788 | valid_accuracy: 0.6087  |  0:00:00s\n",
      "epoch 10 | loss: 0.63111 | valid_accuracy: 0.43478 |  0:00:00s\n",
      "epoch 11 | loss: 0.73941 | valid_accuracy: 0.3913  |  0:00:00s\n",
      "epoch 12 | loss: 0.56126 | valid_accuracy: 0.56522 |  0:00:00s\n",
      "epoch 13 | loss: 0.54923 | valid_accuracy: 0.6087  |  0:00:00s\n",
      "epoch 14 | loss: 0.48321 | valid_accuracy: 0.56522 |  0:00:00s\n",
      "epoch 15 | loss: 0.47661 | valid_accuracy: 0.65217 |  0:00:00s\n",
      "epoch 16 | loss: 0.47055 | valid_accuracy: 0.47826 |  0:00:00s\n",
      "epoch 17 | loss: 0.45746 | valid_accuracy: 0.52174 |  0:00:00s\n",
      "epoch 18 | loss: 0.43253 | valid_accuracy: 0.47826 |  0:00:00s\n",
      "epoch 19 | loss: 0.36491 | valid_accuracy: 0.26087 |  0:00:00s\n",
      "epoch 20 | loss: 0.33325 | valid_accuracy: 0.21739 |  0:00:00s\n",
      "epoch 21 | loss: 0.3243  | valid_accuracy: 0.34783 |  0:00:00s\n",
      "epoch 22 | loss: 0.25244 | valid_accuracy: 0.34783 |  0:00:00s\n",
      "epoch 23 | loss: 0.21712 | valid_accuracy: 0.43478 |  0:00:00s\n",
      "epoch 24 | loss: 0.18485 | valid_accuracy: 0.3913  |  0:00:00s\n",
      "epoch 25 | loss: 0.16662 | valid_accuracy: 0.21739 |  0:00:01s\n",
      "\n",
      "Early stopping occurred at epoch 25 with best_epoch = 15 and best_valid_accuracy = 0.65217\n"
     ]
    },
    {
     "name": "stderr",
     "output_type": "stream",
     "text": [
      "c:\\Users\\carly\\anaconda3\\envs\\dyspepsia_research\\lib\\site-packages\\pytorch_tabnet\\callbacks.py:172: UserWarning: Best weights from best epoch are automatically used!\n",
      "  warnings.warn(wrn_msg)\n",
      "c:\\Users\\carly\\anaconda3\\envs\\dyspepsia_research\\lib\\site-packages\\pytorch_tabnet\\abstract_model.py:82: UserWarning: Device used : cpu\n",
      "  warnings.warn(f\"Device used : {self.device}\")\n"
     ]
    },
    {
     "name": "stdout",
     "output_type": "stream",
     "text": [
      "epoch 0  | loss: 1.96873 | valid_accuracy: 0.34783 |  0:00:00s\n",
      "epoch 1  | loss: 2.00836 | valid_accuracy: 0.30435 |  0:00:00s\n",
      "epoch 2  | loss: 1.67636 | valid_accuracy: 0.34783 |  0:00:00s\n",
      "epoch 3  | loss: 1.40891 | valid_accuracy: 0.34783 |  0:00:00s\n",
      "epoch 4  | loss: 1.24592 | valid_accuracy: 0.30435 |  0:00:00s\n",
      "epoch 5  | loss: 1.25898 | valid_accuracy: 0.21739 |  0:00:00s\n",
      "epoch 6  | loss: 1.00158 | valid_accuracy: 0.30435 |  0:00:00s\n",
      "epoch 7  | loss: 0.87535 | valid_accuracy: 0.43478 |  0:00:00s\n",
      "epoch 8  | loss: 0.81728 | valid_accuracy: 0.34783 |  0:00:00s\n",
      "epoch 9  | loss: 0.71313 | valid_accuracy: 0.43478 |  0:00:00s\n",
      "epoch 10 | loss: 0.60449 | valid_accuracy: 0.43478 |  0:00:00s\n",
      "epoch 11 | loss: 0.52362 | valid_accuracy: 0.3913  |  0:00:00s\n",
      "epoch 12 | loss: 0.47067 | valid_accuracy: 0.43478 |  0:00:00s\n",
      "epoch 13 | loss: 0.53349 | valid_accuracy: 0.47826 |  0:00:00s\n",
      "epoch 14 | loss: 0.40418 | valid_accuracy: 0.52174 |  0:00:00s\n",
      "epoch 15 | loss: 0.32261 | valid_accuracy: 0.43478 |  0:00:00s\n",
      "epoch 16 | loss: 0.28141 | valid_accuracy: 0.47826 |  0:00:00s\n",
      "epoch 17 | loss: 0.31643 | valid_accuracy: 0.47826 |  0:00:00s\n",
      "epoch 18 | loss: 0.21512 | valid_accuracy: 0.56522 |  0:00:00s\n",
      "epoch 19 | loss: 0.17709 | valid_accuracy: 0.47826 |  0:00:00s\n",
      "epoch 20 | loss: 0.16877 | valid_accuracy: 0.47826 |  0:00:00s\n",
      "epoch 21 | loss: 0.15304 | valid_accuracy: 0.43478 |  0:00:00s\n",
      "epoch 22 | loss: 0.168   | valid_accuracy: 0.56522 |  0:00:00s\n",
      "epoch 23 | loss: 0.10429 | valid_accuracy: 0.52174 |  0:00:00s\n",
      "epoch 24 | loss: 0.08475 | valid_accuracy: 0.52174 |  0:00:00s\n",
      "epoch 25 | loss: 0.05895 | valid_accuracy: 0.6087  |  0:00:01s\n",
      "epoch 26 | loss: 0.04027 | valid_accuracy: 0.30435 |  0:00:01s\n",
      "epoch 27 | loss: 0.02608 | valid_accuracy: 0.43478 |  0:00:01s\n",
      "epoch 28 | loss: 0.01852 | valid_accuracy: 0.30435 |  0:00:01s\n",
      "epoch 29 | loss: 0.05828 | valid_accuracy: 0.30435 |  0:00:01s\n",
      "epoch 30 | loss: 0.09338 | valid_accuracy: 0.26087 |  0:00:01s\n",
      "epoch 31 | loss: 0.03275 | valid_accuracy: 0.30435 |  0:00:01s\n",
      "epoch 32 | loss: 0.01384 | valid_accuracy: 0.26087 |  0:00:01s\n",
      "epoch 33 | loss: 0.02455 | valid_accuracy: 0.26087 |  0:00:01s\n",
      "epoch 34 | loss: 0.0097  | valid_accuracy: 0.21739 |  0:00:01s\n",
      "epoch 35 | loss: 0.00754 | valid_accuracy: 0.26087 |  0:00:01s\n",
      "\n",
      "Early stopping occurred at epoch 35 with best_epoch = 25 and best_valid_accuracy = 0.6087\n",
      "평균 F1 Score: 0.5634\n",
      "\n",
      "현재 파라미터 조합: {'gamma': 1.3, 'lambda_sparse': 0.0001, 'n_a': 16, 'n_d': 16, 'n_steps': 5, 'optimizer_params': {'lr': 0.02}}\n",
      "epoch 0  | loss: 3.28177 | valid_accuracy: 0.41667 |  0:00:00s\n"
     ]
    },
    {
     "name": "stderr",
     "output_type": "stream",
     "text": [
      "c:\\Users\\carly\\anaconda3\\envs\\dyspepsia_research\\lib\\site-packages\\pytorch_tabnet\\callbacks.py:172: UserWarning: Best weights from best epoch are automatically used!\n",
      "  warnings.warn(wrn_msg)\n",
      "c:\\Users\\carly\\anaconda3\\envs\\dyspepsia_research\\lib\\site-packages\\pytorch_tabnet\\abstract_model.py:82: UserWarning: Device used : cpu\n",
      "  warnings.warn(f\"Device used : {self.device}\")\n"
     ]
    },
    {
     "name": "stdout",
     "output_type": "stream",
     "text": [
      "epoch 1  | loss: 2.75146 | valid_accuracy: 0.29167 |  0:00:00s\n",
      "epoch 2  | loss: 2.13625 | valid_accuracy: 0.375   |  0:00:00s\n",
      "epoch 3  | loss: 1.82697 | valid_accuracy: 0.29167 |  0:00:00s\n",
      "epoch 4  | loss: 1.48479 | valid_accuracy: 0.16667 |  0:00:00s\n",
      "epoch 5  | loss: 1.30638 | valid_accuracy: 0.16667 |  0:00:00s\n",
      "epoch 6  | loss: 1.13621 | valid_accuracy: 0.20833 |  0:00:00s\n",
      "epoch 7  | loss: 1.2208  | valid_accuracy: 0.41667 |  0:00:00s\n",
      "epoch 8  | loss: 1.15407 | valid_accuracy: 0.54167 |  0:00:00s\n",
      "epoch 9  | loss: 1.32599 | valid_accuracy: 0.41667 |  0:00:00s\n",
      "epoch 10 | loss: 1.06968 | valid_accuracy: 0.54167 |  0:00:00s\n",
      "epoch 11 | loss: 1.0059  | valid_accuracy: 0.45833 |  0:00:00s\n",
      "epoch 12 | loss: 1.11956 | valid_accuracy: 0.375   |  0:00:00s\n",
      "epoch 13 | loss: 1.12466 | valid_accuracy: 0.45833 |  0:00:00s\n",
      "epoch 14 | loss: 1.07505 | valid_accuracy: 0.29167 |  0:00:01s\n",
      "epoch 15 | loss: 1.26841 | valid_accuracy: 0.29167 |  0:00:01s\n",
      "epoch 16 | loss: 0.91802 | valid_accuracy: 0.33333 |  0:00:01s\n",
      "epoch 17 | loss: 0.95155 | valid_accuracy: 0.33333 |  0:00:01s\n",
      "epoch 18 | loss: 0.80382 | valid_accuracy: 0.33333 |  0:00:01s\n",
      "\n",
      "Early stopping occurred at epoch 18 with best_epoch = 8 and best_valid_accuracy = 0.54167\n"
     ]
    },
    {
     "name": "stderr",
     "output_type": "stream",
     "text": [
      "c:\\Users\\carly\\anaconda3\\envs\\dyspepsia_research\\lib\\site-packages\\pytorch_tabnet\\callbacks.py:172: UserWarning: Best weights from best epoch are automatically used!\n",
      "  warnings.warn(wrn_msg)\n",
      "c:\\Users\\carly\\anaconda3\\envs\\dyspepsia_research\\lib\\site-packages\\pytorch_tabnet\\abstract_model.py:82: UserWarning: Device used : cpu\n",
      "  warnings.warn(f\"Device used : {self.device}\")\n"
     ]
    },
    {
     "name": "stdout",
     "output_type": "stream",
     "text": [
      "epoch 0  | loss: 3.25082 | valid_accuracy: 0.30435 |  0:00:00s\n",
      "epoch 1  | loss: 2.96752 | valid_accuracy: 0.21739 |  0:00:00s\n",
      "epoch 2  | loss: 2.53437 | valid_accuracy: 0.30435 |  0:00:00s\n",
      "epoch 3  | loss: 1.88194 | valid_accuracy: 0.34783 |  0:00:00s\n",
      "epoch 4  | loss: 1.63753 | valid_accuracy: 0.30435 |  0:00:00s\n",
      "epoch 5  | loss: 1.51301 | valid_accuracy: 0.34783 |  0:00:00s\n",
      "epoch 6  | loss: 1.35478 | valid_accuracy: 0.43478 |  0:00:00s\n",
      "epoch 7  | loss: 1.40751 | valid_accuracy: 0.56522 |  0:00:00s\n",
      "epoch 8  | loss: 1.007   | valid_accuracy: 0.30435 |  0:00:00s\n",
      "epoch 9  | loss: 1.54374 | valid_accuracy: 0.17391 |  0:00:00s\n",
      "epoch 10 | loss: 1.34293 | valid_accuracy: 0.17391 |  0:00:00s\n",
      "epoch 11 | loss: 1.40618 | valid_accuracy: 0.43478 |  0:00:00s\n",
      "epoch 12 | loss: 1.30678 | valid_accuracy: 0.26087 |  0:00:00s\n",
      "epoch 13 | loss: 1.20446 | valid_accuracy: 0.21739 |  0:00:00s\n",
      "epoch 14 | loss: 1.35772 | valid_accuracy: 0.34783 |  0:00:00s\n",
      "epoch 15 | loss: 1.124   | valid_accuracy: 0.3913  |  0:00:01s\n",
      "epoch 16 | loss: 1.19595 | valid_accuracy: 0.47826 |  0:00:01s\n",
      "epoch 17 | loss: 1.01111 | valid_accuracy: 0.34783 |  0:00:01s\n",
      "\n",
      "Early stopping occurred at epoch 17 with best_epoch = 7 and best_valid_accuracy = 0.56522\n",
      "epoch 0  | loss: 3.38937 | valid_accuracy: 0.17391 |  0:00:00s\n"
     ]
    },
    {
     "name": "stderr",
     "output_type": "stream",
     "text": [
      "c:\\Users\\carly\\anaconda3\\envs\\dyspepsia_research\\lib\\site-packages\\pytorch_tabnet\\callbacks.py:172: UserWarning: Best weights from best epoch are automatically used!\n",
      "  warnings.warn(wrn_msg)\n",
      "c:\\Users\\carly\\anaconda3\\envs\\dyspepsia_research\\lib\\site-packages\\pytorch_tabnet\\abstract_model.py:82: UserWarning: Device used : cpu\n",
      "  warnings.warn(f\"Device used : {self.device}\")\n"
     ]
    },
    {
     "name": "stdout",
     "output_type": "stream",
     "text": [
      "epoch 1  | loss: 2.91505 | valid_accuracy: 0.21739 |  0:00:00s\n",
      "epoch 2  | loss: 2.2311  | valid_accuracy: 0.47826 |  0:00:00s\n",
      "epoch 3  | loss: 1.81967 | valid_accuracy: 0.26087 |  0:00:00s\n",
      "epoch 4  | loss: 1.49843 | valid_accuracy: 0.43478 |  0:00:00s\n",
      "epoch 5  | loss: 1.43983 | valid_accuracy: 0.3913  |  0:00:00s\n",
      "epoch 6  | loss: 1.2313  | valid_accuracy: 0.3913  |  0:00:00s\n",
      "epoch 7  | loss: 1.25849 | valid_accuracy: 0.43478 |  0:00:00s\n",
      "epoch 8  | loss: 1.37769 | valid_accuracy: 0.3913  |  0:00:00s\n",
      "epoch 9  | loss: 1.65772 | valid_accuracy: 0.47826 |  0:00:00s\n",
      "epoch 10 | loss: 1.05523 | valid_accuracy: 0.47826 |  0:00:00s\n",
      "epoch 11 | loss: 1.07206 | valid_accuracy: 0.3913  |  0:00:00s\n",
      "epoch 12 | loss: 1.13094 | valid_accuracy: 0.56522 |  0:00:00s\n",
      "epoch 13 | loss: 0.9852  | valid_accuracy: 0.43478 |  0:00:00s\n",
      "epoch 14 | loss: 1.09428 | valid_accuracy: 0.3913  |  0:00:00s\n",
      "epoch 15 | loss: 1.02105 | valid_accuracy: 0.43478 |  0:00:01s\n",
      "epoch 16 | loss: 0.87496 | valid_accuracy: 0.43478 |  0:00:01s\n",
      "epoch 17 | loss: 1.00946 | valid_accuracy: 0.3913  |  0:00:01s\n",
      "epoch 18 | loss: 1.00275 | valid_accuracy: 0.26087 |  0:00:01s\n",
      "epoch 19 | loss: 0.97462 | valid_accuracy: 0.52174 |  0:00:01s\n",
      "epoch 20 | loss: 0.88421 | valid_accuracy: 0.34783 |  0:00:01s\n",
      "epoch 21 | loss: 0.88874 | valid_accuracy: 0.3913  |  0:00:01s\n",
      "epoch 22 | loss: 0.95615 | valid_accuracy: 0.3913  |  0:00:01s\n",
      "\n",
      "Early stopping occurred at epoch 22 with best_epoch = 12 and best_valid_accuracy = 0.56522\n",
      "평균 F1 Score: 0.5199\n",
      "\n",
      "현재 파라미터 조합: {'gamma': 1.3, 'lambda_sparse': 0.0001, 'n_a': 16, 'n_d': 16, 'n_steps': 5, 'optimizer_params': {'lr': 0.01}}\n",
      "epoch 0  | loss: 3.28177 | valid_accuracy: 0.41667 |  0:00:00s\n"
     ]
    },
    {
     "name": "stderr",
     "output_type": "stream",
     "text": [
      "c:\\Users\\carly\\anaconda3\\envs\\dyspepsia_research\\lib\\site-packages\\pytorch_tabnet\\callbacks.py:172: UserWarning: Best weights from best epoch are automatically used!\n",
      "  warnings.warn(wrn_msg)\n",
      "c:\\Users\\carly\\anaconda3\\envs\\dyspepsia_research\\lib\\site-packages\\pytorch_tabnet\\abstract_model.py:82: UserWarning: Device used : cpu\n",
      "  warnings.warn(f\"Device used : {self.device}\")\n"
     ]
    },
    {
     "name": "stdout",
     "output_type": "stream",
     "text": [
      "epoch 1  | loss: 2.94938 | valid_accuracy: 0.45833 |  0:00:00s\n",
      "epoch 2  | loss: 2.63244 | valid_accuracy: 0.33333 |  0:00:00s\n",
      "epoch 3  | loss: 2.81376 | valid_accuracy: 0.20833 |  0:00:00s\n",
      "epoch 4  | loss: 1.88102 | valid_accuracy: 0.25    |  0:00:00s\n",
      "epoch 5  | loss: 1.66972 | valid_accuracy: 0.29167 |  0:00:00s\n",
      "epoch 6  | loss: 1.92694 | valid_accuracy: 0.25    |  0:00:00s\n",
      "epoch 7  | loss: 1.65468 | valid_accuracy: 0.33333 |  0:00:00s\n",
      "epoch 8  | loss: 1.53086 | valid_accuracy: 0.20833 |  0:00:00s\n",
      "epoch 9  | loss: 1.21026 | valid_accuracy: 0.41667 |  0:00:00s\n",
      "epoch 10 | loss: 1.41087 | valid_accuracy: 0.5     |  0:00:00s\n",
      "epoch 11 | loss: 1.38389 | valid_accuracy: 0.29167 |  0:00:00s\n",
      "epoch 12 | loss: 1.116   | valid_accuracy: 0.29167 |  0:00:00s\n",
      "epoch 13 | loss: 1.30447 | valid_accuracy: 0.25    |  0:00:00s\n",
      "epoch 14 | loss: 1.07333 | valid_accuracy: 0.45833 |  0:00:00s\n",
      "epoch 15 | loss: 1.21401 | valid_accuracy: 0.45833 |  0:00:01s\n",
      "epoch 16 | loss: 1.18337 | valid_accuracy: 0.45833 |  0:00:01s\n",
      "epoch 17 | loss: 1.33433 | valid_accuracy: 0.45833 |  0:00:01s\n",
      "epoch 18 | loss: 1.10977 | valid_accuracy: 0.29167 |  0:00:01s\n",
      "epoch 19 | loss: 1.18335 | valid_accuracy: 0.375   |  0:00:01s\n",
      "epoch 20 | loss: 1.11135 | valid_accuracy: 0.33333 |  0:00:01s\n",
      "\n",
      "Early stopping occurred at epoch 20 with best_epoch = 10 and best_valid_accuracy = 0.5\n",
      "epoch 0  | loss: 3.25082 | valid_accuracy: 0.13043 |  0:00:00s\n",
      "epoch 1  | loss: 3.06076 | valid_accuracy: 0.21739 |  0:00:00s\n"
     ]
    },
    {
     "name": "stderr",
     "output_type": "stream",
     "text": [
      "c:\\Users\\carly\\anaconda3\\envs\\dyspepsia_research\\lib\\site-packages\\pytorch_tabnet\\callbacks.py:172: UserWarning: Best weights from best epoch are automatically used!\n",
      "  warnings.warn(wrn_msg)\n",
      "c:\\Users\\carly\\anaconda3\\envs\\dyspepsia_research\\lib\\site-packages\\pytorch_tabnet\\abstract_model.py:82: UserWarning: Device used : cpu\n",
      "  warnings.warn(f\"Device used : {self.device}\")\n"
     ]
    },
    {
     "name": "stdout",
     "output_type": "stream",
     "text": [
      "epoch 2  | loss: 2.83309 | valid_accuracy: 0.21739 |  0:00:00s\n",
      "epoch 3  | loss: 2.7867  | valid_accuracy: 0.17391 |  0:00:00s\n",
      "epoch 4  | loss: 1.97771 | valid_accuracy: 0.30435 |  0:00:00s\n",
      "epoch 5  | loss: 1.6945  | valid_accuracy: 0.21739 |  0:00:00s\n",
      "epoch 6  | loss: 1.81132 | valid_accuracy: 0.34783 |  0:00:00s\n",
      "epoch 7  | loss: 1.4695  | valid_accuracy: 0.30435 |  0:00:00s\n",
      "epoch 8  | loss: 1.23207 | valid_accuracy: 0.3913  |  0:00:00s\n",
      "epoch 9  | loss: 1.26499 | valid_accuracy: 0.34783 |  0:00:00s\n",
      "epoch 10 | loss: 1.34423 | valid_accuracy: 0.3913  |  0:00:00s\n",
      "epoch 11 | loss: 1.16096 | valid_accuracy: 0.30435 |  0:00:00s\n",
      "epoch 12 | loss: 1.36519 | valid_accuracy: 0.3913  |  0:00:00s\n",
      "epoch 13 | loss: 1.25854 | valid_accuracy: 0.34783 |  0:00:00s\n",
      "epoch 14 | loss: 1.27343 | valid_accuracy: 0.52174 |  0:00:00s\n",
      "epoch 15 | loss: 1.33712 | valid_accuracy: 0.43478 |  0:00:01s\n",
      "epoch 16 | loss: 1.2911  | valid_accuracy: 0.47826 |  0:00:01s\n",
      "epoch 17 | loss: 1.41561 | valid_accuracy: 0.47826 |  0:00:01s\n",
      "epoch 18 | loss: 1.04312 | valid_accuracy: 0.3913  |  0:00:01s\n",
      "epoch 19 | loss: 0.91287 | valid_accuracy: 0.47826 |  0:00:01s\n",
      "epoch 20 | loss: 1.0114  | valid_accuracy: 0.52174 |  0:00:01s\n",
      "epoch 21 | loss: 1.1237  | valid_accuracy: 0.43478 |  0:00:01s\n",
      "epoch 22 | loss: 1.08131 | valid_accuracy: 0.43478 |  0:00:01s\n",
      "epoch 23 | loss: 0.81377 | valid_accuracy: 0.26087 |  0:00:01s\n",
      "epoch 24 | loss: 0.80956 | valid_accuracy: 0.30435 |  0:00:01s\n",
      "\n",
      "Early stopping occurred at epoch 24 with best_epoch = 14 and best_valid_accuracy = 0.52174\n"
     ]
    },
    {
     "name": "stderr",
     "output_type": "stream",
     "text": [
      "c:\\Users\\carly\\anaconda3\\envs\\dyspepsia_research\\lib\\site-packages\\pytorch_tabnet\\callbacks.py:172: UserWarning: Best weights from best epoch are automatically used!\n",
      "  warnings.warn(wrn_msg)\n",
      "c:\\Users\\carly\\anaconda3\\envs\\dyspepsia_research\\lib\\site-packages\\pytorch_tabnet\\abstract_model.py:82: UserWarning: Device used : cpu\n",
      "  warnings.warn(f\"Device used : {self.device}\")\n"
     ]
    },
    {
     "name": "stdout",
     "output_type": "stream",
     "text": [
      "epoch 0  | loss: 3.38937 | valid_accuracy: 0.13043 |  0:00:00s\n",
      "epoch 1  | loss: 2.84795 | valid_accuracy: 0.17391 |  0:00:00s\n",
      "epoch 2  | loss: 2.74789 | valid_accuracy: 0.17391 |  0:00:00s\n",
      "epoch 3  | loss: 2.19496 | valid_accuracy: 0.21739 |  0:00:00s\n",
      "epoch 4  | loss: 1.99555 | valid_accuracy: 0.17391 |  0:00:00s\n",
      "epoch 5  | loss: 1.72952 | valid_accuracy: 0.17391 |  0:00:00s\n",
      "epoch 6  | loss: 2.27025 | valid_accuracy: 0.13043 |  0:00:00s\n",
      "epoch 7  | loss: 1.72788 | valid_accuracy: 0.26087 |  0:00:00s\n",
      "epoch 8  | loss: 1.62436 | valid_accuracy: 0.30435 |  0:00:00s\n",
      "epoch 9  | loss: 1.31828 | valid_accuracy: 0.30435 |  0:00:00s\n",
      "epoch 10 | loss: 1.06852 | valid_accuracy: 0.17391 |  0:00:00s\n",
      "epoch 11 | loss: 1.04778 | valid_accuracy: 0.43478 |  0:00:00s\n",
      "epoch 12 | loss: 1.28445 | valid_accuracy: 0.56522 |  0:00:00s\n",
      "epoch 13 | loss: 1.01721 | valid_accuracy: 0.43478 |  0:00:01s\n",
      "epoch 14 | loss: 1.19372 | valid_accuracy: 0.3913  |  0:00:01s\n",
      "epoch 15 | loss: 1.245   | valid_accuracy: 0.34783 |  0:00:01s\n",
      "epoch 16 | loss: 1.2982  | valid_accuracy: 0.34783 |  0:00:01s\n",
      "epoch 17 | loss: 1.57767 | valid_accuracy: 0.43478 |  0:00:01s\n",
      "epoch 18 | loss: 1.2569  | valid_accuracy: 0.47826 |  0:00:01s\n",
      "epoch 19 | loss: 1.38792 | valid_accuracy: 0.52174 |  0:00:01s\n",
      "epoch 20 | loss: 1.26288 | valid_accuracy: 0.47826 |  0:00:01s\n",
      "epoch 21 | loss: 1.14239 | valid_accuracy: 0.56522 |  0:00:01s\n",
      "epoch 22 | loss: 1.07749 | valid_accuracy: 0.43478 |  0:00:01s\n",
      "\n",
      "Early stopping occurred at epoch 22 with best_epoch = 12 and best_valid_accuracy = 0.56522\n",
      "평균 F1 Score: 0.5164\n",
      "\n",
      "현재 파라미터 조합: {'gamma': 1.5, 'lambda_sparse': 0.001, 'n_a': 8, 'n_d': 8, 'n_steps': 3, 'optimizer_params': {'lr': 0.02}}\n",
      "epoch 0  | loss: 1.09345 | valid_accuracy: 0.41667 |  0:00:00s\n",
      "epoch 1  | loss: 0.99529 | valid_accuracy: 0.16667 |  0:00:00s\n",
      "epoch 2  | loss: 1.02524 | valid_accuracy: 0.25    |  0:00:00s\n"
     ]
    },
    {
     "name": "stderr",
     "output_type": "stream",
     "text": [
      "c:\\Users\\carly\\anaconda3\\envs\\dyspepsia_research\\lib\\site-packages\\pytorch_tabnet\\callbacks.py:172: UserWarning: Best weights from best epoch are automatically used!\n",
      "  warnings.warn(wrn_msg)\n",
      "c:\\Users\\carly\\anaconda3\\envs\\dyspepsia_research\\lib\\site-packages\\pytorch_tabnet\\abstract_model.py:82: UserWarning: Device used : cpu\n",
      "  warnings.warn(f\"Device used : {self.device}\")\n"
     ]
    },
    {
     "name": "stdout",
     "output_type": "stream",
     "text": [
      "epoch 3  | loss: 1.08302 | valid_accuracy: 0.45833 |  0:00:00s\n",
      "epoch 4  | loss: 1.07301 | valid_accuracy: 0.45833 |  0:00:00s\n",
      "epoch 5  | loss: 1.10393 | valid_accuracy: 0.54167 |  0:00:00s\n",
      "epoch 6  | loss: 1.07734 | valid_accuracy: 0.54167 |  0:00:00s\n",
      "epoch 7  | loss: 0.94144 | valid_accuracy: 0.58333 |  0:00:00s\n",
      "epoch 8  | loss: 0.95512 | valid_accuracy: 0.5     |  0:00:00s\n",
      "epoch 9  | loss: 1.00323 | valid_accuracy: 0.54167 |  0:00:00s\n",
      "epoch 10 | loss: 1.08065 | valid_accuracy: 0.58333 |  0:00:00s\n",
      "epoch 11 | loss: 0.9607  | valid_accuracy: 0.58333 |  0:00:00s\n",
      "epoch 12 | loss: 0.95545 | valid_accuracy: 0.41667 |  0:00:00s\n",
      "epoch 13 | loss: 0.95293 | valid_accuracy: 0.375   |  0:00:00s\n",
      "epoch 14 | loss: 0.92143 | valid_accuracy: 0.41667 |  0:00:00s\n",
      "epoch 15 | loss: 0.85915 | valid_accuracy: 0.5     |  0:00:00s\n",
      "epoch 16 | loss: 0.78177 | valid_accuracy: 0.54167 |  0:00:00s\n",
      "epoch 17 | loss: 0.74897 | valid_accuracy: 0.54167 |  0:00:00s\n",
      "\n",
      "Early stopping occurred at epoch 17 with best_epoch = 7 and best_valid_accuracy = 0.58333\n",
      "epoch 0  | loss: 1.20145 | valid_accuracy: 0.34783 |  0:00:00s\n",
      "epoch 1  | loss: 1.17068 | valid_accuracy: 0.47826 |  0:00:00s\n",
      "epoch 2  | loss: 1.21516 | valid_accuracy: 0.47826 |  0:00:00s\n"
     ]
    },
    {
     "name": "stderr",
     "output_type": "stream",
     "text": [
      "c:\\Users\\carly\\anaconda3\\envs\\dyspepsia_research\\lib\\site-packages\\pytorch_tabnet\\callbacks.py:172: UserWarning: Best weights from best epoch are automatically used!\n",
      "  warnings.warn(wrn_msg)\n",
      "c:\\Users\\carly\\anaconda3\\envs\\dyspepsia_research\\lib\\site-packages\\pytorch_tabnet\\abstract_model.py:82: UserWarning: Device used : cpu\n",
      "  warnings.warn(f\"Device used : {self.device}\")\n"
     ]
    },
    {
     "name": "stdout",
     "output_type": "stream",
     "text": [
      "epoch 3  | loss: 1.00463 | valid_accuracy: 0.3913  |  0:00:00s\n",
      "epoch 4  | loss: 1.06405 | valid_accuracy: 0.52174 |  0:00:00s\n",
      "epoch 5  | loss: 0.89198 | valid_accuracy: 0.3913  |  0:00:00s\n",
      "epoch 6  | loss: 0.99718 | valid_accuracy: 0.56522 |  0:00:00s\n",
      "epoch 7  | loss: 0.88504 | valid_accuracy: 0.3913  |  0:00:00s\n",
      "epoch 8  | loss: 0.96927 | valid_accuracy: 0.43478 |  0:00:00s\n",
      "epoch 9  | loss: 0.86521 | valid_accuracy: 0.52174 |  0:00:00s\n",
      "epoch 10 | loss: 0.9376  | valid_accuracy: 0.56522 |  0:00:00s\n",
      "epoch 11 | loss: 0.85099 | valid_accuracy: 0.47826 |  0:00:00s\n",
      "epoch 12 | loss: 0.905   | valid_accuracy: 0.52174 |  0:00:00s\n",
      "epoch 13 | loss: 0.85918 | valid_accuracy: 0.56522 |  0:00:00s\n",
      "epoch 14 | loss: 0.82251 | valid_accuracy: 0.47826 |  0:00:00s\n",
      "epoch 15 | loss: 0.76381 | valid_accuracy: 0.47826 |  0:00:00s\n",
      "epoch 16 | loss: 0.74086 | valid_accuracy: 0.47826 |  0:00:00s\n",
      "\n",
      "Early stopping occurred at epoch 16 with best_epoch = 6 and best_valid_accuracy = 0.56522\n",
      "epoch 0  | loss: 0.95814 | valid_accuracy: 0.34783 |  0:00:00s\n",
      "epoch 1  | loss: 1.12269 | valid_accuracy: 0.52174 |  0:00:00s\n",
      "epoch 2  | loss: 1.01373 | valid_accuracy: 0.3913  |  0:00:00s\n",
      "epoch 3  | loss: 1.04324 | valid_accuracy: 0.3913  |  0:00:00s\n"
     ]
    },
    {
     "name": "stderr",
     "output_type": "stream",
     "text": [
      "c:\\Users\\carly\\anaconda3\\envs\\dyspepsia_research\\lib\\site-packages\\pytorch_tabnet\\callbacks.py:172: UserWarning: Best weights from best epoch are automatically used!\n",
      "  warnings.warn(wrn_msg)\n",
      "c:\\Users\\carly\\anaconda3\\envs\\dyspepsia_research\\lib\\site-packages\\pytorch_tabnet\\abstract_model.py:82: UserWarning: Device used : cpu\n",
      "  warnings.warn(f\"Device used : {self.device}\")\n"
     ]
    },
    {
     "name": "stdout",
     "output_type": "stream",
     "text": [
      "epoch 4  | loss: 1.06144 | valid_accuracy: 0.43478 |  0:00:00s\n",
      "epoch 5  | loss: 1.18251 | valid_accuracy: 0.34783 |  0:00:00s\n",
      "epoch 6  | loss: 0.96637 | valid_accuracy: 0.3913  |  0:00:00s\n",
      "epoch 7  | loss: 0.88679 | valid_accuracy: 0.43478 |  0:00:00s\n",
      "epoch 8  | loss: 0.80549 | valid_accuracy: 0.47826 |  0:00:00s\n",
      "epoch 9  | loss: 0.81106 | valid_accuracy: 0.3913  |  0:00:00s\n",
      "epoch 10 | loss: 0.81273 | valid_accuracy: 0.21739 |  0:00:00s\n",
      "epoch 11 | loss: 0.83059 | valid_accuracy: 0.34783 |  0:00:00s\n",
      "\n",
      "Early stopping occurred at epoch 11 with best_epoch = 1 and best_valid_accuracy = 0.52174\n",
      "평균 F1 Score: 0.5237\n",
      "\n",
      "현재 파라미터 조합: {'gamma': 1.5, 'lambda_sparse': 0.001, 'n_a': 8, 'n_d': 8, 'n_steps': 3, 'optimizer_params': {'lr': 0.01}}\n",
      "epoch 0  | loss: 1.09345 | valid_accuracy: 0.33333 |  0:00:00s\n",
      "epoch 1  | loss: 1.13333 | valid_accuracy: 0.33333 |  0:00:00s\n",
      "epoch 2  | loss: 1.03268 | valid_accuracy: 0.20833 |  0:00:00s\n"
     ]
    },
    {
     "name": "stderr",
     "output_type": "stream",
     "text": [
      "c:\\Users\\carly\\anaconda3\\envs\\dyspepsia_research\\lib\\site-packages\\pytorch_tabnet\\callbacks.py:172: UserWarning: Best weights from best epoch are automatically used!\n",
      "  warnings.warn(wrn_msg)\n",
      "c:\\Users\\carly\\anaconda3\\envs\\dyspepsia_research\\lib\\site-packages\\pytorch_tabnet\\abstract_model.py:82: UserWarning: Device used : cpu\n",
      "  warnings.warn(f\"Device used : {self.device}\")\n"
     ]
    },
    {
     "name": "stdout",
     "output_type": "stream",
     "text": [
      "epoch 3  | loss: 1.09739 | valid_accuracy: 0.16667 |  0:00:00s\n",
      "epoch 4  | loss: 0.94722 | valid_accuracy: 0.33333 |  0:00:00s\n",
      "epoch 5  | loss: 1.12359 | valid_accuracy: 0.375   |  0:00:00s\n",
      "epoch 6  | loss: 1.02624 | valid_accuracy: 0.45833 |  0:00:00s\n",
      "epoch 7  | loss: 1.04258 | valid_accuracy: 0.45833 |  0:00:00s\n",
      "epoch 8  | loss: 1.00613 | valid_accuracy: 0.5     |  0:00:00s\n",
      "epoch 9  | loss: 1.00163 | valid_accuracy: 0.54167 |  0:00:00s\n",
      "epoch 10 | loss: 0.99282 | valid_accuracy: 0.58333 |  0:00:00s\n",
      "epoch 11 | loss: 0.99439 | valid_accuracy: 0.54167 |  0:00:00s\n",
      "epoch 12 | loss: 0.86753 | valid_accuracy: 0.45833 |  0:00:00s\n",
      "epoch 13 | loss: 0.87897 | valid_accuracy: 0.54167 |  0:00:00s\n",
      "epoch 14 | loss: 0.87773 | valid_accuracy: 0.375   |  0:00:00s\n",
      "epoch 15 | loss: 0.83268 | valid_accuracy: 0.375   |  0:00:00s\n",
      "epoch 16 | loss: 0.78139 | valid_accuracy: 0.375   |  0:00:00s\n",
      "epoch 17 | loss: 0.75683 | valid_accuracy: 0.45833 |  0:00:00s\n",
      "epoch 18 | loss: 0.7018  | valid_accuracy: 0.45833 |  0:00:00s\n",
      "epoch 19 | loss: 0.65584 | valid_accuracy: 0.375   |  0:00:00s\n",
      "epoch 20 | loss: 0.60087 | valid_accuracy: 0.20833 |  0:00:00s\n",
      "\n",
      "Early stopping occurred at epoch 20 with best_epoch = 10 and best_valid_accuracy = 0.58333\n",
      "epoch 0  | loss: 1.20145 | valid_accuracy: 0.34783 |  0:00:00s\n",
      "epoch 1  | loss: 1.23265 | valid_accuracy: 0.3913  |  0:00:00s\n",
      "epoch 2  | loss: 1.14746 | valid_accuracy: 0.43478 |  0:00:00s\n"
     ]
    },
    {
     "name": "stderr",
     "output_type": "stream",
     "text": [
      "c:\\Users\\carly\\anaconda3\\envs\\dyspepsia_research\\lib\\site-packages\\pytorch_tabnet\\callbacks.py:172: UserWarning: Best weights from best epoch are automatically used!\n",
      "  warnings.warn(wrn_msg)\n",
      "c:\\Users\\carly\\anaconda3\\envs\\dyspepsia_research\\lib\\site-packages\\pytorch_tabnet\\abstract_model.py:82: UserWarning: Device used : cpu\n",
      "  warnings.warn(f\"Device used : {self.device}\")\n"
     ]
    },
    {
     "name": "stdout",
     "output_type": "stream",
     "text": [
      "epoch 3  | loss: 1.21694 | valid_accuracy: 0.47826 |  0:00:00s\n",
      "epoch 4  | loss: 0.98002 | valid_accuracy: 0.43478 |  0:00:00s\n",
      "epoch 5  | loss: 1.06925 | valid_accuracy: 0.43478 |  0:00:00s\n",
      "epoch 6  | loss: 1.04585 | valid_accuracy: 0.34783 |  0:00:00s\n",
      "epoch 7  | loss: 1.00072 | valid_accuracy: 0.52174 |  0:00:00s\n",
      "epoch 8  | loss: 1.23207 | valid_accuracy: 0.43478 |  0:00:00s\n",
      "epoch 9  | loss: 1.10023 | valid_accuracy: 0.34783 |  0:00:00s\n",
      "epoch 10 | loss: 1.00694 | valid_accuracy: 0.3913  |  0:00:00s\n",
      "epoch 11 | loss: 0.99284 | valid_accuracy: 0.3913  |  0:00:00s\n",
      "epoch 12 | loss: 1.1666  | valid_accuracy: 0.21739 |  0:00:00s\n",
      "epoch 13 | loss: 1.177   | valid_accuracy: 0.30435 |  0:00:00s\n",
      "epoch 14 | loss: 1.03701 | valid_accuracy: 0.3913  |  0:00:00s\n",
      "epoch 15 | loss: 1.0205  | valid_accuracy: 0.43478 |  0:00:00s\n",
      "epoch 16 | loss: 0.93257 | valid_accuracy: 0.47826 |  0:00:00s\n",
      "epoch 17 | loss: 0.878   | valid_accuracy: 0.3913  |  0:00:00s\n",
      "\n",
      "Early stopping occurred at epoch 17 with best_epoch = 7 and best_valid_accuracy = 0.52174\n",
      "epoch 0  | loss: 0.95814 | valid_accuracy: 0.52174 |  0:00:00s\n",
      "epoch 1  | loss: 1.03116 | valid_accuracy: 0.43478 |  0:00:00s\n",
      "epoch 2  | loss: 0.95176 | valid_accuracy: 0.34783 |  0:00:00s\n"
     ]
    },
    {
     "name": "stderr",
     "output_type": "stream",
     "text": [
      "c:\\Users\\carly\\anaconda3\\envs\\dyspepsia_research\\lib\\site-packages\\pytorch_tabnet\\callbacks.py:172: UserWarning: Best weights from best epoch are automatically used!\n",
      "  warnings.warn(wrn_msg)\n",
      "c:\\Users\\carly\\anaconda3\\envs\\dyspepsia_research\\lib\\site-packages\\pytorch_tabnet\\abstract_model.py:82: UserWarning: Device used : cpu\n",
      "  warnings.warn(f\"Device used : {self.device}\")\n"
     ]
    },
    {
     "name": "stdout",
     "output_type": "stream",
     "text": [
      "epoch 3  | loss: 1.03049 | valid_accuracy: 0.47826 |  0:00:00s\n",
      "epoch 4  | loss: 0.98999 | valid_accuracy: 0.52174 |  0:00:00s\n",
      "epoch 5  | loss: 0.98694 | valid_accuracy: 0.3913  |  0:00:00s\n",
      "epoch 6  | loss: 0.96196 | valid_accuracy: 0.47826 |  0:00:00s\n",
      "epoch 7  | loss: 1.03932 | valid_accuracy: 0.52174 |  0:00:00s\n",
      "epoch 8  | loss: 1.09965 | valid_accuracy: 0.43478 |  0:00:00s\n",
      "epoch 9  | loss: 1.0159  | valid_accuracy: 0.52174 |  0:00:00s\n",
      "epoch 10 | loss: 0.94221 | valid_accuracy: 0.34783 |  0:00:00s\n",
      "\n",
      "Early stopping occurred at epoch 10 with best_epoch = 0 and best_valid_accuracy = 0.52174\n",
      "평균 F1 Score: 0.5366\n",
      "\n",
      "현재 파라미터 조합: {'gamma': 1.5, 'lambda_sparse': 0.001, 'n_a': 8, 'n_d': 8, 'n_steps': 5, 'optimizer_params': {'lr': 0.02}}\n",
      "epoch 0  | loss: 1.35419 | valid_accuracy: 0.45833 |  0:00:00s\n",
      "epoch 1  | loss: 1.24547 | valid_accuracy: 0.45833 |  0:00:00s\n"
     ]
    },
    {
     "name": "stderr",
     "output_type": "stream",
     "text": [
      "c:\\Users\\carly\\anaconda3\\envs\\dyspepsia_research\\lib\\site-packages\\pytorch_tabnet\\callbacks.py:172: UserWarning: Best weights from best epoch are automatically used!\n",
      "  warnings.warn(wrn_msg)\n",
      "c:\\Users\\carly\\anaconda3\\envs\\dyspepsia_research\\lib\\site-packages\\pytorch_tabnet\\abstract_model.py:82: UserWarning: Device used : cpu\n",
      "  warnings.warn(f\"Device used : {self.device}\")\n"
     ]
    },
    {
     "name": "stdout",
     "output_type": "stream",
     "text": [
      "epoch 2  | loss: 1.15252 | valid_accuracy: 0.41667 |  0:00:00s\n",
      "epoch 3  | loss: 1.14399 | valid_accuracy: 0.41667 |  0:00:00s\n",
      "epoch 4  | loss: 1.2712  | valid_accuracy: 0.45833 |  0:00:00s\n",
      "epoch 5  | loss: 1.02475 | valid_accuracy: 0.41667 |  0:00:00s\n",
      "epoch 6  | loss: 1.15001 | valid_accuracy: 0.5     |  0:00:00s\n",
      "epoch 7  | loss: 1.31216 | valid_accuracy: 0.45833 |  0:00:00s\n",
      "epoch 8  | loss: 1.07927 | valid_accuracy: 0.33333 |  0:00:00s\n",
      "epoch 9  | loss: 1.18739 | valid_accuracy: 0.41667 |  0:00:00s\n",
      "epoch 10 | loss: 1.05938 | valid_accuracy: 0.54167 |  0:00:00s\n",
      "epoch 11 | loss: 0.97118 | valid_accuracy: 0.58333 |  0:00:00s\n",
      "epoch 12 | loss: 1.02477 | valid_accuracy: 0.66667 |  0:00:00s\n",
      "epoch 13 | loss: 1.06049 | valid_accuracy: 0.66667 |  0:00:00s\n",
      "epoch 14 | loss: 0.92223 | valid_accuracy: 0.41667 |  0:00:00s\n",
      "epoch 15 | loss: 1.01099 | valid_accuracy: 0.45833 |  0:00:00s\n",
      "epoch 16 | loss: 1.03737 | valid_accuracy: 0.5     |  0:00:00s\n",
      "epoch 17 | loss: 0.91702 | valid_accuracy: 0.5     |  0:00:01s\n",
      "epoch 18 | loss: 0.95523 | valid_accuracy: 0.54167 |  0:00:01s\n",
      "epoch 19 | loss: 1.01575 | valid_accuracy: 0.5     |  0:00:01s\n",
      "epoch 20 | loss: 0.86924 | valid_accuracy: 0.5     |  0:00:01s\n",
      "epoch 21 | loss: 0.96644 | valid_accuracy: 0.54167 |  0:00:01s\n",
      "epoch 22 | loss: 0.91836 | valid_accuracy: 0.41667 |  0:00:01s\n",
      "\n",
      "Early stopping occurred at epoch 22 with best_epoch = 12 and best_valid_accuracy = 0.66667\n"
     ]
    },
    {
     "name": "stderr",
     "output_type": "stream",
     "text": [
      "c:\\Users\\carly\\anaconda3\\envs\\dyspepsia_research\\lib\\site-packages\\pytorch_tabnet\\callbacks.py:172: UserWarning: Best weights from best epoch are automatically used!\n",
      "  warnings.warn(wrn_msg)\n",
      "c:\\Users\\carly\\anaconda3\\envs\\dyspepsia_research\\lib\\site-packages\\pytorch_tabnet\\abstract_model.py:82: UserWarning: Device used : cpu\n",
      "  warnings.warn(f\"Device used : {self.device}\")\n"
     ]
    },
    {
     "name": "stdout",
     "output_type": "stream",
     "text": [
      "epoch 0  | loss: 1.31044 | valid_accuracy: 0.43478 |  0:00:00s\n",
      "epoch 1  | loss: 1.32054 | valid_accuracy: 0.43478 |  0:00:00s\n",
      "epoch 2  | loss: 1.17425 | valid_accuracy: 0.47826 |  0:00:00s\n",
      "epoch 3  | loss: 1.60664 | valid_accuracy: 0.6087  |  0:00:00s\n",
      "epoch 4  | loss: 1.21129 | valid_accuracy: 0.56522 |  0:00:00s\n",
      "epoch 5  | loss: 1.25138 | valid_accuracy: 0.3913  |  0:00:00s\n",
      "epoch 6  | loss: 1.19867 | valid_accuracy: 0.43478 |  0:00:00s\n",
      "epoch 7  | loss: 1.26132 | valid_accuracy: 0.26087 |  0:00:00s\n",
      "epoch 8  | loss: 1.18588 | valid_accuracy: 0.3913  |  0:00:00s\n",
      "epoch 9  | loss: 1.21716 | valid_accuracy: 0.30435 |  0:00:00s\n",
      "epoch 10 | loss: 1.0912  | valid_accuracy: 0.30435 |  0:00:00s\n",
      "epoch 11 | loss: 1.10043 | valid_accuracy: 0.17391 |  0:00:00s\n",
      "epoch 12 | loss: 1.19895 | valid_accuracy: 0.34783 |  0:00:00s\n",
      "epoch 13 | loss: 1.0514  | valid_accuracy: 0.30435 |  0:00:00s\n",
      "\n",
      "Early stopping occurred at epoch 13 with best_epoch = 3 and best_valid_accuracy = 0.6087\n",
      "epoch 0  | loss: 1.43104 | valid_accuracy: 0.52174 |  0:00:00s\n",
      "epoch 1  | loss: 1.49467 | valid_accuracy: 0.21739 |  0:00:00s\n"
     ]
    },
    {
     "name": "stderr",
     "output_type": "stream",
     "text": [
      "c:\\Users\\carly\\anaconda3\\envs\\dyspepsia_research\\lib\\site-packages\\pytorch_tabnet\\callbacks.py:172: UserWarning: Best weights from best epoch are automatically used!\n",
      "  warnings.warn(wrn_msg)\n",
      "c:\\Users\\carly\\anaconda3\\envs\\dyspepsia_research\\lib\\site-packages\\pytorch_tabnet\\abstract_model.py:82: UserWarning: Device used : cpu\n",
      "  warnings.warn(f\"Device used : {self.device}\")\n"
     ]
    },
    {
     "name": "stdout",
     "output_type": "stream",
     "text": [
      "epoch 2  | loss: 1.26343 | valid_accuracy: 0.3913  |  0:00:00s\n",
      "epoch 3  | loss: 1.20504 | valid_accuracy: 0.26087 |  0:00:00s\n",
      "epoch 4  | loss: 1.31326 | valid_accuracy: 0.34783 |  0:00:00s\n",
      "epoch 5  | loss: 1.23893 | valid_accuracy: 0.34783 |  0:00:00s\n",
      "epoch 6  | loss: 1.24158 | valid_accuracy: 0.43478 |  0:00:00s\n",
      "epoch 7  | loss: 1.21419 | valid_accuracy: 0.47826 |  0:00:00s\n",
      "epoch 8  | loss: 1.17438 | valid_accuracy: 0.47826 |  0:00:00s\n",
      "epoch 9  | loss: 1.14018 | valid_accuracy: 0.52174 |  0:00:00s\n",
      "epoch 10 | loss: 1.17736 | valid_accuracy: 0.3913  |  0:00:00s\n",
      "\n",
      "Early stopping occurred at epoch 10 with best_epoch = 0 and best_valid_accuracy = 0.52174\n",
      "평균 F1 Score: 0.5835\n",
      "\n",
      "현재 파라미터 조합: {'gamma': 1.5, 'lambda_sparse': 0.001, 'n_a': 8, 'n_d': 8, 'n_steps': 5, 'optimizer_params': {'lr': 0.01}}\n",
      "epoch 0  | loss: 1.35419 | valid_accuracy: 0.45833 |  0:00:00s\n",
      "epoch 1  | loss: 1.42893 | valid_accuracy: 0.45833 |  0:00:00s\n",
      "epoch 2  | loss: 1.36821 | valid_accuracy: 0.45833 |  0:00:00s\n"
     ]
    },
    {
     "name": "stderr",
     "output_type": "stream",
     "text": [
      "c:\\Users\\carly\\anaconda3\\envs\\dyspepsia_research\\lib\\site-packages\\pytorch_tabnet\\callbacks.py:172: UserWarning: Best weights from best epoch are automatically used!\n",
      "  warnings.warn(wrn_msg)\n",
      "c:\\Users\\carly\\anaconda3\\envs\\dyspepsia_research\\lib\\site-packages\\pytorch_tabnet\\abstract_model.py:82: UserWarning: Device used : cpu\n",
      "  warnings.warn(f\"Device used : {self.device}\")\n"
     ]
    },
    {
     "name": "stdout",
     "output_type": "stream",
     "text": [
      "epoch 3  | loss: 1.14978 | valid_accuracy: 0.45833 |  0:00:00s\n",
      "epoch 4  | loss: 1.12746 | valid_accuracy: 0.45833 |  0:00:00s\n",
      "epoch 5  | loss: 1.15451 | valid_accuracy: 0.54167 |  0:00:00s\n",
      "epoch 6  | loss: 1.10048 | valid_accuracy: 0.5     |  0:00:00s\n",
      "epoch 7  | loss: 1.17269 | valid_accuracy: 0.41667 |  0:00:00s\n",
      "epoch 8  | loss: 1.33996 | valid_accuracy: 0.5     |  0:00:00s\n",
      "epoch 9  | loss: 1.28406 | valid_accuracy: 0.45833 |  0:00:00s\n",
      "epoch 10 | loss: 1.11891 | valid_accuracy: 0.5     |  0:00:00s\n",
      "epoch 11 | loss: 1.22032 | valid_accuracy: 0.58333 |  0:00:00s\n",
      "epoch 12 | loss: 1.16689 | valid_accuracy: 0.45833 |  0:00:00s\n",
      "epoch 13 | loss: 1.04398 | valid_accuracy: 0.45833 |  0:00:00s\n",
      "epoch 14 | loss: 1.13789 | valid_accuracy: 0.375   |  0:00:00s\n",
      "epoch 15 | loss: 1.06778 | valid_accuracy: 0.375   |  0:00:00s\n",
      "epoch 16 | loss: 1.08341 | valid_accuracy: 0.375   |  0:00:00s\n",
      "epoch 17 | loss: 1.08659 | valid_accuracy: 0.375   |  0:00:01s\n",
      "epoch 18 | loss: 1.09672 | valid_accuracy: 0.41667 |  0:00:01s\n",
      "epoch 19 | loss: 1.1592  | valid_accuracy: 0.5     |  0:00:01s\n",
      "epoch 20 | loss: 0.93989 | valid_accuracy: 0.45833 |  0:00:01s\n",
      "epoch 21 | loss: 1.0911  | valid_accuracy: 0.5     |  0:00:01s\n",
      "\n",
      "Early stopping occurred at epoch 21 with best_epoch = 11 and best_valid_accuracy = 0.58333\n"
     ]
    },
    {
     "name": "stderr",
     "output_type": "stream",
     "text": [
      "c:\\Users\\carly\\anaconda3\\envs\\dyspepsia_research\\lib\\site-packages\\pytorch_tabnet\\callbacks.py:172: UserWarning: Best weights from best epoch are automatically used!\n",
      "  warnings.warn(wrn_msg)\n",
      "c:\\Users\\carly\\anaconda3\\envs\\dyspepsia_research\\lib\\site-packages\\pytorch_tabnet\\abstract_model.py:82: UserWarning: Device used : cpu\n",
      "  warnings.warn(f\"Device used : {self.device}\")\n"
     ]
    },
    {
     "name": "stdout",
     "output_type": "stream",
     "text": [
      "epoch 0  | loss: 1.31044 | valid_accuracy: 0.47826 |  0:00:00s\n",
      "epoch 1  | loss: 1.61648 | valid_accuracy: 0.47826 |  0:00:00s\n",
      "epoch 2  | loss: 1.40045 | valid_accuracy: 0.52174 |  0:00:00s\n",
      "epoch 3  | loss: 1.17185 | valid_accuracy: 0.47826 |  0:00:00s\n",
      "epoch 4  | loss: 1.11534 | valid_accuracy: 0.52174 |  0:00:00s\n",
      "epoch 5  | loss: 1.33634 | valid_accuracy: 0.43478 |  0:00:00s\n",
      "epoch 6  | loss: 1.20849 | valid_accuracy: 0.3913  |  0:00:00s\n",
      "epoch 7  | loss: 1.14727 | valid_accuracy: 0.26087 |  0:00:00s\n",
      "epoch 8  | loss: 1.39931 | valid_accuracy: 0.30435 |  0:00:00s\n",
      "epoch 9  | loss: 1.21755 | valid_accuracy: 0.30435 |  0:00:00s\n",
      "epoch 10 | loss: 1.23778 | valid_accuracy: 0.30435 |  0:00:00s\n",
      "epoch 11 | loss: 1.2294  | valid_accuracy: 0.26087 |  0:00:00s\n",
      "epoch 12 | loss: 1.09139 | valid_accuracy: 0.30435 |  0:00:00s\n",
      "\n",
      "Early stopping occurred at epoch 12 with best_epoch = 2 and best_valid_accuracy = 0.52174\n"
     ]
    },
    {
     "name": "stderr",
     "output_type": "stream",
     "text": [
      "c:\\Users\\carly\\anaconda3\\envs\\dyspepsia_research\\lib\\site-packages\\pytorch_tabnet\\callbacks.py:172: UserWarning: Best weights from best epoch are automatically used!\n",
      "  warnings.warn(wrn_msg)\n",
      "c:\\Users\\carly\\anaconda3\\envs\\dyspepsia_research\\lib\\site-packages\\pytorch_tabnet\\abstract_model.py:82: UserWarning: Device used : cpu\n",
      "  warnings.warn(f\"Device used : {self.device}\")\n"
     ]
    },
    {
     "name": "stdout",
     "output_type": "stream",
     "text": [
      "epoch 0  | loss: 1.43104 | valid_accuracy: 0.3913  |  0:00:00s\n",
      "epoch 1  | loss: 1.35073 | valid_accuracy: 0.43478 |  0:00:00s\n",
      "epoch 2  | loss: 1.14939 | valid_accuracy: 0.52174 |  0:00:00s\n",
      "epoch 3  | loss: 1.44574 | valid_accuracy: 0.56522 |  0:00:00s\n",
      "epoch 4  | loss: 1.23313 | valid_accuracy: 0.52174 |  0:00:00s\n",
      "epoch 5  | loss: 1.24299 | valid_accuracy: 0.43478 |  0:00:00s\n",
      "epoch 6  | loss: 1.47279 | valid_accuracy: 0.34783 |  0:00:00s\n",
      "epoch 7  | loss: 1.31787 | valid_accuracy: 0.3913  |  0:00:00s\n",
      "epoch 8  | loss: 1.20916 | valid_accuracy: 0.43478 |  0:00:00s\n",
      "epoch 9  | loss: 1.15816 | valid_accuracy: 0.52174 |  0:00:00s\n",
      "epoch 10 | loss: 1.20532 | valid_accuracy: 0.47826 |  0:00:00s\n",
      "epoch 11 | loss: 1.12363 | valid_accuracy: 0.3913  |  0:00:00s\n",
      "epoch 12 | loss: 1.15906 | valid_accuracy: 0.43478 |  0:00:00s\n",
      "epoch 13 | loss: 1.10269 | valid_accuracy: 0.52174 |  0:00:00s\n",
      "\n",
      "Early stopping occurred at epoch 13 with best_epoch = 3 and best_valid_accuracy = 0.56522\n",
      "평균 F1 Score: 0.4757\n",
      "\n",
      "현재 파라미터 조합: {'gamma': 1.5, 'lambda_sparse': 0.001, 'n_a': 8, 'n_d': 16, 'n_steps': 3, 'optimizer_params': {'lr': 0.02}}\n",
      "epoch 0  | loss: 3.02706 | valid_accuracy: 0.125   |  0:00:00s\n"
     ]
    },
    {
     "name": "stderr",
     "output_type": "stream",
     "text": [
      "c:\\Users\\carly\\anaconda3\\envs\\dyspepsia_research\\lib\\site-packages\\pytorch_tabnet\\callbacks.py:172: UserWarning: Best weights from best epoch are automatically used!\n",
      "  warnings.warn(wrn_msg)\n",
      "c:\\Users\\carly\\anaconda3\\envs\\dyspepsia_research\\lib\\site-packages\\pytorch_tabnet\\abstract_model.py:82: UserWarning: Device used : cpu\n",
      "  warnings.warn(f\"Device used : {self.device}\")\n"
     ]
    },
    {
     "name": "stdout",
     "output_type": "stream",
     "text": [
      "epoch 1  | loss: 2.58693 | valid_accuracy: 0.29167 |  0:00:00s\n",
      "epoch 2  | loss: 2.04442 | valid_accuracy: 0.375   |  0:00:00s\n",
      "epoch 3  | loss: 1.36227 | valid_accuracy: 0.25    |  0:00:00s\n",
      "epoch 4  | loss: 1.10166 | valid_accuracy: 0.375   |  0:00:00s\n",
      "epoch 5  | loss: 1.15214 | valid_accuracy: 0.45833 |  0:00:00s\n",
      "epoch 6  | loss: 1.01727 | valid_accuracy: 0.54167 |  0:00:00s\n",
      "epoch 7  | loss: 0.85806 | valid_accuracy: 0.45833 |  0:00:00s\n",
      "epoch 8  | loss: 0.92264 | valid_accuracy: 0.58333 |  0:00:00s\n",
      "epoch 9  | loss: 0.81689 | valid_accuracy: 0.54167 |  0:00:00s\n",
      "epoch 10 | loss: 0.65458 | valid_accuracy: 0.45833 |  0:00:00s\n",
      "epoch 11 | loss: 0.59734 | valid_accuracy: 0.54167 |  0:00:00s\n",
      "epoch 12 | loss: 0.59947 | valid_accuracy: 0.54167 |  0:00:00s\n",
      "epoch 13 | loss: 0.5282  | valid_accuracy: 0.58333 |  0:00:00s\n",
      "epoch 14 | loss: 0.53347 | valid_accuracy: 0.54167 |  0:00:00s\n",
      "epoch 15 | loss: 0.51213 | valid_accuracy: 0.5     |  0:00:00s\n",
      "epoch 16 | loss: 0.41557 | valid_accuracy: 0.41667 |  0:00:00s\n",
      "epoch 17 | loss: 0.36073 | valid_accuracy: 0.41667 |  0:00:00s\n",
      "epoch 18 | loss: 0.30785 | valid_accuracy: 0.29167 |  0:00:00s\n",
      "\n",
      "Early stopping occurred at epoch 18 with best_epoch = 8 and best_valid_accuracy = 0.58333\n"
     ]
    },
    {
     "name": "stderr",
     "output_type": "stream",
     "text": [
      "c:\\Users\\carly\\anaconda3\\envs\\dyspepsia_research\\lib\\site-packages\\pytorch_tabnet\\callbacks.py:172: UserWarning: Best weights from best epoch are automatically used!\n",
      "  warnings.warn(wrn_msg)\n",
      "c:\\Users\\carly\\anaconda3\\envs\\dyspepsia_research\\lib\\site-packages\\pytorch_tabnet\\abstract_model.py:82: UserWarning: Device used : cpu\n",
      "  warnings.warn(f\"Device used : {self.device}\")\n"
     ]
    },
    {
     "name": "stdout",
     "output_type": "stream",
     "text": [
      "epoch 0  | loss: 2.88944 | valid_accuracy: 0.21739 |  0:00:00s\n",
      "epoch 1  | loss: 2.50176 | valid_accuracy: 0.34783 |  0:00:00s\n",
      "epoch 2  | loss: 2.09819 | valid_accuracy: 0.43478 |  0:00:00s\n",
      "epoch 3  | loss: 1.74842 | valid_accuracy: 0.34783 |  0:00:00s\n",
      "epoch 4  | loss: 1.42054 | valid_accuracy: 0.3913  |  0:00:00s\n",
      "epoch 5  | loss: 1.37927 | valid_accuracy: 0.43478 |  0:00:00s\n",
      "epoch 6  | loss: 1.22173 | valid_accuracy: 0.47826 |  0:00:00s\n",
      "epoch 7  | loss: 1.15481 | valid_accuracy: 0.47826 |  0:00:00s\n",
      "epoch 8  | loss: 1.12017 | valid_accuracy: 0.3913  |  0:00:00s\n",
      "epoch 9  | loss: 1.01337 | valid_accuracy: 0.3913  |  0:00:00s\n",
      "epoch 10 | loss: 0.93428 | valid_accuracy: 0.56522 |  0:00:00s\n",
      "epoch 11 | loss: 0.84117 | valid_accuracy: 0.43478 |  0:00:00s\n",
      "epoch 12 | loss: 0.8342  | valid_accuracy: 0.52174 |  0:00:00s\n",
      "epoch 13 | loss: 0.6961  | valid_accuracy: 0.56522 |  0:00:00s\n",
      "epoch 14 | loss: 0.629   | valid_accuracy: 0.52174 |  0:00:00s\n",
      "epoch 15 | loss: 0.51179 | valid_accuracy: 0.47826 |  0:00:00s\n",
      "epoch 16 | loss: 0.5624  | valid_accuracy: 0.43478 |  0:00:00s\n",
      "epoch 17 | loss: 0.45951 | valid_accuracy: 0.56522 |  0:00:00s\n",
      "epoch 18 | loss: 0.41207 | valid_accuracy: 0.43478 |  0:00:00s\n",
      "epoch 19 | loss: 0.38326 | valid_accuracy: 0.47826 |  0:00:00s\n",
      "epoch 20 | loss: 0.36135 | valid_accuracy: 0.3913  |  0:00:00s\n",
      "\n",
      "Early stopping occurred at epoch 20 with best_epoch = 10 and best_valid_accuracy = 0.56522\n",
      "epoch 0  | loss: 2.75404 | valid_accuracy: 0.17391 |  0:00:00s\n",
      "epoch 1  | loss: 2.63734 | valid_accuracy: 0.26087 |  0:00:00s\n",
      "epoch 2  | loss: 2.14883 | valid_accuracy: 0.21739 |  0:00:00s\n",
      "epoch 3  | loss: 1.50423 | valid_accuracy: 0.43478 |  0:00:00s\n"
     ]
    },
    {
     "name": "stderr",
     "output_type": "stream",
     "text": [
      "c:\\Users\\carly\\anaconda3\\envs\\dyspepsia_research\\lib\\site-packages\\pytorch_tabnet\\callbacks.py:172: UserWarning: Best weights from best epoch are automatically used!\n",
      "  warnings.warn(wrn_msg)\n",
      "c:\\Users\\carly\\anaconda3\\envs\\dyspepsia_research\\lib\\site-packages\\pytorch_tabnet\\abstract_model.py:82: UserWarning: Device used : cpu\n",
      "  warnings.warn(f\"Device used : {self.device}\")\n"
     ]
    },
    {
     "name": "stdout",
     "output_type": "stream",
     "text": [
      "epoch 4  | loss: 1.1846  | valid_accuracy: 0.47826 |  0:00:00s\n",
      "epoch 5  | loss: 1.08667 | valid_accuracy: 0.26087 |  0:00:00s\n",
      "epoch 6  | loss: 0.90876 | valid_accuracy: 0.52174 |  0:00:00s\n",
      "epoch 7  | loss: 0.93231 | valid_accuracy: 0.43478 |  0:00:00s\n",
      "epoch 8  | loss: 0.75167 | valid_accuracy: 0.30435 |  0:00:00s\n",
      "epoch 9  | loss: 0.94546 | valid_accuracy: 0.43478 |  0:00:00s\n",
      "epoch 10 | loss: 0.81817 | valid_accuracy: 0.56522 |  0:00:00s\n",
      "epoch 11 | loss: 0.75137 | valid_accuracy: 0.43478 |  0:00:00s\n",
      "epoch 12 | loss: 0.70127 | valid_accuracy: 0.3913  |  0:00:00s\n",
      "epoch 13 | loss: 0.6124  | valid_accuracy: 0.21739 |  0:00:00s\n",
      "epoch 14 | loss: 0.61409 | valid_accuracy: 0.21739 |  0:00:00s\n",
      "epoch 15 | loss: 0.63021 | valid_accuracy: 0.34783 |  0:00:00s\n",
      "epoch 16 | loss: 0.57867 | valid_accuracy: 0.34783 |  0:00:00s\n",
      "epoch 17 | loss: 0.53339 | valid_accuracy: 0.30435 |  0:00:00s\n",
      "epoch 18 | loss: 0.50499 | valid_accuracy: 0.34783 |  0:00:00s\n",
      "epoch 19 | loss: 0.62341 | valid_accuracy: 0.26087 |  0:00:00s\n",
      "epoch 20 | loss: 0.56298 | valid_accuracy: 0.30435 |  0:00:00s\n",
      "\n",
      "Early stopping occurred at epoch 20 with best_epoch = 10 and best_valid_accuracy = 0.56522\n",
      "평균 F1 Score: 0.5215\n",
      "\n",
      "현재 파라미터 조합: {'gamma': 1.5, 'lambda_sparse': 0.001, 'n_a': 8, 'n_d': 16, 'n_steps': 3, 'optimizer_params': {'lr': 0.01}}\n",
      "epoch 0  | loss: 3.02706 | valid_accuracy: 0.20833 |  0:00:00s\n"
     ]
    },
    {
     "name": "stderr",
     "output_type": "stream",
     "text": [
      "c:\\Users\\carly\\anaconda3\\envs\\dyspepsia_research\\lib\\site-packages\\pytorch_tabnet\\callbacks.py:172: UserWarning: Best weights from best epoch are automatically used!\n",
      "  warnings.warn(wrn_msg)\n",
      "c:\\Users\\carly\\anaconda3\\envs\\dyspepsia_research\\lib\\site-packages\\pytorch_tabnet\\abstract_model.py:82: UserWarning: Device used : cpu\n",
      "  warnings.warn(f\"Device used : {self.device}\")\n"
     ]
    },
    {
     "name": "stdout",
     "output_type": "stream",
     "text": [
      "epoch 1  | loss: 2.53689 | valid_accuracy: 0.25    |  0:00:00s\n",
      "epoch 2  | loss: 2.77143 | valid_accuracy: 0.25    |  0:00:00s\n",
      "epoch 3  | loss: 2.12014 | valid_accuracy: 0.29167 |  0:00:00s\n",
      "epoch 4  | loss: 1.70115 | valid_accuracy: 0.45833 |  0:00:00s\n",
      "epoch 5  | loss: 1.46453 | valid_accuracy: 0.20833 |  0:00:00s\n",
      "epoch 6  | loss: 1.48779 | valid_accuracy: 0.25    |  0:00:00s\n",
      "epoch 7  | loss: 1.3266  | valid_accuracy: 0.25    |  0:00:00s\n",
      "epoch 8  | loss: 1.15656 | valid_accuracy: 0.29167 |  0:00:00s\n",
      "epoch 9  | loss: 1.07624 | valid_accuracy: 0.29167 |  0:00:00s\n",
      "epoch 10 | loss: 0.95162 | valid_accuracy: 0.29167 |  0:00:00s\n",
      "epoch 11 | loss: 0.92828 | valid_accuracy: 0.29167 |  0:00:00s\n",
      "epoch 12 | loss: 0.92905 | valid_accuracy: 0.25    |  0:00:00s\n",
      "epoch 13 | loss: 0.86528 | valid_accuracy: 0.29167 |  0:00:00s\n",
      "epoch 14 | loss: 0.951   | valid_accuracy: 0.41667 |  0:00:00s\n",
      "\n",
      "Early stopping occurred at epoch 14 with best_epoch = 4 and best_valid_accuracy = 0.45833\n",
      "epoch 0  | loss: 2.88944 | valid_accuracy: 0.30435 |  0:00:00s\n",
      "epoch 1  | loss: 2.64518 | valid_accuracy: 0.04348 |  0:00:00s\n",
      "epoch 2  | loss: 2.447   | valid_accuracy: 0.17391 |  0:00:00s\n"
     ]
    },
    {
     "name": "stderr",
     "output_type": "stream",
     "text": [
      "c:\\Users\\carly\\anaconda3\\envs\\dyspepsia_research\\lib\\site-packages\\pytorch_tabnet\\callbacks.py:172: UserWarning: Best weights from best epoch are automatically used!\n",
      "  warnings.warn(wrn_msg)\n",
      "c:\\Users\\carly\\anaconda3\\envs\\dyspepsia_research\\lib\\site-packages\\pytorch_tabnet\\abstract_model.py:82: UserWarning: Device used : cpu\n",
      "  warnings.warn(f\"Device used : {self.device}\")\n"
     ]
    },
    {
     "name": "stdout",
     "output_type": "stream",
     "text": [
      "epoch 3  | loss: 2.32462 | valid_accuracy: 0.21739 |  0:00:00s\n",
      "epoch 4  | loss: 1.86973 | valid_accuracy: 0.26087 |  0:00:00s\n",
      "epoch 5  | loss: 1.69147 | valid_accuracy: 0.34783 |  0:00:00s\n",
      "epoch 6  | loss: 1.68082 | valid_accuracy: 0.30435 |  0:00:00s\n",
      "epoch 7  | loss: 1.33379 | valid_accuracy: 0.43478 |  0:00:00s\n",
      "epoch 8  | loss: 1.25989 | valid_accuracy: 0.26087 |  0:00:00s\n",
      "epoch 9  | loss: 1.1832  | valid_accuracy: 0.34783 |  0:00:00s\n",
      "epoch 10 | loss: 1.12847 | valid_accuracy: 0.30435 |  0:00:00s\n",
      "epoch 11 | loss: 1.02024 | valid_accuracy: 0.43478 |  0:00:00s\n",
      "epoch 12 | loss: 0.9429  | valid_accuracy: 0.43478 |  0:00:00s\n",
      "epoch 13 | loss: 0.94423 | valid_accuracy: 0.47826 |  0:00:00s\n",
      "epoch 14 | loss: 0.86176 | valid_accuracy: 0.30435 |  0:00:00s\n",
      "epoch 15 | loss: 0.97319 | valid_accuracy: 0.30435 |  0:00:00s\n",
      "epoch 16 | loss: 0.8918  | valid_accuracy: 0.3913  |  0:00:00s\n",
      "epoch 17 | loss: 0.87115 | valid_accuracy: 0.43478 |  0:00:00s\n",
      "epoch 18 | loss: 0.80538 | valid_accuracy: 0.34783 |  0:00:00s\n",
      "epoch 19 | loss: 0.71563 | valid_accuracy: 0.3913  |  0:00:00s\n",
      "epoch 20 | loss: 0.69756 | valid_accuracy: 0.34783 |  0:00:00s\n",
      "epoch 21 | loss: 0.64919 | valid_accuracy: 0.34783 |  0:00:00s\n",
      "epoch 22 | loss: 0.65947 | valid_accuracy: 0.3913  |  0:00:00s\n",
      "epoch 23 | loss: 0.6731  | valid_accuracy: 0.3913  |  0:00:00s\n",
      "\n",
      "Early stopping occurred at epoch 23 with best_epoch = 13 and best_valid_accuracy = 0.47826\n",
      "epoch 0  | loss: 2.75404 | valid_accuracy: 0.17391 |  0:00:00s\n",
      "epoch 1  | loss: 2.69144 | valid_accuracy: 0.26087 |  0:00:00s\n"
     ]
    },
    {
     "name": "stderr",
     "output_type": "stream",
     "text": [
      "c:\\Users\\carly\\anaconda3\\envs\\dyspepsia_research\\lib\\site-packages\\pytorch_tabnet\\callbacks.py:172: UserWarning: Best weights from best epoch are automatically used!\n",
      "  warnings.warn(wrn_msg)\n",
      "c:\\Users\\carly\\anaconda3\\envs\\dyspepsia_research\\lib\\site-packages\\pytorch_tabnet\\abstract_model.py:82: UserWarning: Device used : cpu\n",
      "  warnings.warn(f\"Device used : {self.device}\")\n"
     ]
    },
    {
     "name": "stdout",
     "output_type": "stream",
     "text": [
      "epoch 2  | loss: 2.26015 | valid_accuracy: 0.26087 |  0:00:00s\n",
      "epoch 3  | loss: 2.12012 | valid_accuracy: 0.34783 |  0:00:00s\n",
      "epoch 4  | loss: 1.87445 | valid_accuracy: 0.30435 |  0:00:00s\n",
      "epoch 5  | loss: 1.77645 | valid_accuracy: 0.26087 |  0:00:00s\n",
      "epoch 6  | loss: 1.85764 | valid_accuracy: 0.17391 |  0:00:00s\n",
      "epoch 7  | loss: 1.5711  | valid_accuracy: 0.13043 |  0:00:00s\n",
      "epoch 8  | loss: 1.46879 | valid_accuracy: 0.17391 |  0:00:00s\n",
      "epoch 9  | loss: 1.4135  | valid_accuracy: 0.34783 |  0:00:00s\n",
      "epoch 10 | loss: 1.43934 | valid_accuracy: 0.30435 |  0:00:00s\n",
      "epoch 11 | loss: 1.35395 | valid_accuracy: 0.34783 |  0:00:00s\n",
      "epoch 12 | loss: 1.31803 | valid_accuracy: 0.21739 |  0:00:00s\n",
      "epoch 13 | loss: 1.28377 | valid_accuracy: 0.26087 |  0:00:00s\n",
      "\n",
      "Early stopping occurred at epoch 13 with best_epoch = 3 and best_valid_accuracy = 0.34783\n"
     ]
    },
    {
     "name": "stderr",
     "output_type": "stream",
     "text": [
      "c:\\Users\\carly\\anaconda3\\envs\\dyspepsia_research\\lib\\site-packages\\pytorch_tabnet\\callbacks.py:172: UserWarning: Best weights from best epoch are automatically used!\n",
      "  warnings.warn(wrn_msg)\n",
      "c:\\Users\\carly\\anaconda3\\envs\\dyspepsia_research\\lib\\site-packages\\pytorch_tabnet\\abstract_model.py:82: UserWarning: Device used : cpu\n",
      "  warnings.warn(f\"Device used : {self.device}\")\n"
     ]
    },
    {
     "name": "stdout",
     "output_type": "stream",
     "text": [
      "평균 F1 Score: 0.3774\n",
      "\n",
      "현재 파라미터 조합: {'gamma': 1.5, 'lambda_sparse': 0.001, 'n_a': 8, 'n_d': 16, 'n_steps': 5, 'optimizer_params': {'lr': 0.02}}\n",
      "epoch 0  | loss: 2.00214 | valid_accuracy: 0.45833 |  0:00:00s\n",
      "epoch 1  | loss: 1.33785 | valid_accuracy: 0.41667 |  0:00:00s\n",
      "epoch 2  | loss: 1.43913 | valid_accuracy: 0.25    |  0:00:00s\n",
      "epoch 3  | loss: 1.29115 | valid_accuracy: 0.45833 |  0:00:00s\n",
      "epoch 4  | loss: 1.09311 | valid_accuracy: 0.375   |  0:00:00s\n",
      "epoch 5  | loss: 1.18982 | valid_accuracy: 0.375   |  0:00:00s\n",
      "epoch 6  | loss: 1.28586 | valid_accuracy: 0.54167 |  0:00:00s\n",
      "epoch 7  | loss: 1.32749 | valid_accuracy: 0.45833 |  0:00:00s\n",
      "epoch 8  | loss: 1.09922 | valid_accuracy: 0.5     |  0:00:00s\n",
      "epoch 9  | loss: 1.15315 | valid_accuracy: 0.58333 |  0:00:00s\n",
      "epoch 10 | loss: 1.24876 | valid_accuracy: 0.375   |  0:00:00s\n",
      "epoch 11 | loss: 1.01794 | valid_accuracy: 0.45833 |  0:00:00s\n",
      "epoch 12 | loss: 1.1818  | valid_accuracy: 0.41667 |  0:00:00s\n",
      "epoch 13 | loss: 1.05862 | valid_accuracy: 0.29167 |  0:00:00s\n",
      "epoch 14 | loss: 0.97566 | valid_accuracy: 0.41667 |  0:00:00s\n",
      "epoch 15 | loss: 0.91579 | valid_accuracy: 0.41667 |  0:00:00s\n",
      "epoch 16 | loss: 1.01051 | valid_accuracy: 0.29167 |  0:00:01s\n",
      "epoch 17 | loss: 0.96674 | valid_accuracy: 0.25    |  0:00:01s\n",
      "epoch 18 | loss: 0.98036 | valid_accuracy: 0.29167 |  0:00:01s\n",
      "epoch 19 | loss: 0.77707 | valid_accuracy: 0.41667 |  0:00:01s\n",
      "\n",
      "Early stopping occurred at epoch 19 with best_epoch = 9 and best_valid_accuracy = 0.58333\n",
      "epoch 0  | loss: 1.80326 | valid_accuracy: 0.30435 |  0:00:00s\n",
      "epoch 1  | loss: 1.77699 | valid_accuracy: 0.47826 |  0:00:00s\n"
     ]
    },
    {
     "name": "stderr",
     "output_type": "stream",
     "text": [
      "c:\\Users\\carly\\anaconda3\\envs\\dyspepsia_research\\lib\\site-packages\\pytorch_tabnet\\callbacks.py:172: UserWarning: Best weights from best epoch are automatically used!\n",
      "  warnings.warn(wrn_msg)\n",
      "c:\\Users\\carly\\anaconda3\\envs\\dyspepsia_research\\lib\\site-packages\\pytorch_tabnet\\abstract_model.py:82: UserWarning: Device used : cpu\n",
      "  warnings.warn(f\"Device used : {self.device}\")\n"
     ]
    },
    {
     "name": "stdout",
     "output_type": "stream",
     "text": [
      "epoch 2  | loss: 1.3494  | valid_accuracy: 0.21739 |  0:00:00s\n",
      "epoch 3  | loss: 1.16801 | valid_accuracy: 0.30435 |  0:00:00s\n",
      "epoch 4  | loss: 1.3092  | valid_accuracy: 0.34783 |  0:00:00s\n",
      "epoch 5  | loss: 1.21187 | valid_accuracy: 0.43478 |  0:00:00s\n",
      "epoch 6  | loss: 1.28505 | valid_accuracy: 0.43478 |  0:00:00s\n",
      "epoch 7  | loss: 1.15189 | valid_accuracy: 0.30435 |  0:00:00s\n",
      "epoch 8  | loss: 1.23995 | valid_accuracy: 0.26087 |  0:00:00s\n",
      "epoch 9  | loss: 1.48307 | valid_accuracy: 0.34783 |  0:00:00s\n",
      "epoch 10 | loss: 1.16072 | valid_accuracy: 0.30435 |  0:00:00s\n",
      "epoch 11 | loss: 1.28283 | valid_accuracy: 0.3913  |  0:00:00s\n",
      "\n",
      "Early stopping occurred at epoch 11 with best_epoch = 1 and best_valid_accuracy = 0.47826\n",
      "epoch 0  | loss: 1.80912 | valid_accuracy: 0.30435 |  0:00:00s\n"
     ]
    },
    {
     "name": "stderr",
     "output_type": "stream",
     "text": [
      "c:\\Users\\carly\\anaconda3\\envs\\dyspepsia_research\\lib\\site-packages\\pytorch_tabnet\\callbacks.py:172: UserWarning: Best weights from best epoch are automatically used!\n",
      "  warnings.warn(wrn_msg)\n",
      "c:\\Users\\carly\\anaconda3\\envs\\dyspepsia_research\\lib\\site-packages\\pytorch_tabnet\\abstract_model.py:82: UserWarning: Device used : cpu\n",
      "  warnings.warn(f\"Device used : {self.device}\")\n"
     ]
    },
    {
     "name": "stdout",
     "output_type": "stream",
     "text": [
      "epoch 1  | loss: 1.69376 | valid_accuracy: 0.3913  |  0:00:00s\n",
      "epoch 2  | loss: 1.35647 | valid_accuracy: 0.21739 |  0:00:00s\n",
      "epoch 3  | loss: 1.23304 | valid_accuracy: 0.3913  |  0:00:00s\n",
      "epoch 4  | loss: 1.17946 | valid_accuracy: 0.30435 |  0:00:00s\n",
      "epoch 5  | loss: 1.11313 | valid_accuracy: 0.34783 |  0:00:00s\n",
      "epoch 6  | loss: 0.95542 | valid_accuracy: 0.34783 |  0:00:00s\n",
      "epoch 7  | loss: 0.96253 | valid_accuracy: 0.34783 |  0:00:00s\n",
      "epoch 8  | loss: 0.79749 | valid_accuracy: 0.43478 |  0:00:00s\n",
      "epoch 9  | loss: 0.88248 | valid_accuracy: 0.3913  |  0:00:00s\n",
      "epoch 10 | loss: 0.86485 | valid_accuracy: 0.3913  |  0:00:00s\n",
      "epoch 11 | loss: 0.97913 | valid_accuracy: 0.26087 |  0:00:00s\n",
      "epoch 12 | loss: 0.98194 | valid_accuracy: 0.26087 |  0:00:00s\n",
      "epoch 13 | loss: 0.92162 | valid_accuracy: 0.3913  |  0:00:00s\n",
      "epoch 14 | loss: 0.8855  | valid_accuracy: 0.43478 |  0:00:00s\n",
      "epoch 15 | loss: 0.98387 | valid_accuracy: 0.43478 |  0:00:00s\n",
      "epoch 16 | loss: 0.85221 | valid_accuracy: 0.65217 |  0:00:01s\n",
      "epoch 17 | loss: 0.91867 | valid_accuracy: 0.56522 |  0:00:01s\n",
      "epoch 18 | loss: 0.91355 | valid_accuracy: 0.43478 |  0:00:01s\n",
      "epoch 19 | loss: 0.83834 | valid_accuracy: 0.30435 |  0:00:01s\n",
      "epoch 20 | loss: 0.87929 | valid_accuracy: 0.30435 |  0:00:01s\n",
      "epoch 21 | loss: 0.86576 | valid_accuracy: 0.30435 |  0:00:01s\n",
      "epoch 22 | loss: 0.8294  | valid_accuracy: 0.26087 |  0:00:01s\n",
      "epoch 23 | loss: 0.92014 | valid_accuracy: 0.43478 |  0:00:01s\n",
      "epoch 24 | loss: 0.8817  | valid_accuracy: 0.43478 |  0:00:01s\n",
      "epoch 25 | loss: 0.95273 | valid_accuracy: 0.3913  |  0:00:01s\n",
      "epoch 26 | loss: 0.83102 | valid_accuracy: 0.43478 |  0:00:01s\n",
      "\n",
      "Early stopping occurred at epoch 26 with best_epoch = 16 and best_valid_accuracy = 0.65217\n",
      "평균 F1 Score: 0.5474\n",
      "\n",
      "현재 파라미터 조합: {'gamma': 1.5, 'lambda_sparse': 0.001, 'n_a': 8, 'n_d': 16, 'n_steps': 5, 'optimizer_params': {'lr': 0.01}}\n",
      "epoch 0  | loss: 2.00214 | valid_accuracy: 0.45833 |  0:00:00s\n"
     ]
    },
    {
     "name": "stderr",
     "output_type": "stream",
     "text": [
      "c:\\Users\\carly\\anaconda3\\envs\\dyspepsia_research\\lib\\site-packages\\pytorch_tabnet\\callbacks.py:172: UserWarning: Best weights from best epoch are automatically used!\n",
      "  warnings.warn(wrn_msg)\n",
      "c:\\Users\\carly\\anaconda3\\envs\\dyspepsia_research\\lib\\site-packages\\pytorch_tabnet\\abstract_model.py:82: UserWarning: Device used : cpu\n",
      "  warnings.warn(f\"Device used : {self.device}\")\n"
     ]
    },
    {
     "name": "stdout",
     "output_type": "stream",
     "text": [
      "epoch 1  | loss: 1.59166 | valid_accuracy: 0.375   |  0:00:00s\n",
      "epoch 2  | loss: 1.22297 | valid_accuracy: 0.375   |  0:00:00s\n",
      "epoch 3  | loss: 1.39005 | valid_accuracy: 0.375   |  0:00:00s\n",
      "epoch 4  | loss: 1.33797 | valid_accuracy: 0.41667 |  0:00:00s\n",
      "epoch 5  | loss: 1.14985 | valid_accuracy: 0.375   |  0:00:00s\n",
      "epoch 6  | loss: 1.32234 | valid_accuracy: 0.41667 |  0:00:00s\n",
      "epoch 7  | loss: 1.58813 | valid_accuracy: 0.25    |  0:00:00s\n",
      "epoch 8  | loss: 1.32802 | valid_accuracy: 0.45833 |  0:00:00s\n",
      "epoch 9  | loss: 1.2483  | valid_accuracy: 0.33333 |  0:00:00s\n",
      "epoch 10 | loss: 1.29424 | valid_accuracy: 0.29167 |  0:00:00s\n",
      "\n",
      "Early stopping occurred at epoch 10 with best_epoch = 0 and best_valid_accuracy = 0.45833\n",
      "epoch 0  | loss: 1.80326 | valid_accuracy: 0.34783 |  0:00:00s\n",
      "epoch 1  | loss: 1.60118 | valid_accuracy: 0.3913  |  0:00:00s\n"
     ]
    },
    {
     "name": "stderr",
     "output_type": "stream",
     "text": [
      "c:\\Users\\carly\\anaconda3\\envs\\dyspepsia_research\\lib\\site-packages\\pytorch_tabnet\\callbacks.py:172: UserWarning: Best weights from best epoch are automatically used!\n",
      "  warnings.warn(wrn_msg)\n",
      "c:\\Users\\carly\\anaconda3\\envs\\dyspepsia_research\\lib\\site-packages\\pytorch_tabnet\\abstract_model.py:82: UserWarning: Device used : cpu\n",
      "  warnings.warn(f\"Device used : {self.device}\")\n"
     ]
    },
    {
     "name": "stdout",
     "output_type": "stream",
     "text": [
      "epoch 2  | loss: 1.23445 | valid_accuracy: 0.43478 |  0:00:00s\n",
      "epoch 3  | loss: 1.33671 | valid_accuracy: 0.65217 |  0:00:00s\n",
      "epoch 4  | loss: 1.17093 | valid_accuracy: 0.52174 |  0:00:00s\n",
      "epoch 5  | loss: 1.30241 | valid_accuracy: 0.47826 |  0:00:00s\n",
      "epoch 6  | loss: 1.16824 | valid_accuracy: 0.47826 |  0:00:00s\n",
      "epoch 7  | loss: 1.24741 | valid_accuracy: 0.3913  |  0:00:00s\n",
      "epoch 8  | loss: 1.26505 | valid_accuracy: 0.6087  |  0:00:00s\n",
      "epoch 9  | loss: 1.21739 | valid_accuracy: 0.52174 |  0:00:00s\n",
      "epoch 10 | loss: 1.38492 | valid_accuracy: 0.47826 |  0:00:00s\n",
      "epoch 11 | loss: 1.29726 | valid_accuracy: 0.6087  |  0:00:00s\n",
      "epoch 12 | loss: 1.27608 | valid_accuracy: 0.56522 |  0:00:00s\n",
      "epoch 13 | loss: 1.12544 | valid_accuracy: 0.65217 |  0:00:00s\n",
      "\n",
      "Early stopping occurred at epoch 13 with best_epoch = 3 and best_valid_accuracy = 0.65217\n",
      "epoch 0  | loss: 1.80912 | valid_accuracy: 0.34783 |  0:00:00s\n",
      "epoch 1  | loss: 1.75251 | valid_accuracy: 0.08696 |  0:00:00s\n"
     ]
    },
    {
     "name": "stderr",
     "output_type": "stream",
     "text": [
      "c:\\Users\\carly\\anaconda3\\envs\\dyspepsia_research\\lib\\site-packages\\pytorch_tabnet\\callbacks.py:172: UserWarning: Best weights from best epoch are automatically used!\n",
      "  warnings.warn(wrn_msg)\n",
      "c:\\Users\\carly\\anaconda3\\envs\\dyspepsia_research\\lib\\site-packages\\pytorch_tabnet\\abstract_model.py:82: UserWarning: Device used : cpu\n",
      "  warnings.warn(f\"Device used : {self.device}\")\n"
     ]
    },
    {
     "name": "stdout",
     "output_type": "stream",
     "text": [
      "epoch 2  | loss: 1.59076 | valid_accuracy: 0.3913  |  0:00:00s\n",
      "epoch 3  | loss: 1.46333 | valid_accuracy: 0.34783 |  0:00:00s\n",
      "epoch 4  | loss: 1.41005 | valid_accuracy: 0.3913  |  0:00:00s\n",
      "epoch 5  | loss: 1.44166 | valid_accuracy: 0.43478 |  0:00:00s\n",
      "epoch 6  | loss: 1.20838 | valid_accuracy: 0.3913  |  0:00:00s\n",
      "epoch 7  | loss: 1.07983 | valid_accuracy: 0.26087 |  0:00:00s\n",
      "epoch 8  | loss: 1.13942 | valid_accuracy: 0.17391 |  0:00:00s\n",
      "epoch 9  | loss: 1.09507 | valid_accuracy: 0.34783 |  0:00:00s\n",
      "epoch 10 | loss: 1.38732 | valid_accuracy: 0.43478 |  0:00:00s\n",
      "epoch 11 | loss: 1.22758 | valid_accuracy: 0.30435 |  0:00:00s\n",
      "epoch 12 | loss: 1.04754 | valid_accuracy: 0.3913  |  0:00:00s\n",
      "epoch 13 | loss: 1.05687 | valid_accuracy: 0.34783 |  0:00:00s\n",
      "epoch 14 | loss: 1.152   | valid_accuracy: 0.34783 |  0:00:01s\n",
      "epoch 15 | loss: 1.13627 | valid_accuracy: 0.52174 |  0:00:01s\n",
      "epoch 16 | loss: 1.1643  | valid_accuracy: 0.43478 |  0:00:01s\n",
      "epoch 17 | loss: 1.0727  | valid_accuracy: 0.3913  |  0:00:01s\n",
      "epoch 18 | loss: 1.05487 | valid_accuracy: 0.3913  |  0:00:01s\n",
      "epoch 19 | loss: 1.00484 | valid_accuracy: 0.52174 |  0:00:01s\n",
      "epoch 20 | loss: 0.96001 | valid_accuracy: 0.30435 |  0:00:01s\n",
      "epoch 21 | loss: 1.00094 | valid_accuracy: 0.47826 |  0:00:01s\n",
      "epoch 22 | loss: 0.86414 | valid_accuracy: 0.65217 |  0:00:01s\n",
      "epoch 23 | loss: 0.85622 | valid_accuracy: 0.3913  |  0:00:01s\n",
      "epoch 24 | loss: 0.81321 | valid_accuracy: 0.3913  |  0:00:01s\n",
      "epoch 25 | loss: 0.88996 | valid_accuracy: 0.43478 |  0:00:01s\n",
      "epoch 26 | loss: 0.9175  | valid_accuracy: 0.3913  |  0:00:01s\n",
      "epoch 27 | loss: 0.89843 | valid_accuracy: 0.47826 |  0:00:01s\n",
      "epoch 28 | loss: 0.85646 | valid_accuracy: 0.52174 |  0:00:01s\n",
      "epoch 29 | loss: 0.90063 | valid_accuracy: 0.56522 |  0:00:01s\n",
      "epoch 30 | loss: 0.82105 | valid_accuracy: 0.47826 |  0:00:01s\n",
      "epoch 31 | loss: 0.91797 | valid_accuracy: 0.52174 |  0:00:02s\n",
      "epoch 32 | loss: 0.82736 | valid_accuracy: 0.52174 |  0:00:02s\n",
      "\n",
      "Early stopping occurred at epoch 32 with best_epoch = 22 and best_valid_accuracy = 0.65217\n",
      "평균 F1 Score: 0.5663\n",
      "\n",
      "현재 파라미터 조합: {'gamma': 1.5, 'lambda_sparse': 0.001, 'n_a': 16, 'n_d': 8, 'n_steps': 3, 'optimizer_params': {'lr': 0.02}}\n",
      "epoch 0  | loss: 1.59142 | valid_accuracy: 0.33333 |  0:00:00s\n",
      "epoch 1  | loss: 1.44358 | valid_accuracy: 0.375   |  0:00:00s\n",
      "epoch 2  | loss: 1.3426  | valid_accuracy: 0.33333 |  0:00:00s\n"
     ]
    },
    {
     "name": "stderr",
     "output_type": "stream",
     "text": [
      "c:\\Users\\carly\\anaconda3\\envs\\dyspepsia_research\\lib\\site-packages\\pytorch_tabnet\\callbacks.py:172: UserWarning: Best weights from best epoch are automatically used!\n",
      "  warnings.warn(wrn_msg)\n",
      "c:\\Users\\carly\\anaconda3\\envs\\dyspepsia_research\\lib\\site-packages\\pytorch_tabnet\\abstract_model.py:82: UserWarning: Device used : cpu\n",
      "  warnings.warn(f\"Device used : {self.device}\")\n"
     ]
    },
    {
     "name": "stdout",
     "output_type": "stream",
     "text": [
      "epoch 3  | loss: 1.3316  | valid_accuracy: 0.375   |  0:00:00s\n",
      "epoch 4  | loss: 1.12492 | valid_accuracy: 0.33333 |  0:00:00s\n",
      "epoch 5  | loss: 0.97567 | valid_accuracy: 0.25    |  0:00:00s\n",
      "epoch 6  | loss: 0.98905 | valid_accuracy: 0.45833 |  0:00:00s\n",
      "epoch 7  | loss: 0.85162 | valid_accuracy: 0.375   |  0:00:00s\n",
      "epoch 8  | loss: 0.82231 | valid_accuracy: 0.625   |  0:00:00s\n",
      "epoch 9  | loss: 0.76021 | valid_accuracy: 0.41667 |  0:00:00s\n",
      "epoch 10 | loss: 0.72043 | valid_accuracy: 0.5     |  0:00:00s\n",
      "epoch 11 | loss: 0.64581 | valid_accuracy: 0.375   |  0:00:00s\n",
      "epoch 12 | loss: 0.60588 | valid_accuracy: 0.41667 |  0:00:00s\n",
      "epoch 13 | loss: 0.58478 | valid_accuracy: 0.5     |  0:00:00s\n",
      "epoch 14 | loss: 0.55293 | valid_accuracy: 0.5     |  0:00:00s\n",
      "epoch 15 | loss: 0.49442 | valid_accuracy: 0.33333 |  0:00:00s\n",
      "epoch 16 | loss: 0.44539 | valid_accuracy: 0.375   |  0:00:00s\n",
      "epoch 17 | loss: 0.50407 | valid_accuracy: 0.375   |  0:00:00s\n",
      "epoch 18 | loss: 0.40139 | valid_accuracy: 0.375   |  0:00:00s\n",
      "\n",
      "Early stopping occurred at epoch 18 with best_epoch = 8 and best_valid_accuracy = 0.625\n",
      "epoch 0  | loss: 1.56975 | valid_accuracy: 0.13043 |  0:00:00s\n",
      "epoch 1  | loss: 1.63307 | valid_accuracy: 0.30435 |  0:00:00s\n"
     ]
    },
    {
     "name": "stderr",
     "output_type": "stream",
     "text": [
      "c:\\Users\\carly\\anaconda3\\envs\\dyspepsia_research\\lib\\site-packages\\pytorch_tabnet\\callbacks.py:172: UserWarning: Best weights from best epoch are automatically used!\n",
      "  warnings.warn(wrn_msg)\n",
      "c:\\Users\\carly\\anaconda3\\envs\\dyspepsia_research\\lib\\site-packages\\pytorch_tabnet\\abstract_model.py:82: UserWarning: Device used : cpu\n",
      "  warnings.warn(f\"Device used : {self.device}\")\n"
     ]
    },
    {
     "name": "stdout",
     "output_type": "stream",
     "text": [
      "epoch 2  | loss: 1.18213 | valid_accuracy: 0.3913  |  0:00:00s\n",
      "epoch 3  | loss: 1.26874 | valid_accuracy: 0.34783 |  0:00:00s\n",
      "epoch 4  | loss: 1.14645 | valid_accuracy: 0.30435 |  0:00:00s\n",
      "epoch 5  | loss: 1.05095 | valid_accuracy: 0.47826 |  0:00:00s\n",
      "epoch 6  | loss: 1.06988 | valid_accuracy: 0.17391 |  0:00:00s\n",
      "epoch 7  | loss: 1.07357 | valid_accuracy: 0.43478 |  0:00:00s\n",
      "epoch 8  | loss: 0.97971 | valid_accuracy: 0.34783 |  0:00:00s\n",
      "epoch 9  | loss: 1.02935 | valid_accuracy: 0.3913  |  0:00:00s\n",
      "epoch 10 | loss: 1.01909 | valid_accuracy: 0.3913  |  0:00:00s\n",
      "epoch 11 | loss: 0.95879 | valid_accuracy: 0.3913  |  0:00:00s\n",
      "epoch 12 | loss: 0.85495 | valid_accuracy: 0.43478 |  0:00:00s\n",
      "epoch 13 | loss: 0.87599 | valid_accuracy: 0.43478 |  0:00:00s\n",
      "epoch 14 | loss: 0.86459 | valid_accuracy: 0.3913  |  0:00:00s\n",
      "epoch 15 | loss: 0.79082 | valid_accuracy: 0.47826 |  0:00:00s\n",
      "\n",
      "Early stopping occurred at epoch 15 with best_epoch = 5 and best_valid_accuracy = 0.47826\n",
      "epoch 0  | loss: 1.40624 | valid_accuracy: 0.26087 |  0:00:00s\n",
      "epoch 1  | loss: 1.4308  | valid_accuracy: 0.21739 |  0:00:00s\n"
     ]
    },
    {
     "name": "stderr",
     "output_type": "stream",
     "text": [
      "c:\\Users\\carly\\anaconda3\\envs\\dyspepsia_research\\lib\\site-packages\\pytorch_tabnet\\callbacks.py:172: UserWarning: Best weights from best epoch are automatically used!\n",
      "  warnings.warn(wrn_msg)\n",
      "c:\\Users\\carly\\anaconda3\\envs\\dyspepsia_research\\lib\\site-packages\\pytorch_tabnet\\abstract_model.py:82: UserWarning: Device used : cpu\n",
      "  warnings.warn(f\"Device used : {self.device}\")\n"
     ]
    },
    {
     "name": "stdout",
     "output_type": "stream",
     "text": [
      "epoch 2  | loss: 1.28843 | valid_accuracy: 0.43478 |  0:00:00s\n",
      "epoch 3  | loss: 1.20256 | valid_accuracy: 0.30435 |  0:00:00s\n",
      "epoch 4  | loss: 1.07464 | valid_accuracy: 0.30435 |  0:00:00s\n",
      "epoch 5  | loss: 0.96918 | valid_accuracy: 0.34783 |  0:00:00s\n",
      "epoch 6  | loss: 0.95011 | valid_accuracy: 0.30435 |  0:00:00s\n",
      "epoch 7  | loss: 0.87813 | valid_accuracy: 0.34783 |  0:00:00s\n",
      "epoch 8  | loss: 0.94349 | valid_accuracy: 0.26087 |  0:00:00s\n",
      "epoch 9  | loss: 0.85623 | valid_accuracy: 0.30435 |  0:00:00s\n",
      "epoch 10 | loss: 0.79643 | valid_accuracy: 0.30435 |  0:00:00s\n",
      "epoch 11 | loss: 0.82595 | valid_accuracy: 0.56522 |  0:00:00s\n",
      "epoch 12 | loss: 0.74643 | valid_accuracy: 0.30435 |  0:00:00s\n",
      "epoch 13 | loss: 0.86403 | valid_accuracy: 0.3913  |  0:00:00s\n",
      "epoch 14 | loss: 0.65725 | valid_accuracy: 0.43478 |  0:00:00s\n",
      "epoch 15 | loss: 0.56667 | valid_accuracy: 0.3913  |  0:00:00s\n",
      "epoch 16 | loss: 0.50643 | valid_accuracy: 0.6087  |  0:00:00s\n",
      "epoch 17 | loss: 0.45442 | valid_accuracy: 0.3913  |  0:00:00s\n",
      "epoch 18 | loss: 0.40917 | valid_accuracy: 0.56522 |  0:00:00s\n",
      "epoch 19 | loss: 0.36149 | valid_accuracy: 0.52174 |  0:00:00s\n",
      "epoch 20 | loss: 0.32437 | valid_accuracy: 0.43478 |  0:00:00s\n",
      "epoch 21 | loss: 0.27945 | valid_accuracy: 0.43478 |  0:00:00s\n",
      "epoch 22 | loss: 0.22625 | valid_accuracy: 0.43478 |  0:00:00s\n",
      "epoch 23 | loss: 0.21431 | valid_accuracy: 0.3913  |  0:00:00s\n",
      "epoch 24 | loss: 0.19327 | valid_accuracy: 0.43478 |  0:00:00s\n",
      "epoch 25 | loss: 0.17262 | valid_accuracy: 0.43478 |  0:00:01s\n",
      "epoch 26 | loss: 0.14811 | valid_accuracy: 0.52174 |  0:00:01s\n",
      "\n",
      "Early stopping occurred at epoch 26 with best_epoch = 16 and best_valid_accuracy = 0.6087\n",
      "평균 F1 Score: 0.5600\n",
      "\n",
      "현재 파라미터 조합: {'gamma': 1.5, 'lambda_sparse': 0.001, 'n_a': 16, 'n_d': 8, 'n_steps': 3, 'optimizer_params': {'lr': 0.01}}\n",
      "epoch 0  | loss: 1.59142 | valid_accuracy: 0.20833 |  0:00:00s\n",
      "epoch 1  | loss: 1.38779 | valid_accuracy: 0.29167 |  0:00:00s\n",
      "epoch 2  | loss: 1.50267 | valid_accuracy: 0.58333 |  0:00:00s\n",
      "epoch 3  | loss: 1.29029 | valid_accuracy: 0.20833 |  0:00:00s\n"
     ]
    },
    {
     "name": "stderr",
     "output_type": "stream",
     "text": [
      "c:\\Users\\carly\\anaconda3\\envs\\dyspepsia_research\\lib\\site-packages\\pytorch_tabnet\\callbacks.py:172: UserWarning: Best weights from best epoch are automatically used!\n",
      "  warnings.warn(wrn_msg)\n",
      "c:\\Users\\carly\\anaconda3\\envs\\dyspepsia_research\\lib\\site-packages\\pytorch_tabnet\\abstract_model.py:82: UserWarning: Device used : cpu\n",
      "  warnings.warn(f\"Device used : {self.device}\")\n"
     ]
    },
    {
     "name": "stdout",
     "output_type": "stream",
     "text": [
      "epoch 4  | loss: 1.2574  | valid_accuracy: 0.29167 |  0:00:00s\n",
      "epoch 5  | loss: 1.12261 | valid_accuracy: 0.45833 |  0:00:00s\n",
      "epoch 6  | loss: 1.02734 | valid_accuracy: 0.45833 |  0:00:00s\n",
      "epoch 7  | loss: 1.06135 | valid_accuracy: 0.375   |  0:00:00s\n",
      "epoch 8  | loss: 0.95336 | valid_accuracy: 0.41667 |  0:00:00s\n",
      "epoch 9  | loss: 0.93167 | valid_accuracy: 0.45833 |  0:00:00s\n",
      "epoch 10 | loss: 0.96559 | valid_accuracy: 0.625   |  0:00:00s\n",
      "epoch 11 | loss: 0.84661 | valid_accuracy: 0.54167 |  0:00:00s\n",
      "epoch 12 | loss: 0.8022  | valid_accuracy: 0.58333 |  0:00:00s\n",
      "epoch 13 | loss: 0.78021 | valid_accuracy: 0.625   |  0:00:00s\n",
      "epoch 14 | loss: 0.8559  | valid_accuracy: 0.54167 |  0:00:00s\n",
      "epoch 15 | loss: 0.76568 | valid_accuracy: 0.58333 |  0:00:00s\n",
      "epoch 16 | loss: 0.76086 | valid_accuracy: 0.54167 |  0:00:00s\n",
      "epoch 17 | loss: 0.64067 | valid_accuracy: 0.5     |  0:00:00s\n",
      "epoch 18 | loss: 0.64252 | valid_accuracy: 0.41667 |  0:00:00s\n",
      "epoch 19 | loss: 0.60349 | valid_accuracy: 0.5     |  0:00:00s\n",
      "epoch 20 | loss: 0.50897 | valid_accuracy: 0.5     |  0:00:00s\n",
      "\n",
      "Early stopping occurred at epoch 20 with best_epoch = 10 and best_valid_accuracy = 0.625\n",
      "epoch 0  | loss: 1.56975 | valid_accuracy: 0.43478 |  0:00:00s\n"
     ]
    },
    {
     "name": "stderr",
     "output_type": "stream",
     "text": [
      "c:\\Users\\carly\\anaconda3\\envs\\dyspepsia_research\\lib\\site-packages\\pytorch_tabnet\\callbacks.py:172: UserWarning: Best weights from best epoch are automatically used!\n",
      "  warnings.warn(wrn_msg)\n",
      "c:\\Users\\carly\\anaconda3\\envs\\dyspepsia_research\\lib\\site-packages\\pytorch_tabnet\\abstract_model.py:82: UserWarning: Device used : cpu\n",
      "  warnings.warn(f\"Device used : {self.device}\")\n"
     ]
    },
    {
     "name": "stdout",
     "output_type": "stream",
     "text": [
      "epoch 1  | loss: 1.47353 | valid_accuracy: 0.13043 |  0:00:00s\n",
      "epoch 2  | loss: 1.46602 | valid_accuracy: 0.30435 |  0:00:00s\n",
      "epoch 3  | loss: 1.18388 | valid_accuracy: 0.17391 |  0:00:00s\n",
      "epoch 4  | loss: 1.31435 | valid_accuracy: 0.17391 |  0:00:00s\n",
      "epoch 5  | loss: 1.33953 | valid_accuracy: 0.26087 |  0:00:00s\n",
      "epoch 6  | loss: 1.13059 | valid_accuracy: 0.34783 |  0:00:00s\n",
      "epoch 7  | loss: 1.12347 | valid_accuracy: 0.34783 |  0:00:00s\n",
      "epoch 8  | loss: 0.95601 | valid_accuracy: 0.30435 |  0:00:00s\n",
      "epoch 9  | loss: 0.99658 | valid_accuracy: 0.04348 |  0:00:00s\n",
      "epoch 10 | loss: 0.86064 | valid_accuracy: 0.21739 |  0:00:00s\n",
      "\n",
      "Early stopping occurred at epoch 10 with best_epoch = 0 and best_valid_accuracy = 0.43478\n"
     ]
    },
    {
     "name": "stderr",
     "output_type": "stream",
     "text": [
      "c:\\Users\\carly\\anaconda3\\envs\\dyspepsia_research\\lib\\site-packages\\pytorch_tabnet\\callbacks.py:172: UserWarning: Best weights from best epoch are automatically used!\n",
      "  warnings.warn(wrn_msg)\n",
      "c:\\Users\\carly\\anaconda3\\envs\\dyspepsia_research\\lib\\site-packages\\pytorch_tabnet\\abstract_model.py:82: UserWarning: Device used : cpu\n",
      "  warnings.warn(f\"Device used : {self.device}\")\n"
     ]
    },
    {
     "name": "stdout",
     "output_type": "stream",
     "text": [
      "epoch 0  | loss: 1.40624 | valid_accuracy: 0.17391 |  0:00:00s\n",
      "epoch 1  | loss: 1.38764 | valid_accuracy: 0.34783 |  0:00:00s\n",
      "epoch 2  | loss: 1.3587  | valid_accuracy: 0.30435 |  0:00:00s\n",
      "epoch 3  | loss: 1.18824 | valid_accuracy: 0.30435 |  0:00:00s\n",
      "epoch 4  | loss: 1.22122 | valid_accuracy: 0.34783 |  0:00:00s\n",
      "epoch 5  | loss: 1.09156 | valid_accuracy: 0.26087 |  0:00:00s\n",
      "epoch 6  | loss: 1.13326 | valid_accuracy: 0.21739 |  0:00:00s\n",
      "epoch 7  | loss: 1.08009 | valid_accuracy: 0.34783 |  0:00:00s\n",
      "epoch 8  | loss: 0.92455 | valid_accuracy: 0.21739 |  0:00:00s\n",
      "epoch 9  | loss: 1.00614 | valid_accuracy: 0.21739 |  0:00:00s\n",
      "epoch 10 | loss: 1.00118 | valid_accuracy: 0.47826 |  0:00:00s\n",
      "epoch 11 | loss: 0.8817  | valid_accuracy: 0.52174 |  0:00:00s\n",
      "epoch 12 | loss: 0.74403 | valid_accuracy: 0.43478 |  0:00:00s\n",
      "epoch 13 | loss: 0.67462 | valid_accuracy: 0.43478 |  0:00:00s\n",
      "epoch 14 | loss: 0.63593 | valid_accuracy: 0.3913  |  0:00:00s\n",
      "epoch 15 | loss: 0.6667  | valid_accuracy: 0.34783 |  0:00:00s\n",
      "epoch 16 | loss: 0.59614 | valid_accuracy: 0.30435 |  0:00:00s\n",
      "epoch 17 | loss: 0.55525 | valid_accuracy: 0.43478 |  0:00:00s\n",
      "epoch 18 | loss: 0.4809  | valid_accuracy: 0.3913  |  0:00:00s\n",
      "epoch 19 | loss: 0.42691 | valid_accuracy: 0.3913  |  0:00:00s\n",
      "epoch 20 | loss: 0.39964 | valid_accuracy: 0.30435 |  0:00:00s\n",
      "epoch 21 | loss: 0.35063 | valid_accuracy: 0.34783 |  0:00:00s\n",
      "\n",
      "Early stopping occurred at epoch 21 with best_epoch = 11 and best_valid_accuracy = 0.52174\n"
     ]
    },
    {
     "name": "stderr",
     "output_type": "stream",
     "text": [
      "c:\\Users\\carly\\anaconda3\\envs\\dyspepsia_research\\lib\\site-packages\\pytorch_tabnet\\callbacks.py:172: UserWarning: Best weights from best epoch are automatically used!\n",
      "  warnings.warn(wrn_msg)\n",
      "c:\\Users\\carly\\anaconda3\\envs\\dyspepsia_research\\lib\\site-packages\\pytorch_tabnet\\abstract_model.py:82: UserWarning: Device used : cpu\n",
      "  warnings.warn(f\"Device used : {self.device}\")\n"
     ]
    },
    {
     "name": "stdout",
     "output_type": "stream",
     "text": [
      "평균 F1 Score: 0.5115\n",
      "\n",
      "현재 파라미터 조합: {'gamma': 1.5, 'lambda_sparse': 0.001, 'n_a': 16, 'n_d': 8, 'n_steps': 5, 'optimizer_params': {'lr': 0.02}}\n",
      "epoch 0  | loss: 1.88859 | valid_accuracy: 0.41667 |  0:00:00s\n",
      "epoch 1  | loss: 1.43461 | valid_accuracy: 0.5     |  0:00:00s\n",
      "epoch 2  | loss: 1.57879 | valid_accuracy: 0.41667 |  0:00:00s\n",
      "epoch 3  | loss: 1.22451 | valid_accuracy: 0.45833 |  0:00:00s\n",
      "epoch 4  | loss: 1.49011 | valid_accuracy: 0.45833 |  0:00:00s\n",
      "epoch 5  | loss: 1.48777 | valid_accuracy: 0.41667 |  0:00:00s\n",
      "epoch 6  | loss: 1.5431  | valid_accuracy: 0.58333 |  0:00:00s\n",
      "epoch 7  | loss: 1.29808 | valid_accuracy: 0.5     |  0:00:00s\n",
      "epoch 8  | loss: 1.25992 | valid_accuracy: 0.41667 |  0:00:00s\n",
      "epoch 9  | loss: 1.17607 | valid_accuracy: 0.375   |  0:00:00s\n",
      "epoch 10 | loss: 1.05823 | valid_accuracy: 0.33333 |  0:00:00s\n",
      "epoch 11 | loss: 1.10057 | valid_accuracy: 0.29167 |  0:00:00s\n",
      "epoch 12 | loss: 1.03371 | valid_accuracy: 0.33333 |  0:00:00s\n",
      "epoch 13 | loss: 1.00539 | valid_accuracy: 0.33333 |  0:00:00s\n",
      "epoch 14 | loss: 0.9878  | valid_accuracy: 0.41667 |  0:00:00s\n",
      "epoch 15 | loss: 0.98642 | valid_accuracy: 0.45833 |  0:00:01s\n",
      "epoch 16 | loss: 1.04733 | valid_accuracy: 0.45833 |  0:00:01s\n",
      "\n",
      "Early stopping occurred at epoch 16 with best_epoch = 6 and best_valid_accuracy = 0.58333\n"
     ]
    },
    {
     "name": "stderr",
     "output_type": "stream",
     "text": [
      "c:\\Users\\carly\\anaconda3\\envs\\dyspepsia_research\\lib\\site-packages\\pytorch_tabnet\\callbacks.py:172: UserWarning: Best weights from best epoch are automatically used!\n",
      "  warnings.warn(wrn_msg)\n",
      "c:\\Users\\carly\\anaconda3\\envs\\dyspepsia_research\\lib\\site-packages\\pytorch_tabnet\\abstract_model.py:82: UserWarning: Device used : cpu\n",
      "  warnings.warn(f\"Device used : {self.device}\")\n"
     ]
    },
    {
     "name": "stdout",
     "output_type": "stream",
     "text": [
      "epoch 0  | loss: 1.57618 | valid_accuracy: 0.43478 |  0:00:00s\n",
      "epoch 1  | loss: 1.65144 | valid_accuracy: 0.3913  |  0:00:00s\n",
      "epoch 2  | loss: 1.61856 | valid_accuracy: 0.52174 |  0:00:00s\n",
      "epoch 3  | loss: 1.11799 | valid_accuracy: 0.43478 |  0:00:00s\n",
      "epoch 4  | loss: 1.37936 | valid_accuracy: 0.43478 |  0:00:00s\n",
      "epoch 5  | loss: 1.37581 | valid_accuracy: 0.47826 |  0:00:00s\n",
      "epoch 6  | loss: 1.04708 | valid_accuracy: 0.30435 |  0:00:00s\n",
      "epoch 7  | loss: 1.22795 | valid_accuracy: 0.47826 |  0:00:00s\n",
      "epoch 8  | loss: 1.02164 | valid_accuracy: 0.56522 |  0:00:00s\n",
      "epoch 9  | loss: 1.00675 | valid_accuracy: 0.52174 |  0:00:00s\n",
      "epoch 10 | loss: 1.12028 | valid_accuracy: 0.34783 |  0:00:00s\n",
      "epoch 11 | loss: 1.0763  | valid_accuracy: 0.52174 |  0:00:00s\n",
      "epoch 12 | loss: 1.06136 | valid_accuracy: 0.43478 |  0:00:00s\n",
      "epoch 13 | loss: 0.977   | valid_accuracy: 0.34783 |  0:00:00s\n",
      "epoch 14 | loss: 0.92943 | valid_accuracy: 0.34783 |  0:00:00s\n",
      "epoch 15 | loss: 1.04025 | valid_accuracy: 0.43478 |  0:00:01s\n",
      "epoch 16 | loss: 0.97754 | valid_accuracy: 0.30435 |  0:00:01s\n",
      "epoch 17 | loss: 0.87566 | valid_accuracy: 0.43478 |  0:00:01s\n",
      "epoch 18 | loss: 1.00392 | valid_accuracy: 0.34783 |  0:00:01s\n",
      "\n",
      "Early stopping occurred at epoch 18 with best_epoch = 8 and best_valid_accuracy = 0.56522\n",
      "epoch 0  | loss: 2.05248 | valid_accuracy: 0.43478 |  0:00:00s\n"
     ]
    },
    {
     "name": "stderr",
     "output_type": "stream",
     "text": [
      "c:\\Users\\carly\\anaconda3\\envs\\dyspepsia_research\\lib\\site-packages\\pytorch_tabnet\\callbacks.py:172: UserWarning: Best weights from best epoch are automatically used!\n",
      "  warnings.warn(wrn_msg)\n",
      "c:\\Users\\carly\\anaconda3\\envs\\dyspepsia_research\\lib\\site-packages\\pytorch_tabnet\\abstract_model.py:82: UserWarning: Device used : cpu\n",
      "  warnings.warn(f\"Device used : {self.device}\")\n"
     ]
    },
    {
     "name": "stdout",
     "output_type": "stream",
     "text": [
      "epoch 1  | loss: 1.69544 | valid_accuracy: 0.3913  |  0:00:00s\n",
      "epoch 2  | loss: 1.41237 | valid_accuracy: 0.3913  |  0:00:00s\n",
      "epoch 3  | loss: 1.0983  | valid_accuracy: 0.6087  |  0:00:00s\n",
      "epoch 4  | loss: 1.31622 | valid_accuracy: 0.52174 |  0:00:00s\n",
      "epoch 5  | loss: 1.15511 | valid_accuracy: 0.43478 |  0:00:00s\n",
      "epoch 6  | loss: 1.21922 | valid_accuracy: 0.56522 |  0:00:00s\n",
      "epoch 7  | loss: 0.85903 | valid_accuracy: 0.3913  |  0:00:00s\n",
      "epoch 8  | loss: 1.07392 | valid_accuracy: 0.6087  |  0:00:00s\n",
      "epoch 9  | loss: 1.24854 | valid_accuracy: 0.43478 |  0:00:00s\n",
      "epoch 10 | loss: 1.0697  | valid_accuracy: 0.34783 |  0:00:00s\n",
      "epoch 11 | loss: 1.16255 | valid_accuracy: 0.3913  |  0:00:00s\n",
      "epoch 12 | loss: 0.96053 | valid_accuracy: 0.43478 |  0:00:00s\n",
      "epoch 13 | loss: 1.03036 | valid_accuracy: 0.47826 |  0:00:00s\n",
      "\n",
      "Early stopping occurred at epoch 13 with best_epoch = 3 and best_valid_accuracy = 0.6087\n",
      "평균 F1 Score: 0.5664\n",
      "\n",
      "현재 파라미터 조합: {'gamma': 1.5, 'lambda_sparse': 0.001, 'n_a': 16, 'n_d': 8, 'n_steps': 5, 'optimizer_params': {'lr': 0.01}}\n",
      "epoch 0  | loss: 1.88859 | valid_accuracy: 0.54167 |  0:00:00s\n",
      "epoch 1  | loss: 1.31435 | valid_accuracy: 0.625   |  0:00:00s\n"
     ]
    },
    {
     "name": "stderr",
     "output_type": "stream",
     "text": [
      "c:\\Users\\carly\\anaconda3\\envs\\dyspepsia_research\\lib\\site-packages\\pytorch_tabnet\\callbacks.py:172: UserWarning: Best weights from best epoch are automatically used!\n",
      "  warnings.warn(wrn_msg)\n",
      "c:\\Users\\carly\\anaconda3\\envs\\dyspepsia_research\\lib\\site-packages\\pytorch_tabnet\\abstract_model.py:82: UserWarning: Device used : cpu\n",
      "  warnings.warn(f\"Device used : {self.device}\")\n"
     ]
    },
    {
     "name": "stdout",
     "output_type": "stream",
     "text": [
      "epoch 2  | loss: 1.43289 | valid_accuracy: 0.58333 |  0:00:00s\n",
      "epoch 3  | loss: 1.44735 | valid_accuracy: 0.45833 |  0:00:00s\n",
      "epoch 4  | loss: 1.60428 | valid_accuracy: 0.5     |  0:00:00s\n",
      "epoch 5  | loss: 1.14356 | valid_accuracy: 0.375   |  0:00:00s\n",
      "epoch 6  | loss: 1.44609 | valid_accuracy: 0.45833 |  0:00:00s\n",
      "epoch 7  | loss: 1.51495 | valid_accuracy: 0.41667 |  0:00:00s\n",
      "epoch 8  | loss: 1.57959 | valid_accuracy: 0.375   |  0:00:00s\n",
      "epoch 9  | loss: 1.30503 | valid_accuracy: 0.33333 |  0:00:00s\n",
      "epoch 10 | loss: 1.33945 | valid_accuracy: 0.41667 |  0:00:00s\n",
      "epoch 11 | loss: 1.16604 | valid_accuracy: 0.41667 |  0:00:00s\n",
      "\n",
      "Early stopping occurred at epoch 11 with best_epoch = 1 and best_valid_accuracy = 0.625\n",
      "epoch 0  | loss: 1.57618 | valid_accuracy: 0.3913  |  0:00:00s\n"
     ]
    },
    {
     "name": "stderr",
     "output_type": "stream",
     "text": [
      "c:\\Users\\carly\\anaconda3\\envs\\dyspepsia_research\\lib\\site-packages\\pytorch_tabnet\\callbacks.py:172: UserWarning: Best weights from best epoch are automatically used!\n",
      "  warnings.warn(wrn_msg)\n",
      "c:\\Users\\carly\\anaconda3\\envs\\dyspepsia_research\\lib\\site-packages\\pytorch_tabnet\\abstract_model.py:82: UserWarning: Device used : cpu\n",
      "  warnings.warn(f\"Device used : {self.device}\")\n"
     ]
    },
    {
     "name": "stdout",
     "output_type": "stream",
     "text": [
      "epoch 1  | loss: 1.89685 | valid_accuracy: 0.3913  |  0:00:00s\n",
      "epoch 2  | loss: 1.4334  | valid_accuracy: 0.30435 |  0:00:00s\n",
      "epoch 3  | loss: 1.55811 | valid_accuracy: 0.3913  |  0:00:00s\n",
      "epoch 4  | loss: 1.83279 | valid_accuracy: 0.08696 |  0:00:00s\n",
      "epoch 5  | loss: 1.48229 | valid_accuracy: 0.34783 |  0:00:00s\n",
      "epoch 6  | loss: 1.6051  | valid_accuracy: 0.21739 |  0:00:00s\n",
      "epoch 7  | loss: 1.30009 | valid_accuracy: 0.43478 |  0:00:00s\n",
      "epoch 8  | loss: 1.37972 | valid_accuracy: 0.26087 |  0:00:00s\n",
      "epoch 9  | loss: 1.25719 | valid_accuracy: 0.30435 |  0:00:00s\n",
      "epoch 10 | loss: 1.17925 | valid_accuracy: 0.26087 |  0:00:00s\n",
      "epoch 11 | loss: 1.07249 | valid_accuracy: 0.30435 |  0:00:00s\n",
      "epoch 12 | loss: 1.24038 | valid_accuracy: 0.34783 |  0:00:00s\n",
      "epoch 13 | loss: 1.33002 | valid_accuracy: 0.3913  |  0:00:00s\n",
      "epoch 14 | loss: 1.32449 | valid_accuracy: 0.34783 |  0:00:00s\n",
      "epoch 15 | loss: 1.40891 | valid_accuracy: 0.34783 |  0:00:01s\n",
      "epoch 16 | loss: 1.16175 | valid_accuracy: 0.34783 |  0:00:01s\n",
      "epoch 17 | loss: 1.09347 | valid_accuracy: 0.3913  |  0:00:01s\n",
      "\n",
      "Early stopping occurred at epoch 17 with best_epoch = 7 and best_valid_accuracy = 0.43478\n",
      "epoch 0  | loss: 2.05248 | valid_accuracy: 0.3913  |  0:00:00s\n",
      "epoch 1  | loss: 1.65502 | valid_accuracy: 0.56522 |  0:00:00s\n"
     ]
    },
    {
     "name": "stderr",
     "output_type": "stream",
     "text": [
      "c:\\Users\\carly\\anaconda3\\envs\\dyspepsia_research\\lib\\site-packages\\pytorch_tabnet\\callbacks.py:172: UserWarning: Best weights from best epoch are automatically used!\n",
      "  warnings.warn(wrn_msg)\n",
      "c:\\Users\\carly\\anaconda3\\envs\\dyspepsia_research\\lib\\site-packages\\pytorch_tabnet\\abstract_model.py:82: UserWarning: Device used : cpu\n",
      "  warnings.warn(f\"Device used : {self.device}\")\n"
     ]
    },
    {
     "name": "stdout",
     "output_type": "stream",
     "text": [
      "epoch 2  | loss: 1.46209 | valid_accuracy: 0.43478 |  0:00:00s\n",
      "epoch 3  | loss: 1.23583 | valid_accuracy: 0.52174 |  0:00:00s\n",
      "epoch 4  | loss: 1.02963 | valid_accuracy: 0.52174 |  0:00:00s\n",
      "epoch 5  | loss: 1.36558 | valid_accuracy: 0.52174 |  0:00:00s\n",
      "epoch 6  | loss: 1.14893 | valid_accuracy: 0.6087  |  0:00:00s\n",
      "epoch 7  | loss: 0.94362 | valid_accuracy: 0.6087  |  0:00:00s\n",
      "epoch 8  | loss: 1.17632 | valid_accuracy: 0.56522 |  0:00:00s\n",
      "epoch 9  | loss: 1.08588 | valid_accuracy: 0.47826 |  0:00:00s\n",
      "epoch 10 | loss: 1.01918 | valid_accuracy: 0.3913  |  0:00:00s\n",
      "epoch 11 | loss: 1.1126  | valid_accuracy: 0.34783 |  0:00:00s\n",
      "epoch 12 | loss: 0.97876 | valid_accuracy: 0.34783 |  0:00:00s\n",
      "epoch 13 | loss: 1.1579  | valid_accuracy: 0.34783 |  0:00:00s\n",
      "epoch 14 | loss: 1.11041 | valid_accuracy: 0.3913  |  0:00:00s\n",
      "epoch 15 | loss: 0.68134 | valid_accuracy: 0.34783 |  0:00:00s\n",
      "epoch 16 | loss: 0.7006  | valid_accuracy: 0.30435 |  0:00:01s\n",
      "\n",
      "Early stopping occurred at epoch 16 with best_epoch = 6 and best_valid_accuracy = 0.6087\n",
      "평균 F1 Score: 0.5251\n",
      "\n",
      "현재 파라미터 조합: {'gamma': 1.5, 'lambda_sparse': 0.001, 'n_a': 16, 'n_d': 16, 'n_steps': 3, 'optimizer_params': {'lr': 0.02}}\n"
     ]
    },
    {
     "name": "stderr",
     "output_type": "stream",
     "text": [
      "c:\\Users\\carly\\anaconda3\\envs\\dyspepsia_research\\lib\\site-packages\\pytorch_tabnet\\callbacks.py:172: UserWarning: Best weights from best epoch are automatically used!\n",
      "  warnings.warn(wrn_msg)\n",
      "c:\\Users\\carly\\anaconda3\\envs\\dyspepsia_research\\lib\\site-packages\\pytorch_tabnet\\abstract_model.py:82: UserWarning: Device used : cpu\n",
      "  warnings.warn(f\"Device used : {self.device}\")\n"
     ]
    },
    {
     "name": "stdout",
     "output_type": "stream",
     "text": [
      "epoch 0  | loss: 2.19584 | valid_accuracy: 0.375   |  0:00:00s\n",
      "epoch 1  | loss: 1.71749 | valid_accuracy: 0.54167 |  0:00:00s\n",
      "epoch 2  | loss: 1.16656 | valid_accuracy: 0.33333 |  0:00:00s\n",
      "epoch 3  | loss: 1.19645 | valid_accuracy: 0.33333 |  0:00:00s\n",
      "epoch 4  | loss: 1.13587 | valid_accuracy: 0.33333 |  0:00:00s\n",
      "epoch 5  | loss: 1.1615  | valid_accuracy: 0.45833 |  0:00:00s\n",
      "epoch 6  | loss: 0.77137 | valid_accuracy: 0.29167 |  0:00:00s\n",
      "epoch 7  | loss: 0.69734 | valid_accuracy: 0.25    |  0:00:00s\n",
      "epoch 8  | loss: 0.63056 | valid_accuracy: 0.29167 |  0:00:00s\n",
      "epoch 9  | loss: 0.50707 | valid_accuracy: 0.33333 |  0:00:00s\n",
      "epoch 10 | loss: 0.45155 | valid_accuracy: 0.375   |  0:00:00s\n",
      "epoch 11 | loss: 0.46732 | valid_accuracy: 0.41667 |  0:00:00s\n",
      "\n",
      "Early stopping occurred at epoch 11 with best_epoch = 1 and best_valid_accuracy = 0.54167\n",
      "epoch 0  | loss: 2.09838 | valid_accuracy: 0.30435 |  0:00:00s\n",
      "epoch 1  | loss: 1.4264  | valid_accuracy: 0.21739 |  0:00:00s\n",
      "epoch 2  | loss: 1.53963 | valid_accuracy: 0.17391 |  0:00:00s\n",
      "epoch 3  | loss: 1.09927 | valid_accuracy: 0.43478 |  0:00:00s\n"
     ]
    },
    {
     "name": "stderr",
     "output_type": "stream",
     "text": [
      "c:\\Users\\carly\\anaconda3\\envs\\dyspepsia_research\\lib\\site-packages\\pytorch_tabnet\\callbacks.py:172: UserWarning: Best weights from best epoch are automatically used!\n",
      "  warnings.warn(wrn_msg)\n",
      "c:\\Users\\carly\\anaconda3\\envs\\dyspepsia_research\\lib\\site-packages\\pytorch_tabnet\\abstract_model.py:82: UserWarning: Device used : cpu\n",
      "  warnings.warn(f\"Device used : {self.device}\")\n"
     ]
    },
    {
     "name": "stdout",
     "output_type": "stream",
     "text": [
      "epoch 4  | loss: 1.12638 | valid_accuracy: 0.56522 |  0:00:00s\n",
      "epoch 5  | loss: 1.38516 | valid_accuracy: 0.3913  |  0:00:00s\n",
      "epoch 6  | loss: 0.84692 | valid_accuracy: 0.6087  |  0:00:00s\n",
      "epoch 7  | loss: 0.7447  | valid_accuracy: 0.56522 |  0:00:00s\n",
      "epoch 8  | loss: 0.64622 | valid_accuracy: 0.52174 |  0:00:00s\n",
      "epoch 9  | loss: 0.65826 | valid_accuracy: 0.52174 |  0:00:00s\n",
      "epoch 10 | loss: 0.55754 | valid_accuracy: 0.56522 |  0:00:00s\n",
      "epoch 11 | loss: 0.40417 | valid_accuracy: 0.47826 |  0:00:00s\n",
      "epoch 12 | loss: 0.33687 | valid_accuracy: 0.43478 |  0:00:00s\n",
      "epoch 13 | loss: 0.25057 | valid_accuracy: 0.34783 |  0:00:00s\n",
      "epoch 14 | loss: 0.19    | valid_accuracy: 0.34783 |  0:00:00s\n",
      "epoch 15 | loss: 0.14495 | valid_accuracy: 0.43478 |  0:00:00s\n",
      "epoch 16 | loss: 0.15373 | valid_accuracy: 0.34783 |  0:00:00s\n",
      "\n",
      "Early stopping occurred at epoch 16 with best_epoch = 6 and best_valid_accuracy = 0.6087\n",
      "epoch 0  | loss: 1.98388 | valid_accuracy: 0.3913  |  0:00:00s\n",
      "epoch 1  | loss: 1.78324 | valid_accuracy: 0.47826 |  0:00:00s\n"
     ]
    },
    {
     "name": "stderr",
     "output_type": "stream",
     "text": [
      "c:\\Users\\carly\\anaconda3\\envs\\dyspepsia_research\\lib\\site-packages\\pytorch_tabnet\\callbacks.py:172: UserWarning: Best weights from best epoch are automatically used!\n",
      "  warnings.warn(wrn_msg)\n",
      "c:\\Users\\carly\\anaconda3\\envs\\dyspepsia_research\\lib\\site-packages\\pytorch_tabnet\\abstract_model.py:82: UserWarning: Device used : cpu\n",
      "  warnings.warn(f\"Device used : {self.device}\")\n"
     ]
    },
    {
     "name": "stdout",
     "output_type": "stream",
     "text": [
      "epoch 2  | loss: 1.38993 | valid_accuracy: 0.21739 |  0:00:00s\n",
      "epoch 3  | loss: 1.14666 | valid_accuracy: 0.3913  |  0:00:00s\n",
      "epoch 4  | loss: 1.18359 | valid_accuracy: 0.47826 |  0:00:00s\n",
      "epoch 5  | loss: 1.34378 | valid_accuracy: 0.3913  |  0:00:00s\n",
      "epoch 6  | loss: 1.21641 | valid_accuracy: 0.47826 |  0:00:00s\n",
      "epoch 7  | loss: 1.21294 | valid_accuracy: 0.43478 |  0:00:00s\n",
      "epoch 8  | loss: 1.19757 | valid_accuracy: 0.52174 |  0:00:00s\n",
      "epoch 9  | loss: 0.83634 | valid_accuracy: 0.43478 |  0:00:00s\n",
      "epoch 10 | loss: 0.79951 | valid_accuracy: 0.47826 |  0:00:00s\n",
      "epoch 11 | loss: 0.76289 | valid_accuracy: 0.47826 |  0:00:00s\n",
      "epoch 12 | loss: 0.66719 | valid_accuracy: 0.30435 |  0:00:00s\n",
      "epoch 13 | loss: 0.92854 | valid_accuracy: 0.30435 |  0:00:00s\n",
      "epoch 14 | loss: 0.7397  | valid_accuracy: 0.3913  |  0:00:00s\n",
      "epoch 15 | loss: 0.7225  | valid_accuracy: 0.34783 |  0:00:00s\n",
      "epoch 16 | loss: 0.66524 | valid_accuracy: 0.30435 |  0:00:00s\n",
      "epoch 17 | loss: 0.65265 | valid_accuracy: 0.43478 |  0:00:00s\n",
      "epoch 18 | loss: 0.55806 | valid_accuracy: 0.34783 |  0:00:00s\n",
      "\n",
      "Early stopping occurred at epoch 18 with best_epoch = 8 and best_valid_accuracy = 0.52174\n",
      "평균 F1 Score: 0.4973\n",
      "\n",
      "현재 파라미터 조합: {'gamma': 1.5, 'lambda_sparse': 0.001, 'n_a': 16, 'n_d': 16, 'n_steps': 3, 'optimizer_params': {'lr': 0.01}}\n",
      "epoch 0  | loss: 2.19584 | valid_accuracy: 0.5     |  0:00:00s\n",
      "epoch 1  | loss: 2.11723 | valid_accuracy: 0.29167 |  0:00:00s\n",
      "epoch 2  | loss: 1.37678 | valid_accuracy: 0.33333 |  0:00:00s\n"
     ]
    },
    {
     "name": "stderr",
     "output_type": "stream",
     "text": [
      "c:\\Users\\carly\\anaconda3\\envs\\dyspepsia_research\\lib\\site-packages\\pytorch_tabnet\\callbacks.py:172: UserWarning: Best weights from best epoch are automatically used!\n",
      "  warnings.warn(wrn_msg)\n",
      "c:\\Users\\carly\\anaconda3\\envs\\dyspepsia_research\\lib\\site-packages\\pytorch_tabnet\\abstract_model.py:82: UserWarning: Device used : cpu\n",
      "  warnings.warn(f\"Device used : {self.device}\")\n"
     ]
    },
    {
     "name": "stdout",
     "output_type": "stream",
     "text": [
      "epoch 3  | loss: 1.63351 | valid_accuracy: 0.5     |  0:00:00s\n",
      "epoch 4  | loss: 1.36741 | valid_accuracy: 0.58333 |  0:00:00s\n",
      "epoch 5  | loss: 1.0227  | valid_accuracy: 0.375   |  0:00:00s\n",
      "epoch 6  | loss: 1.21839 | valid_accuracy: 0.54167 |  0:00:00s\n",
      "epoch 7  | loss: 0.97642 | valid_accuracy: 0.33333 |  0:00:00s\n",
      "epoch 8  | loss: 1.04067 | valid_accuracy: 0.29167 |  0:00:00s\n",
      "epoch 9  | loss: 1.21773 | valid_accuracy: 0.45833 |  0:00:00s\n",
      "epoch 10 | loss: 1.05094 | valid_accuracy: 0.375   |  0:00:00s\n",
      "epoch 11 | loss: 0.92874 | valid_accuracy: 0.29167 |  0:00:00s\n",
      "epoch 12 | loss: 0.67748 | valid_accuracy: 0.41667 |  0:00:00s\n",
      "epoch 13 | loss: 0.67231 | valid_accuracy: 0.41667 |  0:00:00s\n",
      "epoch 14 | loss: 0.52948 | valid_accuracy: 0.45833 |  0:00:00s\n",
      "\n",
      "Early stopping occurred at epoch 14 with best_epoch = 4 and best_valid_accuracy = 0.58333\n"
     ]
    },
    {
     "name": "stderr",
     "output_type": "stream",
     "text": [
      "c:\\Users\\carly\\anaconda3\\envs\\dyspepsia_research\\lib\\site-packages\\pytorch_tabnet\\callbacks.py:172: UserWarning: Best weights from best epoch are automatically used!\n",
      "  warnings.warn(wrn_msg)\n",
      "c:\\Users\\carly\\anaconda3\\envs\\dyspepsia_research\\lib\\site-packages\\pytorch_tabnet\\abstract_model.py:82: UserWarning: Device used : cpu\n",
      "  warnings.warn(f\"Device used : {self.device}\")\n"
     ]
    },
    {
     "name": "stdout",
     "output_type": "stream",
     "text": [
      "epoch 0  | loss: 2.09838 | valid_accuracy: 0.17391 |  0:00:00s\n",
      "epoch 1  | loss: 1.54956 | valid_accuracy: 0.3913  |  0:00:00s\n",
      "epoch 2  | loss: 1.46436 | valid_accuracy: 0.47826 |  0:00:00s\n",
      "epoch 3  | loss: 1.19513 | valid_accuracy: 0.34783 |  0:00:00s\n",
      "epoch 4  | loss: 1.26526 | valid_accuracy: 0.34783 |  0:00:00s\n",
      "epoch 5  | loss: 1.07844 | valid_accuracy: 0.3913  |  0:00:00s\n",
      "epoch 6  | loss: 0.93211 | valid_accuracy: 0.47826 |  0:00:00s\n",
      "epoch 7  | loss: 0.97781 | valid_accuracy: 0.3913  |  0:00:00s\n",
      "epoch 8  | loss: 0.90286 | valid_accuracy: 0.3913  |  0:00:00s\n",
      "epoch 9  | loss: 0.81003 | valid_accuracy: 0.43478 |  0:00:00s\n",
      "epoch 10 | loss: 0.94399 | valid_accuracy: 0.34783 |  0:00:00s\n",
      "epoch 11 | loss: 0.84665 | valid_accuracy: 0.3913  |  0:00:00s\n",
      "epoch 12 | loss: 0.77028 | valid_accuracy: 0.34783 |  0:00:00s\n",
      "\n",
      "Early stopping occurred at epoch 12 with best_epoch = 2 and best_valid_accuracy = 0.47826\n",
      "epoch 0  | loss: 1.98388 | valid_accuracy: 0.47826 |  0:00:00s\n",
      "epoch 1  | loss: 2.09277 | valid_accuracy: 0.52174 |  0:00:00s\n"
     ]
    },
    {
     "name": "stderr",
     "output_type": "stream",
     "text": [
      "c:\\Users\\carly\\anaconda3\\envs\\dyspepsia_research\\lib\\site-packages\\pytorch_tabnet\\callbacks.py:172: UserWarning: Best weights from best epoch are automatically used!\n",
      "  warnings.warn(wrn_msg)\n",
      "c:\\Users\\carly\\anaconda3\\envs\\dyspepsia_research\\lib\\site-packages\\pytorch_tabnet\\abstract_model.py:82: UserWarning: Device used : cpu\n",
      "  warnings.warn(f\"Device used : {self.device}\")\n"
     ]
    },
    {
     "name": "stdout",
     "output_type": "stream",
     "text": [
      "epoch 2  | loss: 1.79819 | valid_accuracy: 0.47826 |  0:00:00s\n",
      "epoch 3  | loss: 1.76373 | valid_accuracy: 0.3913  |  0:00:00s\n",
      "epoch 4  | loss: 1.38904 | valid_accuracy: 0.30435 |  0:00:00s\n",
      "epoch 5  | loss: 1.30612 | valid_accuracy: 0.21739 |  0:00:00s\n",
      "epoch 6  | loss: 1.1579  | valid_accuracy: 0.26087 |  0:00:00s\n",
      "epoch 7  | loss: 0.97834 | valid_accuracy: 0.3913  |  0:00:00s\n",
      "epoch 8  | loss: 1.02382 | valid_accuracy: 0.47826 |  0:00:00s\n",
      "epoch 9  | loss: 1.10335 | valid_accuracy: 0.08696 |  0:00:00s\n",
      "epoch 10 | loss: 0.90169 | valid_accuracy: 0.26087 |  0:00:00s\n",
      "epoch 11 | loss: 0.83044 | valid_accuracy: 0.3913  |  0:00:00s\n",
      "\n",
      "Early stopping occurred at epoch 11 with best_epoch = 1 and best_valid_accuracy = 0.52174\n",
      "평균 F1 Score: 0.5213\n",
      "\n",
      "현재 파라미터 조합: {'gamma': 1.5, 'lambda_sparse': 0.001, 'n_a': 16, 'n_d': 16, 'n_steps': 5, 'optimizer_params': {'lr': 0.02}}\n"
     ]
    },
    {
     "name": "stderr",
     "output_type": "stream",
     "text": [
      "c:\\Users\\carly\\anaconda3\\envs\\dyspepsia_research\\lib\\site-packages\\pytorch_tabnet\\callbacks.py:172: UserWarning: Best weights from best epoch are automatically used!\n",
      "  warnings.warn(wrn_msg)\n",
      "c:\\Users\\carly\\anaconda3\\envs\\dyspepsia_research\\lib\\site-packages\\pytorch_tabnet\\abstract_model.py:82: UserWarning: Device used : cpu\n",
      "  warnings.warn(f\"Device used : {self.device}\")\n"
     ]
    },
    {
     "name": "stdout",
     "output_type": "stream",
     "text": [
      "epoch 0  | loss: 3.58802 | valid_accuracy: 0.375   |  0:00:00s\n",
      "epoch 1  | loss: 2.33139 | valid_accuracy: 0.20833 |  0:00:00s\n",
      "epoch 2  | loss: 1.97082 | valid_accuracy: 0.16667 |  0:00:00s\n",
      "epoch 3  | loss: 2.0776  | valid_accuracy: 0.41667 |  0:00:00s\n",
      "epoch 4  | loss: 1.51331 | valid_accuracy: 0.29167 |  0:00:00s\n",
      "epoch 5  | loss: 1.47854 | valid_accuracy: 0.45833 |  0:00:00s\n",
      "epoch 6  | loss: 1.49952 | valid_accuracy: 0.29167 |  0:00:00s\n",
      "epoch 7  | loss: 1.20949 | valid_accuracy: 0.45833 |  0:00:00s\n",
      "epoch 8  | loss: 1.44389 | valid_accuracy: 0.5     |  0:00:00s\n",
      "epoch 9  | loss: 1.26949 | valid_accuracy: 0.33333 |  0:00:00s\n",
      "epoch 10 | loss: 1.02993 | valid_accuracy: 0.33333 |  0:00:00s\n",
      "epoch 11 | loss: 0.83083 | valid_accuracy: 0.45833 |  0:00:00s\n",
      "epoch 12 | loss: 0.81495 | valid_accuracy: 0.33333 |  0:00:00s\n",
      "epoch 13 | loss: 0.81078 | valid_accuracy: 0.33333 |  0:00:00s\n",
      "epoch 14 | loss: 0.73899 | valid_accuracy: 0.375   |  0:00:00s\n",
      "epoch 15 | loss: 0.70045 | valid_accuracy: 0.375   |  0:00:01s\n",
      "epoch 16 | loss: 0.7001  | valid_accuracy: 0.29167 |  0:00:01s\n",
      "epoch 17 | loss: 0.70057 | valid_accuracy: 0.33333 |  0:00:01s\n",
      "epoch 18 | loss: 0.77714 | valid_accuracy: 0.20833 |  0:00:01s\n",
      "\n",
      "Early stopping occurred at epoch 18 with best_epoch = 8 and best_valid_accuracy = 0.5\n"
     ]
    },
    {
     "name": "stderr",
     "output_type": "stream",
     "text": [
      "c:\\Users\\carly\\anaconda3\\envs\\dyspepsia_research\\lib\\site-packages\\pytorch_tabnet\\callbacks.py:172: UserWarning: Best weights from best epoch are automatically used!\n",
      "  warnings.warn(wrn_msg)\n",
      "c:\\Users\\carly\\anaconda3\\envs\\dyspepsia_research\\lib\\site-packages\\pytorch_tabnet\\abstract_model.py:82: UserWarning: Device used : cpu\n",
      "  warnings.warn(f\"Device used : {self.device}\")\n"
     ]
    },
    {
     "name": "stdout",
     "output_type": "stream",
     "text": [
      "epoch 0  | loss: 3.01519 | valid_accuracy: 0.26087 |  0:00:00s\n",
      "epoch 1  | loss: 2.60607 | valid_accuracy: 0.21739 |  0:00:00s\n",
      "epoch 2  | loss: 2.03232 | valid_accuracy: 0.34783 |  0:00:00s\n",
      "epoch 3  | loss: 1.74171 | valid_accuracy: 0.30435 |  0:00:00s\n",
      "epoch 4  | loss: 1.6752  | valid_accuracy: 0.43478 |  0:00:00s\n",
      "epoch 5  | loss: 1.23149 | valid_accuracy: 0.30435 |  0:00:00s\n",
      "epoch 6  | loss: 1.39388 | valid_accuracy: 0.6087  |  0:00:00s\n",
      "epoch 7  | loss: 1.31337 | valid_accuracy: 0.26087 |  0:00:00s\n",
      "epoch 8  | loss: 1.01232 | valid_accuracy: 0.43478 |  0:00:00s\n",
      "epoch 9  | loss: 0.96902 | valid_accuracy: 0.43478 |  0:00:00s\n",
      "epoch 10 | loss: 0.92786 | valid_accuracy: 0.47826 |  0:00:00s\n",
      "epoch 11 | loss: 1.185   | valid_accuracy: 0.3913  |  0:00:00s\n",
      "epoch 12 | loss: 1.02087 | valid_accuracy: 0.47826 |  0:00:00s\n",
      "epoch 13 | loss: 0.98292 | valid_accuracy: 0.3913  |  0:00:00s\n",
      "epoch 14 | loss: 0.94878 | valid_accuracy: 0.43478 |  0:00:00s\n",
      "epoch 15 | loss: 0.98108 | valid_accuracy: 0.3913  |  0:00:00s\n",
      "epoch 16 | loss: 0.95149 | valid_accuracy: 0.56522 |  0:00:01s\n",
      "\n",
      "Early stopping occurred at epoch 16 with best_epoch = 6 and best_valid_accuracy = 0.6087\n",
      "epoch 0  | loss: 3.5785  | valid_accuracy: 0.17391 |  0:00:00s\n",
      "epoch 1  | loss: 2.73309 | valid_accuracy: 0.30435 |  0:00:00s\n"
     ]
    },
    {
     "name": "stderr",
     "output_type": "stream",
     "text": [
      "c:\\Users\\carly\\anaconda3\\envs\\dyspepsia_research\\lib\\site-packages\\pytorch_tabnet\\callbacks.py:172: UserWarning: Best weights from best epoch are automatically used!\n",
      "  warnings.warn(wrn_msg)\n",
      "c:\\Users\\carly\\anaconda3\\envs\\dyspepsia_research\\lib\\site-packages\\pytorch_tabnet\\abstract_model.py:82: UserWarning: Device used : cpu\n",
      "  warnings.warn(f\"Device used : {self.device}\")\n"
     ]
    },
    {
     "name": "stdout",
     "output_type": "stream",
     "text": [
      "epoch 2  | loss: 1.97625 | valid_accuracy: 0.30435 |  0:00:00s\n",
      "epoch 3  | loss: 1.64752 | valid_accuracy: 0.21739 |  0:00:00s\n",
      "epoch 4  | loss: 1.53321 | valid_accuracy: 0.34783 |  0:00:00s\n",
      "epoch 5  | loss: 1.21633 | valid_accuracy: 0.3913  |  0:00:00s\n",
      "epoch 6  | loss: 1.3106  | valid_accuracy: 0.3913  |  0:00:00s\n",
      "epoch 7  | loss: 1.2691  | valid_accuracy: 0.47826 |  0:00:00s\n",
      "epoch 8  | loss: 1.48571 | valid_accuracy: 0.56522 |  0:00:00s\n",
      "epoch 9  | loss: 1.33513 | valid_accuracy: 0.3913  |  0:00:00s\n",
      "epoch 10 | loss: 1.2286  | valid_accuracy: 0.30435 |  0:00:00s\n",
      "epoch 11 | loss: 1.06137 | valid_accuracy: 0.43478 |  0:00:00s\n",
      "epoch 12 | loss: 1.17255 | valid_accuracy: 0.47826 |  0:00:00s\n",
      "epoch 13 | loss: 1.13244 | valid_accuracy: 0.3913  |  0:00:00s\n",
      "epoch 14 | loss: 0.89644 | valid_accuracy: 0.52174 |  0:00:00s\n",
      "epoch 15 | loss: 1.00316 | valid_accuracy: 0.34783 |  0:00:01s\n",
      "epoch 16 | loss: 0.96522 | valid_accuracy: 0.30435 |  0:00:01s\n",
      "epoch 17 | loss: 0.97834 | valid_accuracy: 0.34783 |  0:00:01s\n",
      "epoch 18 | loss: 0.80716 | valid_accuracy: 0.30435 |  0:00:01s\n",
      "\n",
      "Early stopping occurred at epoch 18 with best_epoch = 8 and best_valid_accuracy = 0.56522\n",
      "평균 F1 Score: 0.5435\n",
      "\n",
      "현재 파라미터 조합: {'gamma': 1.5, 'lambda_sparse': 0.001, 'n_a': 16, 'n_d': 16, 'n_steps': 5, 'optimizer_params': {'lr': 0.01}}\n",
      "epoch 0  | loss: 3.58802 | valid_accuracy: 0.33333 |  0:00:00s\n"
     ]
    },
    {
     "name": "stderr",
     "output_type": "stream",
     "text": [
      "c:\\Users\\carly\\anaconda3\\envs\\dyspepsia_research\\lib\\site-packages\\pytorch_tabnet\\callbacks.py:172: UserWarning: Best weights from best epoch are automatically used!\n",
      "  warnings.warn(wrn_msg)\n",
      "c:\\Users\\carly\\anaconda3\\envs\\dyspepsia_research\\lib\\site-packages\\pytorch_tabnet\\abstract_model.py:82: UserWarning: Device used : cpu\n",
      "  warnings.warn(f\"Device used : {self.device}\")\n"
     ]
    },
    {
     "name": "stdout",
     "output_type": "stream",
     "text": [
      "epoch 1  | loss: 2.93113 | valid_accuracy: 0.375   |  0:00:00s\n",
      "epoch 2  | loss: 3.13831 | valid_accuracy: 0.29167 |  0:00:00s\n",
      "epoch 3  | loss: 2.3368  | valid_accuracy: 0.33333 |  0:00:00s\n",
      "epoch 4  | loss: 2.32265 | valid_accuracy: 0.375   |  0:00:00s\n",
      "epoch 5  | loss: 2.26503 | valid_accuracy: 0.375   |  0:00:00s\n",
      "epoch 6  | loss: 1.80847 | valid_accuracy: 0.45833 |  0:00:00s\n",
      "epoch 7  | loss: 1.42746 | valid_accuracy: 0.45833 |  0:00:00s\n",
      "epoch 8  | loss: 1.44487 | valid_accuracy: 0.375   |  0:00:00s\n",
      "epoch 9  | loss: 1.2814  | valid_accuracy: 0.375   |  0:00:00s\n",
      "epoch 10 | loss: 1.25793 | valid_accuracy: 0.58333 |  0:00:00s\n",
      "epoch 11 | loss: 1.15286 | valid_accuracy: 0.41667 |  0:00:00s\n",
      "epoch 12 | loss: 1.1373  | valid_accuracy: 0.375   |  0:00:00s\n",
      "epoch 13 | loss: 1.02707 | valid_accuracy: 0.29167 |  0:00:00s\n",
      "epoch 14 | loss: 0.99212 | valid_accuracy: 0.45833 |  0:00:00s\n",
      "epoch 15 | loss: 0.89422 | valid_accuracy: 0.41667 |  0:00:01s\n",
      "epoch 16 | loss: 0.7707  | valid_accuracy: 0.5     |  0:00:01s\n",
      "epoch 17 | loss: 0.91041 | valid_accuracy: 0.54167 |  0:00:01s\n",
      "epoch 18 | loss: 0.81188 | valid_accuracy: 0.5     |  0:00:01s\n",
      "epoch 19 | loss: 0.77396 | valid_accuracy: 0.5     |  0:00:01s\n",
      "epoch 20 | loss: 0.9155  | valid_accuracy: 0.41667 |  0:00:01s\n",
      "\n",
      "Early stopping occurred at epoch 20 with best_epoch = 10 and best_valid_accuracy = 0.58333\n"
     ]
    },
    {
     "name": "stderr",
     "output_type": "stream",
     "text": [
      "c:\\Users\\carly\\anaconda3\\envs\\dyspepsia_research\\lib\\site-packages\\pytorch_tabnet\\callbacks.py:172: UserWarning: Best weights from best epoch are automatically used!\n",
      "  warnings.warn(wrn_msg)\n",
      "c:\\Users\\carly\\anaconda3\\envs\\dyspepsia_research\\lib\\site-packages\\pytorch_tabnet\\abstract_model.py:82: UserWarning: Device used : cpu\n",
      "  warnings.warn(f\"Device used : {self.device}\")\n"
     ]
    },
    {
     "name": "stdout",
     "output_type": "stream",
     "text": [
      "epoch 0  | loss: 3.01519 | valid_accuracy: 0.04348 |  0:00:00s\n",
      "epoch 1  | loss: 2.48068 | valid_accuracy: 0.26087 |  0:00:00s\n",
      "epoch 2  | loss: 2.56984 | valid_accuracy: 0.21739 |  0:00:00s\n",
      "epoch 3  | loss: 2.75167 | valid_accuracy: 0.30435 |  0:00:00s\n",
      "epoch 4  | loss: 2.41589 | valid_accuracy: 0.26087 |  0:00:00s\n",
      "epoch 5  | loss: 2.07832 | valid_accuracy: 0.21739 |  0:00:00s\n",
      "epoch 6  | loss: 1.4798  | valid_accuracy: 0.26087 |  0:00:00s\n",
      "epoch 7  | loss: 1.6432  | valid_accuracy: 0.30435 |  0:00:00s\n",
      "epoch 8  | loss: 1.33882 | valid_accuracy: 0.26087 |  0:00:00s\n",
      "epoch 9  | loss: 1.3666  | valid_accuracy: 0.30435 |  0:00:00s\n",
      "epoch 10 | loss: 1.19985 | valid_accuracy: 0.3913  |  0:00:00s\n",
      "epoch 11 | loss: 1.21778 | valid_accuracy: 0.56522 |  0:00:00s\n",
      "epoch 12 | loss: 1.48278 | valid_accuracy: 0.43478 |  0:00:00s\n",
      "epoch 13 | loss: 1.15278 | valid_accuracy: 0.3913  |  0:00:00s\n",
      "epoch 14 | loss: 1.21443 | valid_accuracy: 0.3913  |  0:00:01s\n",
      "epoch 15 | loss: 1.65211 | valid_accuracy: 0.30435 |  0:00:01s\n",
      "epoch 16 | loss: 1.24107 | valid_accuracy: 0.34783 |  0:00:01s\n",
      "epoch 17 | loss: 1.23655 | valid_accuracy: 0.43478 |  0:00:01s\n",
      "epoch 18 | loss: 1.32557 | valid_accuracy: 0.52174 |  0:00:01s\n",
      "epoch 19 | loss: 1.20991 | valid_accuracy: 0.47826 |  0:00:01s\n",
      "epoch 20 | loss: 0.99078 | valid_accuracy: 0.3913  |  0:00:01s\n",
      "epoch 21 | loss: 1.19437 | valid_accuracy: 0.3913  |  0:00:01s\n",
      "\n",
      "Early stopping occurred at epoch 21 with best_epoch = 11 and best_valid_accuracy = 0.56522\n"
     ]
    },
    {
     "name": "stderr",
     "output_type": "stream",
     "text": [
      "c:\\Users\\carly\\anaconda3\\envs\\dyspepsia_research\\lib\\site-packages\\pytorch_tabnet\\callbacks.py:172: UserWarning: Best weights from best epoch are automatically used!\n",
      "  warnings.warn(wrn_msg)\n",
      "c:\\Users\\carly\\anaconda3\\envs\\dyspepsia_research\\lib\\site-packages\\pytorch_tabnet\\abstract_model.py:82: UserWarning: Device used : cpu\n",
      "  warnings.warn(f\"Device used : {self.device}\")\n"
     ]
    },
    {
     "name": "stdout",
     "output_type": "stream",
     "text": [
      "epoch 0  | loss: 3.5785  | valid_accuracy: 0.13043 |  0:00:00s\n",
      "epoch 1  | loss: 2.87017 | valid_accuracy: 0.3913  |  0:00:00s\n",
      "epoch 2  | loss: 2.7136  | valid_accuracy: 0.30435 |  0:00:00s\n",
      "epoch 3  | loss: 2.57989 | valid_accuracy: 0.17391 |  0:00:00s\n",
      "epoch 4  | loss: 2.50045 | valid_accuracy: 0.30435 |  0:00:00s\n",
      "epoch 5  | loss: 2.25409 | valid_accuracy: 0.17391 |  0:00:00s\n",
      "epoch 6  | loss: 1.89143 | valid_accuracy: 0.30435 |  0:00:00s\n",
      "epoch 7  | loss: 2.03466 | valid_accuracy: 0.43478 |  0:00:00s\n",
      "epoch 8  | loss: 1.83206 | valid_accuracy: 0.34783 |  0:00:00s\n",
      "epoch 9  | loss: 1.5757  | valid_accuracy: 0.3913  |  0:00:00s\n",
      "epoch 10 | loss: 1.64219 | valid_accuracy: 0.43478 |  0:00:00s\n",
      "epoch 11 | loss: 1.54378 | valid_accuracy: 0.34783 |  0:00:00s\n",
      "epoch 12 | loss: 1.49592 | valid_accuracy: 0.21739 |  0:00:00s\n",
      "epoch 13 | loss: 1.63972 | valid_accuracy: 0.26087 |  0:00:00s\n",
      "epoch 14 | loss: 1.44185 | valid_accuracy: 0.21739 |  0:00:00s\n",
      "epoch 15 | loss: 1.32116 | valid_accuracy: 0.34783 |  0:00:01s\n",
      "epoch 16 | loss: 1.55595 | valid_accuracy: 0.30435 |  0:00:01s\n",
      "epoch 17 | loss: 1.58195 | valid_accuracy: 0.34783 |  0:00:01s\n",
      "\n",
      "Early stopping occurred at epoch 17 with best_epoch = 7 and best_valid_accuracy = 0.43478\n",
      "평균 F1 Score: 0.4910\n",
      "\n",
      "현재 파라미터 조합: {'gamma': 1.5, 'lambda_sparse': 0.0001, 'n_a': 8, 'n_d': 8, 'n_steps': 3, 'optimizer_params': {'lr': 0.02}}\n"
     ]
    },
    {
     "name": "stderr",
     "output_type": "stream",
     "text": [
      "c:\\Users\\carly\\anaconda3\\envs\\dyspepsia_research\\lib\\site-packages\\pytorch_tabnet\\callbacks.py:172: UserWarning: Best weights from best epoch are automatically used!\n",
      "  warnings.warn(wrn_msg)\n",
      "c:\\Users\\carly\\anaconda3\\envs\\dyspepsia_research\\lib\\site-packages\\pytorch_tabnet\\abstract_model.py:82: UserWarning: Device used : cpu\n",
      "  warnings.warn(f\"Device used : {self.device}\")\n"
     ]
    },
    {
     "name": "stdout",
     "output_type": "stream",
     "text": [
      "epoch 0  | loss: 1.09224 | valid_accuracy: 0.41667 |  0:00:00s\n",
      "epoch 1  | loss: 0.97991 | valid_accuracy: 0.16667 |  0:00:00s\n",
      "epoch 2  | loss: 0.96572 | valid_accuracy: 0.29167 |  0:00:00s\n",
      "epoch 3  | loss: 1.07479 | valid_accuracy: 0.5     |  0:00:00s\n",
      "epoch 4  | loss: 0.96611 | valid_accuracy: 0.45833 |  0:00:00s\n",
      "epoch 5  | loss: 0.89758 | valid_accuracy: 0.5     |  0:00:00s\n",
      "epoch 6  | loss: 0.88344 | valid_accuracy: 0.41667 |  0:00:00s\n",
      "epoch 7  | loss: 1.02048 | valid_accuracy: 0.58333 |  0:00:00s\n",
      "epoch 8  | loss: 0.94179 | valid_accuracy: 0.45833 |  0:00:00s\n",
      "epoch 9  | loss: 0.92363 | valid_accuracy: 0.33333 |  0:00:00s\n",
      "epoch 10 | loss: 0.88479 | valid_accuracy: 0.375   |  0:00:00s\n",
      "epoch 11 | loss: 0.86137 | valid_accuracy: 0.41667 |  0:00:00s\n",
      "epoch 12 | loss: 0.75962 | valid_accuracy: 0.375   |  0:00:00s\n",
      "epoch 13 | loss: 0.75848 | valid_accuracy: 0.33333 |  0:00:00s\n",
      "epoch 14 | loss: 0.68208 | valid_accuracy: 0.41667 |  0:00:00s\n",
      "epoch 15 | loss: 0.64664 | valid_accuracy: 0.375   |  0:00:00s\n",
      "epoch 16 | loss: 0.58984 | valid_accuracy: 0.5     |  0:00:00s\n",
      "epoch 17 | loss: 0.52778 | valid_accuracy: 0.5     |  0:00:00s\n",
      "\n",
      "Early stopping occurred at epoch 17 with best_epoch = 7 and best_valid_accuracy = 0.58333\n",
      "epoch 0  | loss: 1.20011 | valid_accuracy: 0.34783 |  0:00:00s\n"
     ]
    },
    {
     "name": "stderr",
     "output_type": "stream",
     "text": [
      "c:\\Users\\carly\\anaconda3\\envs\\dyspepsia_research\\lib\\site-packages\\pytorch_tabnet\\callbacks.py:172: UserWarning: Best weights from best epoch are automatically used!\n",
      "  warnings.warn(wrn_msg)\n",
      "c:\\Users\\carly\\anaconda3\\envs\\dyspepsia_research\\lib\\site-packages\\pytorch_tabnet\\abstract_model.py:82: UserWarning: Device used : cpu\n",
      "  warnings.warn(f\"Device used : {self.device}\")\n"
     ]
    },
    {
     "name": "stdout",
     "output_type": "stream",
     "text": [
      "epoch 1  | loss: 1.15576 | valid_accuracy: 0.52174 |  0:00:00s\n",
      "epoch 2  | loss: 1.18696 | valid_accuracy: 0.56522 |  0:00:00s\n",
      "epoch 3  | loss: 1.25737 | valid_accuracy: 0.3913  |  0:00:00s\n",
      "epoch 4  | loss: 1.16154 | valid_accuracy: 0.65217 |  0:00:00s\n",
      "epoch 5  | loss: 1.02711 | valid_accuracy: 0.56522 |  0:00:00s\n",
      "epoch 6  | loss: 1.10505 | valid_accuracy: 0.3913  |  0:00:00s\n",
      "epoch 7  | loss: 1.09772 | valid_accuracy: 0.47826 |  0:00:00s\n",
      "epoch 8  | loss: 1.07495 | valid_accuracy: 0.34783 |  0:00:00s\n",
      "epoch 9  | loss: 0.96433 | valid_accuracy: 0.3913  |  0:00:00s\n",
      "epoch 10 | loss: 0.95217 | valid_accuracy: 0.34783 |  0:00:00s\n",
      "epoch 11 | loss: 1.00176 | valid_accuracy: 0.34783 |  0:00:00s\n",
      "epoch 12 | loss: 0.91723 | valid_accuracy: 0.30435 |  0:00:00s\n",
      "epoch 13 | loss: 0.88045 | valid_accuracy: 0.43478 |  0:00:00s\n",
      "epoch 14 | loss: 0.84079 | valid_accuracy: 0.52174 |  0:00:00s\n",
      "\n",
      "Early stopping occurred at epoch 14 with best_epoch = 4 and best_valid_accuracy = 0.65217\n",
      "epoch 0  | loss: 0.9569  | valid_accuracy: 0.34783 |  0:00:00s\n",
      "epoch 1  | loss: 1.10664 | valid_accuracy: 0.52174 |  0:00:00s\n",
      "epoch 2  | loss: 1.1388  | valid_accuracy: 0.47826 |  0:00:00s\n"
     ]
    },
    {
     "name": "stderr",
     "output_type": "stream",
     "text": [
      "c:\\Users\\carly\\anaconda3\\envs\\dyspepsia_research\\lib\\site-packages\\pytorch_tabnet\\callbacks.py:172: UserWarning: Best weights from best epoch are automatically used!\n",
      "  warnings.warn(wrn_msg)\n",
      "c:\\Users\\carly\\anaconda3\\envs\\dyspepsia_research\\lib\\site-packages\\pytorch_tabnet\\abstract_model.py:82: UserWarning: Device used : cpu\n",
      "  warnings.warn(f\"Device used : {self.device}\")\n"
     ]
    },
    {
     "name": "stdout",
     "output_type": "stream",
     "text": [
      "epoch 3  | loss: 1.0644  | valid_accuracy: 0.43478 |  0:00:00s\n",
      "epoch 4  | loss: 1.0263  | valid_accuracy: 0.47826 |  0:00:00s\n",
      "epoch 5  | loss: 1.01328 | valid_accuracy: 0.26087 |  0:00:00s\n",
      "epoch 6  | loss: 0.90176 | valid_accuracy: 0.34783 |  0:00:00s\n",
      "epoch 7  | loss: 0.90872 | valid_accuracy: 0.3913  |  0:00:00s\n",
      "epoch 8  | loss: 0.91441 | valid_accuracy: 0.56522 |  0:00:00s\n",
      "epoch 9  | loss: 0.87858 | valid_accuracy: 0.47826 |  0:00:00s\n",
      "epoch 10 | loss: 0.89726 | valid_accuracy: 0.3913  |  0:00:00s\n",
      "epoch 11 | loss: 0.82903 | valid_accuracy: 0.3913  |  0:00:00s\n",
      "epoch 12 | loss: 0.81073 | valid_accuracy: 0.6087  |  0:00:00s\n",
      "epoch 13 | loss: 0.78249 | valid_accuracy: 0.52174 |  0:00:00s\n",
      "epoch 14 | loss: 0.6965  | valid_accuracy: 0.47826 |  0:00:00s\n",
      "epoch 15 | loss: 0.68055 | valid_accuracy: 0.43478 |  0:00:00s\n",
      "epoch 16 | loss: 0.59429 | valid_accuracy: 0.3913  |  0:00:00s\n",
      "epoch 17 | loss: 0.54156 | valid_accuracy: 0.47826 |  0:00:00s\n",
      "epoch 18 | loss: 0.47733 | valid_accuracy: 0.3913  |  0:00:00s\n",
      "epoch 19 | loss: 0.43527 | valid_accuracy: 0.43478 |  0:00:00s\n",
      "epoch 20 | loss: 0.35552 | valid_accuracy: 0.30435 |  0:00:00s\n",
      "epoch 21 | loss: 0.30256 | valid_accuracy: 0.47826 |  0:00:00s\n",
      "epoch 22 | loss: 0.2598  | valid_accuracy: 0.43478 |  0:00:00s\n",
      "\n",
      "Early stopping occurred at epoch 22 with best_epoch = 12 and best_valid_accuracy = 0.6087\n",
      "평균 F1 Score: 0.5667\n",
      "\n",
      "현재 파라미터 조합: {'gamma': 1.5, 'lambda_sparse': 0.0001, 'n_a': 8, 'n_d': 8, 'n_steps': 3, 'optimizer_params': {'lr': 0.01}}\n",
      "epoch 0  | loss: 1.09224 | valid_accuracy: 0.33333 |  0:00:00s\n",
      "epoch 1  | loss: 1.12386 | valid_accuracy: 0.375   |  0:00:00s\n"
     ]
    },
    {
     "name": "stderr",
     "output_type": "stream",
     "text": [
      "c:\\Users\\carly\\anaconda3\\envs\\dyspepsia_research\\lib\\site-packages\\pytorch_tabnet\\callbacks.py:172: UserWarning: Best weights from best epoch are automatically used!\n",
      "  warnings.warn(wrn_msg)\n",
      "c:\\Users\\carly\\anaconda3\\envs\\dyspepsia_research\\lib\\site-packages\\pytorch_tabnet\\abstract_model.py:82: UserWarning: Device used : cpu\n",
      "  warnings.warn(f\"Device used : {self.device}\")\n"
     ]
    },
    {
     "name": "stdout",
     "output_type": "stream",
     "text": [
      "epoch 2  | loss: 1.03547 | valid_accuracy: 0.375   |  0:00:00s\n",
      "epoch 3  | loss: 1.13865 | valid_accuracy: 0.25    |  0:00:00s\n",
      "epoch 4  | loss: 1.08574 | valid_accuracy: 0.25    |  0:00:00s\n",
      "epoch 5  | loss: 1.13655 | valid_accuracy: 0.41667 |  0:00:00s\n",
      "epoch 6  | loss: 0.90849 | valid_accuracy: 0.375   |  0:00:00s\n",
      "epoch 7  | loss: 0.93113 | valid_accuracy: 0.375   |  0:00:00s\n",
      "epoch 8  | loss: 0.95122 | valid_accuracy: 0.375   |  0:00:00s\n",
      "epoch 9  | loss: 0.9155  | valid_accuracy: 0.29167 |  0:00:00s\n",
      "epoch 10 | loss: 0.92053 | valid_accuracy: 0.45833 |  0:00:00s\n",
      "epoch 11 | loss: 0.98166 | valid_accuracy: 0.45833 |  0:00:00s\n",
      "epoch 12 | loss: 0.81676 | valid_accuracy: 0.5     |  0:00:00s\n",
      "epoch 13 | loss: 0.84016 | valid_accuracy: 0.5     |  0:00:00s\n",
      "epoch 14 | loss: 0.88399 | valid_accuracy: 0.41667 |  0:00:00s\n",
      "epoch 15 | loss: 0.82069 | valid_accuracy: 0.54167 |  0:00:00s\n",
      "epoch 16 | loss: 0.76707 | valid_accuracy: 0.5     |  0:00:00s\n",
      "epoch 17 | loss: 0.72544 | valid_accuracy: 0.45833 |  0:00:00s\n",
      "epoch 18 | loss: 0.7228  | valid_accuracy: 0.54167 |  0:00:00s\n",
      "epoch 19 | loss: 0.70054 | valid_accuracy: 0.41667 |  0:00:00s\n",
      "epoch 20 | loss: 0.66183 | valid_accuracy: 0.54167 |  0:00:00s\n",
      "epoch 21 | loss: 0.64626 | valid_accuracy: 0.45833 |  0:00:00s\n",
      "epoch 22 | loss: 0.62096 | valid_accuracy: 0.5     |  0:00:00s\n",
      "epoch 23 | loss: 0.61486 | valid_accuracy: 0.5     |  0:00:00s\n",
      "epoch 24 | loss: 0.59121 | valid_accuracy: 0.5     |  0:00:00s\n",
      "epoch 25 | loss: 0.53337 | valid_accuracy: 0.54167 |  0:00:00s\n",
      "\n",
      "Early stopping occurred at epoch 25 with best_epoch = 15 and best_valid_accuracy = 0.54167\n",
      "epoch 0  | loss: 1.20011 | valid_accuracy: 0.34783 |  0:00:00s\n",
      "epoch 1  | loss: 1.23409 | valid_accuracy: 0.43478 |  0:00:00s\n",
      "epoch 2  | loss: 1.05413 | valid_accuracy: 0.3913  |  0:00:00s\n"
     ]
    },
    {
     "name": "stderr",
     "output_type": "stream",
     "text": [
      "c:\\Users\\carly\\anaconda3\\envs\\dyspepsia_research\\lib\\site-packages\\pytorch_tabnet\\callbacks.py:172: UserWarning: Best weights from best epoch are automatically used!\n",
      "  warnings.warn(wrn_msg)\n",
      "c:\\Users\\carly\\anaconda3\\envs\\dyspepsia_research\\lib\\site-packages\\pytorch_tabnet\\abstract_model.py:82: UserWarning: Device used : cpu\n",
      "  warnings.warn(f\"Device used : {self.device}\")\n"
     ]
    },
    {
     "name": "stdout",
     "output_type": "stream",
     "text": [
      "epoch 3  | loss: 1.21677 | valid_accuracy: 0.47826 |  0:00:00s\n",
      "epoch 4  | loss: 1.0729  | valid_accuracy: 0.34783 |  0:00:00s\n",
      "epoch 5  | loss: 0.96428 | valid_accuracy: 0.34783 |  0:00:00s\n",
      "epoch 6  | loss: 0.9444  | valid_accuracy: 0.43478 |  0:00:00s\n",
      "epoch 7  | loss: 0.91225 | valid_accuracy: 0.43478 |  0:00:00s\n",
      "epoch 8  | loss: 0.9149  | valid_accuracy: 0.30435 |  0:00:00s\n",
      "epoch 9  | loss: 0.85113 | valid_accuracy: 0.3913  |  0:00:00s\n",
      "epoch 10 | loss: 0.92038 | valid_accuracy: 0.56522 |  0:00:00s\n",
      "epoch 11 | loss: 0.91472 | valid_accuracy: 0.52174 |  0:00:00s\n",
      "epoch 12 | loss: 0.79253 | valid_accuracy: 0.52174 |  0:00:00s\n",
      "epoch 13 | loss: 0.76045 | valid_accuracy: 0.56522 |  0:00:00s\n",
      "epoch 14 | loss: 0.69216 | valid_accuracy: 0.52174 |  0:00:00s\n",
      "epoch 15 | loss: 0.66325 | valid_accuracy: 0.43478 |  0:00:00s\n",
      "epoch 16 | loss: 0.6875  | valid_accuracy: 0.43478 |  0:00:00s\n",
      "epoch 17 | loss: 0.59972 | valid_accuracy: 0.43478 |  0:00:00s\n",
      "epoch 18 | loss: 0.60043 | valid_accuracy: 0.30435 |  0:00:00s\n",
      "epoch 19 | loss: 0.53761 | valid_accuracy: 0.3913  |  0:00:00s\n",
      "epoch 20 | loss: 0.49071 | valid_accuracy: 0.47826 |  0:00:00s\n",
      "\n",
      "Early stopping occurred at epoch 20 with best_epoch = 10 and best_valid_accuracy = 0.56522\n",
      "epoch 0  | loss: 0.9569  | valid_accuracy: 0.52174 |  0:00:00s\n"
     ]
    },
    {
     "name": "stderr",
     "output_type": "stream",
     "text": [
      "c:\\Users\\carly\\anaconda3\\envs\\dyspepsia_research\\lib\\site-packages\\pytorch_tabnet\\callbacks.py:172: UserWarning: Best weights from best epoch are automatically used!\n",
      "  warnings.warn(wrn_msg)\n",
      "c:\\Users\\carly\\anaconda3\\envs\\dyspepsia_research\\lib\\site-packages\\pytorch_tabnet\\abstract_model.py:82: UserWarning: Device used : cpu\n",
      "  warnings.warn(f\"Device used : {self.device}\")\n"
     ]
    },
    {
     "name": "stdout",
     "output_type": "stream",
     "text": [
      "epoch 1  | loss: 1.03818 | valid_accuracy: 0.52174 |  0:00:00s\n",
      "epoch 2  | loss: 1.06799 | valid_accuracy: 0.47826 |  0:00:00s\n",
      "epoch 3  | loss: 1.08193 | valid_accuracy: 0.6087  |  0:00:00s\n",
      "epoch 4  | loss: 0.98845 | valid_accuracy: 0.65217 |  0:00:00s\n",
      "epoch 5  | loss: 0.93713 | valid_accuracy: 0.56522 |  0:00:00s\n",
      "epoch 6  | loss: 0.98014 | valid_accuracy: 0.56522 |  0:00:00s\n",
      "epoch 7  | loss: 0.9415  | valid_accuracy: 0.56522 |  0:00:00s\n",
      "epoch 8  | loss: 1.00409 | valid_accuracy: 0.56522 |  0:00:00s\n",
      "epoch 9  | loss: 0.96591 | valid_accuracy: 0.52174 |  0:00:00s\n",
      "epoch 10 | loss: 0.9466  | valid_accuracy: 0.52174 |  0:00:00s\n",
      "epoch 11 | loss: 0.99702 | valid_accuracy: 0.3913  |  0:00:00s\n",
      "epoch 12 | loss: 0.82945 | valid_accuracy: 0.26087 |  0:00:00s\n",
      "epoch 13 | loss: 0.80101 | valid_accuracy: 0.34783 |  0:00:00s\n",
      "epoch 14 | loss: 0.73546 | valid_accuracy: 0.3913  |  0:00:00s\n",
      "\n",
      "Early stopping occurred at epoch 14 with best_epoch = 4 and best_valid_accuracy = 0.65217\n"
     ]
    },
    {
     "name": "stderr",
     "output_type": "stream",
     "text": [
      "c:\\Users\\carly\\anaconda3\\envs\\dyspepsia_research\\lib\\site-packages\\pytorch_tabnet\\callbacks.py:172: UserWarning: Best weights from best epoch are automatically used!\n",
      "  warnings.warn(wrn_msg)\n",
      "c:\\Users\\carly\\anaconda3\\envs\\dyspepsia_research\\lib\\site-packages\\pytorch_tabnet\\abstract_model.py:82: UserWarning: Device used : cpu\n",
      "  warnings.warn(f\"Device used : {self.device}\")\n"
     ]
    },
    {
     "name": "stdout",
     "output_type": "stream",
     "text": [
      "평균 F1 Score: 0.5654\n",
      "\n",
      "현재 파라미터 조합: {'gamma': 1.5, 'lambda_sparse': 0.0001, 'n_a': 8, 'n_d': 8, 'n_steps': 5, 'optimizer_params': {'lr': 0.02}}\n",
      "epoch 0  | loss: 1.3531  | valid_accuracy: 0.41667 |  0:00:00s\n",
      "epoch 1  | loss: 1.25295 | valid_accuracy: 0.45833 |  0:00:00s\n",
      "epoch 2  | loss: 1.27996 | valid_accuracy: 0.375   |  0:00:00s\n",
      "epoch 3  | loss: 1.22708 | valid_accuracy: 0.45833 |  0:00:00s\n",
      "epoch 4  | loss: 1.16142 | valid_accuracy: 0.58333 |  0:00:00s\n",
      "epoch 5  | loss: 0.94758 | valid_accuracy: 0.54167 |  0:00:00s\n",
      "epoch 6  | loss: 0.96302 | valid_accuracy: 0.41667 |  0:00:00s\n",
      "epoch 7  | loss: 1.01913 | valid_accuracy: 0.375   |  0:00:00s\n",
      "epoch 8  | loss: 1.16902 | valid_accuracy: 0.41667 |  0:00:00s\n",
      "epoch 9  | loss: 1.18196 | valid_accuracy: 0.54167 |  0:00:00s\n",
      "epoch 10 | loss: 0.93214 | valid_accuracy: 0.5     |  0:00:00s\n",
      "epoch 11 | loss: 1.08565 | valid_accuracy: 0.5     |  0:00:00s\n",
      "epoch 12 | loss: 1.03467 | valid_accuracy: 0.5     |  0:00:00s\n",
      "epoch 13 | loss: 0.99135 | valid_accuracy: 0.45833 |  0:00:00s\n",
      "epoch 14 | loss: 1.00458 | valid_accuracy: 0.5     |  0:00:00s\n",
      "\n",
      "Early stopping occurred at epoch 14 with best_epoch = 4 and best_valid_accuracy = 0.58333\n"
     ]
    },
    {
     "name": "stderr",
     "output_type": "stream",
     "text": [
      "c:\\Users\\carly\\anaconda3\\envs\\dyspepsia_research\\lib\\site-packages\\pytorch_tabnet\\callbacks.py:172: UserWarning: Best weights from best epoch are automatically used!\n",
      "  warnings.warn(wrn_msg)\n",
      "c:\\Users\\carly\\anaconda3\\envs\\dyspepsia_research\\lib\\site-packages\\pytorch_tabnet\\abstract_model.py:82: UserWarning: Device used : cpu\n",
      "  warnings.warn(f\"Device used : {self.device}\")\n"
     ]
    },
    {
     "name": "stdout",
     "output_type": "stream",
     "text": [
      "epoch 0  | loss: 1.30937 | valid_accuracy: 0.43478 |  0:00:00s\n",
      "epoch 1  | loss: 1.22035 | valid_accuracy: 0.43478 |  0:00:00s\n",
      "epoch 2  | loss: 1.08696 | valid_accuracy: 0.3913  |  0:00:00s\n",
      "epoch 3  | loss: 1.15949 | valid_accuracy: 0.30435 |  0:00:00s\n",
      "epoch 4  | loss: 1.11524 | valid_accuracy: 0.30435 |  0:00:00s\n",
      "epoch 5  | loss: 1.0594  | valid_accuracy: 0.43478 |  0:00:00s\n",
      "epoch 6  | loss: 0.96267 | valid_accuracy: 0.43478 |  0:00:00s\n",
      "epoch 7  | loss: 0.94281 | valid_accuracy: 0.30435 |  0:00:00s\n",
      "epoch 8  | loss: 1.23409 | valid_accuracy: 0.43478 |  0:00:00s\n",
      "epoch 9  | loss: 1.12217 | valid_accuracy: 0.3913  |  0:00:00s\n",
      "epoch 10 | loss: 1.05158 | valid_accuracy: 0.47826 |  0:00:00s\n",
      "epoch 11 | loss: 1.07789 | valid_accuracy: 0.52174 |  0:00:00s\n",
      "epoch 12 | loss: 1.1942  | valid_accuracy: 0.43478 |  0:00:00s\n",
      "epoch 13 | loss: 1.16379 | valid_accuracy: 0.52174 |  0:00:00s\n",
      "epoch 14 | loss: 1.20397 | valid_accuracy: 0.52174 |  0:00:00s\n",
      "epoch 15 | loss: 1.05633 | valid_accuracy: 0.47826 |  0:00:00s\n",
      "epoch 16 | loss: 0.95977 | valid_accuracy: 0.6087  |  0:00:00s\n",
      "epoch 17 | loss: 0.85807 | valid_accuracy: 0.3913  |  0:00:01s\n",
      "epoch 18 | loss: 0.87934 | valid_accuracy: 0.47826 |  0:00:01s\n",
      "epoch 19 | loss: 0.82335 | valid_accuracy: 0.52174 |  0:00:01s\n",
      "epoch 20 | loss: 0.8536  | valid_accuracy: 0.6087  |  0:00:01s\n",
      "epoch 21 | loss: 0.89154 | valid_accuracy: 0.52174 |  0:00:01s\n",
      "epoch 22 | loss: 0.92762 | valid_accuracy: 0.6087  |  0:00:01s\n",
      "epoch 23 | loss: 0.9101  | valid_accuracy: 0.56522 |  0:00:01s\n",
      "epoch 24 | loss: 0.91933 | valid_accuracy: 0.47826 |  0:00:01s\n",
      "epoch 25 | loss: 0.86705 | valid_accuracy: 0.47826 |  0:00:01s\n",
      "epoch 26 | loss: 0.8207  | valid_accuracy: 0.43478 |  0:00:01s\n",
      "\n",
      "Early stopping occurred at epoch 26 with best_epoch = 16 and best_valid_accuracy = 0.6087\n",
      "epoch 0  | loss: 1.43    | valid_accuracy: 0.52174 |  0:00:00s\n",
      "epoch 1  | loss: 1.39046 | valid_accuracy: 0.34783 |  0:00:00s\n"
     ]
    },
    {
     "name": "stderr",
     "output_type": "stream",
     "text": [
      "c:\\Users\\carly\\anaconda3\\envs\\dyspepsia_research\\lib\\site-packages\\pytorch_tabnet\\callbacks.py:172: UserWarning: Best weights from best epoch are automatically used!\n",
      "  warnings.warn(wrn_msg)\n",
      "c:\\Users\\carly\\anaconda3\\envs\\dyspepsia_research\\lib\\site-packages\\pytorch_tabnet\\abstract_model.py:82: UserWarning: Device used : cpu\n",
      "  warnings.warn(f\"Device used : {self.device}\")\n"
     ]
    },
    {
     "name": "stdout",
     "output_type": "stream",
     "text": [
      "epoch 2  | loss: 1.24659 | valid_accuracy: 0.47826 |  0:00:00s\n",
      "epoch 3  | loss: 1.13994 | valid_accuracy: 0.3913  |  0:00:00s\n",
      "epoch 4  | loss: 1.14831 | valid_accuracy: 0.43478 |  0:00:00s\n",
      "epoch 5  | loss: 1.06523 | valid_accuracy: 0.30435 |  0:00:00s\n",
      "epoch 6  | loss: 1.24721 | valid_accuracy: 0.43478 |  0:00:00s\n",
      "epoch 7  | loss: 1.05662 | valid_accuracy: 0.26087 |  0:00:00s\n",
      "epoch 8  | loss: 1.12733 | valid_accuracy: 0.30435 |  0:00:00s\n",
      "epoch 9  | loss: 0.93719 | valid_accuracy: 0.34783 |  0:00:00s\n",
      "epoch 10 | loss: 0.90037 | valid_accuracy: 0.30435 |  0:00:00s\n",
      "\n",
      "Early stopping occurred at epoch 10 with best_epoch = 0 and best_valid_accuracy = 0.52174\n",
      "평균 F1 Score: 0.5322\n",
      "\n",
      "현재 파라미터 조합: {'gamma': 1.5, 'lambda_sparse': 0.0001, 'n_a': 8, 'n_d': 8, 'n_steps': 5, 'optimizer_params': {'lr': 0.01}}\n",
      "epoch 0  | loss: 1.3531  | valid_accuracy: 0.45833 |  0:00:00s\n",
      "epoch 1  | loss: 1.42721 | valid_accuracy: 0.41667 |  0:00:00s\n"
     ]
    },
    {
     "name": "stderr",
     "output_type": "stream",
     "text": [
      "c:\\Users\\carly\\anaconda3\\envs\\dyspepsia_research\\lib\\site-packages\\pytorch_tabnet\\callbacks.py:172: UserWarning: Best weights from best epoch are automatically used!\n",
      "  warnings.warn(wrn_msg)\n",
      "c:\\Users\\carly\\anaconda3\\envs\\dyspepsia_research\\lib\\site-packages\\pytorch_tabnet\\abstract_model.py:82: UserWarning: Device used : cpu\n",
      "  warnings.warn(f\"Device used : {self.device}\")\n"
     ]
    },
    {
     "name": "stdout",
     "output_type": "stream",
     "text": [
      "epoch 2  | loss: 1.33636 | valid_accuracy: 0.58333 |  0:00:00s\n",
      "epoch 3  | loss: 1.25181 | valid_accuracy: 0.54167 |  0:00:00s\n",
      "epoch 4  | loss: 1.13662 | valid_accuracy: 0.58333 |  0:00:00s\n",
      "epoch 5  | loss: 1.15474 | valid_accuracy: 0.625   |  0:00:00s\n",
      "epoch 6  | loss: 0.94663 | valid_accuracy: 0.375   |  0:00:00s\n",
      "epoch 7  | loss: 1.08477 | valid_accuracy: 0.45833 |  0:00:00s\n",
      "epoch 8  | loss: 1.47257 | valid_accuracy: 0.45833 |  0:00:00s\n",
      "epoch 9  | loss: 1.03682 | valid_accuracy: 0.5     |  0:00:00s\n",
      "epoch 10 | loss: 1.21948 | valid_accuracy: 0.5     |  0:00:00s\n",
      "epoch 11 | loss: 1.06762 | valid_accuracy: 0.45833 |  0:00:00s\n",
      "epoch 12 | loss: 0.92519 | valid_accuracy: 0.54167 |  0:00:00s\n",
      "epoch 13 | loss: 0.92815 | valid_accuracy: 0.41667 |  0:00:00s\n",
      "epoch 14 | loss: 0.90758 | valid_accuracy: 0.5     |  0:00:00s\n",
      "epoch 15 | loss: 0.93641 | valid_accuracy: 0.45833 |  0:00:00s\n",
      "\n",
      "Early stopping occurred at epoch 15 with best_epoch = 5 and best_valid_accuracy = 0.625\n",
      "epoch 0  | loss: 1.30937 | valid_accuracy: 0.47826 |  0:00:00s\n"
     ]
    },
    {
     "name": "stderr",
     "output_type": "stream",
     "text": [
      "c:\\Users\\carly\\anaconda3\\envs\\dyspepsia_research\\lib\\site-packages\\pytorch_tabnet\\callbacks.py:172: UserWarning: Best weights from best epoch are automatically used!\n",
      "  warnings.warn(wrn_msg)\n",
      "c:\\Users\\carly\\anaconda3\\envs\\dyspepsia_research\\lib\\site-packages\\pytorch_tabnet\\abstract_model.py:82: UserWarning: Device used : cpu\n",
      "  warnings.warn(f\"Device used : {self.device}\")\n"
     ]
    },
    {
     "name": "stdout",
     "output_type": "stream",
     "text": [
      "epoch 1  | loss: 1.47485 | valid_accuracy: 0.47826 |  0:00:00s\n",
      "epoch 2  | loss: 1.22339 | valid_accuracy: 0.47826 |  0:00:00s\n",
      "epoch 3  | loss: 1.38995 | valid_accuracy: 0.56522 |  0:00:00s\n",
      "epoch 4  | loss: 1.37183 | valid_accuracy: 0.47826 |  0:00:00s\n",
      "epoch 5  | loss: 1.34786 | valid_accuracy: 0.43478 |  0:00:00s\n",
      "epoch 6  | loss: 0.9341  | valid_accuracy: 0.47826 |  0:00:00s\n",
      "epoch 7  | loss: 1.02886 | valid_accuracy: 0.47826 |  0:00:00s\n",
      "epoch 8  | loss: 1.27492 | valid_accuracy: 0.3913  |  0:00:00s\n",
      "epoch 9  | loss: 1.06625 | valid_accuracy: 0.26087 |  0:00:00s\n",
      "epoch 10 | loss: 1.06884 | valid_accuracy: 0.34783 |  0:00:00s\n",
      "epoch 11 | loss: 1.04848 | valid_accuracy: 0.34783 |  0:00:00s\n",
      "epoch 12 | loss: 1.16463 | valid_accuracy: 0.30435 |  0:00:00s\n",
      "epoch 13 | loss: 1.13067 | valid_accuracy: 0.43478 |  0:00:00s\n",
      "\n",
      "Early stopping occurred at epoch 13 with best_epoch = 3 and best_valid_accuracy = 0.56522\n",
      "epoch 0  | loss: 1.43    | valid_accuracy: 0.3913  |  0:00:00s\n",
      "epoch 1  | loss: 1.25344 | valid_accuracy: 0.34783 |  0:00:00s\n"
     ]
    },
    {
     "name": "stderr",
     "output_type": "stream",
     "text": [
      "c:\\Users\\carly\\anaconda3\\envs\\dyspepsia_research\\lib\\site-packages\\pytorch_tabnet\\callbacks.py:172: UserWarning: Best weights from best epoch are automatically used!\n",
      "  warnings.warn(wrn_msg)\n",
      "c:\\Users\\carly\\anaconda3\\envs\\dyspepsia_research\\lib\\site-packages\\pytorch_tabnet\\abstract_model.py:82: UserWarning: Device used : cpu\n",
      "  warnings.warn(f\"Device used : {self.device}\")\n"
     ]
    },
    {
     "name": "stdout",
     "output_type": "stream",
     "text": [
      "epoch 2  | loss: 1.38036 | valid_accuracy: 0.34783 |  0:00:00s\n",
      "epoch 3  | loss: 1.54166 | valid_accuracy: 0.47826 |  0:00:00s\n",
      "epoch 4  | loss: 1.26994 | valid_accuracy: 0.52174 |  0:00:00s\n",
      "epoch 5  | loss: 1.15267 | valid_accuracy: 0.34783 |  0:00:00s\n",
      "epoch 6  | loss: 1.15309 | valid_accuracy: 0.30435 |  0:00:00s\n",
      "epoch 7  | loss: 1.18313 | valid_accuracy: 0.30435 |  0:00:00s\n",
      "epoch 8  | loss: 1.26766 | valid_accuracy: 0.34783 |  0:00:00s\n",
      "epoch 9  | loss: 1.42461 | valid_accuracy: 0.26087 |  0:00:00s\n",
      "epoch 10 | loss: 1.45483 | valid_accuracy: 0.3913  |  0:00:00s\n",
      "epoch 11 | loss: 1.25771 | valid_accuracy: 0.3913  |  0:00:00s\n",
      "epoch 12 | loss: 1.01943 | valid_accuracy: 0.34783 |  0:00:00s\n",
      "epoch 13 | loss: 1.06068 | valid_accuracy: 0.34783 |  0:00:00s\n",
      "epoch 14 | loss: 1.02362 | valid_accuracy: 0.30435 |  0:00:00s\n",
      "\n",
      "Early stopping occurred at epoch 14 with best_epoch = 4 and best_valid_accuracy = 0.52174\n",
      "평균 F1 Score: 0.4829\n",
      "\n",
      "현재 파라미터 조합: {'gamma': 1.5, 'lambda_sparse': 0.0001, 'n_a': 8, 'n_d': 16, 'n_steps': 3, 'optimizer_params': {'lr': 0.02}}\n",
      "epoch 0  | loss: 3.02577 | valid_accuracy: 0.125   |  0:00:00s\n",
      "epoch 1  | loss: 2.5884  | valid_accuracy: 0.29167 |  0:00:00s\n",
      "epoch 2  | loss: 1.87697 | valid_accuracy: 0.20833 |  0:00:00s\n",
      "epoch 3  | loss: 1.3822  | valid_accuracy: 0.375   |  0:00:00s\n"
     ]
    },
    {
     "name": "stderr",
     "output_type": "stream",
     "text": [
      "c:\\Users\\carly\\anaconda3\\envs\\dyspepsia_research\\lib\\site-packages\\pytorch_tabnet\\callbacks.py:172: UserWarning: Best weights from best epoch are automatically used!\n",
      "  warnings.warn(wrn_msg)\n",
      "c:\\Users\\carly\\anaconda3\\envs\\dyspepsia_research\\lib\\site-packages\\pytorch_tabnet\\abstract_model.py:82: UserWarning: Device used : cpu\n",
      "  warnings.warn(f\"Device used : {self.device}\")\n"
     ]
    },
    {
     "name": "stdout",
     "output_type": "stream",
     "text": [
      "epoch 4  | loss: 1.21502 | valid_accuracy: 0.375   |  0:00:00s\n",
      "epoch 5  | loss: 1.12035 | valid_accuracy: 0.41667 |  0:00:00s\n",
      "epoch 6  | loss: 0.99185 | valid_accuracy: 0.45833 |  0:00:00s\n",
      "epoch 7  | loss: 0.94266 | valid_accuracy: 0.45833 |  0:00:00s\n",
      "epoch 8  | loss: 1.00759 | valid_accuracy: 0.58333 |  0:00:00s\n",
      "epoch 9  | loss: 0.87242 | valid_accuracy: 0.45833 |  0:00:00s\n",
      "epoch 10 | loss: 0.93238 | valid_accuracy: 0.375   |  0:00:00s\n",
      "epoch 11 | loss: 0.88967 | valid_accuracy: 0.375   |  0:00:00s\n",
      "epoch 12 | loss: 0.80604 | valid_accuracy: 0.29167 |  0:00:00s\n",
      "epoch 13 | loss: 0.74065 | valid_accuracy: 0.375   |  0:00:00s\n",
      "epoch 14 | loss: 0.6494  | valid_accuracy: 0.375   |  0:00:00s\n",
      "epoch 15 | loss: 0.56969 | valid_accuracy: 0.41667 |  0:00:00s\n",
      "epoch 16 | loss: 0.51013 | valid_accuracy: 0.5     |  0:00:00s\n",
      "epoch 17 | loss: 0.48465 | valid_accuracy: 0.41667 |  0:00:00s\n",
      "epoch 18 | loss: 0.40479 | valid_accuracy: 0.54167 |  0:00:00s\n",
      "\n",
      "Early stopping occurred at epoch 18 with best_epoch = 8 and best_valid_accuracy = 0.58333\n",
      "epoch 0  | loss: 2.88816 | valid_accuracy: 0.21739 |  0:00:00s\n",
      "epoch 1  | loss: 2.47148 | valid_accuracy: 0.3913  |  0:00:00s\n"
     ]
    },
    {
     "name": "stderr",
     "output_type": "stream",
     "text": [
      "c:\\Users\\carly\\anaconda3\\envs\\dyspepsia_research\\lib\\site-packages\\pytorch_tabnet\\callbacks.py:172: UserWarning: Best weights from best epoch are automatically used!\n",
      "  warnings.warn(wrn_msg)\n",
      "c:\\Users\\carly\\anaconda3\\envs\\dyspepsia_research\\lib\\site-packages\\pytorch_tabnet\\abstract_model.py:82: UserWarning: Device used : cpu\n",
      "  warnings.warn(f\"Device used : {self.device}\")\n"
     ]
    },
    {
     "name": "stdout",
     "output_type": "stream",
     "text": [
      "epoch 2  | loss: 2.05823 | valid_accuracy: 0.17391 |  0:00:00s\n",
      "epoch 3  | loss: 1.51301 | valid_accuracy: 0.43478 |  0:00:00s\n",
      "epoch 4  | loss: 1.23894 | valid_accuracy: 0.43478 |  0:00:00s\n",
      "epoch 5  | loss: 1.03296 | valid_accuracy: 0.3913  |  0:00:00s\n",
      "epoch 6  | loss: 0.95144 | valid_accuracy: 0.30435 |  0:00:00s\n",
      "epoch 7  | loss: 0.80761 | valid_accuracy: 0.30435 |  0:00:00s\n",
      "epoch 8  | loss: 0.72106 | valid_accuracy: 0.43478 |  0:00:00s\n",
      "epoch 9  | loss: 0.93701 | valid_accuracy: 0.34783 |  0:00:00s\n",
      "epoch 10 | loss: 1.03822 | valid_accuracy: 0.52174 |  0:00:00s\n",
      "epoch 11 | loss: 0.95769 | valid_accuracy: 0.3913  |  0:00:00s\n",
      "epoch 12 | loss: 0.90395 | valid_accuracy: 0.34783 |  0:00:00s\n",
      "epoch 13 | loss: 0.81191 | valid_accuracy: 0.43478 |  0:00:00s\n",
      "epoch 14 | loss: 0.86036 | valid_accuracy: 0.34783 |  0:00:00s\n",
      "epoch 15 | loss: 0.81058 | valid_accuracy: 0.43478 |  0:00:00s\n",
      "epoch 16 | loss: 0.69915 | valid_accuracy: 0.34783 |  0:00:00s\n",
      "epoch 17 | loss: 0.64812 | valid_accuracy: 0.3913  |  0:00:00s\n",
      "epoch 18 | loss: 0.63894 | valid_accuracy: 0.30435 |  0:00:00s\n",
      "epoch 19 | loss: 0.52983 | valid_accuracy: 0.43478 |  0:00:00s\n",
      "epoch 20 | loss: 0.48604 | valid_accuracy: 0.56522 |  0:00:00s\n",
      "epoch 21 | loss: 0.43521 | valid_accuracy: 0.43478 |  0:00:00s\n",
      "epoch 22 | loss: 0.37817 | valid_accuracy: 0.52174 |  0:00:00s\n",
      "epoch 23 | loss: 0.39704 | valid_accuracy: 0.6087  |  0:00:00s\n",
      "epoch 24 | loss: 0.35995 | valid_accuracy: 0.56522 |  0:00:00s\n",
      "epoch 25 | loss: 0.28969 | valid_accuracy: 0.52174 |  0:00:00s\n",
      "epoch 26 | loss: 0.21961 | valid_accuracy: 0.47826 |  0:00:01s\n",
      "epoch 27 | loss: 0.21074 | valid_accuracy: 0.43478 |  0:00:01s\n",
      "epoch 28 | loss: 0.15264 | valid_accuracy: 0.3913  |  0:00:01s\n",
      "epoch 29 | loss: 0.11785 | valid_accuracy: 0.3913  |  0:00:01s\n",
      "epoch 30 | loss: 0.07798 | valid_accuracy: 0.3913  |  0:00:01s\n",
      "epoch 31 | loss: 0.04877 | valid_accuracy: 0.47826 |  0:00:01s\n",
      "epoch 32 | loss: 0.03106 | valid_accuracy: 0.47826 |  0:00:01s\n",
      "epoch 33 | loss: 0.01614 | valid_accuracy: 0.47826 |  0:00:01s\n",
      "\n",
      "Early stopping occurred at epoch 33 with best_epoch = 23 and best_valid_accuracy = 0.6087\n",
      "epoch 0  | loss: 2.75281 | valid_accuracy: 0.17391 |  0:00:00s\n",
      "epoch 1  | loss: 2.66119 | valid_accuracy: 0.34783 |  0:00:00s\n",
      "epoch 2  | loss: 1.88168 | valid_accuracy: 0.43478 |  0:00:00s\n",
      "epoch 3  | loss: 1.59262 | valid_accuracy: 0.26087 |  0:00:00s\n"
     ]
    },
    {
     "name": "stderr",
     "output_type": "stream",
     "text": [
      "c:\\Users\\carly\\anaconda3\\envs\\dyspepsia_research\\lib\\site-packages\\pytorch_tabnet\\callbacks.py:172: UserWarning: Best weights from best epoch are automatically used!\n",
      "  warnings.warn(wrn_msg)\n",
      "c:\\Users\\carly\\anaconda3\\envs\\dyspepsia_research\\lib\\site-packages\\pytorch_tabnet\\abstract_model.py:82: UserWarning: Device used : cpu\n",
      "  warnings.warn(f\"Device used : {self.device}\")\n"
     ]
    },
    {
     "name": "stdout",
     "output_type": "stream",
     "text": [
      "epoch 4  | loss: 1.26439 | valid_accuracy: 0.26087 |  0:00:00s\n",
      "epoch 5  | loss: 1.11527 | valid_accuracy: 0.17391 |  0:00:00s\n",
      "epoch 6  | loss: 1.00797 | valid_accuracy: 0.43478 |  0:00:00s\n",
      "epoch 7  | loss: 0.99857 | valid_accuracy: 0.43478 |  0:00:00s\n",
      "epoch 8  | loss: 0.96556 | valid_accuracy: 0.56522 |  0:00:00s\n",
      "epoch 9  | loss: 0.95023 | valid_accuracy: 0.43478 |  0:00:00s\n",
      "epoch 10 | loss: 0.84898 | valid_accuracy: 0.47826 |  0:00:00s\n",
      "epoch 11 | loss: 0.9904  | valid_accuracy: 0.56522 |  0:00:00s\n",
      "epoch 12 | loss: 0.8797  | valid_accuracy: 0.43478 |  0:00:00s\n",
      "epoch 13 | loss: 0.75983 | valid_accuracy: 0.52174 |  0:00:00s\n",
      "epoch 14 | loss: 0.71946 | valid_accuracy: 0.43478 |  0:00:00s\n",
      "epoch 15 | loss: 0.6709  | valid_accuracy: 0.47826 |  0:00:00s\n",
      "epoch 16 | loss: 0.78725 | valid_accuracy: 0.47826 |  0:00:00s\n",
      "epoch 17 | loss: 0.66586 | valid_accuracy: 0.43478 |  0:00:00s\n",
      "epoch 18 | loss: 0.58374 | valid_accuracy: 0.34783 |  0:00:00s\n",
      "\n",
      "Early stopping occurred at epoch 18 with best_epoch = 8 and best_valid_accuracy = 0.56522\n",
      "평균 F1 Score: 0.5447\n",
      "\n",
      "현재 파라미터 조합: {'gamma': 1.5, 'lambda_sparse': 0.0001, 'n_a': 8, 'n_d': 16, 'n_steps': 3, 'optimizer_params': {'lr': 0.01}}\n",
      "epoch 0  | loss: 3.02577 | valid_accuracy: 0.20833 |  0:00:00s\n"
     ]
    },
    {
     "name": "stderr",
     "output_type": "stream",
     "text": [
      "c:\\Users\\carly\\anaconda3\\envs\\dyspepsia_research\\lib\\site-packages\\pytorch_tabnet\\callbacks.py:172: UserWarning: Best weights from best epoch are automatically used!\n",
      "  warnings.warn(wrn_msg)\n",
      "c:\\Users\\carly\\anaconda3\\envs\\dyspepsia_research\\lib\\site-packages\\pytorch_tabnet\\abstract_model.py:82: UserWarning: Device used : cpu\n",
      "  warnings.warn(f\"Device used : {self.device}\")\n"
     ]
    },
    {
     "name": "stdout",
     "output_type": "stream",
     "text": [
      "epoch 1  | loss: 2.52942 | valid_accuracy: 0.25    |  0:00:00s\n",
      "epoch 2  | loss: 2.6464  | valid_accuracy: 0.29167 |  0:00:00s\n",
      "epoch 3  | loss: 1.95139 | valid_accuracy: 0.33333 |  0:00:00s\n",
      "epoch 4  | loss: 1.66951 | valid_accuracy: 0.25    |  0:00:00s\n",
      "epoch 5  | loss: 1.4689  | valid_accuracy: 0.29167 |  0:00:00s\n",
      "epoch 6  | loss: 1.30866 | valid_accuracy: 0.33333 |  0:00:00s\n",
      "epoch 7  | loss: 1.27617 | valid_accuracy: 0.33333 |  0:00:00s\n",
      "epoch 8  | loss: 1.42034 | valid_accuracy: 0.25    |  0:00:00s\n",
      "epoch 9  | loss: 1.37475 | valid_accuracy: 0.29167 |  0:00:00s\n",
      "epoch 10 | loss: 1.22836 | valid_accuracy: 0.33333 |  0:00:00s\n",
      "epoch 11 | loss: 1.3039  | valid_accuracy: 0.33333 |  0:00:00s\n",
      "epoch 12 | loss: 1.18727 | valid_accuracy: 0.375   |  0:00:00s\n",
      "epoch 13 | loss: 1.00702 | valid_accuracy: 0.33333 |  0:00:00s\n",
      "epoch 14 | loss: 1.04213 | valid_accuracy: 0.375   |  0:00:00s\n",
      "epoch 15 | loss: 0.89902 | valid_accuracy: 0.45833 |  0:00:00s\n",
      "epoch 16 | loss: 0.90355 | valid_accuracy: 0.41667 |  0:00:00s\n",
      "epoch 17 | loss: 0.8712  | valid_accuracy: 0.375   |  0:00:00s\n",
      "epoch 18 | loss: 0.8691  | valid_accuracy: 0.25    |  0:00:00s\n",
      "epoch 19 | loss: 0.87249 | valid_accuracy: 0.375   |  0:00:00s\n",
      "epoch 20 | loss: 0.81014 | valid_accuracy: 0.41667 |  0:00:00s\n",
      "epoch 21 | loss: 0.73696 | valid_accuracy: 0.41667 |  0:00:00s\n",
      "epoch 22 | loss: 0.73575 | valid_accuracy: 0.33333 |  0:00:00s\n",
      "epoch 23 | loss: 0.7164  | valid_accuracy: 0.375   |  0:00:00s\n",
      "epoch 24 | loss: 0.64256 | valid_accuracy: 0.41667 |  0:00:00s\n",
      "epoch 25 | loss: 0.70094 | valid_accuracy: 0.375   |  0:00:01s\n",
      "\n",
      "Early stopping occurred at epoch 25 with best_epoch = 15 and best_valid_accuracy = 0.45833\n",
      "epoch 0  | loss: 2.88816 | valid_accuracy: 0.30435 |  0:00:00s\n",
      "epoch 1  | loss: 2.64522 | valid_accuracy: 0.04348 |  0:00:00s\n",
      "epoch 2  | loss: 2.26849 | valid_accuracy: 0.13043 |  0:00:00s\n"
     ]
    },
    {
     "name": "stderr",
     "output_type": "stream",
     "text": [
      "c:\\Users\\carly\\anaconda3\\envs\\dyspepsia_research\\lib\\site-packages\\pytorch_tabnet\\callbacks.py:172: UserWarning: Best weights from best epoch are automatically used!\n",
      "  warnings.warn(wrn_msg)\n",
      "c:\\Users\\carly\\anaconda3\\envs\\dyspepsia_research\\lib\\site-packages\\pytorch_tabnet\\abstract_model.py:82: UserWarning: Device used : cpu\n",
      "  warnings.warn(f\"Device used : {self.device}\")\n"
     ]
    },
    {
     "name": "stdout",
     "output_type": "stream",
     "text": [
      "epoch 3  | loss: 2.28636 | valid_accuracy: 0.17391 |  0:00:00s\n",
      "epoch 4  | loss: 1.96931 | valid_accuracy: 0.13043 |  0:00:00s\n",
      "epoch 5  | loss: 1.89289 | valid_accuracy: 0.21739 |  0:00:00s\n",
      "epoch 6  | loss: 1.62278 | valid_accuracy: 0.26087 |  0:00:00s\n",
      "epoch 7  | loss: 1.54402 | valid_accuracy: 0.21739 |  0:00:00s\n",
      "epoch 8  | loss: 1.35617 | valid_accuracy: 0.26087 |  0:00:00s\n",
      "epoch 9  | loss: 1.12499 | valid_accuracy: 0.30435 |  0:00:00s\n",
      "epoch 10 | loss: 1.043   | valid_accuracy: 0.26087 |  0:00:00s\n",
      "\n",
      "Early stopping occurred at epoch 10 with best_epoch = 0 and best_valid_accuracy = 0.30435\n",
      "epoch 0  | loss: 2.75281 | valid_accuracy: 0.17391 |  0:00:00s\n",
      "epoch 1  | loss: 2.67103 | valid_accuracy: 0.3913  |  0:00:00s\n"
     ]
    },
    {
     "name": "stderr",
     "output_type": "stream",
     "text": [
      "c:\\Users\\carly\\anaconda3\\envs\\dyspepsia_research\\lib\\site-packages\\pytorch_tabnet\\callbacks.py:172: UserWarning: Best weights from best epoch are automatically used!\n",
      "  warnings.warn(wrn_msg)\n",
      "c:\\Users\\carly\\anaconda3\\envs\\dyspepsia_research\\lib\\site-packages\\pytorch_tabnet\\abstract_model.py:82: UserWarning: Device used : cpu\n",
      "  warnings.warn(f\"Device used : {self.device}\")\n"
     ]
    },
    {
     "name": "stdout",
     "output_type": "stream",
     "text": [
      "epoch 2  | loss: 2.25563 | valid_accuracy: 0.26087 |  0:00:00s\n",
      "epoch 3  | loss: 2.05064 | valid_accuracy: 0.30435 |  0:00:00s\n",
      "epoch 4  | loss: 1.62867 | valid_accuracy: 0.3913  |  0:00:00s\n",
      "epoch 5  | loss: 1.57131 | valid_accuracy: 0.30435 |  0:00:00s\n",
      "epoch 6  | loss: 1.391   | valid_accuracy: 0.52174 |  0:00:00s\n",
      "epoch 7  | loss: 1.36265 | valid_accuracy: 0.47826 |  0:00:00s\n",
      "epoch 8  | loss: 1.13985 | valid_accuracy: 0.34783 |  0:00:00s\n",
      "epoch 9  | loss: 1.24892 | valid_accuracy: 0.43478 |  0:00:00s\n",
      "epoch 10 | loss: 1.13833 | valid_accuracy: 0.43478 |  0:00:00s\n",
      "epoch 11 | loss: 1.00413 | valid_accuracy: 0.26087 |  0:00:00s\n",
      "epoch 12 | loss: 0.96898 | valid_accuracy: 0.34783 |  0:00:00s\n",
      "epoch 13 | loss: 0.87336 | valid_accuracy: 0.3913  |  0:00:00s\n",
      "epoch 14 | loss: 0.83675 | valid_accuracy: 0.43478 |  0:00:00s\n",
      "epoch 15 | loss: 0.69184 | valid_accuracy: 0.43478 |  0:00:00s\n",
      "epoch 16 | loss: 0.65023 | valid_accuracy: 0.3913  |  0:00:00s\n",
      "\n",
      "Early stopping occurred at epoch 16 with best_epoch = 6 and best_valid_accuracy = 0.52174\n",
      "평균 F1 Score: 0.4193\n",
      "\n",
      "현재 파라미터 조합: {'gamma': 1.5, 'lambda_sparse': 0.0001, 'n_a': 8, 'n_d': 16, 'n_steps': 5, 'optimizer_params': {'lr': 0.02}}\n",
      "epoch 0  | loss: 2.0011  | valid_accuracy: 0.41667 |  0:00:00s\n"
     ]
    },
    {
     "name": "stderr",
     "output_type": "stream",
     "text": [
      "c:\\Users\\carly\\anaconda3\\envs\\dyspepsia_research\\lib\\site-packages\\pytorch_tabnet\\callbacks.py:172: UserWarning: Best weights from best epoch are automatically used!\n",
      "  warnings.warn(wrn_msg)\n",
      "c:\\Users\\carly\\anaconda3\\envs\\dyspepsia_research\\lib\\site-packages\\pytorch_tabnet\\abstract_model.py:82: UserWarning: Device used : cpu\n",
      "  warnings.warn(f\"Device used : {self.device}\")\n"
     ]
    },
    {
     "name": "stdout",
     "output_type": "stream",
     "text": [
      "epoch 1  | loss: 1.33862 | valid_accuracy: 0.29167 |  0:00:00s\n",
      "epoch 2  | loss: 1.69895 | valid_accuracy: 0.45833 |  0:00:00s\n",
      "epoch 3  | loss: 1.14652 | valid_accuracy: 0.45833 |  0:00:00s\n",
      "epoch 4  | loss: 1.12353 | valid_accuracy: 0.375   |  0:00:00s\n",
      "epoch 5  | loss: 1.07018 | valid_accuracy: 0.41667 |  0:00:00s\n",
      "epoch 6  | loss: 1.22463 | valid_accuracy: 0.5     |  0:00:00s\n",
      "epoch 7  | loss: 1.23623 | valid_accuracy: 0.41667 |  0:00:00s\n",
      "epoch 8  | loss: 1.05342 | valid_accuracy: 0.45833 |  0:00:00s\n",
      "epoch 9  | loss: 1.20565 | valid_accuracy: 0.41667 |  0:00:00s\n",
      "epoch 10 | loss: 1.22539 | valid_accuracy: 0.5     |  0:00:00s\n",
      "epoch 11 | loss: 1.15547 | valid_accuracy: 0.58333 |  0:00:00s\n",
      "epoch 12 | loss: 1.22713 | valid_accuracy: 0.54167 |  0:00:00s\n",
      "epoch 13 | loss: 1.2158  | valid_accuracy: 0.5     |  0:00:00s\n",
      "epoch 14 | loss: 1.10319 | valid_accuracy: 0.29167 |  0:00:00s\n",
      "epoch 15 | loss: 1.1637  | valid_accuracy: 0.33333 |  0:00:01s\n",
      "epoch 16 | loss: 1.03877 | valid_accuracy: 0.33333 |  0:00:01s\n",
      "epoch 17 | loss: 0.94525 | valid_accuracy: 0.45833 |  0:00:01s\n",
      "epoch 18 | loss: 1.01196 | valid_accuracy: 0.41667 |  0:00:01s\n",
      "epoch 19 | loss: 0.93193 | valid_accuracy: 0.54167 |  0:00:01s\n",
      "epoch 20 | loss: 0.88423 | valid_accuracy: 0.5     |  0:00:01s\n",
      "epoch 21 | loss: 0.83961 | valid_accuracy: 0.45833 |  0:00:01s\n",
      "\n",
      "Early stopping occurred at epoch 21 with best_epoch = 11 and best_valid_accuracy = 0.58333\n",
      "epoch 0  | loss: 1.80223 | valid_accuracy: 0.30435 |  0:00:00s\n",
      "epoch 1  | loss: 1.71446 | valid_accuracy: 0.30435 |  0:00:00s\n"
     ]
    },
    {
     "name": "stderr",
     "output_type": "stream",
     "text": [
      "c:\\Users\\carly\\anaconda3\\envs\\dyspepsia_research\\lib\\site-packages\\pytorch_tabnet\\callbacks.py:172: UserWarning: Best weights from best epoch are automatically used!\n",
      "  warnings.warn(wrn_msg)\n",
      "c:\\Users\\carly\\anaconda3\\envs\\dyspepsia_research\\lib\\site-packages\\pytorch_tabnet\\abstract_model.py:82: UserWarning: Device used : cpu\n",
      "  warnings.warn(f\"Device used : {self.device}\")\n"
     ]
    },
    {
     "name": "stdout",
     "output_type": "stream",
     "text": [
      "epoch 2  | loss: 1.15962 | valid_accuracy: 0.30435 |  0:00:00s\n",
      "epoch 3  | loss: 1.16971 | valid_accuracy: 0.43478 |  0:00:00s\n",
      "epoch 4  | loss: 1.26163 | valid_accuracy: 0.34783 |  0:00:00s\n",
      "epoch 5  | loss: 1.40283 | valid_accuracy: 0.3913  |  0:00:00s\n",
      "epoch 6  | loss: 1.20779 | valid_accuracy: 0.47826 |  0:00:00s\n",
      "epoch 7  | loss: 1.45147 | valid_accuracy: 0.17391 |  0:00:00s\n",
      "epoch 8  | loss: 1.42614 | valid_accuracy: 0.21739 |  0:00:00s\n",
      "epoch 9  | loss: 1.11815 | valid_accuracy: 0.47826 |  0:00:00s\n",
      "epoch 10 | loss: 1.09798 | valid_accuracy: 0.34783 |  0:00:00s\n",
      "epoch 11 | loss: 1.11918 | valid_accuracy: 0.47826 |  0:00:00s\n",
      "epoch 12 | loss: 1.11048 | valid_accuracy: 0.6087  |  0:00:00s\n",
      "epoch 13 | loss: 1.16085 | valid_accuracy: 0.56522 |  0:00:00s\n",
      "epoch 14 | loss: 1.08217 | valid_accuracy: 0.6087  |  0:00:00s\n",
      "epoch 15 | loss: 1.15737 | valid_accuracy: 0.52174 |  0:00:01s\n",
      "epoch 16 | loss: 1.25968 | valid_accuracy: 0.47826 |  0:00:01s\n",
      "epoch 17 | loss: 1.03811 | valid_accuracy: 0.43478 |  0:00:01s\n",
      "epoch 18 | loss: 1.11698 | valid_accuracy: 0.47826 |  0:00:01s\n",
      "epoch 19 | loss: 1.12667 | valid_accuracy: 0.43478 |  0:00:01s\n",
      "epoch 20 | loss: 1.16789 | valid_accuracy: 0.3913  |  0:00:01s\n",
      "epoch 21 | loss: 1.10001 | valid_accuracy: 0.47826 |  0:00:01s\n",
      "epoch 22 | loss: 0.90506 | valid_accuracy: 0.43478 |  0:00:01s\n",
      "\n",
      "Early stopping occurred at epoch 22 with best_epoch = 12 and best_valid_accuracy = 0.6087\n",
      "epoch 0  | loss: 1.80807 | valid_accuracy: 0.30435 |  0:00:00s\n",
      "epoch 1  | loss: 1.73274 | valid_accuracy: 0.30435 |  0:00:00s\n"
     ]
    },
    {
     "name": "stderr",
     "output_type": "stream",
     "text": [
      "c:\\Users\\carly\\anaconda3\\envs\\dyspepsia_research\\lib\\site-packages\\pytorch_tabnet\\callbacks.py:172: UserWarning: Best weights from best epoch are automatically used!\n",
      "  warnings.warn(wrn_msg)\n",
      "c:\\Users\\carly\\anaconda3\\envs\\dyspepsia_research\\lib\\site-packages\\pytorch_tabnet\\abstract_model.py:82: UserWarning: Device used : cpu\n",
      "  warnings.warn(f\"Device used : {self.device}\")\n"
     ]
    },
    {
     "name": "stdout",
     "output_type": "stream",
     "text": [
      "epoch 2  | loss: 1.28496 | valid_accuracy: 0.3913  |  0:00:00s\n",
      "epoch 3  | loss: 1.52819 | valid_accuracy: 0.47826 |  0:00:00s\n",
      "epoch 4  | loss: 1.34492 | valid_accuracy: 0.3913  |  0:00:00s\n",
      "epoch 5  | loss: 1.32967 | valid_accuracy: 0.34783 |  0:00:00s\n",
      "epoch 6  | loss: 1.36437 | valid_accuracy: 0.26087 |  0:00:00s\n",
      "epoch 7  | loss: 1.10725 | valid_accuracy: 0.21739 |  0:00:00s\n",
      "epoch 8  | loss: 1.1294  | valid_accuracy: 0.34783 |  0:00:00s\n",
      "epoch 9  | loss: 1.10616 | valid_accuracy: 0.43478 |  0:00:00s\n",
      "epoch 10 | loss: 1.29989 | valid_accuracy: 0.34783 |  0:00:00s\n",
      "epoch 11 | loss: 1.19464 | valid_accuracy: 0.30435 |  0:00:00s\n",
      "epoch 12 | loss: 1.00027 | valid_accuracy: 0.3913  |  0:00:00s\n",
      "epoch 13 | loss: 1.00312 | valid_accuracy: 0.34783 |  0:00:00s\n",
      "\n",
      "Early stopping occurred at epoch 13 with best_epoch = 3 and best_valid_accuracy = 0.47826\n"
     ]
    },
    {
     "name": "stderr",
     "output_type": "stream",
     "text": [
      "c:\\Users\\carly\\anaconda3\\envs\\dyspepsia_research\\lib\\site-packages\\pytorch_tabnet\\callbacks.py:172: UserWarning: Best weights from best epoch are automatically used!\n",
      "  warnings.warn(wrn_msg)\n",
      "c:\\Users\\carly\\anaconda3\\envs\\dyspepsia_research\\lib\\site-packages\\pytorch_tabnet\\abstract_model.py:82: UserWarning: Device used : cpu\n",
      "  warnings.warn(f\"Device used : {self.device}\")\n"
     ]
    },
    {
     "name": "stdout",
     "output_type": "stream",
     "text": [
      "평균 F1 Score: 0.5146\n",
      "\n",
      "현재 파라미터 조합: {'gamma': 1.5, 'lambda_sparse': 0.0001, 'n_a': 8, 'n_d': 16, 'n_steps': 5, 'optimizer_params': {'lr': 0.01}}\n",
      "epoch 0  | loss: 2.0011  | valid_accuracy: 0.45833 |  0:00:00s\n",
      "epoch 1  | loss: 1.58575 | valid_accuracy: 0.41667 |  0:00:00s\n",
      "epoch 2  | loss: 1.47494 | valid_accuracy: 0.45833 |  0:00:00s\n",
      "epoch 3  | loss: 1.31472 | valid_accuracy: 0.5     |  0:00:00s\n",
      "epoch 4  | loss: 1.25485 | valid_accuracy: 0.33333 |  0:00:00s\n",
      "epoch 5  | loss: 1.45961 | valid_accuracy: 0.20833 |  0:00:00s\n",
      "epoch 6  | loss: 1.1114  | valid_accuracy: 0.25    |  0:00:00s\n",
      "epoch 7  | loss: 1.20915 | valid_accuracy: 0.16667 |  0:00:00s\n",
      "epoch 8  | loss: 1.43628 | valid_accuracy: 0.5     |  0:00:00s\n",
      "epoch 9  | loss: 1.20569 | valid_accuracy: 0.5     |  0:00:00s\n",
      "epoch 10 | loss: 1.30161 | valid_accuracy: 0.54167 |  0:00:00s\n",
      "epoch 11 | loss: 1.35055 | valid_accuracy: 0.54167 |  0:00:00s\n",
      "epoch 12 | loss: 1.20643 | valid_accuracy: 0.54167 |  0:00:00s\n",
      "epoch 13 | loss: 1.20171 | valid_accuracy: 0.54167 |  0:00:00s\n",
      "epoch 14 | loss: 1.08423 | valid_accuracy: 0.54167 |  0:00:00s\n",
      "epoch 15 | loss: 1.03397 | valid_accuracy: 0.58333 |  0:00:00s\n",
      "epoch 16 | loss: 1.17061 | valid_accuracy: 0.54167 |  0:00:01s\n",
      "epoch 17 | loss: 1.15419 | valid_accuracy: 0.41667 |  0:00:01s\n",
      "epoch 18 | loss: 1.3554  | valid_accuracy: 0.625   |  0:00:01s\n",
      "epoch 19 | loss: 1.02696 | valid_accuracy: 0.54167 |  0:00:01s\n",
      "epoch 20 | loss: 1.08466 | valid_accuracy: 0.625   |  0:00:01s\n",
      "epoch 21 | loss: 1.0368  | valid_accuracy: 0.5     |  0:00:01s\n",
      "epoch 22 | loss: 1.00399 | valid_accuracy: 0.5     |  0:00:01s\n",
      "epoch 23 | loss: 0.96579 | valid_accuracy: 0.5     |  0:00:01s\n",
      "epoch 24 | loss: 0.98286 | valid_accuracy: 0.5     |  0:00:01s\n",
      "epoch 25 | loss: 1.09899 | valid_accuracy: 0.5     |  0:00:01s\n",
      "epoch 26 | loss: 0.92802 | valid_accuracy: 0.5     |  0:00:01s\n",
      "epoch 27 | loss: 0.92357 | valid_accuracy: 0.54167 |  0:00:01s\n",
      "epoch 28 | loss: 0.89818 | valid_accuracy: 0.5     |  0:00:01s\n",
      "\n",
      "Early stopping occurred at epoch 28 with best_epoch = 18 and best_valid_accuracy = 0.625\n",
      "epoch 0  | loss: 1.80223 | valid_accuracy: 0.34783 |  0:00:00s\n"
     ]
    },
    {
     "name": "stderr",
     "output_type": "stream",
     "text": [
      "c:\\Users\\carly\\anaconda3\\envs\\dyspepsia_research\\lib\\site-packages\\pytorch_tabnet\\callbacks.py:172: UserWarning: Best weights from best epoch are automatically used!\n",
      "  warnings.warn(wrn_msg)\n",
      "c:\\Users\\carly\\anaconda3\\envs\\dyspepsia_research\\lib\\site-packages\\pytorch_tabnet\\abstract_model.py:82: UserWarning: Device used : cpu\n",
      "  warnings.warn(f\"Device used : {self.device}\")\n"
     ]
    },
    {
     "name": "stdout",
     "output_type": "stream",
     "text": [
      "epoch 1  | loss: 1.58076 | valid_accuracy: 0.34783 |  0:00:00s\n",
      "epoch 2  | loss: 1.43207 | valid_accuracy: 0.26087 |  0:00:00s\n",
      "epoch 3  | loss: 1.36739 | valid_accuracy: 0.34783 |  0:00:00s\n",
      "epoch 4  | loss: 1.45762 | valid_accuracy: 0.30435 |  0:00:00s\n",
      "epoch 5  | loss: 1.33606 | valid_accuracy: 0.3913  |  0:00:00s\n",
      "epoch 6  | loss: 1.27581 | valid_accuracy: 0.3913  |  0:00:00s\n",
      "epoch 7  | loss: 1.35112 | valid_accuracy: 0.30435 |  0:00:00s\n",
      "epoch 8  | loss: 1.49616 | valid_accuracy: 0.30435 |  0:00:00s\n",
      "epoch 9  | loss: 1.40062 | valid_accuracy: 0.3913  |  0:00:00s\n",
      "epoch 10 | loss: 1.24714 | valid_accuracy: 0.43478 |  0:00:00s\n",
      "epoch 11 | loss: 1.35384 | valid_accuracy: 0.47826 |  0:00:00s\n",
      "epoch 12 | loss: 1.26873 | valid_accuracy: 0.52174 |  0:00:00s\n",
      "epoch 13 | loss: 1.2728  | valid_accuracy: 0.56522 |  0:00:00s\n",
      "epoch 14 | loss: 1.13217 | valid_accuracy: 0.52174 |  0:00:00s\n",
      "epoch 15 | loss: 1.16382 | valid_accuracy: 0.56522 |  0:00:01s\n",
      "epoch 16 | loss: 1.17452 | valid_accuracy: 0.47826 |  0:00:01s\n",
      "epoch 17 | loss: 1.14846 | valid_accuracy: 0.47826 |  0:00:01s\n",
      "epoch 18 | loss: 1.10365 | valid_accuracy: 0.56522 |  0:00:01s\n",
      "epoch 19 | loss: 1.0615  | valid_accuracy: 0.52174 |  0:00:01s\n",
      "epoch 20 | loss: 1.05994 | valid_accuracy: 0.52174 |  0:00:01s\n",
      "epoch 21 | loss: 1.09283 | valid_accuracy: 0.56522 |  0:00:01s\n",
      "epoch 22 | loss: 1.02478 | valid_accuracy: 0.52174 |  0:00:01s\n",
      "epoch 23 | loss: 1.03282 | valid_accuracy: 0.47826 |  0:00:01s\n",
      "\n",
      "Early stopping occurred at epoch 23 with best_epoch = 13 and best_valid_accuracy = 0.56522\n"
     ]
    },
    {
     "name": "stderr",
     "output_type": "stream",
     "text": [
      "c:\\Users\\carly\\anaconda3\\envs\\dyspepsia_research\\lib\\site-packages\\pytorch_tabnet\\callbacks.py:172: UserWarning: Best weights from best epoch are automatically used!\n",
      "  warnings.warn(wrn_msg)\n",
      "c:\\Users\\carly\\anaconda3\\envs\\dyspepsia_research\\lib\\site-packages\\pytorch_tabnet\\abstract_model.py:82: UserWarning: Device used : cpu\n",
      "  warnings.warn(f\"Device used : {self.device}\")\n"
     ]
    },
    {
     "name": "stdout",
     "output_type": "stream",
     "text": [
      "epoch 0  | loss: 1.80807 | valid_accuracy: 0.34783 |  0:00:00s\n",
      "epoch 1  | loss: 1.69795 | valid_accuracy: 0.52174 |  0:00:00s\n",
      "epoch 2  | loss: 1.59618 | valid_accuracy: 0.13043 |  0:00:00s\n",
      "epoch 3  | loss: 1.51402 | valid_accuracy: 0.52174 |  0:00:00s\n",
      "epoch 4  | loss: 1.34811 | valid_accuracy: 0.56522 |  0:00:00s\n",
      "epoch 5  | loss: 1.38992 | valid_accuracy: 0.30435 |  0:00:00s\n",
      "epoch 6  | loss: 1.24979 | valid_accuracy: 0.43478 |  0:00:00s\n",
      "epoch 7  | loss: 1.26698 | valid_accuracy: 0.6087  |  0:00:00s\n",
      "epoch 8  | loss: 1.36573 | valid_accuracy: 0.34783 |  0:00:00s\n",
      "epoch 9  | loss: 1.37945 | valid_accuracy: 0.47826 |  0:00:00s\n",
      "epoch 10 | loss: 1.35347 | valid_accuracy: 0.47826 |  0:00:00s\n",
      "epoch 11 | loss: 1.15074 | valid_accuracy: 0.52174 |  0:00:00s\n",
      "epoch 12 | loss: 1.11237 | valid_accuracy: 0.52174 |  0:00:00s\n",
      "epoch 13 | loss: 1.1102  | valid_accuracy: 0.43478 |  0:00:00s\n",
      "epoch 14 | loss: 1.04712 | valid_accuracy: 0.47826 |  0:00:00s\n",
      "epoch 15 | loss: 1.14189 | valid_accuracy: 0.52174 |  0:00:01s\n",
      "epoch 16 | loss: 0.98923 | valid_accuracy: 0.52174 |  0:00:01s\n",
      "epoch 17 | loss: 1.0103  | valid_accuracy: 0.30435 |  0:00:01s\n",
      "\n",
      "Early stopping occurred at epoch 17 with best_epoch = 7 and best_valid_accuracy = 0.6087\n",
      "평균 F1 Score: 0.5444\n",
      "\n",
      "현재 파라미터 조합: {'gamma': 1.5, 'lambda_sparse': 0.0001, 'n_a': 16, 'n_d': 8, 'n_steps': 3, 'optimizer_params': {'lr': 0.02}}\n",
      "epoch 0  | loss: 1.59035 | valid_accuracy: 0.33333 |  0:00:00s\n",
      "epoch 1  | loss: 1.44844 | valid_accuracy: 0.29167 |  0:00:00s\n"
     ]
    },
    {
     "name": "stderr",
     "output_type": "stream",
     "text": [
      "c:\\Users\\carly\\anaconda3\\envs\\dyspepsia_research\\lib\\site-packages\\pytorch_tabnet\\callbacks.py:172: UserWarning: Best weights from best epoch are automatically used!\n",
      "  warnings.warn(wrn_msg)\n",
      "c:\\Users\\carly\\anaconda3\\envs\\dyspepsia_research\\lib\\site-packages\\pytorch_tabnet\\abstract_model.py:82: UserWarning: Device used : cpu\n",
      "  warnings.warn(f\"Device used : {self.device}\")\n"
     ]
    },
    {
     "name": "stdout",
     "output_type": "stream",
     "text": [
      "epoch 2  | loss: 1.33375 | valid_accuracy: 0.375   |  0:00:00s\n",
      "epoch 3  | loss: 1.12247 | valid_accuracy: 0.29167 |  0:00:00s\n",
      "epoch 4  | loss: 1.25508 | valid_accuracy: 0.29167 |  0:00:00s\n",
      "epoch 5  | loss: 0.99772 | valid_accuracy: 0.33333 |  0:00:00s\n",
      "epoch 6  | loss: 0.87983 | valid_accuracy: 0.375   |  0:00:00s\n",
      "epoch 7  | loss: 0.81222 | valid_accuracy: 0.375   |  0:00:00s\n",
      "epoch 8  | loss: 0.78896 | valid_accuracy: 0.41667 |  0:00:00s\n",
      "epoch 9  | loss: 0.77657 | valid_accuracy: 0.33333 |  0:00:00s\n",
      "epoch 10 | loss: 0.70011 | valid_accuracy: 0.45833 |  0:00:00s\n",
      "epoch 11 | loss: 0.70907 | valid_accuracy: 0.5     |  0:00:00s\n",
      "epoch 12 | loss: 0.65232 | valid_accuracy: 0.5     |  0:00:00s\n",
      "epoch 13 | loss: 0.61697 | valid_accuracy: 0.5     |  0:00:00s\n",
      "epoch 14 | loss: 0.53544 | valid_accuracy: 0.41667 |  0:00:00s\n",
      "epoch 15 | loss: 0.46508 | valid_accuracy: 0.45833 |  0:00:00s\n",
      "epoch 16 | loss: 0.38799 | valid_accuracy: 0.375   |  0:00:00s\n",
      "epoch 17 | loss: 0.32479 | valid_accuracy: 0.33333 |  0:00:00s\n",
      "epoch 18 | loss: 0.26628 | valid_accuracy: 0.25    |  0:00:00s\n",
      "epoch 19 | loss: 0.22337 | valid_accuracy: 0.29167 |  0:00:00s\n",
      "epoch 20 | loss: 0.17609 | valid_accuracy: 0.54167 |  0:00:00s\n",
      "epoch 21 | loss: 0.14506 | valid_accuracy: 0.375   |  0:00:00s\n",
      "epoch 22 | loss: 0.12019 | valid_accuracy: 0.33333 |  0:00:00s\n",
      "epoch 23 | loss: 0.08264 | valid_accuracy: 0.20833 |  0:00:00s\n",
      "epoch 24 | loss: 0.07907 | valid_accuracy: 0.08333 |  0:00:01s\n",
      "epoch 25 | loss: 0.05885 | valid_accuracy: 0.16667 |  0:00:01s\n",
      "epoch 26 | loss: 0.05331 | valid_accuracy: 0.16667 |  0:00:01s\n",
      "epoch 27 | loss: 0.04073 | valid_accuracy: 0.25    |  0:00:01s\n",
      "epoch 28 | loss: 0.02952 | valid_accuracy: 0.16667 |  0:00:01s\n",
      "epoch 29 | loss: 0.02864 | valid_accuracy: 0.20833 |  0:00:01s\n",
      "epoch 30 | loss: 0.0253  | valid_accuracy: 0.16667 |  0:00:01s\n",
      "\n",
      "Early stopping occurred at epoch 30 with best_epoch = 20 and best_valid_accuracy = 0.54167\n",
      "epoch 0  | loss: 1.5687  | valid_accuracy: 0.17391 |  0:00:00s\n",
      "epoch 1  | loss: 1.63038 | valid_accuracy: 0.30435 |  0:00:00s\n"
     ]
    },
    {
     "name": "stderr",
     "output_type": "stream",
     "text": [
      "c:\\Users\\carly\\anaconda3\\envs\\dyspepsia_research\\lib\\site-packages\\pytorch_tabnet\\callbacks.py:172: UserWarning: Best weights from best epoch are automatically used!\n",
      "  warnings.warn(wrn_msg)\n",
      "c:\\Users\\carly\\anaconda3\\envs\\dyspepsia_research\\lib\\site-packages\\pytorch_tabnet\\abstract_model.py:82: UserWarning: Device used : cpu\n",
      "  warnings.warn(f\"Device used : {self.device}\")\n"
     ]
    },
    {
     "name": "stdout",
     "output_type": "stream",
     "text": [
      "epoch 2  | loss: 1.15679 | valid_accuracy: 0.34783 |  0:00:00s\n",
      "epoch 3  | loss: 1.2261  | valid_accuracy: 0.26087 |  0:00:00s\n",
      "epoch 4  | loss: 1.03409 | valid_accuracy: 0.34783 |  0:00:00s\n",
      "epoch 5  | loss: 0.95771 | valid_accuracy: 0.47826 |  0:00:00s\n",
      "epoch 6  | loss: 0.91313 | valid_accuracy: 0.30435 |  0:00:00s\n",
      "epoch 7  | loss: 0.85495 | valid_accuracy: 0.30435 |  0:00:00s\n",
      "epoch 8  | loss: 0.836   | valid_accuracy: 0.30435 |  0:00:00s\n",
      "epoch 9  | loss: 0.8223  | valid_accuracy: 0.34783 |  0:00:00s\n",
      "epoch 10 | loss: 0.76296 | valid_accuracy: 0.52174 |  0:00:00s\n",
      "epoch 11 | loss: 0.66474 | valid_accuracy: 0.52174 |  0:00:00s\n",
      "epoch 12 | loss: 0.64051 | valid_accuracy: 0.43478 |  0:00:00s\n",
      "epoch 13 | loss: 0.57733 | valid_accuracy: 0.56522 |  0:00:00s\n",
      "epoch 14 | loss: 0.48915 | valid_accuracy: 0.52174 |  0:00:00s\n",
      "epoch 15 | loss: 0.45754 | valid_accuracy: 0.43478 |  0:00:00s\n",
      "epoch 16 | loss: 0.4293  | valid_accuracy: 0.52174 |  0:00:00s\n",
      "epoch 17 | loss: 0.38177 | valid_accuracy: 0.43478 |  0:00:00s\n",
      "epoch 18 | loss: 0.40758 | valid_accuracy: 0.3913  |  0:00:00s\n",
      "epoch 19 | loss: 0.46516 | valid_accuracy: 0.43478 |  0:00:00s\n",
      "epoch 20 | loss: 0.42699 | valid_accuracy: 0.3913  |  0:00:00s\n",
      "epoch 21 | loss: 0.35072 | valid_accuracy: 0.3913  |  0:00:00s\n",
      "epoch 22 | loss: 0.30878 | valid_accuracy: 0.43478 |  0:00:00s\n",
      "epoch 23 | loss: 0.19489 | valid_accuracy: 0.47826 |  0:00:00s\n",
      "\n",
      "Early stopping occurred at epoch 23 with best_epoch = 13 and best_valid_accuracy = 0.56522\n"
     ]
    },
    {
     "name": "stderr",
     "output_type": "stream",
     "text": [
      "c:\\Users\\carly\\anaconda3\\envs\\dyspepsia_research\\lib\\site-packages\\pytorch_tabnet\\callbacks.py:172: UserWarning: Best weights from best epoch are automatically used!\n",
      "  warnings.warn(wrn_msg)\n",
      "c:\\Users\\carly\\anaconda3\\envs\\dyspepsia_research\\lib\\site-packages\\pytorch_tabnet\\abstract_model.py:82: UserWarning: Device used : cpu\n",
      "  warnings.warn(f\"Device used : {self.device}\")\n"
     ]
    },
    {
     "name": "stdout",
     "output_type": "stream",
     "text": [
      "epoch 0  | loss: 1.40516 | valid_accuracy: 0.26087 |  0:00:00s\n",
      "epoch 1  | loss: 1.41655 | valid_accuracy: 0.3913  |  0:00:00s\n",
      "epoch 2  | loss: 1.42418 | valid_accuracy: 0.3913  |  0:00:00s\n",
      "epoch 3  | loss: 1.29973 | valid_accuracy: 0.3913  |  0:00:00s\n",
      "epoch 4  | loss: 1.10134 | valid_accuracy: 0.43478 |  0:00:00s\n",
      "epoch 5  | loss: 1.18964 | valid_accuracy: 0.34783 |  0:00:00s\n",
      "epoch 6  | loss: 1.0145  | valid_accuracy: 0.47826 |  0:00:00s\n",
      "epoch 7  | loss: 0.94611 | valid_accuracy: 0.43478 |  0:00:00s\n",
      "epoch 8  | loss: 0.91582 | valid_accuracy: 0.34783 |  0:00:00s\n",
      "epoch 9  | loss: 0.82548 | valid_accuracy: 0.34783 |  0:00:00s\n",
      "epoch 10 | loss: 1.01128 | valid_accuracy: 0.34783 |  0:00:00s\n",
      "epoch 11 | loss: 0.89367 | valid_accuracy: 0.26087 |  0:00:00s\n",
      "epoch 12 | loss: 0.82848 | valid_accuracy: 0.21739 |  0:00:00s\n",
      "epoch 13 | loss: 0.66974 | valid_accuracy: 0.34783 |  0:00:00s\n",
      "epoch 14 | loss: 0.653   | valid_accuracy: 0.3913  |  0:00:00s\n",
      "epoch 15 | loss: 0.58948 | valid_accuracy: 0.47826 |  0:00:00s\n",
      "epoch 16 | loss: 0.54133 | valid_accuracy: 0.52174 |  0:00:00s\n",
      "epoch 17 | loss: 0.50286 | valid_accuracy: 0.52174 |  0:00:00s\n",
      "epoch 18 | loss: 0.4488  | valid_accuracy: 0.52174 |  0:00:00s\n",
      "epoch 19 | loss: 0.44198 | valid_accuracy: 0.47826 |  0:00:00s\n",
      "epoch 20 | loss: 0.43736 | valid_accuracy: 0.43478 |  0:00:00s\n",
      "epoch 21 | loss: 0.35845 | valid_accuracy: 0.47826 |  0:00:00s\n",
      "epoch 22 | loss: 0.3331  | valid_accuracy: 0.43478 |  0:00:00s\n",
      "epoch 23 | loss: 0.28486 | valid_accuracy: 0.47826 |  0:00:00s\n",
      "epoch 24 | loss: 0.20752 | valid_accuracy: 0.6087  |  0:00:00s\n",
      "epoch 25 | loss: 0.18417 | valid_accuracy: 0.6087  |  0:00:01s\n",
      "epoch 26 | loss: 0.13485 | valid_accuracy: 0.47826 |  0:00:01s\n",
      "epoch 27 | loss: 0.12017 | valid_accuracy: 0.52174 |  0:00:01s\n",
      "epoch 28 | loss: 0.09845 | valid_accuracy: 0.47826 |  0:00:01s\n",
      "epoch 29 | loss: 0.07752 | valid_accuracy: 0.52174 |  0:00:01s\n",
      "epoch 30 | loss: 0.05409 | valid_accuracy: 0.56522 |  0:00:01s\n",
      "epoch 31 | loss: 0.08069 | valid_accuracy: 0.52174 |  0:00:01s\n",
      "epoch 32 | loss: 0.05431 | valid_accuracy: 0.47826 |  0:00:01s\n",
      "epoch 33 | loss: 0.0368  | valid_accuracy: 0.52174 |  0:00:01s\n",
      "epoch 34 | loss: 0.01653 | valid_accuracy: 0.47826 |  0:00:01s\n",
      "\n",
      "Early stopping occurred at epoch 34 with best_epoch = 24 and best_valid_accuracy = 0.6087\n"
     ]
    },
    {
     "name": "stderr",
     "output_type": "stream",
     "text": [
      "c:\\Users\\carly\\anaconda3\\envs\\dyspepsia_research\\lib\\site-packages\\pytorch_tabnet\\callbacks.py:172: UserWarning: Best weights from best epoch are automatically used!\n",
      "  warnings.warn(wrn_msg)\n",
      "c:\\Users\\carly\\anaconda3\\envs\\dyspepsia_research\\lib\\site-packages\\pytorch_tabnet\\abstract_model.py:82: UserWarning: Device used : cpu\n",
      "  warnings.warn(f\"Device used : {self.device}\")\n"
     ]
    },
    {
     "name": "stdout",
     "output_type": "stream",
     "text": [
      "평균 F1 Score: 0.5536\n",
      "\n",
      "현재 파라미터 조합: {'gamma': 1.5, 'lambda_sparse': 0.0001, 'n_a': 16, 'n_d': 8, 'n_steps': 3, 'optimizer_params': {'lr': 0.01}}\n",
      "epoch 0  | loss: 1.59035 | valid_accuracy: 0.20833 |  0:00:00s\n",
      "epoch 1  | loss: 1.37652 | valid_accuracy: 0.29167 |  0:00:00s\n",
      "epoch 2  | loss: 1.54633 | valid_accuracy: 0.33333 |  0:00:00s\n",
      "epoch 3  | loss: 1.44414 | valid_accuracy: 0.25    |  0:00:00s\n",
      "epoch 4  | loss: 1.12694 | valid_accuracy: 0.29167 |  0:00:00s\n",
      "epoch 5  | loss: 1.25646 | valid_accuracy: 0.29167 |  0:00:00s\n",
      "epoch 6  | loss: 1.02371 | valid_accuracy: 0.45833 |  0:00:00s\n",
      "epoch 7  | loss: 0.98038 | valid_accuracy: 0.41667 |  0:00:00s\n",
      "epoch 8  | loss: 0.89633 | valid_accuracy: 0.41667 |  0:00:00s\n",
      "epoch 9  | loss: 0.89411 | valid_accuracy: 0.33333 |  0:00:00s\n",
      "epoch 10 | loss: 0.90919 | valid_accuracy: 0.5     |  0:00:00s\n",
      "epoch 11 | loss: 0.74561 | valid_accuracy: 0.54167 |  0:00:00s\n",
      "epoch 12 | loss: 0.69146 | valid_accuracy: 0.33333 |  0:00:00s\n",
      "epoch 13 | loss: 0.62362 | valid_accuracy: 0.45833 |  0:00:00s\n",
      "epoch 14 | loss: 0.57293 | valid_accuracy: 0.41667 |  0:00:00s\n",
      "epoch 15 | loss: 0.49989 | valid_accuracy: 0.45833 |  0:00:00s\n",
      "epoch 16 | loss: 0.52388 | valid_accuracy: 0.45833 |  0:00:00s\n",
      "epoch 17 | loss: 0.46922 | valid_accuracy: 0.5     |  0:00:00s\n",
      "epoch 18 | loss: 0.4137  | valid_accuracy: 0.5     |  0:00:00s\n",
      "epoch 19 | loss: 0.3541  | valid_accuracy: 0.5     |  0:00:00s\n",
      "epoch 20 | loss: 0.32033 | valid_accuracy: 0.45833 |  0:00:00s\n",
      "epoch 21 | loss: 0.2896  | valid_accuracy: 0.45833 |  0:00:00s\n",
      "\n",
      "Early stopping occurred at epoch 21 with best_epoch = 11 and best_valid_accuracy = 0.54167\n"
     ]
    },
    {
     "name": "stderr",
     "output_type": "stream",
     "text": [
      "c:\\Users\\carly\\anaconda3\\envs\\dyspepsia_research\\lib\\site-packages\\pytorch_tabnet\\callbacks.py:172: UserWarning: Best weights from best epoch are automatically used!\n",
      "  warnings.warn(wrn_msg)\n",
      "c:\\Users\\carly\\anaconda3\\envs\\dyspepsia_research\\lib\\site-packages\\pytorch_tabnet\\abstract_model.py:82: UserWarning: Device used : cpu\n",
      "  warnings.warn(f\"Device used : {self.device}\")\n"
     ]
    },
    {
     "name": "stdout",
     "output_type": "stream",
     "text": [
      "epoch 0  | loss: 1.5687  | valid_accuracy: 0.43478 |  0:00:00s\n",
      "epoch 1  | loss: 1.47271 | valid_accuracy: 0.13043 |  0:00:00s\n",
      "epoch 2  | loss: 1.29814 | valid_accuracy: 0.26087 |  0:00:00s\n",
      "epoch 3  | loss: 1.30195 | valid_accuracy: 0.21739 |  0:00:00s\n",
      "epoch 4  | loss: 1.20772 | valid_accuracy: 0.21739 |  0:00:00s\n",
      "epoch 5  | loss: 1.07169 | valid_accuracy: 0.21739 |  0:00:00s\n",
      "epoch 6  | loss: 1.08894 | valid_accuracy: 0.21739 |  0:00:00s\n",
      "epoch 7  | loss: 1.09585 | valid_accuracy: 0.26087 |  0:00:00s\n",
      "epoch 8  | loss: 0.90994 | valid_accuracy: 0.17391 |  0:00:00s\n",
      "epoch 9  | loss: 1.03156 | valid_accuracy: 0.47826 |  0:00:00s\n",
      "epoch 10 | loss: 1.01795 | valid_accuracy: 0.43478 |  0:00:00s\n",
      "epoch 11 | loss: 0.9176  | valid_accuracy: 0.30435 |  0:00:00s\n",
      "epoch 12 | loss: 0.88078 | valid_accuracy: 0.47826 |  0:00:00s\n",
      "epoch 13 | loss: 0.72794 | valid_accuracy: 0.52174 |  0:00:00s\n",
      "epoch 14 | loss: 0.72565 | valid_accuracy: 0.47826 |  0:00:00s\n",
      "epoch 15 | loss: 0.6566  | valid_accuracy: 0.56522 |  0:00:00s\n",
      "epoch 16 | loss: 0.60904 | valid_accuracy: 0.43478 |  0:00:00s\n",
      "epoch 17 | loss: 0.63771 | valid_accuracy: 0.47826 |  0:00:00s\n",
      "epoch 18 | loss: 0.64549 | valid_accuracy: 0.43478 |  0:00:00s\n",
      "epoch 19 | loss: 0.58368 | valid_accuracy: 0.47826 |  0:00:00s\n",
      "epoch 20 | loss: 0.5163  | valid_accuracy: 0.52174 |  0:00:00s\n",
      "epoch 21 | loss: 0.48673 | valid_accuracy: 0.47826 |  0:00:00s\n",
      "epoch 22 | loss: 0.44304 | valid_accuracy: 0.52174 |  0:00:00s\n",
      "epoch 23 | loss: 0.40654 | valid_accuracy: 0.47826 |  0:00:00s\n",
      "epoch 24 | loss: 0.35768 | valid_accuracy: 0.3913  |  0:00:01s\n",
      "epoch 25 | loss: 0.32935 | valid_accuracy: 0.3913  |  0:00:01s\n",
      "\n",
      "Early stopping occurred at epoch 25 with best_epoch = 15 and best_valid_accuracy = 0.56522\n",
      "epoch 0  | loss: 1.40516 | valid_accuracy: 0.17391 |  0:00:00s\n",
      "epoch 1  | loss: 1.38457 | valid_accuracy: 0.26087 |  0:00:00s\n"
     ]
    },
    {
     "name": "stderr",
     "output_type": "stream",
     "text": [
      "c:\\Users\\carly\\anaconda3\\envs\\dyspepsia_research\\lib\\site-packages\\pytorch_tabnet\\callbacks.py:172: UserWarning: Best weights from best epoch are automatically used!\n",
      "  warnings.warn(wrn_msg)\n",
      "c:\\Users\\carly\\anaconda3\\envs\\dyspepsia_research\\lib\\site-packages\\pytorch_tabnet\\abstract_model.py:82: UserWarning: Device used : cpu\n",
      "  warnings.warn(f\"Device used : {self.device}\")\n"
     ]
    },
    {
     "name": "stdout",
     "output_type": "stream",
     "text": [
      "epoch 2  | loss: 1.32739 | valid_accuracy: 0.26087 |  0:00:00s\n",
      "epoch 3  | loss: 1.33536 | valid_accuracy: 0.34783 |  0:00:00s\n",
      "epoch 4  | loss: 1.21067 | valid_accuracy: 0.43478 |  0:00:00s\n",
      "epoch 5  | loss: 1.21374 | valid_accuracy: 0.56522 |  0:00:00s\n",
      "epoch 6  | loss: 1.02392 | valid_accuracy: 0.3913  |  0:00:00s\n",
      "epoch 7  | loss: 1.11193 | valid_accuracy: 0.43478 |  0:00:00s\n",
      "epoch 8  | loss: 1.09188 | valid_accuracy: 0.47826 |  0:00:00s\n",
      "epoch 9  | loss: 1.12173 | valid_accuracy: 0.43478 |  0:00:00s\n",
      "epoch 10 | loss: 0.97745 | valid_accuracy: 0.47826 |  0:00:00s\n",
      "epoch 11 | loss: 0.89282 | valid_accuracy: 0.56522 |  0:00:00s\n",
      "epoch 12 | loss: 0.78409 | valid_accuracy: 0.56522 |  0:00:00s\n",
      "epoch 13 | loss: 0.72654 | valid_accuracy: 0.47826 |  0:00:00s\n",
      "epoch 14 | loss: 0.64405 | valid_accuracy: 0.47826 |  0:00:00s\n",
      "epoch 15 | loss: 0.71386 | valid_accuracy: 0.47826 |  0:00:00s\n",
      "\n",
      "Early stopping occurred at epoch 15 with best_epoch = 5 and best_valid_accuracy = 0.56522\n",
      "평균 F1 Score: 0.5515\n",
      "\n",
      "현재 파라미터 조합: {'gamma': 1.5, 'lambda_sparse': 0.0001, 'n_a': 16, 'n_d': 8, 'n_steps': 5, 'optimizer_params': {'lr': 0.02}}\n",
      "epoch 0  | loss: 1.88767 | valid_accuracy: 0.41667 |  0:00:00s\n"
     ]
    },
    {
     "name": "stderr",
     "output_type": "stream",
     "text": [
      "c:\\Users\\carly\\anaconda3\\envs\\dyspepsia_research\\lib\\site-packages\\pytorch_tabnet\\callbacks.py:172: UserWarning: Best weights from best epoch are automatically used!\n",
      "  warnings.warn(wrn_msg)\n",
      "c:\\Users\\carly\\anaconda3\\envs\\dyspepsia_research\\lib\\site-packages\\pytorch_tabnet\\abstract_model.py:82: UserWarning: Device used : cpu\n",
      "  warnings.warn(f\"Device used : {self.device}\")\n"
     ]
    },
    {
     "name": "stdout",
     "output_type": "stream",
     "text": [
      "epoch 1  | loss: 1.51423 | valid_accuracy: 0.375   |  0:00:00s\n",
      "epoch 2  | loss: 1.4369  | valid_accuracy: 0.29167 |  0:00:00s\n",
      "epoch 3  | loss: 1.27375 | valid_accuracy: 0.125   |  0:00:00s\n",
      "epoch 4  | loss: 1.59828 | valid_accuracy: 0.41667 |  0:00:00s\n",
      "epoch 5  | loss: 1.59183 | valid_accuracy: 0.45833 |  0:00:00s\n",
      "epoch 6  | loss: 1.354   | valid_accuracy: 0.33333 |  0:00:00s\n",
      "epoch 7  | loss: 1.11476 | valid_accuracy: 0.33333 |  0:00:00s\n",
      "epoch 8  | loss: 1.12559 | valid_accuracy: 0.375   |  0:00:00s\n",
      "epoch 9  | loss: 0.9772  | valid_accuracy: 0.41667 |  0:00:00s\n",
      "epoch 10 | loss: 0.94989 | valid_accuracy: 0.375   |  0:00:00s\n",
      "epoch 11 | loss: 1.12175 | valid_accuracy: 0.375   |  0:00:00s\n",
      "epoch 12 | loss: 1.08735 | valid_accuracy: 0.45833 |  0:00:00s\n",
      "epoch 13 | loss: 0.81194 | valid_accuracy: 0.41667 |  0:00:00s\n",
      "epoch 14 | loss: 0.90328 | valid_accuracy: 0.54167 |  0:00:00s\n",
      "epoch 15 | loss: 0.89566 | valid_accuracy: 0.45833 |  0:00:00s\n",
      "epoch 16 | loss: 0.77495 | valid_accuracy: 0.45833 |  0:00:01s\n",
      "epoch 17 | loss: 0.97675 | valid_accuracy: 0.58333 |  0:00:01s\n",
      "epoch 18 | loss: 1.08382 | valid_accuracy: 0.375   |  0:00:01s\n",
      "epoch 19 | loss: 0.7135  | valid_accuracy: 0.5     |  0:00:01s\n",
      "epoch 20 | loss: 0.91596 | valid_accuracy: 0.625   |  0:00:01s\n",
      "epoch 21 | loss: 0.97198 | valid_accuracy: 0.58333 |  0:00:01s\n",
      "epoch 22 | loss: 0.85003 | valid_accuracy: 0.58333 |  0:00:01s\n",
      "epoch 23 | loss: 0.96987 | valid_accuracy: 0.625   |  0:00:01s\n",
      "epoch 24 | loss: 0.73981 | valid_accuracy: 0.625   |  0:00:01s\n",
      "epoch 25 | loss: 0.76306 | valid_accuracy: 0.54167 |  0:00:01s\n",
      "epoch 26 | loss: 0.68484 | valid_accuracy: 0.375   |  0:00:01s\n",
      "epoch 27 | loss: 0.67008 | valid_accuracy: 0.375   |  0:00:01s\n",
      "epoch 28 | loss: 0.62181 | valid_accuracy: 0.5     |  0:00:01s\n",
      "epoch 29 | loss: 0.60856 | valid_accuracy: 0.45833 |  0:00:01s\n",
      "epoch 30 | loss: 0.54609 | valid_accuracy: 0.54167 |  0:00:01s\n",
      "\n",
      "Early stopping occurred at epoch 30 with best_epoch = 20 and best_valid_accuracy = 0.625\n",
      "epoch 0  | loss: 1.57526 | valid_accuracy: 0.43478 |  0:00:00s\n"
     ]
    },
    {
     "name": "stderr",
     "output_type": "stream",
     "text": [
      "c:\\Users\\carly\\anaconda3\\envs\\dyspepsia_research\\lib\\site-packages\\pytorch_tabnet\\callbacks.py:172: UserWarning: Best weights from best epoch are automatically used!\n",
      "  warnings.warn(wrn_msg)\n",
      "c:\\Users\\carly\\anaconda3\\envs\\dyspepsia_research\\lib\\site-packages\\pytorch_tabnet\\abstract_model.py:82: UserWarning: Device used : cpu\n",
      "  warnings.warn(f\"Device used : {self.device}\")\n"
     ]
    },
    {
     "name": "stdout",
     "output_type": "stream",
     "text": [
      "epoch 1  | loss: 1.68827 | valid_accuracy: 0.43478 |  0:00:00s\n",
      "epoch 2  | loss: 1.4193  | valid_accuracy: 0.52174 |  0:00:00s\n",
      "epoch 3  | loss: 1.38454 | valid_accuracy: 0.30435 |  0:00:00s\n",
      "epoch 4  | loss: 1.53851 | valid_accuracy: 0.17391 |  0:00:00s\n",
      "epoch 5  | loss: 1.17158 | valid_accuracy: 0.30435 |  0:00:00s\n",
      "epoch 6  | loss: 1.41308 | valid_accuracy: 0.21739 |  0:00:00s\n",
      "epoch 7  | loss: 1.16624 | valid_accuracy: 0.26087 |  0:00:00s\n",
      "epoch 8  | loss: 1.29973 | valid_accuracy: 0.26087 |  0:00:00s\n",
      "epoch 9  | loss: 1.14748 | valid_accuracy: 0.30435 |  0:00:00s\n",
      "epoch 10 | loss: 1.23349 | valid_accuracy: 0.43478 |  0:00:00s\n",
      "epoch 11 | loss: 1.13716 | valid_accuracy: 0.3913  |  0:00:00s\n",
      "epoch 12 | loss: 0.92846 | valid_accuracy: 0.43478 |  0:00:00s\n",
      "\n",
      "Early stopping occurred at epoch 12 with best_epoch = 2 and best_valid_accuracy = 0.52174\n"
     ]
    },
    {
     "name": "stderr",
     "output_type": "stream",
     "text": [
      "c:\\Users\\carly\\anaconda3\\envs\\dyspepsia_research\\lib\\site-packages\\pytorch_tabnet\\callbacks.py:172: UserWarning: Best weights from best epoch are automatically used!\n",
      "  warnings.warn(wrn_msg)\n",
      "c:\\Users\\carly\\anaconda3\\envs\\dyspepsia_research\\lib\\site-packages\\pytorch_tabnet\\abstract_model.py:82: UserWarning: Device used : cpu\n",
      "  warnings.warn(f\"Device used : {self.device}\")\n"
     ]
    },
    {
     "name": "stdout",
     "output_type": "stream",
     "text": [
      "epoch 0  | loss: 2.05165 | valid_accuracy: 0.47826 |  0:00:00s\n",
      "epoch 1  | loss: 1.74983 | valid_accuracy: 0.47826 |  0:00:00s\n",
      "epoch 2  | loss: 1.55451 | valid_accuracy: 0.30435 |  0:00:00s\n",
      "epoch 3  | loss: 1.27062 | valid_accuracy: 0.47826 |  0:00:00s\n",
      "epoch 4  | loss: 1.60807 | valid_accuracy: 0.43478 |  0:00:00s\n",
      "epoch 5  | loss: 1.43064 | valid_accuracy: 0.69565 |  0:00:00s\n",
      "epoch 6  | loss: 1.39075 | valid_accuracy: 0.47826 |  0:00:00s\n",
      "epoch 7  | loss: 1.32943 | valid_accuracy: 0.3913  |  0:00:00s\n",
      "epoch 8  | loss: 1.00066 | valid_accuracy: 0.47826 |  0:00:00s\n",
      "epoch 9  | loss: 1.20004 | valid_accuracy: 0.56522 |  0:00:00s\n",
      "epoch 10 | loss: 1.15468 | valid_accuracy: 0.6087  |  0:00:00s\n",
      "epoch 11 | loss: 0.98666 | valid_accuracy: 0.3913  |  0:00:00s\n",
      "epoch 12 | loss: 0.94244 | valid_accuracy: 0.52174 |  0:00:00s\n",
      "epoch 13 | loss: 1.06617 | valid_accuracy: 0.34783 |  0:00:00s\n",
      "epoch 14 | loss: 1.33813 | valid_accuracy: 0.43478 |  0:00:00s\n",
      "epoch 15 | loss: 1.25464 | valid_accuracy: 0.47826 |  0:00:01s\n",
      "\n",
      "Early stopping occurred at epoch 15 with best_epoch = 5 and best_valid_accuracy = 0.69565\n",
      "평균 F1 Score: 0.5781\n",
      "\n",
      "현재 파라미터 조합: {'gamma': 1.5, 'lambda_sparse': 0.0001, 'n_a': 16, 'n_d': 8, 'n_steps': 5, 'optimizer_params': {'lr': 0.01}}\n",
      "epoch 0  | loss: 1.88767 | valid_accuracy: 0.54167 |  0:00:00s\n",
      "epoch 1  | loss: 1.519   | valid_accuracy: 0.5     |  0:00:00s\n"
     ]
    },
    {
     "name": "stderr",
     "output_type": "stream",
     "text": [
      "c:\\Users\\carly\\anaconda3\\envs\\dyspepsia_research\\lib\\site-packages\\pytorch_tabnet\\callbacks.py:172: UserWarning: Best weights from best epoch are automatically used!\n",
      "  warnings.warn(wrn_msg)\n",
      "c:\\Users\\carly\\anaconda3\\envs\\dyspepsia_research\\lib\\site-packages\\pytorch_tabnet\\abstract_model.py:82: UserWarning: Device used : cpu\n",
      "  warnings.warn(f\"Device used : {self.device}\")\n"
     ]
    },
    {
     "name": "stdout",
     "output_type": "stream",
     "text": [
      "epoch 2  | loss: 1.49089 | valid_accuracy: 0.5     |  0:00:00s\n",
      "epoch 3  | loss: 1.12788 | valid_accuracy: 0.375   |  0:00:00s\n",
      "epoch 4  | loss: 1.71236 | valid_accuracy: 0.33333 |  0:00:00s\n",
      "epoch 5  | loss: 1.46314 | valid_accuracy: 0.41667 |  0:00:00s\n",
      "epoch 6  | loss: 1.42146 | valid_accuracy: 0.29167 |  0:00:00s\n",
      "epoch 7  | loss: 1.59527 | valid_accuracy: 0.16667 |  0:00:00s\n",
      "epoch 8  | loss: 1.17322 | valid_accuracy: 0.375   |  0:00:00s\n",
      "epoch 9  | loss: 1.06745 | valid_accuracy: 0.29167 |  0:00:00s\n",
      "epoch 10 | loss: 1.2147  | valid_accuracy: 0.33333 |  0:00:00s\n",
      "\n",
      "Early stopping occurred at epoch 10 with best_epoch = 0 and best_valid_accuracy = 0.54167\n",
      "epoch 0  | loss: 1.57526 | valid_accuracy: 0.3913  |  0:00:00s\n",
      "epoch 1  | loss: 1.83407 | valid_accuracy: 0.3913  |  0:00:00s\n"
     ]
    },
    {
     "name": "stderr",
     "output_type": "stream",
     "text": [
      "c:\\Users\\carly\\anaconda3\\envs\\dyspepsia_research\\lib\\site-packages\\pytorch_tabnet\\callbacks.py:172: UserWarning: Best weights from best epoch are automatically used!\n",
      "  warnings.warn(wrn_msg)\n",
      "c:\\Users\\carly\\anaconda3\\envs\\dyspepsia_research\\lib\\site-packages\\pytorch_tabnet\\abstract_model.py:82: UserWarning: Device used : cpu\n",
      "  warnings.warn(f\"Device used : {self.device}\")\n"
     ]
    },
    {
     "name": "stdout",
     "output_type": "stream",
     "text": [
      "epoch 2  | loss: 1.96576 | valid_accuracy: 0.3913  |  0:00:00s\n",
      "epoch 3  | loss: 1.72011 | valid_accuracy: 0.26087 |  0:00:00s\n",
      "epoch 4  | loss: 1.49819 | valid_accuracy: 0.30435 |  0:00:00s\n",
      "epoch 5  | loss: 1.48174 | valid_accuracy: 0.43478 |  0:00:00s\n",
      "epoch 6  | loss: 1.49853 | valid_accuracy: 0.47826 |  0:00:00s\n",
      "epoch 7  | loss: 1.51933 | valid_accuracy: 0.30435 |  0:00:00s\n",
      "epoch 8  | loss: 1.45106 | valid_accuracy: 0.26087 |  0:00:00s\n",
      "epoch 9  | loss: 1.2566  | valid_accuracy: 0.34783 |  0:00:00s\n",
      "epoch 10 | loss: 1.56125 | valid_accuracy: 0.30435 |  0:00:00s\n",
      "epoch 11 | loss: 1.30314 | valid_accuracy: 0.34783 |  0:00:00s\n",
      "epoch 12 | loss: 1.30002 | valid_accuracy: 0.34783 |  0:00:00s\n",
      "epoch 13 | loss: 1.40891 | valid_accuracy: 0.34783 |  0:00:00s\n",
      "epoch 14 | loss: 1.34674 | valid_accuracy: 0.30435 |  0:00:00s\n",
      "epoch 15 | loss: 1.25645 | valid_accuracy: 0.47826 |  0:00:00s\n",
      "epoch 16 | loss: 1.24364 | valid_accuracy: 0.30435 |  0:00:01s\n",
      "\n",
      "Early stopping occurred at epoch 16 with best_epoch = 6 and best_valid_accuracy = 0.47826\n",
      "epoch 0  | loss: 2.05165 | valid_accuracy: 0.3913  |  0:00:00s\n"
     ]
    },
    {
     "name": "stderr",
     "output_type": "stream",
     "text": [
      "c:\\Users\\carly\\anaconda3\\envs\\dyspepsia_research\\lib\\site-packages\\pytorch_tabnet\\callbacks.py:172: UserWarning: Best weights from best epoch are automatically used!\n",
      "  warnings.warn(wrn_msg)\n",
      "c:\\Users\\carly\\anaconda3\\envs\\dyspepsia_research\\lib\\site-packages\\pytorch_tabnet\\abstract_model.py:82: UserWarning: Device used : cpu\n",
      "  warnings.warn(f\"Device used : {self.device}\")\n"
     ]
    },
    {
     "name": "stdout",
     "output_type": "stream",
     "text": [
      "epoch 1  | loss: 1.63412 | valid_accuracy: 0.56522 |  0:00:00s\n",
      "epoch 2  | loss: 1.73576 | valid_accuracy: 0.56522 |  0:00:00s\n",
      "epoch 3  | loss: 1.61073 | valid_accuracy: 0.6087  |  0:00:00s\n",
      "epoch 4  | loss: 1.66007 | valid_accuracy: 0.56522 |  0:00:00s\n",
      "epoch 5  | loss: 1.47926 | valid_accuracy: 0.47826 |  0:00:00s\n",
      "epoch 6  | loss: 1.58055 | valid_accuracy: 0.43478 |  0:00:00s\n",
      "epoch 7  | loss: 1.39652 | valid_accuracy: 0.34783 |  0:00:00s\n",
      "epoch 8  | loss: 1.28259 | valid_accuracy: 0.43478 |  0:00:00s\n",
      "epoch 9  | loss: 1.22419 | valid_accuracy: 0.3913  |  0:00:00s\n",
      "epoch 10 | loss: 1.48428 | valid_accuracy: 0.3913  |  0:00:00s\n",
      "epoch 11 | loss: 1.12091 | valid_accuracy: 0.43478 |  0:00:00s\n",
      "epoch 12 | loss: 1.0755  | valid_accuracy: 0.43478 |  0:00:00s\n",
      "epoch 13 | loss: 1.18701 | valid_accuracy: 0.3913  |  0:00:00s\n",
      "\n",
      "Early stopping occurred at epoch 13 with best_epoch = 3 and best_valid_accuracy = 0.6087\n",
      "평균 F1 Score: 0.4801\n",
      "\n",
      "현재 파라미터 조합: {'gamma': 1.5, 'lambda_sparse': 0.0001, 'n_a': 16, 'n_d': 16, 'n_steps': 3, 'optimizer_params': {'lr': 0.02}}\n",
      "epoch 0  | loss: 2.1948  | valid_accuracy: 0.375   |  0:00:00s\n"
     ]
    },
    {
     "name": "stderr",
     "output_type": "stream",
     "text": [
      "c:\\Users\\carly\\anaconda3\\envs\\dyspepsia_research\\lib\\site-packages\\pytorch_tabnet\\callbacks.py:172: UserWarning: Best weights from best epoch are automatically used!\n",
      "  warnings.warn(wrn_msg)\n",
      "c:\\Users\\carly\\anaconda3\\envs\\dyspepsia_research\\lib\\site-packages\\pytorch_tabnet\\abstract_model.py:82: UserWarning: Device used : cpu\n",
      "  warnings.warn(f\"Device used : {self.device}\")\n"
     ]
    },
    {
     "name": "stdout",
     "output_type": "stream",
     "text": [
      "epoch 1  | loss: 1.71808 | valid_accuracy: 0.5     |  0:00:00s\n",
      "epoch 2  | loss: 1.18029 | valid_accuracy: 0.33333 |  0:00:00s\n",
      "epoch 3  | loss: 1.1922  | valid_accuracy: 0.33333 |  0:00:00s\n",
      "epoch 4  | loss: 1.079   | valid_accuracy: 0.33333 |  0:00:00s\n",
      "epoch 5  | loss: 1.11603 | valid_accuracy: 0.5     |  0:00:00s\n",
      "epoch 6  | loss: 1.16317 | valid_accuracy: 0.625   |  0:00:00s\n",
      "epoch 7  | loss: 0.9378  | valid_accuracy: 0.41667 |  0:00:00s\n",
      "epoch 8  | loss: 0.87765 | valid_accuracy: 0.5     |  0:00:00s\n",
      "epoch 9  | loss: 0.77859 | valid_accuracy: 0.5     |  0:00:00s\n",
      "epoch 10 | loss: 0.68859 | valid_accuracy: 0.58333 |  0:00:00s\n",
      "epoch 11 | loss: 0.61282 | valid_accuracy: 0.54167 |  0:00:00s\n",
      "epoch 12 | loss: 0.66288 | valid_accuracy: 0.58333 |  0:00:00s\n",
      "epoch 13 | loss: 0.48737 | valid_accuracy: 0.45833 |  0:00:00s\n",
      "epoch 14 | loss: 0.38854 | valid_accuracy: 0.45833 |  0:00:00s\n",
      "epoch 15 | loss: 0.36084 | valid_accuracy: 0.375   |  0:00:00s\n",
      "epoch 16 | loss: 0.30099 | valid_accuracy: 0.25    |  0:00:00s\n",
      "\n",
      "Early stopping occurred at epoch 16 with best_epoch = 6 and best_valid_accuracy = 0.625\n"
     ]
    },
    {
     "name": "stderr",
     "output_type": "stream",
     "text": [
      "c:\\Users\\carly\\anaconda3\\envs\\dyspepsia_research\\lib\\site-packages\\pytorch_tabnet\\callbacks.py:172: UserWarning: Best weights from best epoch are automatically used!\n",
      "  warnings.warn(wrn_msg)\n",
      "c:\\Users\\carly\\anaconda3\\envs\\dyspepsia_research\\lib\\site-packages\\pytorch_tabnet\\abstract_model.py:82: UserWarning: Device used : cpu\n",
      "  warnings.warn(f\"Device used : {self.device}\")\n"
     ]
    },
    {
     "name": "stdout",
     "output_type": "stream",
     "text": [
      "epoch 0  | loss: 2.0973  | valid_accuracy: 0.30435 |  0:00:00s\n",
      "epoch 1  | loss: 1.42535 | valid_accuracy: 0.21739 |  0:00:00s\n",
      "epoch 2  | loss: 1.48055 | valid_accuracy: 0.26087 |  0:00:00s\n",
      "epoch 3  | loss: 1.40926 | valid_accuracy: 0.34783 |  0:00:00s\n",
      "epoch 4  | loss: 0.97872 | valid_accuracy: 0.34783 |  0:00:00s\n",
      "epoch 5  | loss: 0.90443 | valid_accuracy: 0.52174 |  0:00:00s\n",
      "epoch 6  | loss: 0.90399 | valid_accuracy: 0.43478 |  0:00:00s\n",
      "epoch 7  | loss: 0.78732 | valid_accuracy: 0.43478 |  0:00:00s\n",
      "epoch 8  | loss: 0.80295 | valid_accuracy: 0.52174 |  0:00:00s\n",
      "epoch 9  | loss: 0.70081 | valid_accuracy: 0.34783 |  0:00:00s\n",
      "epoch 10 | loss: 0.69899 | valid_accuracy: 0.21739 |  0:00:00s\n",
      "epoch 11 | loss: 0.53226 | valid_accuracy: 0.43478 |  0:00:00s\n",
      "epoch 12 | loss: 0.66837 | valid_accuracy: 0.43478 |  0:00:00s\n",
      "epoch 13 | loss: 0.49671 | valid_accuracy: 0.47826 |  0:00:00s\n",
      "epoch 14 | loss: 0.41493 | valid_accuracy: 0.47826 |  0:00:00s\n",
      "epoch 15 | loss: 0.37284 | valid_accuracy: 0.56522 |  0:00:00s\n",
      "epoch 16 | loss: 0.26456 | valid_accuracy: 0.6087  |  0:00:00s\n",
      "epoch 17 | loss: 0.22542 | valid_accuracy: 0.56522 |  0:00:00s\n",
      "epoch 18 | loss: 0.19249 | valid_accuracy: 0.56522 |  0:00:00s\n",
      "epoch 19 | loss: 0.13701 | valid_accuracy: 0.56522 |  0:00:00s\n",
      "epoch 20 | loss: 0.07701 | valid_accuracy: 0.56522 |  0:00:00s\n",
      "epoch 21 | loss: 0.05105 | valid_accuracy: 0.47826 |  0:00:00s\n",
      "epoch 22 | loss: 0.03213 | valid_accuracy: 0.47826 |  0:00:00s\n",
      "epoch 23 | loss: 0.02106 | valid_accuracy: 0.52174 |  0:00:01s\n",
      "epoch 24 | loss: 0.01056 | valid_accuracy: 0.52174 |  0:00:01s\n",
      "epoch 25 | loss: 0.00687 | valid_accuracy: 0.3913  |  0:00:01s\n",
      "epoch 26 | loss: 0.00416 | valid_accuracy: 0.43478 |  0:00:01s\n",
      "\n",
      "Early stopping occurred at epoch 26 with best_epoch = 16 and best_valid_accuracy = 0.6087\n"
     ]
    },
    {
     "name": "stderr",
     "output_type": "stream",
     "text": [
      "c:\\Users\\carly\\anaconda3\\envs\\dyspepsia_research\\lib\\site-packages\\pytorch_tabnet\\callbacks.py:172: UserWarning: Best weights from best epoch are automatically used!\n",
      "  warnings.warn(wrn_msg)\n",
      "c:\\Users\\carly\\anaconda3\\envs\\dyspepsia_research\\lib\\site-packages\\pytorch_tabnet\\abstract_model.py:82: UserWarning: Device used : cpu\n",
      "  warnings.warn(f\"Device used : {self.device}\")\n"
     ]
    },
    {
     "name": "stdout",
     "output_type": "stream",
     "text": [
      "epoch 0  | loss: 1.98276 | valid_accuracy: 0.3913  |  0:00:00s\n",
      "epoch 1  | loss: 1.78666 | valid_accuracy: 0.3913  |  0:00:00s\n",
      "epoch 2  | loss: 1.53433 | valid_accuracy: 0.52174 |  0:00:00s\n",
      "epoch 3  | loss: 1.23447 | valid_accuracy: 0.47826 |  0:00:00s\n",
      "epoch 4  | loss: 1.58311 | valid_accuracy: 0.43478 |  0:00:00s\n",
      "epoch 5  | loss: 1.40863 | valid_accuracy: 0.43478 |  0:00:00s\n",
      "epoch 6  | loss: 1.25076 | valid_accuracy: 0.3913  |  0:00:00s\n",
      "epoch 7  | loss: 1.09187 | valid_accuracy: 0.3913  |  0:00:00s\n",
      "epoch 8  | loss: 1.06832 | valid_accuracy: 0.3913  |  0:00:00s\n",
      "epoch 9  | loss: 0.97397 | valid_accuracy: 0.52174 |  0:00:00s\n",
      "epoch 10 | loss: 0.87615 | valid_accuracy: 0.47826 |  0:00:00s\n",
      "epoch 11 | loss: 0.80657 | valid_accuracy: 0.43478 |  0:00:00s\n",
      "epoch 12 | loss: 0.87193 | valid_accuracy: 0.3913  |  0:00:00s\n",
      "\n",
      "Early stopping occurred at epoch 12 with best_epoch = 2 and best_valid_accuracy = 0.52174\n",
      "평균 F1 Score: 0.5419\n",
      "\n",
      "현재 파라미터 조합: {'gamma': 1.5, 'lambda_sparse': 0.0001, 'n_a': 16, 'n_d': 16, 'n_steps': 3, 'optimizer_params': {'lr': 0.01}}\n",
      "epoch 0  | loss: 2.1948  | valid_accuracy: 0.5     |  0:00:00s\n",
      "epoch 1  | loss: 2.11634 | valid_accuracy: 0.25    |  0:00:00s\n",
      "epoch 2  | loss: 1.41683 | valid_accuracy: 0.25    |  0:00:00s\n"
     ]
    },
    {
     "name": "stderr",
     "output_type": "stream",
     "text": [
      "c:\\Users\\carly\\anaconda3\\envs\\dyspepsia_research\\lib\\site-packages\\pytorch_tabnet\\callbacks.py:172: UserWarning: Best weights from best epoch are automatically used!\n",
      "  warnings.warn(wrn_msg)\n",
      "c:\\Users\\carly\\anaconda3\\envs\\dyspepsia_research\\lib\\site-packages\\pytorch_tabnet\\abstract_model.py:82: UserWarning: Device used : cpu\n",
      "  warnings.warn(f\"Device used : {self.device}\")\n"
     ]
    },
    {
     "name": "stdout",
     "output_type": "stream",
     "text": [
      "epoch 3  | loss: 1.23165 | valid_accuracy: 0.45833 |  0:00:00s\n",
      "epoch 4  | loss: 1.12778 | valid_accuracy: 0.5     |  0:00:00s\n",
      "epoch 5  | loss: 0.95222 | valid_accuracy: 0.375   |  0:00:00s\n",
      "epoch 6  | loss: 0.98149 | valid_accuracy: 0.33333 |  0:00:00s\n",
      "epoch 7  | loss: 0.90617 | valid_accuracy: 0.375   |  0:00:00s\n",
      "epoch 8  | loss: 0.76308 | valid_accuracy: 0.33333 |  0:00:00s\n",
      "epoch 9  | loss: 1.02736 | valid_accuracy: 0.375   |  0:00:00s\n",
      "epoch 10 | loss: 0.70659 | valid_accuracy: 0.41667 |  0:00:00s\n",
      "\n",
      "Early stopping occurred at epoch 10 with best_epoch = 0 and best_valid_accuracy = 0.5\n",
      "epoch 0  | loss: 2.0973  | valid_accuracy: 0.17391 |  0:00:00s\n",
      "epoch 1  | loss: 1.55091 | valid_accuracy: 0.26087 |  0:00:00s\n",
      "epoch 2  | loss: 1.59607 | valid_accuracy: 0.3913  |  0:00:00s\n",
      "epoch 3  | loss: 1.30808 | valid_accuracy: 0.21739 |  0:00:00s\n"
     ]
    },
    {
     "name": "stderr",
     "output_type": "stream",
     "text": [
      "c:\\Users\\carly\\anaconda3\\envs\\dyspepsia_research\\lib\\site-packages\\pytorch_tabnet\\callbacks.py:172: UserWarning: Best weights from best epoch are automatically used!\n",
      "  warnings.warn(wrn_msg)\n",
      "c:\\Users\\carly\\anaconda3\\envs\\dyspepsia_research\\lib\\site-packages\\pytorch_tabnet\\abstract_model.py:82: UserWarning: Device used : cpu\n",
      "  warnings.warn(f\"Device used : {self.device}\")\n"
     ]
    },
    {
     "name": "stdout",
     "output_type": "stream",
     "text": [
      "epoch 4  | loss: 1.05403 | valid_accuracy: 0.34783 |  0:00:00s\n",
      "epoch 5  | loss: 1.08727 | valid_accuracy: 0.30435 |  0:00:00s\n",
      "epoch 6  | loss: 1.1702  | valid_accuracy: 0.26087 |  0:00:00s\n",
      "epoch 7  | loss: 1.09663 | valid_accuracy: 0.3913  |  0:00:00s\n",
      "epoch 8  | loss: 0.96667 | valid_accuracy: 0.43478 |  0:00:00s\n",
      "epoch 9  | loss: 0.80236 | valid_accuracy: 0.26087 |  0:00:00s\n",
      "epoch 10 | loss: 0.91582 | valid_accuracy: 0.21739 |  0:00:00s\n",
      "epoch 11 | loss: 0.88632 | valid_accuracy: 0.3913  |  0:00:00s\n",
      "epoch 12 | loss: 0.83851 | valid_accuracy: 0.30435 |  0:00:00s\n",
      "epoch 13 | loss: 0.75638 | valid_accuracy: 0.3913  |  0:00:00s\n",
      "epoch 14 | loss: 0.68762 | valid_accuracy: 0.52174 |  0:00:00s\n",
      "epoch 15 | loss: 0.60835 | valid_accuracy: 0.52174 |  0:00:00s\n",
      "epoch 16 | loss: 0.55659 | valid_accuracy: 0.47826 |  0:00:00s\n",
      "epoch 17 | loss: 0.72798 | valid_accuracy: 0.47826 |  0:00:00s\n",
      "epoch 18 | loss: 0.57465 | valid_accuracy: 0.43478 |  0:00:00s\n",
      "epoch 19 | loss: 0.49542 | valid_accuracy: 0.34783 |  0:00:00s\n",
      "epoch 20 | loss: 0.39668 | valid_accuracy: 0.26087 |  0:00:00s\n",
      "epoch 21 | loss: 0.35129 | valid_accuracy: 0.30435 |  0:00:00s\n",
      "epoch 22 | loss: 0.2763  | valid_accuracy: 0.3913  |  0:00:00s\n",
      "epoch 23 | loss: 0.24048 | valid_accuracy: 0.3913  |  0:00:01s\n",
      "epoch 24 | loss: 0.23794 | valid_accuracy: 0.6087  |  0:00:01s\n",
      "epoch 25 | loss: 0.20137 | valid_accuracy: 0.6087  |  0:00:01s\n",
      "epoch 26 | loss: 0.1717  | valid_accuracy: 0.6087  |  0:00:01s\n",
      "epoch 27 | loss: 0.13847 | valid_accuracy: 0.47826 |  0:00:01s\n",
      "epoch 28 | loss: 0.10247 | valid_accuracy: 0.34783 |  0:00:01s\n",
      "epoch 29 | loss: 0.07808 | valid_accuracy: 0.47826 |  0:00:01s\n",
      "epoch 30 | loss: 0.06914 | valid_accuracy: 0.43478 |  0:00:01s\n",
      "epoch 31 | loss: 0.05575 | valid_accuracy: 0.3913  |  0:00:01s\n",
      "epoch 32 | loss: 0.03714 | valid_accuracy: 0.34783 |  0:00:01s\n",
      "epoch 33 | loss: 0.02305 | valid_accuracy: 0.3913  |  0:00:01s\n",
      "epoch 34 | loss: 0.01864 | valid_accuracy: 0.30435 |  0:00:01s\n",
      "\n",
      "Early stopping occurred at epoch 34 with best_epoch = 24 and best_valid_accuracy = 0.6087\n",
      "epoch 0  | loss: 1.98276 | valid_accuracy: 0.43478 |  0:00:00s\n"
     ]
    },
    {
     "name": "stderr",
     "output_type": "stream",
     "text": [
      "c:\\Users\\carly\\anaconda3\\envs\\dyspepsia_research\\lib\\site-packages\\pytorch_tabnet\\callbacks.py:172: UserWarning: Best weights from best epoch are automatically used!\n",
      "  warnings.warn(wrn_msg)\n",
      "c:\\Users\\carly\\anaconda3\\envs\\dyspepsia_research\\lib\\site-packages\\pytorch_tabnet\\abstract_model.py:82: UserWarning: Device used : cpu\n",
      "  warnings.warn(f\"Device used : {self.device}\")\n"
     ]
    },
    {
     "name": "stdout",
     "output_type": "stream",
     "text": [
      "epoch 1  | loss: 2.09381 | valid_accuracy: 0.47826 |  0:00:00s\n",
      "epoch 2  | loss: 2.17058 | valid_accuracy: 0.52174 |  0:00:00s\n",
      "epoch 3  | loss: 1.5451  | valid_accuracy: 0.6087  |  0:00:00s\n",
      "epoch 4  | loss: 1.67832 | valid_accuracy: 0.47826 |  0:00:00s\n",
      "epoch 5  | loss: 1.7788  | valid_accuracy: 0.3913  |  0:00:00s\n",
      "epoch 6  | loss: 1.35725 | valid_accuracy: 0.30435 |  0:00:00s\n",
      "epoch 7  | loss: 1.27382 | valid_accuracy: 0.3913  |  0:00:00s\n",
      "epoch 8  | loss: 1.05972 | valid_accuracy: 0.34783 |  0:00:00s\n",
      "epoch 9  | loss: 1.06468 | valid_accuracy: 0.43478 |  0:00:00s\n",
      "epoch 10 | loss: 0.92994 | valid_accuracy: 0.34783 |  0:00:00s\n",
      "epoch 11 | loss: 0.82469 | valid_accuracy: 0.43478 |  0:00:00s\n",
      "epoch 12 | loss: 0.92135 | valid_accuracy: 0.3913  |  0:00:00s\n",
      "epoch 13 | loss: 0.7951  | valid_accuracy: 0.43478 |  0:00:00s\n",
      "\n",
      "Early stopping occurred at epoch 13 with best_epoch = 3 and best_valid_accuracy = 0.6087\n",
      "평균 F1 Score: 0.5790\n",
      "\n",
      "현재 파라미터 조합: {'gamma': 1.5, 'lambda_sparse': 0.0001, 'n_a': 16, 'n_d': 16, 'n_steps': 5, 'optimizer_params': {'lr': 0.02}}\n",
      "epoch 0  | loss: 3.58712 | valid_accuracy: 0.375   |  0:00:00s\n"
     ]
    },
    {
     "name": "stderr",
     "output_type": "stream",
     "text": [
      "c:\\Users\\carly\\anaconda3\\envs\\dyspepsia_research\\lib\\site-packages\\pytorch_tabnet\\callbacks.py:172: UserWarning: Best weights from best epoch are automatically used!\n",
      "  warnings.warn(wrn_msg)\n",
      "c:\\Users\\carly\\anaconda3\\envs\\dyspepsia_research\\lib\\site-packages\\pytorch_tabnet\\abstract_model.py:82: UserWarning: Device used : cpu\n",
      "  warnings.warn(f\"Device used : {self.device}\")\n"
     ]
    },
    {
     "name": "stdout",
     "output_type": "stream",
     "text": [
      "epoch 1  | loss: 2.30892 | valid_accuracy: 0.20833 |  0:00:00s\n",
      "epoch 2  | loss: 1.79342 | valid_accuracy: 0.58333 |  0:00:00s\n",
      "epoch 3  | loss: 1.85406 | valid_accuracy: 0.45833 |  0:00:00s\n",
      "epoch 4  | loss: 1.26367 | valid_accuracy: 0.54167 |  0:00:00s\n",
      "epoch 5  | loss: 1.17754 | valid_accuracy: 0.5     |  0:00:00s\n",
      "epoch 6  | loss: 1.19268 | valid_accuracy: 0.45833 |  0:00:00s\n",
      "epoch 7  | loss: 1.19913 | valid_accuracy: 0.45833 |  0:00:00s\n",
      "epoch 8  | loss: 1.23635 | valid_accuracy: 0.375   |  0:00:00s\n",
      "epoch 9  | loss: 1.01262 | valid_accuracy: 0.45833 |  0:00:00s\n",
      "epoch 10 | loss: 1.03168 | valid_accuracy: 0.29167 |  0:00:00s\n",
      "epoch 11 | loss: 0.79336 | valid_accuracy: 0.41667 |  0:00:00s\n",
      "epoch 12 | loss: 0.87201 | valid_accuracy: 0.45833 |  0:00:00s\n",
      "\n",
      "Early stopping occurred at epoch 12 with best_epoch = 2 and best_valid_accuracy = 0.58333\n"
     ]
    },
    {
     "name": "stderr",
     "output_type": "stream",
     "text": [
      "c:\\Users\\carly\\anaconda3\\envs\\dyspepsia_research\\lib\\site-packages\\pytorch_tabnet\\callbacks.py:172: UserWarning: Best weights from best epoch are automatically used!\n",
      "  warnings.warn(wrn_msg)\n",
      "c:\\Users\\carly\\anaconda3\\envs\\dyspepsia_research\\lib\\site-packages\\pytorch_tabnet\\abstract_model.py:82: UserWarning: Device used : cpu\n",
      "  warnings.warn(f\"Device used : {self.device}\")\n"
     ]
    },
    {
     "name": "stdout",
     "output_type": "stream",
     "text": [
      "epoch 0  | loss: 3.01429 | valid_accuracy: 0.26087 |  0:00:00s\n",
      "epoch 1  | loss: 2.55101 | valid_accuracy: 0.21739 |  0:00:00s\n",
      "epoch 2  | loss: 2.20519 | valid_accuracy: 0.21739 |  0:00:00s\n",
      "epoch 3  | loss: 2.2226  | valid_accuracy: 0.30435 |  0:00:00s\n",
      "epoch 4  | loss: 1.7294  | valid_accuracy: 0.30435 |  0:00:00s\n",
      "epoch 5  | loss: 1.70698 | valid_accuracy: 0.43478 |  0:00:00s\n",
      "epoch 6  | loss: 1.17297 | valid_accuracy: 0.43478 |  0:00:00s\n",
      "epoch 7  | loss: 1.50728 | valid_accuracy: 0.56522 |  0:00:00s\n",
      "epoch 8  | loss: 1.53047 | valid_accuracy: 0.43478 |  0:00:00s\n",
      "epoch 9  | loss: 1.40662 | valid_accuracy: 0.52174 |  0:00:00s\n",
      "epoch 10 | loss: 1.11489 | valid_accuracy: 0.3913  |  0:00:00s\n",
      "epoch 11 | loss: 1.18314 | valid_accuracy: 0.30435 |  0:00:00s\n",
      "epoch 12 | loss: 1.0909  | valid_accuracy: 0.47826 |  0:00:00s\n",
      "epoch 13 | loss: 0.89816 | valid_accuracy: 0.47826 |  0:00:00s\n",
      "epoch 14 | loss: 0.95074 | valid_accuracy: 0.34783 |  0:00:00s\n",
      "epoch 15 | loss: 1.08035 | valid_accuracy: 0.21739 |  0:00:01s\n",
      "epoch 16 | loss: 0.94364 | valid_accuracy: 0.3913  |  0:00:01s\n",
      "epoch 17 | loss: 0.78561 | valid_accuracy: 0.34783 |  0:00:01s\n",
      "\n",
      "Early stopping occurred at epoch 17 with best_epoch = 7 and best_valid_accuracy = 0.56522\n",
      "epoch 0  | loss: 3.57764 | valid_accuracy: 0.17391 |  0:00:00s\n"
     ]
    },
    {
     "name": "stderr",
     "output_type": "stream",
     "text": [
      "c:\\Users\\carly\\anaconda3\\envs\\dyspepsia_research\\lib\\site-packages\\pytorch_tabnet\\callbacks.py:172: UserWarning: Best weights from best epoch are automatically used!\n",
      "  warnings.warn(wrn_msg)\n",
      "c:\\Users\\carly\\anaconda3\\envs\\dyspepsia_research\\lib\\site-packages\\pytorch_tabnet\\abstract_model.py:82: UserWarning: Device used : cpu\n",
      "  warnings.warn(f\"Device used : {self.device}\")\n"
     ]
    },
    {
     "name": "stdout",
     "output_type": "stream",
     "text": [
      "epoch 1  | loss: 2.72965 | valid_accuracy: 0.17391 |  0:00:00s\n",
      "epoch 2  | loss: 2.22343 | valid_accuracy: 0.17391 |  0:00:00s\n",
      "epoch 3  | loss: 1.75897 | valid_accuracy: 0.30435 |  0:00:00s\n",
      "epoch 4  | loss: 1.30983 | valid_accuracy: 0.52174 |  0:00:00s\n",
      "epoch 5  | loss: 1.36678 | valid_accuracy: 0.43478 |  0:00:00s\n",
      "epoch 6  | loss: 1.25176 | valid_accuracy: 0.43478 |  0:00:00s\n",
      "epoch 7  | loss: 1.25213 | valid_accuracy: 0.52174 |  0:00:00s\n",
      "epoch 8  | loss: 1.31049 | valid_accuracy: 0.52174 |  0:00:00s\n",
      "epoch 9  | loss: 1.1594  | valid_accuracy: 0.34783 |  0:00:00s\n",
      "epoch 10 | loss: 1.42941 | valid_accuracy: 0.3913  |  0:00:00s\n",
      "epoch 11 | loss: 1.15102 | valid_accuracy: 0.30435 |  0:00:00s\n",
      "epoch 12 | loss: 1.1549  | valid_accuracy: 0.30435 |  0:00:00s\n",
      "epoch 13 | loss: 1.34449 | valid_accuracy: 0.26087 |  0:00:00s\n",
      "epoch 14 | loss: 1.17575 | valid_accuracy: 0.34783 |  0:00:01s\n",
      "\n",
      "Early stopping occurred at epoch 14 with best_epoch = 4 and best_valid_accuracy = 0.52174\n",
      "평균 F1 Score: 0.5674\n",
      "\n",
      "현재 파라미터 조합: {'gamma': 1.5, 'lambda_sparse': 0.0001, 'n_a': 16, 'n_d': 16, 'n_steps': 5, 'optimizer_params': {'lr': 0.01}}\n"
     ]
    },
    {
     "name": "stderr",
     "output_type": "stream",
     "text": [
      "c:\\Users\\carly\\anaconda3\\envs\\dyspepsia_research\\lib\\site-packages\\pytorch_tabnet\\callbacks.py:172: UserWarning: Best weights from best epoch are automatically used!\n",
      "  warnings.warn(wrn_msg)\n",
      "c:\\Users\\carly\\anaconda3\\envs\\dyspepsia_research\\lib\\site-packages\\pytorch_tabnet\\abstract_model.py:82: UserWarning: Device used : cpu\n",
      "  warnings.warn(f\"Device used : {self.device}\")\n"
     ]
    },
    {
     "name": "stdout",
     "output_type": "stream",
     "text": [
      "epoch 0  | loss: 3.58712 | valid_accuracy: 0.33333 |  0:00:00s\n",
      "epoch 1  | loss: 2.92257 | valid_accuracy: 0.375   |  0:00:00s\n",
      "epoch 2  | loss: 2.75245 | valid_accuracy: 0.41667 |  0:00:00s\n",
      "epoch 3  | loss: 2.02385 | valid_accuracy: 0.41667 |  0:00:00s\n",
      "epoch 4  | loss: 2.39699 | valid_accuracy: 0.41667 |  0:00:00s\n",
      "epoch 5  | loss: 2.06571 | valid_accuracy: 0.08333 |  0:00:00s\n",
      "epoch 6  | loss: 1.79487 | valid_accuracy: 0.33333 |  0:00:00s\n",
      "epoch 7  | loss: 1.62249 | valid_accuracy: 0.25    |  0:00:00s\n",
      "epoch 8  | loss: 1.56852 | valid_accuracy: 0.16667 |  0:00:00s\n",
      "epoch 9  | loss: 1.5982  | valid_accuracy: 0.125   |  0:00:00s\n",
      "epoch 10 | loss: 1.4231  | valid_accuracy: 0.375   |  0:00:00s\n",
      "epoch 11 | loss: 1.31364 | valid_accuracy: 0.20833 |  0:00:00s\n",
      "epoch 12 | loss: 1.25781 | valid_accuracy: 0.45833 |  0:00:00s\n",
      "epoch 13 | loss: 1.16022 | valid_accuracy: 0.41667 |  0:00:00s\n",
      "epoch 14 | loss: 1.30432 | valid_accuracy: 0.5     |  0:00:01s\n",
      "epoch 15 | loss: 1.17563 | valid_accuracy: 0.375   |  0:00:01s\n",
      "epoch 16 | loss: 1.22773 | valid_accuracy: 0.5     |  0:00:01s\n",
      "epoch 17 | loss: 1.33151 | valid_accuracy: 0.41667 |  0:00:01s\n",
      "epoch 18 | loss: 1.23041 | valid_accuracy: 0.41667 |  0:00:01s\n",
      "epoch 19 | loss: 1.29363 | valid_accuracy: 0.33333 |  0:00:01s\n",
      "epoch 20 | loss: 1.11825 | valid_accuracy: 0.29167 |  0:00:01s\n",
      "epoch 21 | loss: 1.00177 | valid_accuracy: 0.25    |  0:00:01s\n",
      "epoch 22 | loss: 1.17309 | valid_accuracy: 0.375   |  0:00:01s\n",
      "epoch 23 | loss: 1.03269 | valid_accuracy: 0.375   |  0:00:01s\n",
      "epoch 24 | loss: 0.96127 | valid_accuracy: 0.29167 |  0:00:01s\n",
      "\n",
      "Early stopping occurred at epoch 24 with best_epoch = 14 and best_valid_accuracy = 0.5\n",
      "epoch 0  | loss: 3.01429 | valid_accuracy: 0.08696 |  0:00:00s\n",
      "epoch 1  | loss: 2.75114 | valid_accuracy: 0.26087 |  0:00:00s\n"
     ]
    },
    {
     "name": "stderr",
     "output_type": "stream",
     "text": [
      "c:\\Users\\carly\\anaconda3\\envs\\dyspepsia_research\\lib\\site-packages\\pytorch_tabnet\\callbacks.py:172: UserWarning: Best weights from best epoch are automatically used!\n",
      "  warnings.warn(wrn_msg)\n",
      "c:\\Users\\carly\\anaconda3\\envs\\dyspepsia_research\\lib\\site-packages\\pytorch_tabnet\\abstract_model.py:82: UserWarning: Device used : cpu\n",
      "  warnings.warn(f\"Device used : {self.device}\")\n"
     ]
    },
    {
     "name": "stdout",
     "output_type": "stream",
     "text": [
      "epoch 2  | loss: 2.56041 | valid_accuracy: 0.3913  |  0:00:00s\n",
      "epoch 3  | loss: 2.80063 | valid_accuracy: 0.34783 |  0:00:00s\n",
      "epoch 4  | loss: 2.37331 | valid_accuracy: 0.26087 |  0:00:00s\n",
      "epoch 5  | loss: 2.23605 | valid_accuracy: 0.34783 |  0:00:00s\n",
      "epoch 6  | loss: 2.01421 | valid_accuracy: 0.26087 |  0:00:00s\n",
      "epoch 7  | loss: 1.88125 | valid_accuracy: 0.08696 |  0:00:00s\n",
      "epoch 8  | loss: 1.41009 | valid_accuracy: 0.26087 |  0:00:00s\n",
      "epoch 9  | loss: 1.42183 | valid_accuracy: 0.26087 |  0:00:00s\n",
      "epoch 10 | loss: 1.21524 | valid_accuracy: 0.43478 |  0:00:00s\n",
      "epoch 11 | loss: 1.35394 | valid_accuracy: 0.34783 |  0:00:00s\n",
      "epoch 12 | loss: 1.22726 | valid_accuracy: 0.3913  |  0:00:00s\n",
      "epoch 13 | loss: 1.19149 | valid_accuracy: 0.43478 |  0:00:00s\n",
      "epoch 14 | loss: 1.36724 | valid_accuracy: 0.30435 |  0:00:00s\n",
      "epoch 15 | loss: 1.25798 | valid_accuracy: 0.30435 |  0:00:01s\n",
      "epoch 16 | loss: 1.16077 | valid_accuracy: 0.52174 |  0:00:01s\n",
      "epoch 17 | loss: 1.29002 | valid_accuracy: 0.30435 |  0:00:01s\n",
      "epoch 18 | loss: 1.15968 | valid_accuracy: 0.3913  |  0:00:01s\n",
      "epoch 19 | loss: 0.9781  | valid_accuracy: 0.26087 |  0:00:01s\n",
      "epoch 20 | loss: 0.92266 | valid_accuracy: 0.34783 |  0:00:01s\n",
      "epoch 21 | loss: 0.94319 | valid_accuracy: 0.30435 |  0:00:01s\n",
      "epoch 22 | loss: 0.74962 | valid_accuracy: 0.30435 |  0:00:01s\n",
      "epoch 23 | loss: 0.66349 | valid_accuracy: 0.13043 |  0:00:01s\n",
      "epoch 24 | loss: 0.74095 | valid_accuracy: 0.3913  |  0:00:01s\n",
      "epoch 25 | loss: 0.80417 | valid_accuracy: 0.52174 |  0:00:01s\n",
      "epoch 26 | loss: 0.8274  | valid_accuracy: 0.3913  |  0:00:01s\n",
      "\n",
      "Early stopping occurred at epoch 26 with best_epoch = 16 and best_valid_accuracy = 0.52174\n",
      "epoch 0  | loss: 3.57764 | valid_accuracy: 0.13043 |  0:00:00s\n",
      "epoch 1  | loss: 2.87464 | valid_accuracy: 0.26087 |  0:00:00s\n"
     ]
    },
    {
     "name": "stderr",
     "output_type": "stream",
     "text": [
      "c:\\Users\\carly\\anaconda3\\envs\\dyspepsia_research\\lib\\site-packages\\pytorch_tabnet\\callbacks.py:172: UserWarning: Best weights from best epoch are automatically used!\n",
      "  warnings.warn(wrn_msg)\n",
      "c:\\Users\\carly\\anaconda3\\envs\\dyspepsia_research\\lib\\site-packages\\pytorch_tabnet\\abstract_model.py:82: UserWarning: Device used : cpu\n",
      "  warnings.warn(f\"Device used : {self.device}\")\n"
     ]
    },
    {
     "name": "stdout",
     "output_type": "stream",
     "text": [
      "epoch 2  | loss: 2.9335  | valid_accuracy: 0.3913  |  0:00:00s\n",
      "epoch 3  | loss: 2.53138 | valid_accuracy: 0.34783 |  0:00:00s\n",
      "epoch 4  | loss: 2.49051 | valid_accuracy: 0.30435 |  0:00:00s\n",
      "epoch 5  | loss: 2.1967  | valid_accuracy: 0.30435 |  0:00:00s\n",
      "epoch 6  | loss: 1.97879 | valid_accuracy: 0.3913  |  0:00:00s\n",
      "epoch 7  | loss: 1.82505 | valid_accuracy: 0.30435 |  0:00:00s\n",
      "epoch 8  | loss: 1.74588 | valid_accuracy: 0.26087 |  0:00:00s\n",
      "epoch 9  | loss: 1.45455 | valid_accuracy: 0.26087 |  0:00:00s\n",
      "epoch 10 | loss: 1.24181 | valid_accuracy: 0.34783 |  0:00:00s\n",
      "epoch 11 | loss: 1.33794 | valid_accuracy: 0.52174 |  0:00:00s\n",
      "epoch 12 | loss: 1.06921 | valid_accuracy: 0.34783 |  0:00:00s\n",
      "epoch 13 | loss: 1.13526 | valid_accuracy: 0.43478 |  0:00:00s\n",
      "epoch 14 | loss: 1.17174 | valid_accuracy: 0.3913  |  0:00:01s\n",
      "epoch 15 | loss: 1.14508 | valid_accuracy: 0.34783 |  0:00:01s\n",
      "epoch 16 | loss: 1.035   | valid_accuracy: 0.43478 |  0:00:01s\n",
      "epoch 17 | loss: 1.22922 | valid_accuracy: 0.52174 |  0:00:01s\n",
      "epoch 18 | loss: 1.09165 | valid_accuracy: 0.52174 |  0:00:01s\n",
      "epoch 19 | loss: 0.87473 | valid_accuracy: 0.47826 |  0:00:01s\n",
      "epoch 20 | loss: 1.08135 | valid_accuracy: 0.52174 |  0:00:01s\n",
      "epoch 21 | loss: 1.12319 | valid_accuracy: 0.3913  |  0:00:01s\n",
      "\n",
      "Early stopping occurred at epoch 21 with best_epoch = 11 and best_valid_accuracy = 0.52174\n"
     ]
    },
    {
     "name": "stderr",
     "output_type": "stream",
     "text": [
      "c:\\Users\\carly\\anaconda3\\envs\\dyspepsia_research\\lib\\site-packages\\pytorch_tabnet\\callbacks.py:172: UserWarning: Best weights from best epoch are automatically used!\n",
      "  warnings.warn(wrn_msg)\n",
      "c:\\Users\\carly\\anaconda3\\envs\\dyspepsia_research\\lib\\site-packages\\pytorch_tabnet\\abstract_model.py:82: UserWarning: Device used : cpu\n",
      "  warnings.warn(f\"Device used : {self.device}\")\n"
     ]
    },
    {
     "name": "stdout",
     "output_type": "stream",
     "text": [
      "평균 F1 Score: 0.5157\n",
      "\n",
      "최적의 하이퍼파라미터: {'gamma': 1.3, 'lambda_sparse': 0.0001, 'n_a': 8, 'n_d': 8, 'n_steps': 3, 'optimizer_params': {'lr': 0.01}}\n",
      "최고의 평균 F1 Score: 0.6142647845796271\n",
      "epoch 0  | loss: 1.19995 | valid_accuracy: 0.33333 |  0:00:00s\n",
      "epoch 1  | loss: 1.03794 | valid_accuracy: 0.33333 |  0:00:00s\n",
      "epoch 2  | loss: 1.0572  | valid_accuracy: 0.43333 |  0:00:00s\n",
      "epoch 3  | loss: 1.16321 | valid_accuracy: 0.13333 |  0:00:00s\n",
      "epoch 4  | loss: 1.07937 | valid_accuracy: 0.46667 |  0:00:00s\n",
      "epoch 5  | loss: 1.05389 | valid_accuracy: 0.43333 |  0:00:00s\n",
      "epoch 6  | loss: 1.03038 | valid_accuracy: 0.33333 |  0:00:00s\n",
      "epoch 7  | loss: 1.06373 | valid_accuracy: 0.33333 |  0:00:00s\n",
      "epoch 8  | loss: 1.0269  | valid_accuracy: 0.43333 |  0:00:00s\n",
      "epoch 9  | loss: 1.02094 | valid_accuracy: 0.5     |  0:00:00s\n",
      "epoch 10 | loss: 0.92725 | valid_accuracy: 0.33333 |  0:00:00s\n",
      "epoch 11 | loss: 0.95014 | valid_accuracy: 0.3     |  0:00:00s\n",
      "epoch 12 | loss: 0.98263 | valid_accuracy: 0.3     |  0:00:00s\n",
      "epoch 13 | loss: 0.98299 | valid_accuracy: 0.36667 |  0:00:00s\n",
      "epoch 14 | loss: 0.95954 | valid_accuracy: 0.43333 |  0:00:00s\n",
      "epoch 15 | loss: 0.90945 | valid_accuracy: 0.3     |  0:00:00s\n",
      "epoch 16 | loss: 0.88653 | valid_accuracy: 0.5     |  0:00:00s\n",
      "epoch 17 | loss: 0.89894 | valid_accuracy: 0.5     |  0:00:00s\n",
      "epoch 18 | loss: 0.94658 | valid_accuracy: 0.33333 |  0:00:00s\n",
      "epoch 19 | loss: 0.85258 | valid_accuracy: 0.3     |  0:00:00s\n",
      "\n",
      "Early stopping occurred at epoch 19 with best_epoch = 9 and best_valid_accuracy = 0.5\n",
      "테스트 데이터 F1 Score (Weighted): 0.42817460317460315\n"
     ]
    },
    {
     "name": "stderr",
     "output_type": "stream",
     "text": [
      "c:\\Users\\carly\\anaconda3\\envs\\dyspepsia_research\\lib\\site-packages\\pytorch_tabnet\\callbacks.py:172: UserWarning: Best weights from best epoch are automatically used!\n",
      "  warnings.warn(wrn_msg)\n"
     ]
    }
   ],
   "source": [
    "import pandas as pd\n",
    "import numpy as np\n",
    "\n",
    "from sklearn.model_selection import ParameterGrid, StratifiedKFold\n",
    "from sklearn.metrics import f1_score\n",
    "\n",
    "import torch\n",
    "from pytorch_tabnet.tab_model import TabNetClassifier\n",
    "\n",
    "# X_train, y_train, X_test, y_test는 이미 정의되어 있다고 가정합니다.\n",
    "# 예시에서는 DataFrame을 numpy array로 변환합니다.\n",
    "X_train_np = X_train.values  # 또는 X_train.to_numpy()\n",
    "y_train_np = y_train.values\n",
    "X_test_np  = X_test.values\n",
    "y_test_np  = y_test.values\n",
    "\n",
    "# 하이퍼파라미터 그리드 정의 (필요에 따라 값을 조정하세요)\n",
    "param_grid = {\n",
    "    \"n_d\": [8, 16],\n",
    "    \"n_a\": [8, 16],\n",
    "    \"n_steps\": [3, 5],\n",
    "    \"gamma\": [1.3, 1.5],\n",
    "    \"lambda_sparse\": [1e-3, 1e-4],\n",
    "    \"optimizer_params\": [ {\"lr\": 2e-2}, {\"lr\": 1e-2} ]\n",
    "}\n",
    "\n",
    "best_score = 0\n",
    "best_params = None\n",
    "\n",
    "# Stratified K-Fold 교차검증 설정 (여기서는 3-fold 사용)\n",
    "skf = StratifiedKFold(n_splits=3, shuffle=True, random_state=42)\n",
    "\n",
    "# 그리드의 각 하이퍼파라미터 조합에 대해 평가\n",
    "for params in ParameterGrid(param_grid):\n",
    "    scores = []\n",
    "    print(\"현재 파라미터 조합:\", params)\n",
    "    \n",
    "    # 각 fold에 대해 학습 및 평가 진행\n",
    "    for train_index, val_index in skf.split(X_train_np, y_train_np):\n",
    "        X_train_cv, X_val_cv = X_train_np[train_index], X_train_np[val_index]\n",
    "        y_train_cv, y_val_cv = y_train_np[train_index], y_train_np[val_index]\n",
    "        \n",
    "        # TabNetClassifier 초기화 (다른 하이퍼파라미터 적용)\n",
    "        clf = TabNetClassifier(\n",
    "            n_d=params[\"n_d\"],\n",
    "            n_a=params[\"n_a\"],\n",
    "            n_steps=params[\"n_steps\"],\n",
    "            gamma=params[\"gamma\"],\n",
    "            lambda_sparse=params[\"lambda_sparse\"],\n",
    "            optimizer_fn=torch.optim.Adam,\n",
    "            optimizer_params=params[\"optimizer_params\"],\n",
    "            mask_type='sparsemax'\n",
    "        )\n",
    "        \n",
    "        # 모델 학습 (early stopping 포함)\n",
    "        clf.fit(\n",
    "            X_train_cv, y_train_cv,\n",
    "            eval_set=[(X_val_cv, y_val_cv)],\n",
    "            eval_name=['valid'],\n",
    "            eval_metric=['accuracy'],\n",
    "            max_epochs=100,\n",
    "            patience=10,\n",
    "            batch_size=256, \n",
    "            virtual_batch_size=128,\n",
    "            num_workers=0,\n",
    "            drop_last=False,\n",
    "        )\n",
    "        \n",
    "        # 검증 fold에 대한 예측 수행 및 weighted F1 Score 계산\n",
    "        preds = clf.predict(X_val_cv)\n",
    "        score = f1_score(y_val_cv, preds, average='weighted')\n",
    "        scores.append(score)\n",
    "    \n",
    "    avg_score = np.mean(scores)\n",
    "    print(f\"평균 F1 Score: {avg_score:.4f}\\n\")\n",
    "    \n",
    "    if avg_score > best_score:\n",
    "        best_score = avg_score\n",
    "        best_params = params\n",
    "\n",
    "print(\"최적의 하이퍼파라미터:\", best_params)\n",
    "print(\"최고의 평균 F1 Score:\", best_score)\n",
    "\n",
    "# 최적의 하이퍼파라미터로 전체 학습 데이터로 모델 재학습 후 테스트 평가\n",
    "best_clf = TabNetClassifier(\n",
    "    n_d=best_params[\"n_d\"],\n",
    "    n_a=best_params[\"n_a\"],\n",
    "    n_steps=best_params[\"n_steps\"],\n",
    "    gamma=best_params[\"gamma\"],\n",
    "    lambda_sparse=best_params[\"lambda_sparse\"],\n",
    "    optimizer_fn=torch.optim.Adam,\n",
    "    optimizer_params=best_params[\"optimizer_params\"],\n",
    "    mask_type='sparsemax'\n",
    ")\n",
    "\n",
    "best_clf.fit(\n",
    "    X_train_np, y_train_np,\n",
    "    eval_set=[(X_test_np, y_test_np)],\n",
    "    eval_name=['valid'],\n",
    "    eval_metric=['accuracy'],\n",
    "    max_epochs=100,\n",
    "    patience=10,\n",
    "    batch_size=256, \n",
    "    virtual_batch_size=128,\n",
    "    num_workers=0,\n",
    "    drop_last=False\n",
    ")\n",
    "\n",
    "preds = best_clf.predict(X_test_np)\n",
    "test_f1 = f1_score(y_test_np, preds, average='weighted')\n",
    "\n",
    "print(\"*******************************************\")\n",
    "print(\"테스트 데이터 F1 Score (Weighted):\", test_f1)\n",
    "print(\"*******************************************\")\n"
   ]
  }
 ],
 "metadata": {
  "kernelspec": {
   "display_name": "dyspepsia_research",
   "language": "python",
   "name": "python3"
  },
  "language_info": {
   "codemirror_mode": {
    "name": "ipython",
    "version": 3
   },
   "file_extension": ".py",
   "mimetype": "text/x-python",
   "name": "python",
   "nbconvert_exporter": "python",
   "pygments_lexer": "ipython3",
   "version": "3.10.16"
  }
 },
 "nbformat": 4,
 "nbformat_minor": 2
}
