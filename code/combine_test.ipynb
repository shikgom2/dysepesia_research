{
 "cells": [
  {
   "cell_type": "code",
   "execution_count": 3,
   "metadata": {},
   "outputs": [],
   "source": [
    "import pandas as pd\n",
    "from sklearn.datasets import load_iris\n",
    "from sklearn.model_selection import train_test_split\n",
    "from catboost import CatBoostClassifier\n",
    "from xgboost import XGBClassifier\n",
    "from sklearn.pipeline import Pipeline\n",
    "from sklearn.preprocessing import StandardScaler\n",
    "from xgboost import XGBClassifier\n",
    "from sklearn.model_selection import StratifiedKFold, train_test_split, GridSearchCV\n",
    "from sklearn.metrics import f1_score, make_scorer, accuracy_score, classification_report\n",
    "import numpy as np\n",
    "\n",
    "from sklearn.metrics import accuracy_score, classification_report\n",
    "import matplotlib.pyplot as plt\n",
    "import seaborn as sns"
   ]
  },
  {
   "cell_type": "code",
   "execution_count": 4,
   "metadata": {},
   "outputs": [
    {
     "name": "stdout",
     "output_type": "stream",
     "text": [
      "Fitting 5 folds for each of 512 candidates, totalling 2560 fits\n"
     ]
    },
    {
     "name": "stderr",
     "output_type": "stream",
     "text": [
      "c:\\Users\\carly\\anaconda3\\envs\\dyspepsia_research\\lib\\site-packages\\xgboost\\core.py:158: UserWarning: [19:42:53] WARNING: D:\\bld\\xgboost-split_1737531313485\\work\\src\\learner.cc:740: \n",
      "Parameters: { \"use_label_encoder\" } are not used.\n",
      "\n",
      "  warnings.warn(smsg, UserWarning)\n"
     ]
    },
    {
     "name": "stdout",
     "output_type": "stream",
     "text": [
      "Fitting 5 folds for each of 512 candidates, totalling 2560 fits\n"
     ]
    },
    {
     "name": "stderr",
     "output_type": "stream",
     "text": [
      "c:\\Users\\carly\\anaconda3\\envs\\dyspepsia_research\\lib\\site-packages\\xgboost\\core.py:158: UserWarning: [19:42:59] WARNING: D:\\bld\\xgboost-split_1737531313485\\work\\src\\learner.cc:740: \n",
      "Parameters: { \"use_label_encoder\" } are not used.\n",
      "\n",
      "  warnings.warn(smsg, UserWarning)\n"
     ]
    },
    {
     "name": "stdout",
     "output_type": "stream",
     "text": [
      "Fitting 5 folds for each of 512 candidates, totalling 2560 fits\n"
     ]
    },
    {
     "name": "stderr",
     "output_type": "stream",
     "text": [
      "c:\\Users\\carly\\anaconda3\\envs\\dyspepsia_research\\lib\\site-packages\\xgboost\\core.py:158: UserWarning: [19:43:05] WARNING: D:\\bld\\xgboost-split_1737531313485\\work\\src\\learner.cc:740: \n",
      "Parameters: { \"use_label_encoder\" } are not used.\n",
      "\n",
      "  warnings.warn(smsg, UserWarning)\n"
     ]
    },
    {
     "name": "stdout",
     "output_type": "stream",
     "text": [
      "Fitting 5 folds for each of 512 candidates, totalling 2560 fits\n"
     ]
    },
    {
     "name": "stderr",
     "output_type": "stream",
     "text": [
      "c:\\Users\\carly\\anaconda3\\envs\\dyspepsia_research\\lib\\site-packages\\xgboost\\core.py:158: UserWarning: [19:43:11] WARNING: D:\\bld\\xgboost-split_1737531313485\\work\\src\\learner.cc:740: \n",
      "Parameters: { \"use_label_encoder\" } are not used.\n",
      "\n",
      "  warnings.warn(smsg, UserWarning)\n"
     ]
    },
    {
     "name": "stdout",
     "output_type": "stream",
     "text": [
      "Fitting 5 folds for each of 512 candidates, totalling 2560 fits\n"
     ]
    },
    {
     "name": "stderr",
     "output_type": "stream",
     "text": [
      "c:\\Users\\carly\\anaconda3\\envs\\dyspepsia_research\\lib\\site-packages\\xgboost\\core.py:158: UserWarning: [19:43:16] WARNING: D:\\bld\\xgboost-split_1737531313485\\work\\src\\learner.cc:740: \n",
      "Parameters: { \"use_label_encoder\" } are not used.\n",
      "\n",
      "  warnings.warn(smsg, UserWarning)\n"
     ]
    },
    {
     "name": "stdout",
     "output_type": "stream",
     "text": [
      "../dataset/v2_seperate/ecg.csv XGBoost 0.40516791979949873\n",
      "Fitting 5 folds for each of 256 candidates, totalling 1280 fits\n",
      "Fitting 5 folds for each of 256 candidates, totalling 1280 fits\n",
      "Fitting 5 folds for each of 256 candidates, totalling 1280 fits\n",
      "Fitting 5 folds for each of 256 candidates, totalling 1280 fits\n",
      "Fitting 5 folds for each of 256 candidates, totalling 1280 fits\n",
      "../dataset/v2_seperate/ecg.csv CatBoost 0.4432026849927406\n",
      "Fitting 5 folds for each of 512 candidates, totalling 2560 fits\n"
     ]
    },
    {
     "name": "stderr",
     "output_type": "stream",
     "text": [
      "c:\\Users\\carly\\anaconda3\\envs\\dyspepsia_research\\lib\\site-packages\\xgboost\\core.py:158: UserWarning: [20:03:36] WARNING: D:\\bld\\xgboost-split_1737531313485\\work\\src\\learner.cc:740: \n",
      "Parameters: { \"use_label_encoder\" } are not used.\n",
      "\n",
      "  warnings.warn(smsg, UserWarning)\n"
     ]
    },
    {
     "name": "stdout",
     "output_type": "stream",
     "text": [
      "Fitting 5 folds for each of 512 candidates, totalling 2560 fits\n"
     ]
    },
    {
     "name": "stderr",
     "output_type": "stream",
     "text": [
      "c:\\Users\\carly\\anaconda3\\envs\\dyspepsia_research\\lib\\site-packages\\xgboost\\core.py:158: UserWarning: [20:03:52] WARNING: D:\\bld\\xgboost-split_1737531313485\\work\\src\\learner.cc:740: \n",
      "Parameters: { \"use_label_encoder\" } are not used.\n",
      "\n",
      "  warnings.warn(smsg, UserWarning)\n"
     ]
    },
    {
     "name": "stdout",
     "output_type": "stream",
     "text": [
      "Fitting 5 folds for each of 512 candidates, totalling 2560 fits\n"
     ]
    },
    {
     "name": "stderr",
     "output_type": "stream",
     "text": [
      "c:\\Users\\carly\\anaconda3\\envs\\dyspepsia_research\\lib\\site-packages\\xgboost\\core.py:158: UserWarning: [20:04:07] WARNING: D:\\bld\\xgboost-split_1737531313485\\work\\src\\learner.cc:740: \n",
      "Parameters: { \"use_label_encoder\" } are not used.\n",
      "\n",
      "  warnings.warn(smsg, UserWarning)\n"
     ]
    },
    {
     "name": "stdout",
     "output_type": "stream",
     "text": [
      "Fitting 5 folds for each of 512 candidates, totalling 2560 fits\n"
     ]
    },
    {
     "name": "stderr",
     "output_type": "stream",
     "text": [
      "c:\\Users\\carly\\anaconda3\\envs\\dyspepsia_research\\lib\\site-packages\\xgboost\\core.py:158: UserWarning: [20:04:22] WARNING: D:\\bld\\xgboost-split_1737531313485\\work\\src\\learner.cc:740: \n",
      "Parameters: { \"use_label_encoder\" } are not used.\n",
      "\n",
      "  warnings.warn(smsg, UserWarning)\n"
     ]
    },
    {
     "name": "stdout",
     "output_type": "stream",
     "text": [
      "Fitting 5 folds for each of 512 candidates, totalling 2560 fits\n"
     ]
    },
    {
     "name": "stderr",
     "output_type": "stream",
     "text": [
      "c:\\Users\\carly\\anaconda3\\envs\\dyspepsia_research\\lib\\site-packages\\xgboost\\core.py:158: UserWarning: [20:04:38] WARNING: D:\\bld\\xgboost-split_1737531313485\\work\\src\\learner.cc:740: \n",
      "Parameters: { \"use_label_encoder\" } are not used.\n",
      "\n",
      "  warnings.warn(smsg, UserWarning)\n"
     ]
    },
    {
     "name": "stdout",
     "output_type": "stream",
     "text": [
      "../dataset/v2_seperate/fnirs.csv XGBoost 0.4847193418037071\n",
      "Fitting 5 folds for each of 256 candidates, totalling 1280 fits\n",
      "Fitting 5 folds for each of 256 candidates, totalling 1280 fits\n",
      "Fitting 5 folds for each of 256 candidates, totalling 1280 fits\n",
      "Fitting 5 folds for each of 256 candidates, totalling 1280 fits\n",
      "Fitting 5 folds for each of 256 candidates, totalling 1280 fits\n",
      "../dataset/v2_seperate/fnirs.csv CatBoost 0.44413186279470357\n",
      "Fitting 5 folds for each of 512 candidates, totalling 2560 fits\n"
     ]
    },
    {
     "name": "stderr",
     "output_type": "stream",
     "text": [
      "c:\\Users\\carly\\anaconda3\\envs\\dyspepsia_research\\lib\\site-packages\\xgboost\\core.py:158: UserWarning: [20:32:23] WARNING: D:\\bld\\xgboost-split_1737531313485\\work\\src\\learner.cc:740: \n",
      "Parameters: { \"use_label_encoder\" } are not used.\n",
      "\n",
      "  warnings.warn(smsg, UserWarning)\n"
     ]
    },
    {
     "name": "stdout",
     "output_type": "stream",
     "text": [
      "Fitting 5 folds for each of 512 candidates, totalling 2560 fits\n"
     ]
    },
    {
     "name": "stderr",
     "output_type": "stream",
     "text": [
      "c:\\Users\\carly\\anaconda3\\envs\\dyspepsia_research\\lib\\site-packages\\xgboost\\core.py:158: UserWarning: [20:33:44] WARNING: D:\\bld\\xgboost-split_1737531313485\\work\\src\\learner.cc:740: \n",
      "Parameters: { \"use_label_encoder\" } are not used.\n",
      "\n",
      "  warnings.warn(smsg, UserWarning)\n"
     ]
    },
    {
     "name": "stdout",
     "output_type": "stream",
     "text": [
      "Fitting 5 folds for each of 512 candidates, totalling 2560 fits\n"
     ]
    },
    {
     "name": "stderr",
     "output_type": "stream",
     "text": [
      "c:\\Users\\carly\\anaconda3\\envs\\dyspepsia_research\\lib\\site-packages\\xgboost\\core.py:158: UserWarning: [20:35:03] WARNING: D:\\bld\\xgboost-split_1737531313485\\work\\src\\learner.cc:740: \n",
      "Parameters: { \"use_label_encoder\" } are not used.\n",
      "\n",
      "  warnings.warn(smsg, UserWarning)\n"
     ]
    },
    {
     "name": "stdout",
     "output_type": "stream",
     "text": [
      "Fitting 5 folds for each of 512 candidates, totalling 2560 fits\n"
     ]
    },
    {
     "name": "stderr",
     "output_type": "stream",
     "text": [
      "c:\\Users\\carly\\anaconda3\\envs\\dyspepsia_research\\lib\\site-packages\\xgboost\\core.py:158: UserWarning: [20:35:31] WARNING: D:\\bld\\xgboost-split_1737531313485\\work\\src\\learner.cc:740: \n",
      "Parameters: { \"use_label_encoder\" } are not used.\n",
      "\n",
      "  warnings.warn(smsg, UserWarning)\n"
     ]
    },
    {
     "name": "stdout",
     "output_type": "stream",
     "text": [
      "Fitting 5 folds for each of 512 candidates, totalling 2560 fits\n"
     ]
    },
    {
     "name": "stderr",
     "output_type": "stream",
     "text": [
      "c:\\Users\\carly\\anaconda3\\envs\\dyspepsia_research\\lib\\site-packages\\xgboost\\core.py:158: UserWarning: [20:36:00] WARNING: D:\\bld\\xgboost-split_1737531313485\\work\\src\\learner.cc:740: \n",
      "Parameters: { \"use_label_encoder\" } are not used.\n",
      "\n",
      "  warnings.warn(smsg, UserWarning)\n"
     ]
    },
    {
     "name": "stdout",
     "output_type": "stream",
     "text": [
      "../dataset/v2_seperate/mec.csv XGBoost 0.42043915042057456\n",
      "Fitting 5 folds for each of 256 candidates, totalling 1280 fits\n",
      "Fitting 5 folds for each of 256 candidates, totalling 1280 fits\n",
      "Fitting 5 folds for each of 256 candidates, totalling 1280 fits\n",
      "Fitting 5 folds for each of 256 candidates, totalling 1280 fits\n",
      "Fitting 5 folds for each of 256 candidates, totalling 1280 fits\n",
      "../dataset/v2_seperate/mec.csv CatBoost 0.4720825350299035\n",
      "Fitting 5 folds for each of 512 candidates, totalling 2560 fits\n"
     ]
    },
    {
     "name": "stderr",
     "output_type": "stream",
     "text": [
      "c:\\Users\\carly\\anaconda3\\envs\\dyspepsia_research\\lib\\site-packages\\xgboost\\core.py:158: UserWarning: [21:03:40] WARNING: D:\\bld\\xgboost-split_1737531313485\\work\\src\\learner.cc:740: \n",
      "Parameters: { \"use_label_encoder\" } are not used.\n",
      "\n",
      "  warnings.warn(smsg, UserWarning)\n"
     ]
    },
    {
     "name": "stdout",
     "output_type": "stream",
     "text": [
      "Fitting 5 folds for each of 512 candidates, totalling 2560 fits\n"
     ]
    },
    {
     "name": "stderr",
     "output_type": "stream",
     "text": [
      "c:\\Users\\carly\\anaconda3\\envs\\dyspepsia_research\\lib\\site-packages\\xgboost\\core.py:158: UserWarning: [21:03:45] WARNING: D:\\bld\\xgboost-split_1737531313485\\work\\src\\learner.cc:740: \n",
      "Parameters: { \"use_label_encoder\" } are not used.\n",
      "\n",
      "  warnings.warn(smsg, UserWarning)\n"
     ]
    },
    {
     "name": "stdout",
     "output_type": "stream",
     "text": [
      "Fitting 5 folds for each of 512 candidates, totalling 2560 fits\n"
     ]
    },
    {
     "name": "stderr",
     "output_type": "stream",
     "text": [
      "c:\\Users\\carly\\anaconda3\\envs\\dyspepsia_research\\lib\\site-packages\\xgboost\\core.py:158: UserWarning: [21:03:49] WARNING: D:\\bld\\xgboost-split_1737531313485\\work\\src\\learner.cc:740: \n",
      "Parameters: { \"use_label_encoder\" } are not used.\n",
      "\n",
      "  warnings.warn(smsg, UserWarning)\n"
     ]
    },
    {
     "name": "stdout",
     "output_type": "stream",
     "text": [
      "Fitting 5 folds for each of 512 candidates, totalling 2560 fits\n"
     ]
    },
    {
     "name": "stderr",
     "output_type": "stream",
     "text": [
      "c:\\Users\\carly\\anaconda3\\envs\\dyspepsia_research\\lib\\site-packages\\xgboost\\core.py:158: UserWarning: [21:03:54] WARNING: D:\\bld\\xgboost-split_1737531313485\\work\\src\\learner.cc:740: \n",
      "Parameters: { \"use_label_encoder\" } are not used.\n",
      "\n",
      "  warnings.warn(smsg, UserWarning)\n"
     ]
    },
    {
     "name": "stdout",
     "output_type": "stream",
     "text": [
      "Fitting 5 folds for each of 512 candidates, totalling 2560 fits\n"
     ]
    },
    {
     "name": "stderr",
     "output_type": "stream",
     "text": [
      "c:\\Users\\carly\\anaconda3\\envs\\dyspepsia_research\\lib\\site-packages\\xgboost\\core.py:158: UserWarning: [21:03:59] WARNING: D:\\bld\\xgboost-split_1737531313485\\work\\src\\learner.cc:740: \n",
      "Parameters: { \"use_label_encoder\" } are not used.\n",
      "\n",
      "  warnings.warn(smsg, UserWarning)\n"
     ]
    },
    {
     "name": "stdout",
     "output_type": "stream",
     "text": [
      "../dataset/v2_seperate/skin.csv XGBoost 0.507036370466107\n",
      "Fitting 5 folds for each of 256 candidates, totalling 1280 fits\n",
      "Fitting 5 folds for each of 256 candidates, totalling 1280 fits\n",
      "Fitting 5 folds for each of 256 candidates, totalling 1280 fits\n",
      "Fitting 5 folds for each of 256 candidates, totalling 1280 fits\n",
      "Fitting 5 folds for each of 256 candidates, totalling 1280 fits\n",
      "../dataset/v2_seperate/skin.csv CatBoost 0.49589283036651455\n",
      "Fitting 5 folds for each of 512 candidates, totalling 2560 fits\n"
     ]
    },
    {
     "name": "stderr",
     "output_type": "stream",
     "text": [
      "c:\\Users\\carly\\anaconda3\\envs\\dyspepsia_research\\lib\\site-packages\\xgboost\\core.py:158: UserWarning: [21:22:41] WARNING: D:\\bld\\xgboost-split_1737531313485\\work\\src\\learner.cc:740: \n",
      "Parameters: { \"use_label_encoder\" } are not used.\n",
      "\n",
      "  warnings.warn(smsg, UserWarning)\n"
     ]
    },
    {
     "name": "stdout",
     "output_type": "stream",
     "text": [
      "Fitting 5 folds for each of 512 candidates, totalling 2560 fits\n"
     ]
    },
    {
     "name": "stderr",
     "output_type": "stream",
     "text": [
      "c:\\Users\\carly\\anaconda3\\envs\\dyspepsia_research\\lib\\site-packages\\xgboost\\core.py:158: UserWarning: [21:22:46] WARNING: D:\\bld\\xgboost-split_1737531313485\\work\\src\\learner.cc:740: \n",
      "Parameters: { \"use_label_encoder\" } are not used.\n",
      "\n",
      "  warnings.warn(smsg, UserWarning)\n"
     ]
    },
    {
     "name": "stdout",
     "output_type": "stream",
     "text": [
      "Fitting 5 folds for each of 512 candidates, totalling 2560 fits\n"
     ]
    },
    {
     "name": "stderr",
     "output_type": "stream",
     "text": [
      "c:\\Users\\carly\\anaconda3\\envs\\dyspepsia_research\\lib\\site-packages\\xgboost\\core.py:158: UserWarning: [21:22:52] WARNING: D:\\bld\\xgboost-split_1737531313485\\work\\src\\learner.cc:740: \n",
      "Parameters: { \"use_label_encoder\" } are not used.\n",
      "\n",
      "  warnings.warn(smsg, UserWarning)\n"
     ]
    },
    {
     "name": "stdout",
     "output_type": "stream",
     "text": [
      "Fitting 5 folds for each of 512 candidates, totalling 2560 fits\n"
     ]
    },
    {
     "name": "stderr",
     "output_type": "stream",
     "text": [
      "c:\\Users\\carly\\anaconda3\\envs\\dyspepsia_research\\lib\\site-packages\\xgboost\\core.py:158: UserWarning: [21:22:59] WARNING: D:\\bld\\xgboost-split_1737531313485\\work\\src\\learner.cc:740: \n",
      "Parameters: { \"use_label_encoder\" } are not used.\n",
      "\n",
      "  warnings.warn(smsg, UserWarning)\n"
     ]
    },
    {
     "name": "stdout",
     "output_type": "stream",
     "text": [
      "Fitting 5 folds for each of 512 candidates, totalling 2560 fits\n"
     ]
    },
    {
     "name": "stderr",
     "output_type": "stream",
     "text": [
      "c:\\Users\\carly\\anaconda3\\envs\\dyspepsia_research\\lib\\site-packages\\xgboost\\core.py:158: UserWarning: [21:23:05] WARNING: D:\\bld\\xgboost-split_1737531313485\\work\\src\\learner.cc:740: \n",
      "Parameters: { \"use_label_encoder\" } are not used.\n",
      "\n",
      "  warnings.warn(smsg, UserWarning)\n"
     ]
    },
    {
     "name": "stdout",
     "output_type": "stream",
     "text": [
      "../dataset/v2_seperate/survey.csv XGBoost 0.4877117552783187\n",
      "Fitting 5 folds for each of 256 candidates, totalling 1280 fits\n",
      "Fitting 5 folds for each of 256 candidates, totalling 1280 fits\n",
      "Fitting 5 folds for each of 256 candidates, totalling 1280 fits\n",
      "Fitting 5 folds for each of 256 candidates, totalling 1280 fits\n",
      "Fitting 5 folds for each of 256 candidates, totalling 1280 fits\n",
      "../dataset/v2_seperate/survey.csv CatBoost 0.5605268451012158\n",
      "Fitting 5 folds for each of 512 candidates, totalling 2560 fits\n"
     ]
    },
    {
     "name": "stderr",
     "output_type": "stream",
     "text": [
      "c:\\Users\\carly\\anaconda3\\envs\\dyspepsia_research\\lib\\site-packages\\xgboost\\core.py:158: UserWarning: [21:41:35] WARNING: D:\\bld\\xgboost-split_1737531313485\\work\\src\\learner.cc:740: \n",
      "Parameters: { \"use_label_encoder\" } are not used.\n",
      "\n",
      "  warnings.warn(smsg, UserWarning)\n"
     ]
    },
    {
     "name": "stdout",
     "output_type": "stream",
     "text": [
      "Fitting 5 folds for each of 512 candidates, totalling 2560 fits\n"
     ]
    },
    {
     "name": "stderr",
     "output_type": "stream",
     "text": [
      "c:\\Users\\carly\\anaconda3\\envs\\dyspepsia_research\\lib\\site-packages\\xgboost\\core.py:158: UserWarning: [21:41:48] WARNING: D:\\bld\\xgboost-split_1737531313485\\work\\src\\learner.cc:740: \n",
      "Parameters: { \"use_label_encoder\" } are not used.\n",
      "\n",
      "  warnings.warn(smsg, UserWarning)\n"
     ]
    },
    {
     "name": "stdout",
     "output_type": "stream",
     "text": [
      "Fitting 5 folds for each of 512 candidates, totalling 2560 fits\n"
     ]
    },
    {
     "name": "stderr",
     "output_type": "stream",
     "text": [
      "c:\\Users\\carly\\anaconda3\\envs\\dyspepsia_research\\lib\\site-packages\\xgboost\\core.py:158: UserWarning: [21:41:59] WARNING: D:\\bld\\xgboost-split_1737531313485\\work\\src\\learner.cc:740: \n",
      "Parameters: { \"use_label_encoder\" } are not used.\n",
      "\n",
      "  warnings.warn(smsg, UserWarning)\n"
     ]
    },
    {
     "name": "stdout",
     "output_type": "stream",
     "text": [
      "Fitting 5 folds for each of 512 candidates, totalling 2560 fits\n"
     ]
    },
    {
     "name": "stderr",
     "output_type": "stream",
     "text": [
      "c:\\Users\\carly\\anaconda3\\envs\\dyspepsia_research\\lib\\site-packages\\xgboost\\core.py:158: UserWarning: [21:42:09] WARNING: D:\\bld\\xgboost-split_1737531313485\\work\\src\\learner.cc:740: \n",
      "Parameters: { \"use_label_encoder\" } are not used.\n",
      "\n",
      "  warnings.warn(smsg, UserWarning)\n"
     ]
    },
    {
     "name": "stdout",
     "output_type": "stream",
     "text": [
      "Fitting 5 folds for each of 512 candidates, totalling 2560 fits\n"
     ]
    },
    {
     "name": "stderr",
     "output_type": "stream",
     "text": [
      "c:\\Users\\carly\\anaconda3\\envs\\dyspepsia_research\\lib\\site-packages\\xgboost\\core.py:158: UserWarning: [21:42:20] WARNING: D:\\bld\\xgboost-split_1737531313485\\work\\src\\learner.cc:740: \n",
      "Parameters: { \"use_label_encoder\" } are not used.\n",
      "\n",
      "  warnings.warn(smsg, UserWarning)\n"
     ]
    },
    {
     "name": "stdout",
     "output_type": "stream",
     "text": [
      "../dataset/v2_seperate/v2_eda.csv XGBoost 0.6081655729678082\n",
      "Fitting 5 folds for each of 256 candidates, totalling 1280 fits\n",
      "Fitting 5 folds for each of 256 candidates, totalling 1280 fits\n",
      "Fitting 5 folds for each of 256 candidates, totalling 1280 fits\n",
      "Fitting 5 folds for each of 256 candidates, totalling 1280 fits\n",
      "Fitting 5 folds for each of 256 candidates, totalling 1280 fits\n",
      "../dataset/v2_seperate/v2_eda.csv CatBoost 0.7104451951280074\n",
      "Fitting 5 folds for each of 512 candidates, totalling 2560 fits\n"
     ]
    },
    {
     "name": "stderr",
     "output_type": "stream",
     "text": [
      "c:\\Users\\carly\\anaconda3\\envs\\dyspepsia_research\\lib\\site-packages\\xgboost\\core.py:158: UserWarning: [22:03:10] WARNING: D:\\bld\\xgboost-split_1737531313485\\work\\src\\learner.cc:740: \n",
      "Parameters: { \"use_label_encoder\" } are not used.\n",
      "\n",
      "  warnings.warn(smsg, UserWarning)\n"
     ]
    },
    {
     "name": "stdout",
     "output_type": "stream",
     "text": [
      "Fitting 5 folds for each of 512 candidates, totalling 2560 fits\n"
     ]
    },
    {
     "name": "stderr",
     "output_type": "stream",
     "text": [
      "c:\\Users\\carly\\anaconda3\\envs\\dyspepsia_research\\lib\\site-packages\\xgboost\\core.py:158: UserWarning: [22:04:09] WARNING: D:\\bld\\xgboost-split_1737531313485\\work\\src\\learner.cc:740: \n",
      "Parameters: { \"use_label_encoder\" } are not used.\n",
      "\n",
      "  warnings.warn(smsg, UserWarning)\n"
     ]
    },
    {
     "name": "stdout",
     "output_type": "stream",
     "text": [
      "Fitting 5 folds for each of 512 candidates, totalling 2560 fits\n"
     ]
    },
    {
     "name": "stderr",
     "output_type": "stream",
     "text": [
      "c:\\Users\\carly\\anaconda3\\envs\\dyspepsia_research\\lib\\site-packages\\xgboost\\core.py:158: UserWarning: [22:05:05] WARNING: D:\\bld\\xgboost-split_1737531313485\\work\\src\\learner.cc:740: \n",
      "Parameters: { \"use_label_encoder\" } are not used.\n",
      "\n",
      "  warnings.warn(smsg, UserWarning)\n"
     ]
    },
    {
     "name": "stdout",
     "output_type": "stream",
     "text": [
      "Fitting 5 folds for each of 512 candidates, totalling 2560 fits\n"
     ]
    },
    {
     "name": "stderr",
     "output_type": "stream",
     "text": [
      "c:\\Users\\carly\\anaconda3\\envs\\dyspepsia_research\\lib\\site-packages\\xgboost\\core.py:158: UserWarning: [22:05:54] WARNING: D:\\bld\\xgboost-split_1737531313485\\work\\src\\learner.cc:740: \n",
      "Parameters: { \"use_label_encoder\" } are not used.\n",
      "\n",
      "  warnings.warn(smsg, UserWarning)\n"
     ]
    },
    {
     "name": "stdout",
     "output_type": "stream",
     "text": [
      "Fitting 5 folds for each of 512 candidates, totalling 2560 fits\n"
     ]
    },
    {
     "name": "stderr",
     "output_type": "stream",
     "text": [
      "c:\\Users\\carly\\anaconda3\\envs\\dyspepsia_research\\lib\\site-packages\\xgboost\\core.py:158: UserWarning: [22:06:49] WARNING: D:\\bld\\xgboost-split_1737531313485\\work\\src\\learner.cc:740: \n",
      "Parameters: { \"use_label_encoder\" } are not used.\n",
      "\n",
      "  warnings.warn(smsg, UserWarning)\n"
     ]
    },
    {
     "name": "stdout",
     "output_type": "stream",
     "text": [
      "../dataset/v2_seperate/v2_original.csv XGBoost 0.5621489075080406\n",
      "Fitting 5 folds for each of 256 candidates, totalling 1280 fits\n",
      "Fitting 5 folds for each of 256 candidates, totalling 1280 fits\n",
      "Fitting 5 folds for each of 256 candidates, totalling 1280 fits\n",
      "Fitting 5 folds for each of 256 candidates, totalling 1280 fits\n",
      "Fitting 5 folds for each of 256 candidates, totalling 1280 fits\n",
      "../dataset/v2_seperate/v2_original.csv CatBoost 0.625775753315799\n"
     ]
    }
   ],
   "source": [
    "dataset_link = [\n",
    "    \"../dataset/v2_seperate/ecg.csv\",\n",
    "    \"../dataset/v2_seperate/fnirs.csv\",\n",
    "    \"../dataset/v2_seperate/mec.csv\",\n",
    "    \"../dataset/v2_seperate/skin.csv\",\n",
    "    \"../dataset/v2_seperate/survey.csv\",\n",
    "    \"../dataset/v2_seperate/v2_eda.csv\",\n",
    "    \"../dataset/v2_seperate/v2_original.csv\"\n",
    "]\n",
    "\n",
    "for link in dataset_link:\n",
    "    df = pd.read_csv(link)\n",
    "    \n",
    "    y = df['diagnosis_type'].values\n",
    "    y -= 1\n",
    "\n",
    "    df.drop(columns=['No', 'diagnosis', 'diagnosis_type'], inplace=True)\n",
    "\n",
    "    X = df.values\n",
    "    \n",
    "    seed_li = [1557, 2356, 88488, 616, 821]\n",
    "    result = 0\n",
    "\n",
    "    ####XGBoost######################################\n",
    "    ##################################################\n",
    "    ##################################################\n",
    "    \n",
    "    for seed in seed_li:\n",
    "        X_train, X_test, y_train, y_test = train_test_split(\n",
    "            X, y, test_size=0.3, random_state=seed\n",
    "        )\n",
    "\n",
    "        pipeline = Pipeline([\n",
    "            ('scaler', StandardScaler()),\n",
    "            ('xgb', XGBClassifier(\n",
    "                objective='multi:softprob',\n",
    "                use_label_encoder=False,\n",
    "                eval_metric='mlogloss',\n",
    "                random_state=42\n",
    "            ))\n",
    "        ])\n",
    "\n",
    "        param_grid = {\n",
    "            'xgb__n_estimators': [100, 200],\n",
    "            'xgb__learning_rate': [0.01, 0.1],\n",
    "            'xgb__max_depth': [3, 5],\n",
    "            'xgb__subsample': [0.8, 1.0],\n",
    "            'xgb__colsample_bytree': [0.8, 1.0],\n",
    "            'xgb__gamma': [0, 1],\n",
    "            'xgb__reg_lambda': [1, 5],\n",
    "            'xgb__reg_alpha': [0, 1],\n",
    "            'xgb__min_child_weight': [1, 5]\n",
    "        }\n",
    "\n",
    "        f1_scorer = make_scorer(f1_score, average='weighted')\n",
    "        cv = StratifiedKFold(n_splits=5, shuffle=True, random_state=42)\n",
    "\n",
    "\n",
    "        grid_search = GridSearchCV(\n",
    "            estimator=pipeline,\n",
    "            param_grid=param_grid,\n",
    "            scoring=f1_scorer,\n",
    "            cv=cv,\n",
    "            n_jobs=-1,\n",
    "            verbose=1\n",
    "        )\n",
    "\n",
    "        grid_search.fit(X_train, y_train)\n",
    "\n",
    "        best_model = grid_search.best_estimator_\n",
    "        y_pred = best_model.predict(X_test)\n",
    "\n",
    "        test_f1 = f1_score(y_test, y_pred, average='weighted')\n",
    "        result += test_f1\n",
    "        \n",
    "        accuracy = accuracy_score(y_test, y_pred)\n",
    "\n",
    "    result = result / 5\n",
    "    print(link, \"XGBoost\", result)\n",
    "    \n",
    "    import numpy as np\n",
    "    from sklearn.model_selection import StratifiedKFold, train_test_split, GridSearchCV\n",
    "    from sklearn.metrics import accuracy_score, classification_report, f1_score, make_scorer\n",
    "    from catboost import CatBoostClassifier\n",
    "\n",
    "    #### CatBoost#####################################\n",
    "    ##################################################\n",
    "    ##################################################\n",
    "    result = 0\n",
    "\n",
    "    for seed in seed_li:\n",
    "        X_train, X_test, y_train, y_test = train_test_split(\n",
    "            X, y, test_size=0.3, random_state=seed\n",
    "        )\n",
    "\n",
    "        model = CatBoostClassifier(\n",
    "            loss_function='MultiClass',\n",
    "            random_seed=seed,\n",
    "            verbose=0\n",
    "        )\n",
    "\n",
    "        param_grid = {\n",
    "            'iterations': [100, 200],\n",
    "            'learning_rate': [0.01, 0.1],\n",
    "            'depth': [3, 5],\n",
    "            'l2_leaf_reg': [1, 5],\n",
    "            'random_strength': [1, 2], \n",
    "            'bagging_temperature': [0, 1], \n",
    "            'border_count': [32, 64], \n",
    "            'rsm': [0.8, 1.0],   \n",
    "        }\n",
    "\n",
    "        f1_scorer = make_scorer(f1_score, average='weighted')\n",
    "\n",
    "        cv = StratifiedKFold(n_splits=5, shuffle=True, random_state=seed)\n",
    "\n",
    "        grid_search = GridSearchCV(\n",
    "            estimator=model,\n",
    "            param_grid=param_grid,\n",
    "            scoring=f1_scorer,\n",
    "            cv=cv,\n",
    "            n_jobs=-1,\n",
    "            verbose=1\n",
    "        )\n",
    "\n",
    "        grid_search.fit(X_train, y_train)\n",
    "\n",
    "\n",
    "        best_model = grid_search.best_estimator_\n",
    "        y_pred = best_model.predict(X_test)\n",
    "        test_f1 = f1_score(y_test, y_pred, average='weighted')\n",
    "        result += test_f1\n",
    "        \n",
    "    result = result / 5\n",
    "    print(link, \"CatBoost\", result)"
   ]
  }
 ],
 "metadata": {
  "kernelspec": {
   "display_name": "dyspepsia_research",
   "language": "python",
   "name": "python3"
  },
  "language_info": {
   "codemirror_mode": {
    "name": "ipython",
    "version": 3
   },
   "file_extension": ".py",
   "mimetype": "text/x-python",
   "name": "python",
   "nbconvert_exporter": "python",
   "pygments_lexer": "ipython3",
   "version": "3.10.16"
  }
 },
 "nbformat": 4,
 "nbformat_minor": 2
}
